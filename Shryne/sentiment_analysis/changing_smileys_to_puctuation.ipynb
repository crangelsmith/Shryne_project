{
 "cells": [
  {
   "cell_type": "code",
   "execution_count": 2,
   "metadata": {
    "collapsed": true
   },
   "outputs": [],
   "source": [
    "## Want to change our smileys to vaders understood smileys as much as possible\n",
    "import pandas as pd"
   ]
  },
  {
   "cell_type": "code",
   "execution_count": 123,
   "metadata": {
    "collapsed": true
   },
   "outputs": [],
   "source": [
    "vader_lexicon = pd.read_csv('../data/vader_lexicon.txt', delimiter='\\t', names = ['emoticon','sentiment','to_drop','drop'])"
   ]
  },
  {
   "cell_type": "code",
   "execution_count": 92,
   "metadata": {
    "collapsed": false
   },
   "outputs": [
    {
     "data": {
      "text/html": [
       "<div>\n",
       "<table border=\"1\" class=\"dataframe\">\n",
       "  <thead>\n",
       "    <tr style=\"text-align: right;\">\n",
       "      <th></th>\n",
       "      <th>emoticon</th>\n",
       "      <th>sentiment</th>\n",
       "      <th>to_drop</th>\n",
       "      <th>drop</th>\n",
       "    </tr>\n",
       "  </thead>\n",
       "  <tbody>\n",
       "    <tr>\n",
       "      <th>0</th>\n",
       "      <td>$:</td>\n",
       "      <td>-1.5</td>\n",
       "      <td>0.80623</td>\n",
       "      <td>[-1, -1, -1, -1, -3, -1, -3, -1, -2, -1]</td>\n",
       "    </tr>\n",
       "    <tr>\n",
       "      <th>1</th>\n",
       "      <td>%)</td>\n",
       "      <td>-0.4</td>\n",
       "      <td>1.01980</td>\n",
       "      <td>[-1, 0, -1, 0, 0, -2, -1, 2, -1, 0]</td>\n",
       "    </tr>\n",
       "    <tr>\n",
       "      <th>2</th>\n",
       "      <td>%-)</td>\n",
       "      <td>-1.5</td>\n",
       "      <td>1.43178</td>\n",
       "      <td>[-2, 0, -2, -2, -1, 2, -2, -3, -2, -3]</td>\n",
       "    </tr>\n",
       "    <tr>\n",
       "      <th>3</th>\n",
       "      <td>&amp;-:</td>\n",
       "      <td>-0.4</td>\n",
       "      <td>1.42829</td>\n",
       "      <td>[-3, -1, 0, 0, -1, -1, -1, 2, -1, 2]</td>\n",
       "    </tr>\n",
       "    <tr>\n",
       "      <th>4</th>\n",
       "      <td>&amp;:</td>\n",
       "      <td>-0.7</td>\n",
       "      <td>0.64031</td>\n",
       "      <td>[0, -1, -1, -1, 1, -1, -1, -1, -1, -1]</td>\n",
       "    </tr>\n",
       "  </tbody>\n",
       "</table>\n",
       "</div>"
      ],
      "text/plain": [
       "  emoticon  sentiment  to_drop                                      drop\n",
       "0       $:       -1.5  0.80623  [-1, -1, -1, -1, -3, -1, -3, -1, -2, -1]\n",
       "1       %)       -0.4  1.01980       [-1, 0, -1, 0, 0, -2, -1, 2, -1, 0]\n",
       "2      %-)       -1.5  1.43178    [-2, 0, -2, -2, -1, 2, -2, -3, -2, -3]\n",
       "3      &-:       -0.4  1.42829      [-3, -1, 0, 0, -1, -1, -1, 2, -1, 2]\n",
       "4       &:       -0.7  0.64031    [0, -1, -1, -1, 1, -1, -1, -1, -1, -1]"
      ]
     },
     "execution_count": 92,
     "metadata": {},
     "output_type": "execute_result"
    }
   ],
   "source": [
    "vader_lexicon.head()"
   ]
  },
  {
   "cell_type": "code",
   "execution_count": 49,
   "metadata": {
    "collapsed": false
   },
   "outputs": [],
   "source": [
    "vader_lexicon = vader_lexicon.drop(['to_drop','drop'],axis=1)"
   ]
  },
  {
   "cell_type": "code",
   "execution_count": 50,
   "metadata": {
    "collapsed": false
   },
   "outputs": [],
   "source": [
    "emoji = []"
   ]
  },
  {
   "cell_type": "code",
   "execution_count": 7,
   "metadata": {
    "collapsed": true
   },
   "outputs": [],
   "source": [
    "emoji_json = pd.read_json('../data/emoji.json') ## save them in /data of the shryne project"
   ]
  },
  {
   "cell_type": "code",
   "execution_count": 124,
   "metadata": {
    "collapsed": false
   },
   "outputs": [],
   "source": [
    "vader_lexicon.head()\n",
    "vader_lexicon = vader_lexicon.drop([154], axis=0)"
   ]
  },
  {
   "cell_type": "code",
   "execution_count": 125,
   "metadata": {
    "collapsed": false
   },
   "outputs": [
    {
     "data": {
      "text/plain": [
       "153    :o|\n",
       "155     :{\n",
       "156     :|\n",
       "157     :}\n",
       "Name: emoticon, dtype: object"
      ]
     },
     "execution_count": 125,
     "metadata": {},
     "output_type": "execute_result"
    }
   ],
   "source": [
    "vader_lexicon['emoticon'][153:157]"
   ]
  },
  {
   "cell_type": "code",
   "execution_count": 94,
   "metadata": {
    "collapsed": true
   },
   "outputs": [],
   "source": [
    "vader_lexicon.index = range(len(vader_lexicon))"
   ]
  },
  {
   "cell_type": "code",
   "execution_count": 72,
   "metadata": {
    "collapsed": true
   },
   "outputs": [],
   "source": [
    "emoji_json_no_nan.index = range(len(emoji_json_no_nan))"
   ]
  },
  {
   "cell_type": "code",
   "execution_count": 126,
   "metadata": {
    "collapsed": true
   },
   "outputs": [],
   "source": [
    "vader_lexicon = vader_lexicon.drop([123], axis=0)"
   ]
  },
  {
   "cell_type": "code",
   "execution_count": 113,
   "metadata": {
    "collapsed": false
   },
   "outputs": [
    {
     "data": {
      "text/plain": [
       "153    :o|\n",
       "155     :{\n",
       "156     :|\n",
       "157     :}\n",
       "Name: emoticon, dtype: object"
      ]
     },
     "execution_count": 113,
     "metadata": {},
     "output_type": "execute_result"
    }
   ],
   "source": [
    "vader_lexicon['emoticon'][153:157]"
   ]
  },
  {
   "cell_type": "code",
   "execution_count": 116,
   "metadata": {
    "collapsed": false
   },
   "outputs": [
    {
     "data": {
      "text/plain": [
       "122     :-c\n",
       "124     :-|\n",
       "125    :-||\n",
       "126     :-�\n",
       "Name: emoticon, dtype: object"
      ]
     },
     "execution_count": 116,
     "metadata": {},
     "output_type": "execute_result"
    }
   ],
   "source": [
    "vader_lexicon['emoticon'][122:126]"
   ]
  },
  {
   "cell_type": "code",
   "execution_count": 131,
   "metadata": {
    "collapsed": true
   },
   "outputs": [],
   "source": [
    "vader_lexicon = vader_lexicon.drop([7488], axis=0)"
   ]
  },
  {
   "cell_type": "code",
   "execution_count": 133,
   "metadata": {
    "collapsed": false
   },
   "outputs": [
    {
     "data": {
      "text/plain": [
       "7482       wreck\n",
       "7483       wrong\n",
       "7484     wronged\n",
       "7489         yay\n",
       "7490        yeah\n",
       "7491    yearning\n",
       "7492       yeees\n",
       "7493         yep\n",
       "Name: emoticon, dtype: object"
      ]
     },
     "execution_count": 133,
     "metadata": {},
     "output_type": "execute_result"
    }
   ],
   "source": [
    "vader_lexicon['emoticon'][7480:7488]"
   ]
  },
  {
   "cell_type": "code",
   "execution_count": 9,
   "metadata": {
    "collapsed": false
   },
   "outputs": [
    {
     "data": {
      "text/html": [
       "<div>\n",
       "<table border=\"1\" class=\"dataframe\">\n",
       "  <thead>\n",
       "    <tr style=\"text-align: right;\">\n",
       "      <th></th>\n",
       "      <th>aliases</th>\n",
       "      <th>description</th>\n",
       "      <th>emoji</th>\n",
       "      <th>emoticons</th>\n",
       "      <th>tags</th>\n",
       "    </tr>\n",
       "  </thead>\n",
       "  <tbody>\n",
       "    <tr>\n",
       "      <th>0</th>\n",
       "      <td>[smile]</td>\n",
       "      <td>smiling face with open mouth and smiling eyes</td>\n",
       "      <td>😄</td>\n",
       "      <td>[:D, :-D, =D, =-D]</td>\n",
       "      <td>[happy, joy, pleased]</td>\n",
       "    </tr>\n",
       "    <tr>\n",
       "      <th>1</th>\n",
       "      <td>[smiley]</td>\n",
       "      <td>smiling face with open mouth</td>\n",
       "      <td>😃</td>\n",
       "      <td>[:), :], :-), :-], =), =], =-), =-]]</td>\n",
       "      <td>[happy, joy, haha]</td>\n",
       "    </tr>\n",
       "    <tr>\n",
       "      <th>2</th>\n",
       "      <td>[grinning]</td>\n",
       "      <td>grinning face</td>\n",
       "      <td>😀</td>\n",
       "      <td>NaN</td>\n",
       "      <td>[smile, happy]</td>\n",
       "    </tr>\n",
       "    <tr>\n",
       "      <th>3</th>\n",
       "      <td>[blush]</td>\n",
       "      <td>smiling face with smiling eyes</td>\n",
       "      <td>😊</td>\n",
       "      <td>[:\"), :\"], :\"D, :-\"), :-\"], :-\"D, =\"), =\"], =\"...</td>\n",
       "      <td>[proud]</td>\n",
       "    </tr>\n",
       "    <tr>\n",
       "      <th>4</th>\n",
       "      <td>[relaxed]</td>\n",
       "      <td>white smiling face</td>\n",
       "      <td>☺️</td>\n",
       "      <td>NaN</td>\n",
       "      <td>[blush, pleased]</td>\n",
       "    </tr>\n",
       "  </tbody>\n",
       "</table>\n",
       "</div>"
      ],
      "text/plain": [
       "      aliases                                    description emoji  \\\n",
       "0     [smile]  smiling face with open mouth and smiling eyes     😄   \n",
       "1    [smiley]                   smiling face with open mouth     😃   \n",
       "2  [grinning]                                  grinning face     😀   \n",
       "3     [blush]                 smiling face with smiling eyes     😊   \n",
       "4   [relaxed]                             white smiling face    ☺️   \n",
       "\n",
       "                                           emoticons                   tags  \n",
       "0                                 [:D, :-D, =D, =-D]  [happy, joy, pleased]  \n",
       "1               [:), :], :-), :-], =), =], =-), =-]]     [happy, joy, haha]  \n",
       "2                                                NaN         [smile, happy]  \n",
       "3  [:\"), :\"], :\"D, :-\"), :-\"], :-\"D, =\"), =\"], =\"...                [proud]  \n",
       "4                                                NaN       [blush, pleased]  "
      ]
     },
     "execution_count": 9,
     "metadata": {},
     "output_type": "execute_result"
    }
   ],
   "source": [
    "emoji_json.head()"
   ]
  },
  {
   "cell_type": "code",
   "execution_count": 10,
   "metadata": {
    "collapsed": false
   },
   "outputs": [],
   "source": [
    "emoji_json_no_nan = emoji_json[emoji_json['emoticons'].notnull()]"
   ]
  },
  {
   "cell_type": "code",
   "execution_count": 11,
   "metadata": {
    "collapsed": false
   },
   "outputs": [
    {
     "data": {
      "text/plain": [
       "(845, 5)"
      ]
     },
     "execution_count": 11,
     "metadata": {},
     "output_type": "execute_result"
    }
   ],
   "source": [
    "emoji_json.shape"
   ]
  },
  {
   "cell_type": "code",
   "execution_count": 12,
   "metadata": {
    "collapsed": false
   },
   "outputs": [
    {
     "data": {
      "text/plain": [
       "(29, 5)"
      ]
     },
     "execution_count": 12,
     "metadata": {},
     "output_type": "execute_result"
    }
   ],
   "source": [
    "emoji_json_no_nan.shape"
   ]
  },
  {
   "cell_type": "code",
   "execution_count": 33,
   "metadata": {
    "collapsed": false
   },
   "outputs": [],
   "source": [
    "all_emoticons = []\n",
    "for emoticon_list in emoji_json_no_nan['emoticons']:\n",
    "    for emoticon in emoticon_list:\n",
    "        all_emoticons.append(emoticon)"
   ]
  },
  {
   "cell_type": "code",
   "execution_count": 39,
   "metadata": {
    "collapsed": true
   },
   "outputs": [],
   "source": [
    "import numpy as np"
   ]
  },
  {
   "cell_type": "code",
   "execution_count": 42,
   "metadata": {
    "collapsed": false
   },
   "outputs": [
    {
     "data": {
      "text/plain": [
       "321"
      ]
     },
     "execution_count": 42,
     "metadata": {},
     "output_type": "execute_result"
    }
   ],
   "source": [
    "len(all_emoticons)\n",
    "#len(np.unique(all_emoticons))\n",
    "\n",
    "#for emoticon1 in all_emoticons:\n",
    " #   for emoticon2 in all_emoticons:\n",
    "#      if emoticon1 == emoticons2:\n",
    "            "
   ]
  },
  {
   "cell_type": "code",
   "execution_count": 142,
   "metadata": {
    "collapsed": false
   },
   "outputs": [
    {
     "name": "stdout",
     "output_type": "stream",
     "text": [
      "😄 1.1\n",
      "😄 0.45826\n",
      "😄 0.45826\n",
      "😄 0.91652\n",
      "😃 1.18322\n",
      "😃 1.16619\n",
      "😃 0.45826\n",
      "😃 1.16619\n",
      "😃 0.8\n",
      "😉 1.04403\n",
      "😉 1.11355\n",
      "😉 1.249\n",
      "😉 1.73205\n",
      "😉 1.67631\n",
      "😗 1.0247\n",
      "😗 0.64031\n",
      "😜 1.249\n",
      "😝 0.87178\n",
      "😝 0.78102\n",
      "😛 0.7746\n",
      "😛 1.1\n",
      "😛 0.4\n",
      "😛 0.45826\n",
      "😛 0.9\n",
      "😛 0.45826\n",
      "😛 0.91652\n",
      "😒 1.83303\n",
      "😒 0.9798\n",
      "😢 0.74833\n",
      "😢 0.66332\n",
      "😂 0.78102\n",
      "😂 0.64031\n",
      "😠 0.64031\n",
      "😠 0.53852\n",
      "😠 0.78102\n",
      "😡 0.80623\n",
      "😎 0.7\n",
      "😦 1.13578\n",
      "😦 0.63246\n",
      "😦 0.5\n",
      "😦 0.4899\n",
      "😮 1.35647\n",
      "😮 1.3\n",
      "😐 1.11355\n",
      "😐 0.64031\n",
      "😐 0.87178\n",
      "😕 0.66332\n",
      "😕 0.45826\n",
      "😕 0.6\n",
      "😕 0.3\n",
      "😕 0.91652\n",
      "😕 0.6\n",
      "😇 0.67082\n",
      "😇 1.18322\n",
      "😇 1.04403\n",
      "😇 0.91652\n",
      "👨 1.26886\n",
      "👨 0.7\n",
      "👨 0.63246\n",
      "❤️ 1.13578\n",
      "💔 1.0\n"
     ]
    }
   ],
   "source": [
    "overall_scores = []\n",
    "overall_variance = []\n",
    "sub_scores = []\n",
    "sub_variance = []\n",
    "individuals = []\n",
    "\n",
    "for x, emoticon_list in enumerate(emoji_json_no_nan['emoticons']):\n",
    "    for emoticon in emoticon_list:\n",
    "        for vader_emoticon in vader_lexicon['emoticon']:\n",
    "            if str(emoticon) == str(vader_emoticon):\n",
    "                print emoji_json_no_nan.loc[x, 'emoji'], float(vader_lexicon[vader_lexicon['emoticon'] == emoticon]['to_drop'])\n",
    "                sub_scores.append(float(vader_lexicon[vader_lexicon['emoticon'] == emoticon]['sentiment']))\n",
    "                sub_variance.append(float(vader_lexicon[vader_lexicon['emoticon'] == emoticon]['to_drop'])**2)\n",
    "    overall_scores.append(np.mean(sub_scores))\n",
    "    sub_scores = []\n",
    "    overall_variance.append(np.mean(sub_variance)**0.5)\n",
    "    \n",
    "                \n",
    "                \n",
    "    \n",
    "\n",
    "    \n",
    "                \n",
    "        \n",
    "        # if emoticon in vader_lexicon['emoticon']:\n",
    "         #   print vader_lexicon[vader_lexicon['emoticon'] == emoticon]['sentiment']\n",
    "        \n",
    "        #print emoticon\n",
    "        ##print emoji_json_no_nan[emoji_json_no_nan['emoticon'] == emoticon]['emoji']\n",
    "        \n",
    "        "
   ]
  },
  {
   "cell_type": "code",
   "execution_count": 144,
   "metadata": {
    "collapsed": false
   },
   "outputs": [
    {
     "data": {
      "text/plain": [
       "29"
      ]
     },
     "execution_count": 144,
     "metadata": {},
     "output_type": "execute_result"
    }
   ],
   "source": [
    "len(overall_variance)"
   ]
  },
  {
   "cell_type": "code",
   "execution_count": 74,
   "metadata": {
    "collapsed": true
   },
   "outputs": [],
   "source": [
    "overall_scores = []\n",
    "sub_scores = []\n",
    "\n",
    "for x, emoticon_list in enumerate(emoji_json_no_nan['emoticons']):\n",
    "    for emoticon in emoticon_list:\n",
    "        for vader_emoticon in vader_lexicon['emoticon']:\n",
    "            if str(emoticon) == str(vader_emoticon):\n",
    "                #print emoji_json_no_nan.loc[x, 'emoji'], float(vader_lexicon[vader_lexicon['emoticon'] == emoticon]['sentiment'])\n",
    "                sub_scores.append(float(vader_lexicon[vader_lexicon['emoticon'] == emoticon]['sentiment']))\n",
    "    overall_scores.append(np.mean(sub_scores))\n",
    "    sub_scores = []"
   ]
  },
  {
   "cell_type": "code",
   "execution_count": 145,
   "metadata": {
    "collapsed": false
   },
   "outputs": [
    {
     "name": "stderr",
     "output_type": "stream",
     "text": [
      "/home/alexander/anaconda/lib/python2.7/site-packages/ipykernel/__main__.py:1: SettingWithCopyWarning: \n",
      "A value is trying to be set on a copy of a slice from a DataFrame.\n",
      "Try using .loc[row_indexer,col_indexer] = value instead\n",
      "\n",
      "See the the caveats in the documentation: http://pandas.pydata.org/pandas-docs/stable/indexing.html#indexing-view-versus-copy\n",
      "  if __name__ == '__main__':\n"
     ]
    }
   ],
   "source": [
    "emoji_json_no_nan['to_drop'] = overall_variance"
   ]
  },
  {
   "cell_type": "code",
   "execution_count": 172,
   "metadata": {
    "collapsed": false
   },
   "outputs": [],
   "source": [
    "drop = [[4, 2, 2, 1, 2, 1, 4, 3, 3, 1],[2, 2, 1, 1, 1, 1, 4, 3, 4, 1],[2, -1, 1, 1, 1, 1, -1, 2, 2, 1],[3, 2, 1, 1, 2, 3, 4, 3, 4, 2],[4, 2, 2, 1, 2, 1, 4, 3, 3, 1],[2, 2, 1, 1, 1, 1, 4, 3, 4, 1],[2, -1, 1, 1, 1, 1, -1, 2, 2, 1],[3, 2, 1, 1, 2, 3, 4, 3, 4, 2],[4, 2, 2, 1, 2, 1, 4, 3, 3, 1],[2, 2, 1, 1, 1, 1, 4, 3, 4, 1],[2, -1, 1, 1, 1, 1, -1, 2, 2, 1],[3, 2, 1, 1, 2, 3, 4, 3, 4, 2],[4, 2, 2, 1, 2, 1, 4, 3, 3, 1],[2, 2, 1, 1, 1, 1, 4, 3, 4, 1],[2, -1, 1, 1, 1, 1, -1, 2, 2, 1],[3, 2, 1, 1, 2, 3, 4, 3, 4, 2],[4, 2, 2, 1, 2, 1, 4, 3, 3, 1],[2, 2, 1, 1, 1, 1, 4, 3, 4, 1],[2, -1, 1, 1, 1, 1, -1, 2, 2, 1],[3, 2, 1, 1, 2, 3, 4, 3, 4, 2],[4, 2, 2, 1, 2, 1, 4, 3, 3, 1],[2, 2, 1, 1, 1, 1, 4, 3, 4, 1],[2, -1, 1, 1, 1, 1, -1, 2, 2, 1],[3, 2, 1, 1, 2, 3, 4, 3, 4, 2],[4, 2, 2, 1, 2, 1, 4, 3, 3, 1],[2, 2, 1, 1, 1, 1, 4, 3, 4, 1],[2, -1, 1, 1, 1, 1, -1, 2, 2, 1],[3, 2, 1, 1, 2, 3, 4, 3, 4, 2],[3, 2, 1, 1, 2, 3, 4, 3, 4, 2]]"
   ]
  },
  {
   "cell_type": "code",
   "execution_count": 173,
   "metadata": {
    "collapsed": false
   },
   "outputs": [
    {
     "data": {
      "text/plain": [
       "29"
      ]
     },
     "execution_count": 173,
     "metadata": {},
     "output_type": "execute_result"
    }
   ],
   "source": [
    "len(drop)"
   ]
  },
  {
   "cell_type": "code",
   "execution_count": 175,
   "metadata": {
    "collapsed": false
   },
   "outputs": [
    {
     "name": "stderr",
     "output_type": "stream",
     "text": [
      "/home/alexander/anaconda/lib/python2.7/site-packages/ipykernel/__main__.py:1: SettingWithCopyWarning: \n",
      "A value is trying to be set on a copy of a slice from a DataFrame.\n",
      "Try using .loc[row_indexer,col_indexer] = value instead\n",
      "\n",
      "See the the caveats in the documentation: http://pandas.pydata.org/pandas-docs/stable/indexing.html#indexing-view-versus-copy\n",
      "  if __name__ == '__main__':\n"
     ]
    }
   ],
   "source": [
    "emoji_json_no_nan['drop'] = drop"
   ]
  },
  {
   "cell_type": "code",
   "execution_count": 177,
   "metadata": {
    "collapsed": false
   },
   "outputs": [],
   "source": [
    "emoji_json_no_nan = emoji_json_no_nan.dropna()"
   ]
  },
  {
   "cell_type": "code",
   "execution_count": 180,
   "metadata": {
    "collapsed": false
   },
   "outputs": [],
   "source": [
    "to_append = emoji_json_no_nan[['emoji','sentiment','to_drop','drop']]"
   ]
  },
  {
   "cell_type": "code",
   "execution_count": 183,
   "metadata": {
    "collapsed": false
   },
   "outputs": [
    {
     "data": {
      "text/html": [
       "<div>\n",
       "<table border=\"1\" class=\"dataframe\">\n",
       "  <thead>\n",
       "    <tr style=\"text-align: right;\">\n",
       "      <th></th>\n",
       "      <th>emoji</th>\n",
       "      <th>sentiment</th>\n",
       "      <th>to_drop</th>\n",
       "      <th>drop</th>\n",
       "    </tr>\n",
       "  </thead>\n",
       "  <tbody>\n",
       "    <tr>\n",
       "      <th>0</th>\n",
       "      <td>😄</td>\n",
       "      <td>2.325</td>\n",
       "      <td>0.785814</td>\n",
       "      <td>[4, 2, 2, 1, 2, 1, 4, 3, 3, 1]</td>\n",
       "    </tr>\n",
       "    <tr>\n",
       "      <th>1</th>\n",
       "      <td>😃</td>\n",
       "      <td>1.860</td>\n",
       "      <td>0.909214</td>\n",
       "      <td>[2, 2, 1, 1, 1, 1, 4, 3, 4, 1]</td>\n",
       "    </tr>\n",
       "    <tr>\n",
       "      <th>3</th>\n",
       "      <td>😉</td>\n",
       "      <td>0.800</td>\n",
       "      <td>1.106475</td>\n",
       "      <td>[3, 2, 1, 1, 2, 3, 4, 3, 4, 2]</td>\n",
       "    </tr>\n",
       "    <tr>\n",
       "      <th>4</th>\n",
       "      <td>😗</td>\n",
       "      <td>2.100</td>\n",
       "      <td>1.078194</td>\n",
       "      <td>[4, 2, 2, 1, 2, 1, 4, 3, 3, 1]</td>\n",
       "    </tr>\n",
       "    <tr>\n",
       "      <th>5</th>\n",
       "      <td>😜</td>\n",
       "      <td>0.800</td>\n",
       "      <td>1.088983</td>\n",
       "      <td>[2, 2, 1, 1, 1, 1, 4, 3, 4, 1]</td>\n",
       "    </tr>\n",
       "  </tbody>\n",
       "</table>\n",
       "</div>"
      ],
      "text/plain": [
       "  emoji  sentiment   to_drop                            drop\n",
       "0     😄      2.325  0.785814  [4, 2, 2, 1, 2, 1, 4, 3, 3, 1]\n",
       "1     😃      1.860  0.909214  [2, 2, 1, 1, 1, 1, 4, 3, 4, 1]\n",
       "3     😉      0.800  1.106475  [3, 2, 1, 1, 2, 3, 4, 3, 4, 2]\n",
       "4     😗      2.100  1.078194  [4, 2, 2, 1, 2, 1, 4, 3, 3, 1]\n",
       "5     😜      0.800  1.088983  [2, 2, 1, 1, 1, 1, 4, 3, 4, 1]"
      ]
     },
     "execution_count": 183,
     "metadata": {},
     "output_type": "execute_result"
    }
   ],
   "source": [
    "to_append.head()"
   ]
  },
  {
   "cell_type": "code",
   "execution_count": 185,
   "metadata": {
    "collapsed": false
   },
   "outputs": [],
   "source": [
    "to_append.columns = ['emoticon','sentiment','to_drop','drop']"
   ]
  },
  {
   "cell_type": "code",
   "execution_count": null,
   "metadata": {
    "collapsed": true
   },
   "outputs": [],
   "source": []
  },
  {
   "cell_type": "code",
   "execution_count": 137,
   "metadata": {
    "collapsed": false
   },
   "outputs": [],
   "source": [
    "to_append.columns = ['emoticon', 'sentiment']"
   ]
  },
  {
   "cell_type": "code",
   "execution_count": 186,
   "metadata": {
    "collapsed": false
   },
   "outputs": [
    {
     "data": {
      "text/html": [
       "<div>\n",
       "<table border=\"1\" class=\"dataframe\">\n",
       "  <thead>\n",
       "    <tr style=\"text-align: right;\">\n",
       "      <th></th>\n",
       "      <th>emoticon</th>\n",
       "      <th>sentiment</th>\n",
       "      <th>to_drop</th>\n",
       "      <th>drop</th>\n",
       "    </tr>\n",
       "  </thead>\n",
       "  <tbody>\n",
       "    <tr>\n",
       "      <th>0</th>\n",
       "      <td>😄</td>\n",
       "      <td>2.325000</td>\n",
       "      <td>0.785814</td>\n",
       "      <td>[4, 2, 2, 1, 2, 1, 4, 3, 3, 1]</td>\n",
       "    </tr>\n",
       "    <tr>\n",
       "      <th>1</th>\n",
       "      <td>😃</td>\n",
       "      <td>1.860000</td>\n",
       "      <td>0.909214</td>\n",
       "      <td>[2, 2, 1, 1, 1, 1, 4, 3, 4, 1]</td>\n",
       "    </tr>\n",
       "    <tr>\n",
       "      <th>3</th>\n",
       "      <td>😉</td>\n",
       "      <td>0.800000</td>\n",
       "      <td>1.106475</td>\n",
       "      <td>[3, 2, 1, 1, 2, 3, 4, 3, 4, 2]</td>\n",
       "    </tr>\n",
       "    <tr>\n",
       "      <th>4</th>\n",
       "      <td>😗</td>\n",
       "      <td>2.100000</td>\n",
       "      <td>1.078194</td>\n",
       "      <td>[4, 2, 2, 1, 2, 1, 4, 3, 3, 1]</td>\n",
       "    </tr>\n",
       "    <tr>\n",
       "      <th>5</th>\n",
       "      <td>😜</td>\n",
       "      <td>0.800000</td>\n",
       "      <td>1.088983</td>\n",
       "      <td>[2, 2, 1, 1, 1, 1, 4, 3, 4, 1]</td>\n",
       "    </tr>\n",
       "    <tr>\n",
       "      <th>6</th>\n",
       "      <td>😝</td>\n",
       "      <td>2.250000</td>\n",
       "      <td>1.064500</td>\n",
       "      <td>[2, -1, 1, 1, 1, 1, -1, 2, 2, 1]</td>\n",
       "    </tr>\n",
       "    <tr>\n",
       "      <th>7</th>\n",
       "      <td>😛</td>\n",
       "      <td>1.828571</td>\n",
       "      <td>0.991697</td>\n",
       "      <td>[3, 2, 1, 1, 2, 3, 4, 3, 4, 2]</td>\n",
       "    </tr>\n",
       "    <tr>\n",
       "      <th>8</th>\n",
       "      <td>😒</td>\n",
       "      <td>-0.700000</td>\n",
       "      <td>1.033200</td>\n",
       "      <td>[4, 2, 2, 1, 2, 1, 4, 3, 3, 1]</td>\n",
       "    </tr>\n",
       "    <tr>\n",
       "      <th>9</th>\n",
       "      <td>😢</td>\n",
       "      <td>-2.300000</td>\n",
       "      <td>1.014726</td>\n",
       "      <td>[2, 2, 1, 1, 1, 1, 4, 3, 4, 1]</td>\n",
       "    </tr>\n",
       "    <tr>\n",
       "      <th>10</th>\n",
       "      <td>😂</td>\n",
       "      <td>2.500000</td>\n",
       "      <td>0.998593</td>\n",
       "      <td>[2, -1, 1, 1, 1, 1, -1, 2, 2, 1]</td>\n",
       "    </tr>\n",
       "    <tr>\n",
       "      <th>14</th>\n",
       "      <td>😠</td>\n",
       "      <td>-2.500000</td>\n",
       "      <td>0.974240</td>\n",
       "      <td>[2, -1, 1, 1, 1, 1, -1, 2, 2, 1]</td>\n",
       "    </tr>\n",
       "    <tr>\n",
       "      <th>15</th>\n",
       "      <td>😡</td>\n",
       "      <td>-2.500000</td>\n",
       "      <td>0.969966</td>\n",
       "      <td>[3, 2, 1, 1, 2, 3, 4, 3, 4, 2]</td>\n",
       "    </tr>\n",
       "    <tr>\n",
       "      <th>17</th>\n",
       "      <td>😎</td>\n",
       "      <td>1.900000</td>\n",
       "      <td>0.963665</td>\n",
       "      <td>[2, 2, 1, 1, 1, 1, 4, 3, 4, 1]</td>\n",
       "    </tr>\n",
       "    <tr>\n",
       "      <th>18</th>\n",
       "      <td>😦</td>\n",
       "      <td>-1.750000</td>\n",
       "      <td>0.944045</td>\n",
       "      <td>[2, -1, 1, 1, 1, 1, -1, 2, 2, 1]</td>\n",
       "    </tr>\n",
       "    <tr>\n",
       "      <th>21</th>\n",
       "      <td>😮</td>\n",
       "      <td>-0.150000</td>\n",
       "      <td>0.965330</td>\n",
       "      <td>[2, 2, 1, 1, 1, 1, 4, 3, 4, 1]</td>\n",
       "    </tr>\n",
       "    <tr>\n",
       "      <th>22</th>\n",
       "      <td>😐</td>\n",
       "      <td>-0.633333</td>\n",
       "      <td>0.960978</td>\n",
       "      <td>[2, -1, 1, 1, 1, 1, -1, 2, 2, 1]</td>\n",
       "    </tr>\n",
       "    <tr>\n",
       "      <th>23</th>\n",
       "      <td>😕</td>\n",
       "      <td>-1.233333</td>\n",
       "      <td>0.927984</td>\n",
       "      <td>[3, 2, 1, 1, 2, 3, 4, 3, 4, 2]</td>\n",
       "    </tr>\n",
       "    <tr>\n",
       "      <th>25</th>\n",
       "      <td>😇</td>\n",
       "      <td>1.700000</td>\n",
       "      <td>0.931206</td>\n",
       "      <td>[2, 2, 1, 1, 1, 1, 4, 3, 4, 1]</td>\n",
       "    </tr>\n",
       "    <tr>\n",
       "      <th>26</th>\n",
       "      <td>👨</td>\n",
       "      <td>2.133333</td>\n",
       "      <td>0.930282</td>\n",
       "      <td>[2, -1, 1, 1, 1, 1, -1, 2, 2, 1]</td>\n",
       "    </tr>\n",
       "    <tr>\n",
       "      <th>27</th>\n",
       "      <td>❤️</td>\n",
       "      <td>1.900000</td>\n",
       "      <td>0.934078</td>\n",
       "      <td>[3, 2, 1, 1, 2, 3, 4, 3, 4, 2]</td>\n",
       "    </tr>\n",
       "    <tr>\n",
       "      <th>28</th>\n",
       "      <td>💔</td>\n",
       "      <td>-3.000000</td>\n",
       "      <td>0.935196</td>\n",
       "      <td>[3, 2, 1, 1, 2, 3, 4, 3, 4, 2]</td>\n",
       "    </tr>\n",
       "  </tbody>\n",
       "</table>\n",
       "</div>"
      ],
      "text/plain": [
       "   emoticon  sentiment   to_drop                              drop\n",
       "0         😄   2.325000  0.785814    [4, 2, 2, 1, 2, 1, 4, 3, 3, 1]\n",
       "1         😃   1.860000  0.909214    [2, 2, 1, 1, 1, 1, 4, 3, 4, 1]\n",
       "3         😉   0.800000  1.106475    [3, 2, 1, 1, 2, 3, 4, 3, 4, 2]\n",
       "4         😗   2.100000  1.078194    [4, 2, 2, 1, 2, 1, 4, 3, 3, 1]\n",
       "5         😜   0.800000  1.088983    [2, 2, 1, 1, 1, 1, 4, 3, 4, 1]\n",
       "6         😝   2.250000  1.064500  [2, -1, 1, 1, 1, 1, -1, 2, 2, 1]\n",
       "7         😛   1.828571  0.991697    [3, 2, 1, 1, 2, 3, 4, 3, 4, 2]\n",
       "8         😒  -0.700000  1.033200    [4, 2, 2, 1, 2, 1, 4, 3, 3, 1]\n",
       "9         😢  -2.300000  1.014726    [2, 2, 1, 1, 1, 1, 4, 3, 4, 1]\n",
       "10        😂   2.500000  0.998593  [2, -1, 1, 1, 1, 1, -1, 2, 2, 1]\n",
       "14        😠  -2.500000  0.974240  [2, -1, 1, 1, 1, 1, -1, 2, 2, 1]\n",
       "15        😡  -2.500000  0.969966    [3, 2, 1, 1, 2, 3, 4, 3, 4, 2]\n",
       "17        😎   1.900000  0.963665    [2, 2, 1, 1, 1, 1, 4, 3, 4, 1]\n",
       "18        😦  -1.750000  0.944045  [2, -1, 1, 1, 1, 1, -1, 2, 2, 1]\n",
       "21        😮  -0.150000  0.965330    [2, 2, 1, 1, 1, 1, 4, 3, 4, 1]\n",
       "22        😐  -0.633333  0.960978  [2, -1, 1, 1, 1, 1, -1, 2, 2, 1]\n",
       "23        😕  -1.233333  0.927984    [3, 2, 1, 1, 2, 3, 4, 3, 4, 2]\n",
       "25        😇   1.700000  0.931206    [2, 2, 1, 1, 1, 1, 4, 3, 4, 1]\n",
       "26        👨   2.133333  0.930282  [2, -1, 1, 1, 1, 1, -1, 2, 2, 1]\n",
       "27       ❤️   1.900000  0.934078    [3, 2, 1, 1, 2, 3, 4, 3, 4, 2]\n",
       "28        💔  -3.000000  0.935196    [3, 2, 1, 1, 2, 3, 4, 3, 4, 2]"
      ]
     },
     "execution_count": 186,
     "metadata": {},
     "output_type": "execute_result"
    }
   ],
   "source": [
    "to_append"
   ]
  },
  {
   "cell_type": "code",
   "execution_count": 191,
   "metadata": {
    "collapsed": false
   },
   "outputs": [],
   "source": [
    "vader_lexicon2 = vader_lexicon.append(to_append)"
   ]
  },
  {
   "cell_type": "code",
   "execution_count": 195,
   "metadata": {
    "collapsed": false
   },
   "outputs": [
    {
     "data": {
      "text/html": [
       "<div>\n",
       "<table border=\"1\" class=\"dataframe\">\n",
       "  <thead>\n",
       "    <tr style=\"text-align: right;\">\n",
       "      <th></th>\n",
       "      <th>emoticon</th>\n",
       "      <th>sentiment</th>\n",
       "      <th>to_drop</th>\n",
       "      <th>drop</th>\n",
       "    </tr>\n",
       "  </thead>\n",
       "  <tbody>\n",
       "    <tr>\n",
       "      <th>23</th>\n",
       "      <td>😕</td>\n",
       "      <td>-1.233333</td>\n",
       "      <td>0.927984</td>\n",
       "      <td>[3, 2, 1, 1, 2, 3, 4, 3, 4, 2]</td>\n",
       "    </tr>\n",
       "    <tr>\n",
       "      <th>25</th>\n",
       "      <td>😇</td>\n",
       "      <td>1.700000</td>\n",
       "      <td>0.931206</td>\n",
       "      <td>[2, 2, 1, 1, 1, 1, 4, 3, 4, 1]</td>\n",
       "    </tr>\n",
       "    <tr>\n",
       "      <th>26</th>\n",
       "      <td>👨</td>\n",
       "      <td>2.133333</td>\n",
       "      <td>0.930282</td>\n",
       "      <td>[2, -1, 1, 1, 1, 1, -1, 2, 2, 1]</td>\n",
       "    </tr>\n",
       "    <tr>\n",
       "      <th>27</th>\n",
       "      <td>❤️</td>\n",
       "      <td>1.900000</td>\n",
       "      <td>0.934078</td>\n",
       "      <td>[3, 2, 1, 1, 2, 3, 4, 3, 4, 2]</td>\n",
       "    </tr>\n",
       "    <tr>\n",
       "      <th>28</th>\n",
       "      <td>💔</td>\n",
       "      <td>-3.000000</td>\n",
       "      <td>0.935196</td>\n",
       "      <td>[3, 2, 1, 1, 2, 3, 4, 3, 4, 2]</td>\n",
       "    </tr>\n",
       "  </tbody>\n",
       "</table>\n",
       "</div>"
      ],
      "text/plain": [
       "   emoticon  sentiment   to_drop                              drop\n",
       "23        😕  -1.233333  0.927984    [3, 2, 1, 1, 2, 3, 4, 3, 4, 2]\n",
       "25        😇   1.700000  0.931206    [2, 2, 1, 1, 1, 1, 4, 3, 4, 1]\n",
       "26        👨   2.133333  0.930282  [2, -1, 1, 1, 1, 1, -1, 2, 2, 1]\n",
       "27       ❤️   1.900000  0.934078    [3, 2, 1, 1, 2, 3, 4, 3, 4, 2]\n",
       "28        💔  -3.000000  0.935196    [3, 2, 1, 1, 2, 3, 4, 3, 4, 2]"
      ]
     },
     "execution_count": 195,
     "metadata": {},
     "output_type": "execute_result"
    }
   ],
   "source": []
  },
  {
   "cell_type": "code",
   "execution_count": 200,
   "metadata": {
    "collapsed": false
   },
   "outputs": [
    {
     "ename": "UnicodeDecodeError",
     "evalue": "'utf8' codec can't decode byte 0xde in position 1291: invalid continuation byte",
     "output_type": "error",
     "traceback": [
      "\u001b[0;31m---------------------------------------------------------------------------\u001b[0m",
      "\u001b[0;31mUnicodeDecodeError\u001b[0m                        Traceback (most recent call last)",
      "\u001b[0;32m<ipython-input-200-d00b763b009f>\u001b[0m in \u001b[0;36m<module>\u001b[0;34m()\u001b[0m\n\u001b[0;32m----> 1\u001b[0;31m \u001b[0mvader_lexicon2\u001b[0m\u001b[0;34m.\u001b[0m\u001b[0mto_csv\u001b[0m\u001b[0;34m(\u001b[0m\u001b[0;34m'vader_sentiment_lexicon2.tsv'\u001b[0m\u001b[0;34m,\u001b[0m \u001b[0mheader\u001b[0m\u001b[0;34m=\u001b[0m\u001b[0;36m0\u001b[0m\u001b[0;34m,\u001b[0m \u001b[0msep\u001b[0m\u001b[0;34m=\u001b[0m\u001b[0;34m'\\t'\u001b[0m\u001b[0;34m,\u001b[0m\u001b[0mindex\u001b[0m\u001b[0;34m=\u001b[0m\u001b[0mFalse\u001b[0m\u001b[0;34m,\u001b[0m \u001b[0mencoding\u001b[0m\u001b[0;34m=\u001b[0m\u001b[0;34m'utf-8'\u001b[0m\u001b[0;34m)\u001b[0m\u001b[0;34m\u001b[0m\u001b[0m\n\u001b[0m",
      "\u001b[0;32m/home/alexander/anaconda/lib/python2.7/site-packages/pandas/core/frame.pyc\u001b[0m in \u001b[0;36mto_csv\u001b[0;34m(self, path_or_buf, sep, na_rep, float_format, columns, header, index, index_label, mode, encoding, quoting, quotechar, line_terminator, chunksize, tupleize_cols, date_format, doublequote, escapechar, decimal, **kwds)\u001b[0m\n\u001b[1;32m   1187\u001b[0m                                      \u001b[0mescapechar\u001b[0m\u001b[0;34m=\u001b[0m\u001b[0mescapechar\u001b[0m\u001b[0;34m,\u001b[0m\u001b[0;34m\u001b[0m\u001b[0m\n\u001b[1;32m   1188\u001b[0m                                      decimal=decimal)\n\u001b[0;32m-> 1189\u001b[0;31m         \u001b[0mformatter\u001b[0m\u001b[0;34m.\u001b[0m\u001b[0msave\u001b[0m\u001b[0;34m(\u001b[0m\u001b[0;34m)\u001b[0m\u001b[0;34m\u001b[0m\u001b[0m\n\u001b[0m\u001b[1;32m   1190\u001b[0m \u001b[0;34m\u001b[0m\u001b[0m\n\u001b[1;32m   1191\u001b[0m         \u001b[0;32mif\u001b[0m \u001b[0mpath_or_buf\u001b[0m \u001b[0;32mis\u001b[0m \u001b[0mNone\u001b[0m\u001b[0;34m:\u001b[0m\u001b[0;34m\u001b[0m\u001b[0m\n",
      "\u001b[0;32m/home/alexander/anaconda/lib/python2.7/site-packages/pandas/core/format.pyc\u001b[0m in \u001b[0;36msave\u001b[0;34m(self)\u001b[0m\n\u001b[1;32m   1465\u001b[0m \u001b[0;34m\u001b[0m\u001b[0m\n\u001b[1;32m   1466\u001b[0m             \u001b[0;32melse\u001b[0m\u001b[0;34m:\u001b[0m\u001b[0;34m\u001b[0m\u001b[0m\n\u001b[0;32m-> 1467\u001b[0;31m                 \u001b[0mself\u001b[0m\u001b[0;34m.\u001b[0m\u001b[0m_save\u001b[0m\u001b[0;34m(\u001b[0m\u001b[0;34m)\u001b[0m\u001b[0;34m\u001b[0m\u001b[0m\n\u001b[0m\u001b[1;32m   1468\u001b[0m \u001b[0;34m\u001b[0m\u001b[0m\n\u001b[1;32m   1469\u001b[0m         \u001b[0;32mfinally\u001b[0m\u001b[0;34m:\u001b[0m\u001b[0;34m\u001b[0m\u001b[0m\n",
      "\u001b[0;32m/home/alexander/anaconda/lib/python2.7/site-packages/pandas/core/format.pyc\u001b[0m in \u001b[0;36m_save\u001b[0;34m(self)\u001b[0m\n\u001b[1;32m   1565\u001b[0m                 \u001b[0;32mbreak\u001b[0m\u001b[0;34m\u001b[0m\u001b[0m\n\u001b[1;32m   1566\u001b[0m \u001b[0;34m\u001b[0m\u001b[0m\n\u001b[0;32m-> 1567\u001b[0;31m             \u001b[0mself\u001b[0m\u001b[0;34m.\u001b[0m\u001b[0m_save_chunk\u001b[0m\u001b[0;34m(\u001b[0m\u001b[0mstart_i\u001b[0m\u001b[0;34m,\u001b[0m \u001b[0mend_i\u001b[0m\u001b[0;34m)\u001b[0m\u001b[0;34m\u001b[0m\u001b[0m\n\u001b[0m\u001b[1;32m   1568\u001b[0m \u001b[0;34m\u001b[0m\u001b[0m\n\u001b[1;32m   1569\u001b[0m     \u001b[0;32mdef\u001b[0m \u001b[0m_save_chunk\u001b[0m\u001b[0;34m(\u001b[0m\u001b[0mself\u001b[0m\u001b[0;34m,\u001b[0m \u001b[0mstart_i\u001b[0m\u001b[0;34m,\u001b[0m \u001b[0mend_i\u001b[0m\u001b[0;34m)\u001b[0m\u001b[0;34m:\u001b[0m\u001b[0;34m\u001b[0m\u001b[0m\n",
      "\u001b[0;32m/home/alexander/anaconda/lib/python2.7/site-packages/pandas/core/format.pyc\u001b[0m in \u001b[0;36m_save_chunk\u001b[0;34m(self, start_i, end_i)\u001b[0m\n\u001b[1;32m   1592\u001b[0m                                         quoting=self.quoting)\n\u001b[1;32m   1593\u001b[0m \u001b[0;34m\u001b[0m\u001b[0m\n\u001b[0;32m-> 1594\u001b[0;31m         \u001b[0mlib\u001b[0m\u001b[0;34m.\u001b[0m\u001b[0mwrite_csv_rows\u001b[0m\u001b[0;34m(\u001b[0m\u001b[0mself\u001b[0m\u001b[0;34m.\u001b[0m\u001b[0mdata\u001b[0m\u001b[0;34m,\u001b[0m \u001b[0mix\u001b[0m\u001b[0;34m,\u001b[0m \u001b[0mself\u001b[0m\u001b[0;34m.\u001b[0m\u001b[0mnlevels\u001b[0m\u001b[0;34m,\u001b[0m \u001b[0mself\u001b[0m\u001b[0;34m.\u001b[0m\u001b[0mcols\u001b[0m\u001b[0;34m,\u001b[0m \u001b[0mself\u001b[0m\u001b[0;34m.\u001b[0m\u001b[0mwriter\u001b[0m\u001b[0;34m)\u001b[0m\u001b[0;34m\u001b[0m\u001b[0m\n\u001b[0m\u001b[1;32m   1595\u001b[0m \u001b[0;34m\u001b[0m\u001b[0m\n\u001b[1;32m   1596\u001b[0m \u001b[0;31m# from collections import namedtuple\u001b[0m\u001b[0;34m\u001b[0m\u001b[0;34m\u001b[0m\u001b[0m\n",
      "\u001b[0;32mpandas/lib.pyx\u001b[0m in \u001b[0;36mpandas.lib.write_csv_rows (pandas/lib.c:17912)\u001b[0;34m()\u001b[0m\n",
      "\u001b[0;32m/home/alexander/anaconda/lib/python2.7/site-packages/pandas/core/common.pyc\u001b[0m in \u001b[0;36mwriterows\u001b[0;34m(self, rows)\u001b[0m\n\u001b[1;32m   2912\u001b[0m             \u001b[0;31m# Fetch UTF-8 output from the queue ...\u001b[0m\u001b[0;34m\u001b[0m\u001b[0;34m\u001b[0m\u001b[0m\n\u001b[1;32m   2913\u001b[0m             \u001b[0mdata\u001b[0m \u001b[0;34m=\u001b[0m \u001b[0mself\u001b[0m\u001b[0;34m.\u001b[0m\u001b[0mqueue\u001b[0m\u001b[0;34m.\u001b[0m\u001b[0mgetvalue\u001b[0m\u001b[0;34m(\u001b[0m\u001b[0;34m)\u001b[0m\u001b[0;34m\u001b[0m\u001b[0m\n\u001b[0;32m-> 2914\u001b[0;31m             \u001b[0mdata\u001b[0m \u001b[0;34m=\u001b[0m \u001b[0mdata\u001b[0m\u001b[0;34m.\u001b[0m\u001b[0mdecode\u001b[0m\u001b[0;34m(\u001b[0m\u001b[0;34m\"utf-8\"\u001b[0m\u001b[0;34m)\u001b[0m\u001b[0;34m\u001b[0m\u001b[0m\n\u001b[0m\u001b[1;32m   2915\u001b[0m             \u001b[0;31m# ... and reencode it into the target encoding\u001b[0m\u001b[0;34m\u001b[0m\u001b[0;34m\u001b[0m\u001b[0m\n\u001b[1;32m   2916\u001b[0m             \u001b[0mdata\u001b[0m \u001b[0;34m=\u001b[0m \u001b[0mself\u001b[0m\u001b[0;34m.\u001b[0m\u001b[0mencoder\u001b[0m\u001b[0;34m.\u001b[0m\u001b[0mencode\u001b[0m\u001b[0;34m(\u001b[0m\u001b[0mdata\u001b[0m\u001b[0;34m)\u001b[0m\u001b[0;34m\u001b[0m\u001b[0m\n",
      "\u001b[0;32m/home/alexander/anaconda/lib/python2.7/encodings/utf_8.pyc\u001b[0m in \u001b[0;36mdecode\u001b[0;34m(input, errors)\u001b[0m\n\u001b[1;32m     14\u001b[0m \u001b[0;34m\u001b[0m\u001b[0m\n\u001b[1;32m     15\u001b[0m \u001b[0;32mdef\u001b[0m \u001b[0mdecode\u001b[0m\u001b[0;34m(\u001b[0m\u001b[0minput\u001b[0m\u001b[0;34m,\u001b[0m \u001b[0merrors\u001b[0m\u001b[0;34m=\u001b[0m\u001b[0;34m'strict'\u001b[0m\u001b[0;34m)\u001b[0m\u001b[0;34m:\u001b[0m\u001b[0;34m\u001b[0m\u001b[0m\n\u001b[0;32m---> 16\u001b[0;31m     \u001b[0;32mreturn\u001b[0m \u001b[0mcodecs\u001b[0m\u001b[0;34m.\u001b[0m\u001b[0mutf_8_decode\u001b[0m\u001b[0;34m(\u001b[0m\u001b[0minput\u001b[0m\u001b[0;34m,\u001b[0m \u001b[0merrors\u001b[0m\u001b[0;34m,\u001b[0m \u001b[0mTrue\u001b[0m\u001b[0;34m)\u001b[0m\u001b[0;34m\u001b[0m\u001b[0m\n\u001b[0m\u001b[1;32m     17\u001b[0m \u001b[0;34m\u001b[0m\u001b[0m\n\u001b[1;32m     18\u001b[0m \u001b[0;32mclass\u001b[0m \u001b[0mIncrementalEncoder\u001b[0m\u001b[0;34m(\u001b[0m\u001b[0mcodecs\u001b[0m\u001b[0;34m.\u001b[0m\u001b[0mIncrementalEncoder\u001b[0m\u001b[0;34m)\u001b[0m\u001b[0;34m:\u001b[0m\u001b[0;34m\u001b[0m\u001b[0m\n",
      "\u001b[0;31mUnicodeDecodeError\u001b[0m: 'utf8' codec can't decode byte 0xde in position 1291: invalid continuation byte"
     ]
    }
   ],
   "source": [
    "vader_lexicon2.to_csv('vader_sentiment_lexicon2.tsv', header=0, sep='\\t',index=False, encoding='utf-8')"
   ]
  },
  {
   "cell_type": "code",
   "execution_count": 14,
   "metadata": {
    "collapsed": false
   },
   "outputs": [
    {
     "name": "stdout",
     "output_type": "stream",
     "text": [
      "0    [:D, :-D, =D, =-D]\n",
      "Name: emoticons, dtype: object\n"
     ]
    }
   ],
   "source": [
    "for x,emoji in enumerate(emoji_json['emoji']):\n",
    "    if x < 1:\n",
    "        try:\n",
    "            print emoji_json[emoji_json['emoji'] == emoji]['emoticons']\n",
    "        except:\n",
    "            print \"none\"\n"
   ]
  },
  {
   "cell_type": "code",
   "execution_count": 15,
   "metadata": {
    "collapsed": false
   },
   "outputs": [
    {
     "name": "stdout",
     "output_type": "stream",
     "text": [
      ":D\n",
      ":-D\n",
      "=D\n",
      "=-D\n"
     ]
    }
   ],
   "source": [
    "for x,emoji in enumerate(emoji_json['emoji']):\n",
    "    if x < 1:\n",
    "        try:\n",
    "            for emoticon in emoji_json[emoji_json['emoji'] == emoji]['emoticons']:\n",
    "                for actual_emoticon in emoticon:\n",
    "                    if type(actual_emoticon) != None:\n",
    "                        print actual_emoticon\n",
    "        except:\n",
    "            print \"none\"\n"
   ]
  },
  {
   "cell_type": "code",
   "execution_count": 202,
   "metadata": {
    "collapsed": true
   },
   "outputs": [],
   "source": [
    "emoji_json_no_nan.index = range(len(emoji_json_no_nan))"
   ]
  },
  {
   "cell_type": "code",
   "execution_count": 206,
   "metadata": {
    "collapsed": false
   },
   "outputs": [
    {
     "name": "stdout",
     "output_type": "stream",
     "text": [
      ":D\n",
      "😄 :D\n",
      "😄 :-D\n",
      "😄 =D\n",
      "😄 =-D\n",
      ":)\n",
      "😃 :)\n",
      "😃 :]\n",
      "😃 :-)\n",
      "😃 =)\n",
      "😃 =]\n",
      ";)\n",
      "😉 ;)\n",
      "😉 ;]\n",
      "😉 ;D\n",
      "😉 ;-)\n",
      "😉 ;-]\n",
      ":*\n",
      "😗 :*\n",
      "😗 :-*\n",
      ";p\n",
      "😜 ;d\n",
      "xP\n",
      "😝 x-p\n",
      "😝 x-d\n",
      ":p\n",
      "😛 :p\n",
      "😛 :d\n",
      "😛 :-p\n",
      "😛 :-d\n",
      "😛 =p\n",
      "😛 =d\n",
      "😛 =-d\n",
      ":$\n",
      "😒 :$\n",
      "😒 :s\n",
      ":,(\n",
      "😢 :'(\n",
      "😢 :'-(\n",
      ":,)\n",
      "😂 :')\n",
      "😂 :'-)\n",
      ">:(\n",
      "😠 >:(\n",
      "😠 >:[\n",
      "😠 >:-(\n",
      ":@\n",
      "😡 :@\n",
      "8)\n",
      "😎 8)\n",
      ":(\n",
      "😦 :(\n",
      "😦 :[\n",
      "😦 :-(\n",
      "😦 :-[\n",
      ":o\n",
      "😮 :o\n",
      "😮 :-o\n",
      ":|\n",
      "😐 :|\n",
      "😐 :-|\n",
      "😐 =|\n",
      ":/\n",
      "😕 :/\n",
      "😕 :\\\n",
      "😕 :-/\n",
      "😕 :-\\\n",
      "😕 =/\n",
      "😕 =\\\n",
      "o:)\n",
      "😇 o:)\n",
      "😇 o:-)\n",
      "😇 0:)\n",
      "😇 0:-)\n",
      ":3\n",
      "👨 :3\n",
      "👨 =3\n",
      "👨 =-3\n",
      "<3\n",
      "❤️ <3\n",
      "<\\3\n",
      "💔 </3\n"
     ]
    }
   ],
   "source": [
    "for x, emoticon_list in enumerate(emoji_json_no_nan['emoticons']):\n",
    "    print emoticon_list[0]\n",
    "    for emoticon in emoticon_list:\n",
    "        for vader_emoticon in vader_lexicon['emoticon']:\n",
    "            if str(emoticon) == str(vader_emoticon):\n",
    "                print emoji_json_no_nan.loc[x, 'emoji'], emoticon"
   ]
  },
  {
   "cell_type": "code",
   "execution_count": null,
   "metadata": {
    "collapsed": true
   },
   "outputs": [],
   "source": []
  }
 ],
 "metadata": {
  "kernelspec": {
   "display_name": "Python 2",
   "language": "python",
   "name": "python2"
  },
  "language_info": {
   "codemirror_mode": {
    "name": "ipython",
    "version": 2
   },
   "file_extension": ".py",
   "mimetype": "text/x-python",
   "name": "python",
   "nbconvert_exporter": "python",
   "pygments_lexer": "ipython2",
   "version": "2.7.12"
  }
 },
 "nbformat": 4,
 "nbformat_minor": 0
}
