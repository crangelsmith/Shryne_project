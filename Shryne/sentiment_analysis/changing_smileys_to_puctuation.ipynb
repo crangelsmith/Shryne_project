{
 "cells": [
  {
   "cell_type": "code",
   "execution_count": 2,
   "metadata": {
    "collapsed": true
   },
   "outputs": [],
   "source": [
    "## Want to change our smileys to vaders understood smileys as much as possible\n",
    "import pandas as pd"
   ]
  },
  {
   "cell_type": "code",
   "execution_count": 3,
   "metadata": {
    "collapsed": true
   },
   "outputs": [],
   "source": [
    "vader_lexicon = pd.read_csv('../data/vader_lexicon.txt', delimiter='\\t', names = ['emoticon','sentiment','to_drop','drop'])"
   ]
  },
  {
   "cell_type": "code",
   "execution_count": 4,
   "metadata": {
    "collapsed": false
   },
   "outputs": [
    {
     "data": {
      "text/html": [
       "<div>\n",
       "<table border=\"1\" class=\"dataframe\">\n",
       "  <thead>\n",
       "    <tr style=\"text-align: right;\">\n",
       "      <th></th>\n",
       "      <th>emoticon</th>\n",
       "      <th>sentiment</th>\n",
       "      <th>to_drop</th>\n",
       "      <th>drop</th>\n",
       "    </tr>\n",
       "  </thead>\n",
       "  <tbody>\n",
       "    <tr>\n",
       "      <th>0</th>\n",
       "      <td>$:</td>\n",
       "      <td>-1.5</td>\n",
       "      <td>0.80623</td>\n",
       "      <td>[-1, -1, -1, -1, -3, -1, -3, -1, -2, -1]</td>\n",
       "    </tr>\n",
       "    <tr>\n",
       "      <th>1</th>\n",
       "      <td>%)</td>\n",
       "      <td>-0.4</td>\n",
       "      <td>1.01980</td>\n",
       "      <td>[-1, 0, -1, 0, 0, -2, -1, 2, -1, 0]</td>\n",
       "    </tr>\n",
       "    <tr>\n",
       "      <th>2</th>\n",
       "      <td>%-)</td>\n",
       "      <td>-1.5</td>\n",
       "      <td>1.43178</td>\n",
       "      <td>[-2, 0, -2, -2, -1, 2, -2, -3, -2, -3]</td>\n",
       "    </tr>\n",
       "    <tr>\n",
       "      <th>3</th>\n",
       "      <td>&amp;-:</td>\n",
       "      <td>-0.4</td>\n",
       "      <td>1.42829</td>\n",
       "      <td>[-3, -1, 0, 0, -1, -1, -1, 2, -1, 2]</td>\n",
       "    </tr>\n",
       "    <tr>\n",
       "      <th>4</th>\n",
       "      <td>&amp;:</td>\n",
       "      <td>-0.7</td>\n",
       "      <td>0.64031</td>\n",
       "      <td>[0, -1, -1, -1, 1, -1, -1, -1, -1, -1]</td>\n",
       "    </tr>\n",
       "  </tbody>\n",
       "</table>\n",
       "</div>"
      ],
      "text/plain": [
       "  emoticon  sentiment  to_drop                                      drop\n",
       "0       $:       -1.5  0.80623  [-1, -1, -1, -1, -3, -1, -3, -1, -2, -1]\n",
       "1       %)       -0.4  1.01980       [-1, 0, -1, 0, 0, -2, -1, 2, -1, 0]\n",
       "2      %-)       -1.5  1.43178    [-2, 0, -2, -2, -1, 2, -2, -3, -2, -3]\n",
       "3      &-:       -0.4  1.42829      [-3, -1, 0, 0, -1, -1, -1, 2, -1, 2]\n",
       "4       &:       -0.7  0.64031    [0, -1, -1, -1, 1, -1, -1, -1, -1, -1]"
      ]
     },
     "execution_count": 4,
     "metadata": {},
     "output_type": "execute_result"
    }
   ],
   "source": [
    "vader_lexicon.head()"
   ]
  },
  {
   "cell_type": "code",
   "execution_count": 5,
   "metadata": {
    "collapsed": false
   },
   "outputs": [],
   "source": [
    "vader_lexicon = vader_lexicon.drop(['to_drop','drop'],axis=1)"
   ]
  },
  {
   "cell_type": "code",
   "execution_count": 6,
   "metadata": {
    "collapsed": false
   },
   "outputs": [],
   "source": [
    "emoji = []"
   ]
  },
  {
   "cell_type": "code",
   "execution_count": 7,
   "metadata": {
    "collapsed": true
   },
   "outputs": [],
   "source": [
    "emoji_json = pd.read_json('../data/emoji.json') ## save them in /data of the shryne project"
   ]
  },
  {
   "cell_type": "code",
   "execution_count": 8,
   "metadata": {
    "collapsed": false
   },
   "outputs": [
    {
     "data": {
      "text/html": [
       "<div>\n",
       "<table border=\"1\" class=\"dataframe\">\n",
       "  <thead>\n",
       "    <tr style=\"text-align: right;\">\n",
       "      <th></th>\n",
       "      <th>emoticon</th>\n",
       "      <th>sentiment</th>\n",
       "    </tr>\n",
       "  </thead>\n",
       "  <tbody>\n",
       "    <tr>\n",
       "      <th>0</th>\n",
       "      <td>$:</td>\n",
       "      <td>-1.5</td>\n",
       "    </tr>\n",
       "    <tr>\n",
       "      <th>1</th>\n",
       "      <td>%)</td>\n",
       "      <td>-0.4</td>\n",
       "    </tr>\n",
       "    <tr>\n",
       "      <th>2</th>\n",
       "      <td>%-)</td>\n",
       "      <td>-1.5</td>\n",
       "    </tr>\n",
       "    <tr>\n",
       "      <th>3</th>\n",
       "      <td>&amp;-:</td>\n",
       "      <td>-0.4</td>\n",
       "    </tr>\n",
       "    <tr>\n",
       "      <th>4</th>\n",
       "      <td>&amp;:</td>\n",
       "      <td>-0.7</td>\n",
       "    </tr>\n",
       "  </tbody>\n",
       "</table>\n",
       "</div>"
      ],
      "text/plain": [
       "  emoticon  sentiment\n",
       "0       $:       -1.5\n",
       "1       %)       -0.4\n",
       "2      %-)       -1.5\n",
       "3      &-:       -0.4\n",
       "4       &:       -0.7"
      ]
     },
     "execution_count": 8,
     "metadata": {},
     "output_type": "execute_result"
    }
   ],
   "source": [
    "vader_lexicon.head()"
   ]
  },
  {
   "cell_type": "code",
   "execution_count": 9,
   "metadata": {
    "collapsed": false
   },
   "outputs": [
    {
     "data": {
      "text/html": [
       "<div>\n",
       "<table border=\"1\" class=\"dataframe\">\n",
       "  <thead>\n",
       "    <tr style=\"text-align: right;\">\n",
       "      <th></th>\n",
       "      <th>aliases</th>\n",
       "      <th>description</th>\n",
       "      <th>emoji</th>\n",
       "      <th>emoticons</th>\n",
       "      <th>tags</th>\n",
       "    </tr>\n",
       "  </thead>\n",
       "  <tbody>\n",
       "    <tr>\n",
       "      <th>0</th>\n",
       "      <td>[smile]</td>\n",
       "      <td>smiling face with open mouth and smiling eyes</td>\n",
       "      <td>😄</td>\n",
       "      <td>[:D, :-D, =D, =-D]</td>\n",
       "      <td>[happy, joy, pleased]</td>\n",
       "    </tr>\n",
       "    <tr>\n",
       "      <th>1</th>\n",
       "      <td>[smiley]</td>\n",
       "      <td>smiling face with open mouth</td>\n",
       "      <td>😃</td>\n",
       "      <td>[:), :], :-), :-], =), =], =-), =-]]</td>\n",
       "      <td>[happy, joy, haha]</td>\n",
       "    </tr>\n",
       "    <tr>\n",
       "      <th>2</th>\n",
       "      <td>[grinning]</td>\n",
       "      <td>grinning face</td>\n",
       "      <td>😀</td>\n",
       "      <td>NaN</td>\n",
       "      <td>[smile, happy]</td>\n",
       "    </tr>\n",
       "    <tr>\n",
       "      <th>3</th>\n",
       "      <td>[blush]</td>\n",
       "      <td>smiling face with smiling eyes</td>\n",
       "      <td>😊</td>\n",
       "      <td>[:\"), :\"], :\"D, :-\"), :-\"], :-\"D, =\"), =\"], =\"...</td>\n",
       "      <td>[proud]</td>\n",
       "    </tr>\n",
       "    <tr>\n",
       "      <th>4</th>\n",
       "      <td>[relaxed]</td>\n",
       "      <td>white smiling face</td>\n",
       "      <td>☺️</td>\n",
       "      <td>NaN</td>\n",
       "      <td>[blush, pleased]</td>\n",
       "    </tr>\n",
       "  </tbody>\n",
       "</table>\n",
       "</div>"
      ],
      "text/plain": [
       "      aliases                                    description emoji  \\\n",
       "0     [smile]  smiling face with open mouth and smiling eyes     😄   \n",
       "1    [smiley]                   smiling face with open mouth     😃   \n",
       "2  [grinning]                                  grinning face     😀   \n",
       "3     [blush]                 smiling face with smiling eyes     😊   \n",
       "4   [relaxed]                             white smiling face    ☺️   \n",
       "\n",
       "                                           emoticons                   tags  \n",
       "0                                 [:D, :-D, =D, =-D]  [happy, joy, pleased]  \n",
       "1               [:), :], :-), :-], =), =], =-), =-]]     [happy, joy, haha]  \n",
       "2                                                NaN         [smile, happy]  \n",
       "3  [:\"), :\"], :\"D, :-\"), :-\"], :-\"D, =\"), =\"], =\"...                [proud]  \n",
       "4                                                NaN       [blush, pleased]  "
      ]
     },
     "execution_count": 9,
     "metadata": {},
     "output_type": "execute_result"
    }
   ],
   "source": [
    "emoji_json.head()"
   ]
  },
  {
   "cell_type": "code",
   "execution_count": 10,
   "metadata": {
    "collapsed": false
   },
   "outputs": [],
   "source": [
    "emoji_json_no_nan = emoji_json[emoji_json['emoticons'].notnull()]"
   ]
  },
  {
   "cell_type": "code",
   "execution_count": 11,
   "metadata": {
    "collapsed": false
   },
   "outputs": [
    {
     "data": {
      "text/plain": [
       "(845, 5)"
      ]
     },
     "execution_count": 11,
     "metadata": {},
     "output_type": "execute_result"
    }
   ],
   "source": [
    "emoji_json.shape"
   ]
  },
  {
   "cell_type": "code",
   "execution_count": 12,
   "metadata": {
    "collapsed": false
   },
   "outputs": [
    {
     "data": {
      "text/plain": [
       "(29, 5)"
      ]
     },
     "execution_count": 12,
     "metadata": {},
     "output_type": "execute_result"
    }
   ],
   "source": [
    "emoji_json_no_nan.shape"
   ]
  },
  {
   "cell_type": "code",
   "execution_count": 13,
   "metadata": {
    "collapsed": false
   },
   "outputs": [
    {
     "name": "stdout",
     "output_type": "stream",
     "text": [
      ":D 135    2.3\n",
      "Name: sentiment, dtype: float64\n",
      ":-D 117    2.3\n",
      "Name: sentiment, dtype: float64\n",
      "=D 178    2.3\n",
      "Name: sentiment, dtype: float64\n",
      "=-D 174    2.4\n",
      "Name: sentiment, dtype: float64\n",
      ":) 104    2\n",
      "Name: sentiment, dtype: float64\n",
      ":] 142    2.2\n",
      "Name: sentiment, dtype: float64\n",
      ":-) 109    1.3\n",
      "Name: sentiment, dtype: float64\n",
      "=) 171    2.2\n",
      "Name: sentiment, dtype: float64\n",
      "=] 181    1.6\n",
      "Name: sentiment, dtype: float64\n",
      ";) 159    0.9\n",
      "Name: sentiment, dtype: float64\n",
      ";] 165    0.6\n",
      "Name: sentiment, dtype: float64\n",
      ";D 164    0.8\n",
      "Name: sentiment, dtype: float64\n",
      ";-) 160    1\n",
      "Name: sentiment, dtype: float64\n",
      ";-] 162    0.7\n",
      "Name: sentiment, dtype: float64\n",
      ":*"
     ]
    },
    {
     "name": "stderr",
     "output_type": "stream",
     "text": [
      "/home/alexander/anaconda/lib/python2.7/site-packages/pandas/core/ops.py:562: UnicodeWarning: Unicode equal comparison failed to convert both arguments to Unicode - interpreting them as being unequal\n",
      "  result = lib.scalar_compare(x, y, op)\n"
     ]
    },
    {
     "name": "stdout",
     "output_type": "stream",
     "text": [
      " 105    2.5\n",
      "Name: sentiment, dtype: float64\n",
      ":-* 111    1.7\n",
      "Name: sentiment, dtype: float64\n",
      ";d 163    0.8\n",
      "Name: sentiment, dtype: float64\n",
      "x-p 409     1.8\n",
      "7486    1.7\n",
      "Name: sentiment, dtype: float64\n",
      "x-p 409     1.8\n",
      "7486    1.7\n",
      "Name: sentiment, dtype: float64\n",
      "x-d 408     2.7\n",
      "7485    2.6\n",
      "Name: sentiment, dtype: float64\n",
      "x-d 408     2.7\n",
      "7485    2.6\n",
      "Name: sentiment, dtype: float64\n",
      ":p 138    1.0\n",
      "154    1.4\n",
      "Name: sentiment, dtype: float64\n",
      ":p 138    1.0\n",
      "154    1.4\n",
      "Name: sentiment, dtype: float64\n",
      ":d 134    2.3\n",
      "Name: sentiment, dtype: float64\n",
      ":-p 119    1.2\n",
      "123    1.5\n",
      "Name: sentiment, dtype: float64\n",
      ":-p 119    1.2\n",
      "123    1.5\n",
      "Name: sentiment, dtype: float64\n",
      ":-d 116    2.3\n",
      "Name: sentiment, dtype: float64\n",
      "=p 182    1.3\n",
      "Name: sentiment, dtype: float64\n",
      "=d 177    2.3\n",
      "Name: sentiment, dtype: float64\n",
      "=-d 173    2.4\n",
      "Name: sentiment, dtype: float64\n",
      ":$ 97   -0.2\n",
      "Name: sentiment, dtype: float64\n",
      ":s 139   -1.2\n",
      "Name: sentiment, dtype: float64\n",
      ":'( 99   -2.2\n",
      "Name: sentiment, dtype: float64\n",
      ":'-( 101   -2.4\n",
      "Name: sentiment, dtype: float64\n",
      ":') 100    2.3\n",
      "Name: sentiment, dtype: float64\n",
      ":'-) 102    2.7\n",
      "Name: sentiment, dtype: float64\n",
      ">:( 187   -2.7\n",
      "Name: sentiment, dtype: float64\n",
      ">:[ 194   -2.1\n",
      "Name: sentiment, dtype: float64\n",
      ">:-( 189   -2.7\n",
      "Name: sentiment, dtype: float64\n",
      ":@ 133   -2.5\n",
      "Name: sentiment, dtype: float64\n",
      "8) 91    1.9\n",
      "Name: sentiment, dtype: float64\n",
      ":( 103   -1.9\n",
      "Name: sentiment, dtype: float64\n",
      ":[ 140   -2\n",
      "Name: sentiment, dtype: float64\n",
      ":-( 108   -1.5\n",
      "Name: sentiment, dtype: float64\n",
      ":-[ 120   -1.6\n",
      "Name: sentiment, dtype: float64\n",
      ":o 137   -0.4\n",
      "Name: sentiment, dtype: float64\n",
      ":-o 118    0.1\n",
      "Name: sentiment, dtype: float64\n",
      ":| 156   -0.4\n",
      "Name: sentiment, dtype: float64\n",
      ":-| 124   -0.7\n",
      "Name: sentiment, dtype: float64\n",
      "=| 183   -0.8\n",
      "Name: sentiment, dtype: float64\n",
      ":/ 127   -1.4\n",
      "Name: sentiment, dtype: float64\n",
      ":\\ 141   -1.3\n",
      "Name: sentiment, dtype: float64\n",
      ":-/ 114   -1.2\n",
      "Name: sentiment, dtype: float64\n",
      ":-\\ 121   -0.9\n",
      "Name: sentiment, dtype: float64\n",
      "=/ 175   -1.4\n",
      "Name: sentiment, dtype: float64\n",
      "=\\ 180   -1.2\n",
      "Name: sentiment, dtype: float64\n",
      "o:) 343    1.5\n",
      "Name: sentiment, dtype: float64\n",
      "o:-) 344    2\n",
      "Name: sentiment, dtype: float64\n",
      "0:) 68    1.9\n",
      "Name: sentiment, dtype: float64\n",
      "0:-) 69    1.4\n",
      "Name: sentiment, dtype: float64\n",
      ":3 128    2.3\n",
      "Name: sentiment, dtype: float64\n",
      "=3 176    2.1\n",
      "Name: sentiment, dtype: float64\n",
      "=-3 172    2\n",
      "Name: sentiment, dtype: float64\n",
      "<3 168    1.9\n",
      "Name: sentiment, dtype: float64\n",
      "</3 167   -3\n",
      "Name: sentiment, dtype: float64\n"
     ]
    }
   ],
   "source": [
    "overall_scores = []\n",
    "sub_scores = 0\n",
    "\n",
    "for emoticon_list in emoji_json_no_nan['emoticons']:\n",
    "    for emoticon in emoticon_list:\n",
    "        for vader_emoticon in vader_lexicon['emoticon']:\n",
    "            if str(emoticon) == str(vader_emoticon):\n",
    "                print emoticon, vader_lexicon[vader_lexicon['emoticon'] == emoticon]['sentiment']\n",
    "        \n",
    "        # if emoticon in vader_lexicon['emoticon']:\n",
    "         #   print vader_lexicon[vader_lexicon['emoticon'] == emoticon]['sentiment']\n",
    "        \n",
    "        #print emoticon\n",
    "        ##print emoji_json_no_nan[emoji_json_no_nan['emoticon'] == emoticon]['emoji']\n",
    "        \n",
    "        "
   ]
  },
  {
   "cell_type": "code",
   "execution_count": 14,
   "metadata": {
    "collapsed": false
   },
   "outputs": [
    {
     "name": "stdout",
     "output_type": "stream",
     "text": [
      "0    [:D, :-D, =D, =-D]\n",
      "Name: emoticons, dtype: object\n"
     ]
    }
   ],
   "source": [
    "for x,emoji in enumerate(emoji_json['emoji']):\n",
    "    if x < 1:\n",
    "        try:\n",
    "            print emoji_json[emoji_json['emoji'] == emoji]['emoticons']\n",
    "        except:\n",
    "            print \"none\"\n"
   ]
  },
  {
   "cell_type": "code",
   "execution_count": 15,
   "metadata": {
    "collapsed": false
   },
   "outputs": [
    {
     "name": "stdout",
     "output_type": "stream",
     "text": [
      ":D\n",
      ":-D\n",
      "=D\n",
      "=-D\n"
     ]
    }
   ],
   "source": [
    "for x,emoji in enumerate(emoji_json['emoji']):\n",
    "    if x < 1:\n",
    "        try:\n",
    "            for emoticon in emoji_json[emoji_json['emoji'] == emoji]['emoticons']:\n",
    "                for actual_emoticon in emoticon:\n",
    "                    if type(actual_emoticon) != None:\n",
    "                        print actual_emoticon\n",
    "        except:\n",
    "            print \"none\"\n"
   ]
  },
  {
   "cell_type": "code",
   "execution_count": null,
   "metadata": {
    "collapsed": true
   },
   "outputs": [],
   "source": []
  }
 ],
 "metadata": {
  "kernelspec": {
   "display_name": "Python 2",
   "language": "python",
   "name": "python2"
  },
  "language_info": {
   "codemirror_mode": {
    "name": "ipython",
    "version": 2
   },
   "file_extension": ".py",
   "mimetype": "text/x-python",
   "name": "python",
   "nbconvert_exporter": "python",
   "pygments_lexer": "ipython2",
   "version": "2.7.12"
  }
 },
 "nbformat": 4,
 "nbformat_minor": 0
}
