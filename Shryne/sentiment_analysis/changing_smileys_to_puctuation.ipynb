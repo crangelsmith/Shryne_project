{
 "cells": [
  {
   "cell_type": "code",
   "execution_count": 1,
   "metadata": {
    "collapsed": true
   },
   "outputs": [],
   "source": [
    "## Want to change our smileys to vaders understood smileys as much as possible\n",
    "import pandas as pd"
   ]
  },
  {
   "cell_type": "code",
   "execution_count": 24,
   "metadata": {
    "collapsed": true
   },
   "outputs": [],
   "source": [
    "vader_lexicon = pd.read_csv('../data/vader_lexicon.txt', delimiter='\\t', names = ['emoticon','sentiment','to_drop','drop'])"
   ]
  },
  {
   "cell_type": "code",
   "execution_count": 25,
   "metadata": {
    "collapsed": false
   },
   "outputs": [
    {
     "data": {
      "text/html": [
       "<div>\n",
       "<table border=\"1\" class=\"dataframe\">\n",
       "  <thead>\n",
       "    <tr style=\"text-align: right;\">\n",
       "      <th></th>\n",
       "      <th>emoticon</th>\n",
       "      <th>sentiment</th>\n",
       "      <th>to_drop</th>\n",
       "      <th>drop</th>\n",
       "    </tr>\n",
       "  </thead>\n",
       "  <tbody>\n",
       "    <tr>\n",
       "      <th>0</th>\n",
       "      <td>$:</td>\n",
       "      <td>-1.5</td>\n",
       "      <td>0.80623</td>\n",
       "      <td>[-1, -1, -1, -1, -3, -1, -3, -1, -2, -1]</td>\n",
       "    </tr>\n",
       "    <tr>\n",
       "      <th>1</th>\n",
       "      <td>%)</td>\n",
       "      <td>-0.4</td>\n",
       "      <td>1.01980</td>\n",
       "      <td>[-1, 0, -1, 0, 0, -2, -1, 2, -1, 0]</td>\n",
       "    </tr>\n",
       "    <tr>\n",
       "      <th>2</th>\n",
       "      <td>%-)</td>\n",
       "      <td>-1.5</td>\n",
       "      <td>1.43178</td>\n",
       "      <td>[-2, 0, -2, -2, -1, 2, -2, -3, -2, -3]</td>\n",
       "    </tr>\n",
       "    <tr>\n",
       "      <th>3</th>\n",
       "      <td>&amp;-:</td>\n",
       "      <td>-0.4</td>\n",
       "      <td>1.42829</td>\n",
       "      <td>[-3, -1, 0, 0, -1, -1, -1, 2, -1, 2]</td>\n",
       "    </tr>\n",
       "    <tr>\n",
       "      <th>4</th>\n",
       "      <td>&amp;:</td>\n",
       "      <td>-0.7</td>\n",
       "      <td>0.64031</td>\n",
       "      <td>[0, -1, -1, -1, 1, -1, -1, -1, -1, -1]</td>\n",
       "    </tr>\n",
       "  </tbody>\n",
       "</table>\n",
       "</div>"
      ],
      "text/plain": [
       "  emoticon  sentiment  to_drop                                      drop\n",
       "0       $:       -1.5  0.80623  [-1, -1, -1, -1, -3, -1, -3, -1, -2, -1]\n",
       "1       %)       -0.4  1.01980       [-1, 0, -1, 0, 0, -2, -1, 2, -1, 0]\n",
       "2      %-)       -1.5  1.43178    [-2, 0, -2, -2, -1, 2, -2, -3, -2, -3]\n",
       "3      &-:       -0.4  1.42829      [-3, -1, 0, 0, -1, -1, -1, 2, -1, 2]\n",
       "4       &:       -0.7  0.64031    [0, -1, -1, -1, 1, -1, -1, -1, -1, -1]"
      ]
     },
     "execution_count": 25,
     "metadata": {},
     "output_type": "execute_result"
    }
   ],
   "source": [
    "vader_lexicon.head()"
   ]
  },
  {
   "cell_type": "code",
   "execution_count": 26,
   "metadata": {
    "collapsed": false
   },
   "outputs": [],
   "source": [
    "vader_lexicon = vader_lexicon.drop(['to_drop','drop'],axis=1)"
   ]
  },
  {
   "cell_type": "code",
   "execution_count": 27,
   "metadata": {
    "collapsed": false
   },
   "outputs": [],
   "source": [
    "emoji = []"
   ]
  },
  {
   "cell_type": "code",
   "execution_count": 110,
   "metadata": {
    "collapsed": true
   },
   "outputs": [],
   "source": [
    "emoji_json = pd.read_json('../data/emoji.json') ## save them in /data of the shryne project"
   ]
  },
  {
   "cell_type": "code",
   "execution_count": 59,
   "metadata": {
    "collapsed": false
   },
   "outputs": [
    {
     "data": {
      "text/html": [
       "<div>\n",
       "<table border=\"1\" class=\"dataframe\">\n",
       "  <thead>\n",
       "    <tr style=\"text-align: right;\">\n",
       "      <th></th>\n",
       "      <th>emoticon</th>\n",
       "      <th>sentiment</th>\n",
       "    </tr>\n",
       "  </thead>\n",
       "  <tbody>\n",
       "    <tr>\n",
       "      <th>0</th>\n",
       "      <td>$:</td>\n",
       "      <td>-1.5</td>\n",
       "    </tr>\n",
       "    <tr>\n",
       "      <th>1</th>\n",
       "      <td>%)</td>\n",
       "      <td>-0.4</td>\n",
       "    </tr>\n",
       "    <tr>\n",
       "      <th>2</th>\n",
       "      <td>%-)</td>\n",
       "      <td>-1.5</td>\n",
       "    </tr>\n",
       "    <tr>\n",
       "      <th>3</th>\n",
       "      <td>&amp;-:</td>\n",
       "      <td>-0.4</td>\n",
       "    </tr>\n",
       "    <tr>\n",
       "      <th>4</th>\n",
       "      <td>&amp;:</td>\n",
       "      <td>-0.7</td>\n",
       "    </tr>\n",
       "  </tbody>\n",
       "</table>\n",
       "</div>"
      ],
      "text/plain": [
       "  emoticon  sentiment\n",
       "0       $:       -1.5\n",
       "1       %)       -0.4\n",
       "2      %-)       -1.5\n",
       "3      &-:       -0.4\n",
       "4       &:       -0.7"
      ]
     },
     "execution_count": 59,
     "metadata": {},
     "output_type": "execute_result"
    }
   ],
   "source": [
    "vader_lexicon.head()"
   ]
  },
  {
   "cell_type": "code",
   "execution_count": 58,
   "metadata": {
    "collapsed": false
   },
   "outputs": [
    {
     "data": {
      "text/html": [
       "<div>\n",
       "<table border=\"1\" class=\"dataframe\">\n",
       "  <thead>\n",
       "    <tr style=\"text-align: right;\">\n",
       "      <th></th>\n",
       "      <th>aliases</th>\n",
       "      <th>description</th>\n",
       "      <th>emoji</th>\n",
       "      <th>emoticons</th>\n",
       "      <th>tags</th>\n",
       "    </tr>\n",
       "  </thead>\n",
       "  <tbody>\n",
       "    <tr>\n",
       "      <th>0</th>\n",
       "      <td>[smile]</td>\n",
       "      <td>smiling face with open mouth and smiling eyes</td>\n",
       "      <td>😄</td>\n",
       "      <td>[:D, :-D, =D, =-D]</td>\n",
       "      <td>[happy, joy, pleased]</td>\n",
       "    </tr>\n",
       "    <tr>\n",
       "      <th>1</th>\n",
       "      <td>[smiley]</td>\n",
       "      <td>smiling face with open mouth</td>\n",
       "      <td>😃</td>\n",
       "      <td>[:), :], :-), :-], =), =], =-), =-]]</td>\n",
       "      <td>[happy, joy, haha]</td>\n",
       "    </tr>\n",
       "    <tr>\n",
       "      <th>2</th>\n",
       "      <td>[grinning]</td>\n",
       "      <td>grinning face</td>\n",
       "      <td>😀</td>\n",
       "      <td>NaN</td>\n",
       "      <td>[smile, happy]</td>\n",
       "    </tr>\n",
       "    <tr>\n",
       "      <th>3</th>\n",
       "      <td>[blush]</td>\n",
       "      <td>smiling face with smiling eyes</td>\n",
       "      <td>😊</td>\n",
       "      <td>[:\"), :\"], :\"D, :-\"), :-\"], :-\"D, =\"), =\"], =\"...</td>\n",
       "      <td>[proud]</td>\n",
       "    </tr>\n",
       "    <tr>\n",
       "      <th>4</th>\n",
       "      <td>[relaxed]</td>\n",
       "      <td>white smiling face</td>\n",
       "      <td>☺️</td>\n",
       "      <td>NaN</td>\n",
       "      <td>[blush, pleased]</td>\n",
       "    </tr>\n",
       "  </tbody>\n",
       "</table>\n",
       "</div>"
      ],
      "text/plain": [
       "      aliases                                    description emoji  \\\n",
       "0     [smile]  smiling face with open mouth and smiling eyes     😄   \n",
       "1    [smiley]                   smiling face with open mouth     😃   \n",
       "2  [grinning]                                  grinning face     😀   \n",
       "3     [blush]                 smiling face with smiling eyes     😊   \n",
       "4   [relaxed]                             white smiling face    ☺️   \n",
       "\n",
       "                                           emoticons                   tags  \n",
       "0                                 [:D, :-D, =D, =-D]  [happy, joy, pleased]  \n",
       "1               [:), :], :-), :-], =), =], =-), =-]]     [happy, joy, haha]  \n",
       "2                                                NaN         [smile, happy]  \n",
       "3  [:\"), :\"], :\"D, :-\"), :-\"], :-\"D, =\"), =\"], =\"...                [proud]  \n",
       "4                                                NaN       [blush, pleased]  "
      ]
     },
     "execution_count": 58,
     "metadata": {},
     "output_type": "execute_result"
    }
   ],
   "source": [
    "emoji_json.head()"
   ]
  },
  {
   "cell_type": "code",
   "execution_count": 111,
   "metadata": {
    "collapsed": false
   },
   "outputs": [],
   "source": [
    "emoji_json_no_nan = emoji_json[emoji_json['emoticons'].notnull()]"
   ]
  },
  {
   "cell_type": "code",
   "execution_count": 124,
   "metadata": {
    "collapsed": false
   },
   "outputs": [
    {
     "data": {
      "text/plain": [
       "(845, 5)"
      ]
     },
     "execution_count": 124,
     "metadata": {},
     "output_type": "execute_result"
    }
   ],
   "source": [
    "emoji_json.shape"
   ]
  },
  {
   "cell_type": "code",
   "execution_count": 125,
   "metadata": {
    "collapsed": false
   },
   "outputs": [
    {
     "data": {
      "text/plain": [
       "(29, 5)"
      ]
     },
     "execution_count": 125,
     "metadata": {},
     "output_type": "execute_result"
    }
   ],
   "source": [
    "emoji_json_no_nan.shape"
   ]
  },
  {
   "cell_type": "code",
   "execution_count": 127,
   "metadata": {
    "collapsed": false
   },
   "outputs": [
    {
     "data": {
      "text/plain": [
       "0                                     [:D, :-D, =D, =-D]\n",
       "1                   [:), :], :-), :-], =), =], =-), =-]]\n",
       "3      [:\"), :\"], :\"D, :-\"), :-\"], :-\"D, =\"), =\"], =\"...\n",
       "5                            [;), ;], ;D, ;-), ;-], ;-D]\n",
       "9                                     [:*, :-*, =*, =-*]\n",
       "11                           [;p, ;P, ;d, ;-p, ;-P, ;-d]\n",
       "12            [xP, x-p, x-P, x-d, Xp, Xd, X-p, X-P, X-d]\n",
       "13     [:p, :P, :d, :-p, :-P, :-d, =p, =P, =d, =-p, =...\n",
       "18     [:$, :s, :z, :S, :Z, :-$, :-s, :-z, :-S, :-Z, ...\n",
       "21     [:,(, :,[, :,|, :,-(, :,-[, :,-|, :'(, :'[, :'...\n",
       "22     [:,), :,], :,D, :,-), :,-], :,-D, :'), :'], :'...\n",
       "23     [:,'(, :,'[, :,'-(, :,'-[, :',(, :',[, :',-(, ...\n",
       "27     [,:), ,:], ,:D, ,:-), ,:-], ,:-D, ,=), ,=], ,=...\n",
       "28     [,:(, ,:[, ,:-(, ,:-[, ,=(, ,=[, ,=-(, ,=-[, '...\n",
       "33          [>:(, >:[, >:-(, >:-[, >=(, >=[, >=-(, >=-[]\n",
       "34                                    [:@, :-@, =@, =-@]\n",
       "37     [x), x], xD, x-), x-], x-D, X), X], X-), X-], ...\n",
       "40     [8), 8], 8D, 8-), 8-], 8-D, B), B], B-), B-], ...\n",
       "45                  [:(, :[, :-(, :-[, =(, =[, =-(, =-[]\n",
       "47     []:), ]:], ]:D, ]:-), ]:-], ]:-D, ]=), ]=], ]=...\n",
       "48          []:(, ]:[, ]:-(, ]:-[, ]=(, ]=[, ]=-(, ]=-[]\n",
       "49     [:o, :O, :0, :-o, :-O, :-0, =o, =O, =0, =-o, =...\n",
       "51                                    [:|, :-|, =|, =-|]\n",
       "52                  [:/, :\\, :-/, :-\\, =/, =\\, =-/, =-\\]\n",
       "54                                                  [:-]\n",
       "55     [o:), o:], o:D, o:-), o:-], o:-D, o=), o=], o=...\n",
       "66         [:3, :-3, =3, =-3, ;3, ;-3, x3, x-3, X3, X-3]\n",
       "172                                                 [<3]\n",
       "173                                           [<\\3, </3]\n",
       "Name: emoticons, dtype: object"
      ]
     },
     "execution_count": 127,
     "metadata": {},
     "output_type": "execute_result"
    }
   ],
   "source": [
    "for emoticon_list in emoji_json_no_nan['emoticons']:\n",
    "    print "
   ]
  },
  {
   "cell_type": "code",
   "execution_count": null,
   "metadata": {
    "collapsed": true
   },
   "outputs": [],
   "source": [
    "vader_lexicon."
   ]
  },
  {
   "cell_type": "code",
   "execution_count": 113,
   "metadata": {
    "collapsed": false
   },
   "outputs": [
    {
     "name": "stdout",
     "output_type": "stream",
     "text": [
      "0    [:D, :-D, =D, =-D]\n",
      "Name: emoticons, dtype: object\n"
     ]
    }
   ],
   "source": [
    "for x,emoji in enumerate(emoji_json['emoji']):\n",
    "    if x < 1:\n",
    "        try:\n",
    "            print emoji_json[emoji_json['emoji'] == emoji]['emoticons']\n",
    "        except:\n",
    "            print \"none\"\n"
   ]
  },
  {
   "cell_type": "code",
   "execution_count": 114,
   "metadata": {
    "collapsed": false
   },
   "outputs": [
    {
     "name": "stdout",
     "output_type": "stream",
     "text": [
      ":D\n",
      ":-D\n",
      "=D\n",
      "=-D\n"
     ]
    }
   ],
   "source": [
    "for x,emoji in enumerate(emoji_json['emoji']):\n",
    "    if x < 1:\n",
    "        try:\n",
    "            for emoticon in emoji_json[emoji_json['emoji'] == emoji]['emoticons']:\n",
    "                for actual_emoticon in emoticon:\n",
    "                    if type(actual_emoticon) != None:\n",
    "                        print actual_emoticon\n",
    "        except:\n",
    "            print \"none\"\n"
   ]
  },
  {
   "cell_type": "code",
   "execution_count": null,
   "metadata": {
    "collapsed": true
   },
   "outputs": [],
   "source": []
  }
 ],
 "metadata": {
  "kernelspec": {
   "display_name": "Python 2",
   "language": "python",
   "name": "python2"
  },
  "language_info": {
   "codemirror_mode": {
    "name": "ipython",
    "version": 2
   },
   "file_extension": ".py",
   "mimetype": "text/x-python",
   "name": "python",
   "nbconvert_exporter": "python",
   "pygments_lexer": "ipython2",
   "version": "2.7.12"
  }
 },
 "nbformat": 4,
 "nbformat_minor": 0
}
