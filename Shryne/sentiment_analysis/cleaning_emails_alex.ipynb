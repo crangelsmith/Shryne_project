{
 "cells": [
  {
   "cell_type": "markdown",
   "metadata": {},
   "source": [
    "## Cleaning the emails. "
   ]
  },
  {
   "cell_type": "code",
   "execution_count": 14,
   "metadata": {
    "collapsed": false
   },
   "outputs": [],
   "source": [
    "import pandas as pd\n",
    "import matplotlib.pyplot as plt\n",
    "import numpy as np\n",
    "df=pd.read_csv('./all_messages_no_gmail_tf_wc_sentiment.csv', header=0)\n",
    "import sys\n",
    "import os\n",
    "import re\n",
    "from bs4 import BeautifulSoup"
   ]
  },
  {
   "cell_type": "code",
   "execution_count": 17,
   "metadata": {
    "collapsed": true
   },
   "outputs": [],
   "source": [
    "email = df.loc[df['channel']=='gmail']\n",
    "facebook = df.loc[df['channel']=='facebook_message']"
   ]
  },
  {
   "cell_type": "code",
   "execution_count": null,
   "metadata": {
    "collapsed": false
   },
   "outputs": [],
   "source": []
  },
  {
   "cell_type": "code",
   "execution_count": 64,
   "metadata": {
    "collapsed": false
   },
   "outputs": [],
   "source": [
    "sep = '\\n--\\n'\n",
    "remove_signature = email['message'][10].split(sep,1)[0]\n",
    "remove_newlines = re.sub(\"\\n\", \" \", remove_signature)"
   ]
  },
  {
   "cell_type": "code",
   "execution_count": 18,
   "metadata": {
    "collapsed": false
   },
   "outputs": [
    {
     "data": {
      "text/plain": [
       "(0, 12)"
      ]
     },
     "execution_count": 18,
     "metadata": {},
     "output_type": "execute_result"
    }
   ],
   "source": [
    "# previously, email.shape returned 117,288 messages\n",
    "\n",
    "# now it returns half a million :P\n",
    "\n",
    "email.shape"
   ]
  },
  {
   "cell_type": "code",
   "execution_count": 9,
   "metadata": {
    "collapsed": false
   },
   "outputs": [],
   "source": [
    "sep = '\\n--\\n'\n",
    "\n",
    "for x,message in enumerate(email['message']):\n",
    "    if  x>100000 and x< 110000:\n",
    "        \n",
    "        if sep in str(message):\n",
    "            remove_signature = message.split(sep,1)[0]\n",
    "            print \"cleaned_email\\n\", remove_signature\n",
    "            print \"---------------------------------\"\n",
    "            print \"---------------------------------\"\n",
    "            print \"original message\\n\", message\n",
    "            print \"##########################################################################\"\n",
    "            print \"##########################################################################\""
   ]
  },
  {
   "cell_type": "code",
   "execution_count": 166,
   "metadata": {
    "collapsed": false
   },
   "outputs": [
    {
     "name": "stdout",
     "output_type": "stream",
     "text": [
      "original:\n",
      "33 So gold: http://australianchristianlobby.org/\n",
      "----------------------------------\n",
      "cleaned:\n",
      "33 So gold: \n",
      "##############################################################################\n",
      "original:\n",
      "41 https://www.thebookingbutton.com.au/reservations/MARTINCASHMDIRECT/18172?locale=en&start_date=2013-07-13\n",
      "----------------------------------\n",
      "cleaned:\n",
      "41 \n",
      "##############################################################################\n"
     ]
    }
   ],
   "source": [
    "stringster = 'http'\n",
    "for x, message in enumerate(facebook['message']):\n",
    "    if x < 100 and stringster in str(message):\n",
    "        print \"original:\"\n",
    "        print x,message\n",
    "        print \"----------------------------------\"\n",
    "        print \"cleaned:\"\n",
    "        print x,re.sub(r'https?:\\/\\/.*[\\r\\n]*', '', message, flags=re.MULTILINE)\n",
    "        print \"##############################################################################\""
   ]
  },
  {
   "cell_type": "code",
   "execution_count": 167,
   "metadata": {
    "collapsed": false
   },
   "outputs": [],
   "source": [
    "stringster = 'www'\n",
    "for x, message in enumerate(facebook['message']):\n",
    "    if x < 100:\n",
    "        \n",
    "        message = re.sub(r'https?:\\/\\/.*[\\r\\n]*', '', str(message), flags=re.MULTILINE)\n",
    "        message = re.sub(r'www\\..*[\\s\\r\\n]*', '',str(message), flags=re.MULTILINE)\n",
    "        if stringster in message:\n",
    "            print message"
   ]
  },
  {
   "cell_type": "code",
   "execution_count": 4,
   "metadata": {
    "collapsed": false
   },
   "outputs": [],
   "source": [
    "## REMOVING PHONE NUMBERS _ LEAVE TILL LAST AS OF LESS USE \n",
    "\n",
    "#prog = re.compile('[+()-\\d\\s]{8,}')"
   ]
  },
  {
   "cell_type": "code",
   "execution_count": 388,
   "metadata": {
    "collapsed": false
   },
   "outputs": [],
   "source": [
    "# checking re is OK\n",
    "sep = 'Begin forwarded message'\n",
    "for x, message in enumerate(df['message']):\n",
    "    if x < 1 and re.search(\"On\\s[A-Z][a-z]{2}\\s[0-9]{1,3}[\\s\\S]*\", str(message)):\n",
    "        \n",
    "        \n",
    "        print message\n",
    "        print '------------------------------------------------------------------------------------'\n",
    "        m = re.search(\"(On\\s[A-Z][a-z]{2}\\s[0-9]{1,3}[\\s\\S]*)\", str(message))\n",
    "        print m.group(0)\n",
    "        print '####################################################################################'\n",
    "           # print \"original message:\"\n",
    "            #print message\n",
    "            #print \"----------------------\"\n",
    "            #print \"cleaned message\"\n",
    "            #message = re.sub(r'https?:\\/\\/[\\S]*[\\s\\n\\r]+', ' ', message, flags=re.MULTILINE)\n",
    "            #print re.sub(r'www\\.[\\S]*[\\s\\n\\r]+', ' ', message, flags=re.MULTILINE)\n",
    "            #print \"##################################\""
   ]
  },
  {
   "cell_type": "code",
   "execution_count": 389,
   "metadata": {
    "collapsed": false
   },
   "outputs": [
    {
     "name": "stdout",
     "output_type": "stream",
     "text": [
      "najpierw to chcę do łazienki bo pakowałam paczki i od 30min chcę\n"
     ]
    }
   ],
   "source": [
    "for x, message in enumerate(df['message']):\n",
    "    if x in range(10000, 10001):\n",
    "        print clean_message(message)"
   ]
  },
  {
   "cell_type": "code",
   "execution_count": 2,
   "metadata": {
    "collapsed": false
   },
   "outputs": [],
   "source": [
    "def clean_message(message):\n",
    "    \n",
    "    sep = '\\n--\\n'\n",
    "    \n",
    "    remove_signature = str(message).split(sep,1)[0]\n",
    "    \n",
    "    sep = '----------------------------------------'\n",
    "    \n",
    "    remove_signature = remove_signature.split(sep,1)[0]\n",
    "    \n",
    "    sep = 'Begin forwarded message'\n",
    "    \n",
    "    remove_begin_forwarded = remove_signature.split(sep,1)[0]\n",
    "    \n",
    "    \n",
    "    remove_newlines = re.sub(\"\\n\", \" \", remove_begin_forwarded)\n",
    "    \n",
    "    remove_on = re.sub(\"On\\s[A-Z][a-z]{2}\\s[0-9]{1,3}[\\s\\S]*\", \" \", remove_newlines)\n",
    "    \n",
    "    message_clean_http = re.sub(r'https?:\\/\\/[\\S]*[\\s\\n\\r]+', ' ', remove_on, flags=re.MULTILINE)\n",
    "    message_clean_www = re.sub(r'www\\.[\\S]*[\\s\\n\\r]+', ' ', message_clean_http, flags=re.MULTILINE)\n",
    "    message_clean_iphone = re.sub('Sent from my iPhone.*[\\s\\n\\r]', ' ', message_clean_www, flags=re.MULTILINE)\n",
    "    message_clean_ipad = re.sub(r'Sent from my iPad.*[\\s\\n\\r]', ' ', message_clean_iphone, flags=re.MULTILINE)\n",
    "    message_clean_sony = re.sub(r'Sent from my Sony.*[\\s\\n\\r]', ' ', message_clean_ipad, flags=re.MULTILINE)\n",
    "    message_clean_samsung = re.sub(r'Sent from my Samsung.*[\\s\\n\\r]', ' ', message_clean_sony, flags=re.MULTILINE)\n",
    "    \n",
    "    return message_clean_samsung"
   ]
  },
  {
   "cell_type": "code",
   "execution_count": null,
   "metadata": {
    "collapsed": true
   },
   "outputs": [],
   "source": []
  },
  {
   "cell_type": "code",
   "execution_count": 3,
   "metadata": {
    "collapsed": false
   },
   "outputs": [],
   "source": [
    "cleaned_messages = []\n",
    "for message in df['message']:\n",
    "    cleaned_messages.append(clean_message(message))"
   ]
  },
  {
   "cell_type": "code",
   "execution_count": 225,
   "metadata": {
    "collapsed": true
   },
   "outputs": [],
   "source": [
    "b = [clean_message(message) for message in df['message'].tolist()]"
   ]
  },
  {
   "cell_type": "code",
   "execution_count": 226,
   "metadata": {
    "collapsed": true
   },
   "outputs": [],
   "source": [
    "df['message'] = b"
   ]
  },
  {
   "cell_type": "code",
   "execution_count": 5,
   "metadata": {
    "collapsed": false
   },
   "outputs": [],
   "source": [
    "df.to_csv('all_messages_cleaned.csv',index=False)"
   ]
  },
  {
   "cell_type": "code",
   "execution_count": null,
   "metadata": {
    "collapsed": true
   },
   "outputs": [],
   "source": []
  }
 ],
 "metadata": {
  "anaconda-cloud": {},
  "kernelspec": {
   "display_name": "Python 2",
   "language": "python",
   "name": "python2"
  },
  "language_info": {
   "codemirror_mode": {
    "name": "ipython",
    "version": 2
   },
   "file_extension": ".py",
   "mimetype": "text/x-python",
   "name": "python",
   "nbconvert_exporter": "python",
   "pygments_lexer": "ipython2",
   "version": "2.7.12"
  }
 },
 "nbformat": 4,
 "nbformat_minor": 0
}
