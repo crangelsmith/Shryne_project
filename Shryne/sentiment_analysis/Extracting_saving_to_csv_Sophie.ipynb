{
 "cells": [
  {
   "cell_type": "code",
   "execution_count": null,
   "metadata": {
    "collapsed": true
   },
   "outputs": [],
   "source": [
    "## Extracting the data and saving it as a CSV"
   ]
  },
  {
   "cell_type": "code",
   "execution_count": 2,
   "metadata": {
    "collapsed": false
   },
   "outputs": [
    {
     "name": "stderr",
     "output_type": "stream",
     "text": [
      "/home/alexander/anaconda/lib/python2.7/site-packages/nltk/twitter/__init__.py:20: UserWarning: The twython library has not been installed. Some functionality from the twitter package will not be available.\n",
      "  warnings.warn(\"The twython library has not been installed. \"\n"
     ]
    }
   ],
   "source": [
    "import sys\n",
    "sys.path.append('../sentiment_analysis')\n",
    "\n",
    "# This is another way of doing the above, not sure which is better\n",
    "sys.path.insert(0, '../mining')\n",
    "\n",
    "from nltk import tokenize\n",
    "from nltk.sentiment.vader import SentimentIntensityAnalyzer\n",
    "from vader_sentiment_analysis import SentimentAnalyser\n",
    "import pandas as pd\n",
    "\n",
    "import connector\n",
    "import query"
   ]
  },
  {
   "cell_type": "code",
   "execution_count": 2,
   "metadata": {
    "collapsed": false
   },
   "outputs": [
    {
     "name": "stderr",
     "output_type": "stream",
     "text": [
      "/home/sophie/anaconda3/envs/py27/lib/python2.7/site-packages/IPython/core/interactiveshell.py:2723: DtypeWarning: Columns (0) have mixed types. Specify dtype option on import or set low_memory=False.\n",
      "  interactivity=interactivity, compiler=compiler, result=result)\n"
     ]
    }
   ],
   "source": [
    "df = pd.read_csv(\"../data/SELECT_ALL_FROM_all_messages.csv\", header = 0)"
   ]
  },
  {
   "cell_type": "code",
   "execution_count": 14,
   "metadata": {
    "collapsed": false
   },
   "outputs": [
    {
     "data": {
      "text/plain": [
       "1354178"
      ]
     },
     "execution_count": 14,
     "metadata": {},
     "output_type": "execute_result"
    }
   ],
   "source": [
    "len(df)"
   ]
  },
  {
   "cell_type": "code",
   "execution_count": 16,
   "metadata": {
    "collapsed": false
   },
   "outputs": [
    {
     "data": {
      "text/plain": [
       "['Unnamed: 0',\n",
       " 'user_id',\n",
       " 'contact_id',\n",
       " 'relationship',\n",
       " 'channel',\n",
       " 'sent_at',\n",
       " 'message']"
      ]
     },
     "execution_count": 16,
     "metadata": {},
     "output_type": "execute_result"
    }
   ],
   "source": [
    "list(df)"
   ]
  },
  {
   "cell_type": "code",
   "execution_count": 8,
   "metadata": {
    "collapsed": true
   },
   "outputs": [],
   "source": [
    "df_meta = pd.read_csv(\"../data/SELECT_ALL_FROM_all_messages_metadata.csv\", header = 0)"
   ]
  },
  {
   "cell_type": "code",
   "execution_count": 9,
   "metadata": {
    "collapsed": false
   },
   "outputs": [
    {
     "data": {
      "text/plain": [
       "1070395"
      ]
     },
     "execution_count": 9,
     "metadata": {},
     "output_type": "execute_result"
    }
   ],
   "source": [
    "len(df_meta)"
   ]
  },
  {
   "cell_type": "code",
   "execution_count": 4,
   "metadata": {
    "collapsed": false
   },
   "outputs": [],
   "source": [
    "# Not able to read this in. \n",
    "#df = pd.read_csv(\"../data/all_messages_cleaned.csv\", encoding='utf8', engine='python', usecols = ['user_id'], header = 0)"
   ]
  },
  {
   "cell_type": "code",
   "execution_count": 10,
   "metadata": {
    "collapsed": true
   },
   "outputs": [],
   "source": [
    "df = df.drop(['Unnamed: 0'],axis=1)"
   ]
  },
  {
   "cell_type": "code",
   "execution_count": 2,
   "metadata": {
    "collapsed": false
   },
   "outputs": [
    {
     "name": "stdout",
     "output_type": "stream",
     "text": [
      "We are in!\n"
     ]
    }
   ],
   "source": [
    "import psycopg2\n",
    "from sshtunnel import SSHTunnelForwarder\n",
    "\n",
    "port = 5432\n",
    "remote_bind_address = ('localhost', 5432)\n",
    "local_bind_address = ('localhost', 5432)\n",
    "user_name = 'analytics'\n",
    "dbname = 'dreikanter_production'\n",
    "remote_host = 'dreikanter.production.devguru.co'\n",
    "remote_port = 22\n",
    "conn = None\n",
    "server = None\n",
    "\n",
    "\n",
    "params = {\n",
    "            'database': 'dreikanter_production',\n",
    "            'user': 'analytics',\n",
    "            'host': 'localhost',\n",
    "            'port': 5432\n",
    "        }\n",
    "\n",
    "server = SSHTunnelForwarder((remote_host, remote_port),ssh_username=user_name,\n",
    "                                    local_bind_address=local_bind_address,\n",
    "                                    remote_bind_address=remote_bind_address)\n",
    "server.start()\n",
    "print \"We are in!\"\n",
    "\n",
    "#\"dbname=dreikanter_production user=analytics host = localhost port = 5432\"\n",
    "conn = psycopg2.connect(**params)"
   ]
  },
  {
   "cell_type": "code",
   "execution_count": 20,
   "metadata": {
    "collapsed": true
   },
   "outputs": [],
   "source": [
    "conn.close()\n",
    "server.stop()"
   ]
  },
  {
   "cell_type": "code",
   "execution_count": 3,
   "metadata": {
    "collapsed": false
   },
   "outputs": [
    {
     "name": "stderr",
     "output_type": "stream",
     "text": [
      "2016-08-16 09:55:59,592 | ERROR   | Couldn't open tunnel localhost:5432 <> localhost:5432 might be in use or destination not reachable.\n"
     ]
    }
   ],
   "source": [
    "sql_query = \"\"\"SELECT * FROM all_msgs_tf;\"\"\"\n",
    "\n",
    "dbconnection = connector.ConnectDB()\n",
    "conn = dbconnection.get_connection()\n",
    "q = query.Query(conn, sql_query)\n",
    "query_list = q.get_query_list()\n",
    "query_df = q.get_query_dataframe()\n",
    "#q.write_df_to_csv()\n",
    "\n",
    "#query_df['body'][6:16]\n",
    "#query_df.head(22)"
   ]
  },
  {
   "cell_type": "code",
   "execution_count": null,
   "metadata": {
    "collapsed": true
   },
   "outputs": [],
   "source": []
  },
  {
   "cell_type": "code",
   "execution_count": 81,
   "metadata": {
    "collapsed": false
   },
   "outputs": [
    {
     "data": {
      "text/plain": [
       "(2859488, 7)"
      ]
     },
     "execution_count": 81,
     "metadata": {},
     "output_type": "execute_result"
    }
   ],
   "source": [
    "query_df.shape"
   ]
  },
  {
   "cell_type": "code",
   "execution_count": 94,
   "metadata": {
    "collapsed": false
   },
   "outputs": [],
   "source": [
    "df_no_email = query_df[query_df['channel'] != 'gmail']"
   ]
  },
  {
   "cell_type": "code",
   "execution_count": 83,
   "metadata": {
    "collapsed": false
   },
   "outputs": [
    {
     "data": {
      "text/plain": [
       "(2629679, 7)"
      ]
     },
     "execution_count": 83,
     "metadata": {},
     "output_type": "execute_result"
    }
   ],
   "source": [
    "df_no_email.shape\n",
    "#print query_df[query_df.message.str.contains(\"Land Rover\")]"
   ]
  },
  {
   "cell_type": "code",
   "execution_count": 117,
   "metadata": {
    "collapsed": true
   },
   "outputs": [],
   "source": [
    "df_no_email = df_no_email[df_no_email['message'] != '        ']"
   ]
  },
  {
   "cell_type": "code",
   "execution_count": 118,
   "metadata": {
    "collapsed": false
   },
   "outputs": [
    {
     "data": {
      "text/plain": [
       "(2517804, 7)"
      ]
     },
     "execution_count": 118,
     "metadata": {},
     "output_type": "execute_result"
    }
   ],
   "source": [
    "df_no_email.shape"
   ]
  },
  {
   "cell_type": "code",
   "execution_count": 119,
   "metadata": {
    "collapsed": false
   },
   "outputs": [],
   "source": [
    "b = [len(str(x).split()) for x in df_no_email['message']]"
   ]
  },
  {
   "cell_type": "code",
   "execution_count": null,
   "metadata": {
    "collapsed": true
   },
   "outputs": [],
   "source": []
  },
  {
   "cell_type": "code",
   "execution_count": 125,
   "metadata": {
    "collapsed": false
   },
   "outputs": [],
   "source": [
    "df_no_email['word_count'] = b"
   ]
  },
  {
   "cell_type": "code",
   "execution_count": 167,
   "metadata": {
    "collapsed": false
   },
   "outputs": [
    {
     "data": {
      "text/plain": [
       "292013"
      ]
     },
     "execution_count": 167,
     "metadata": {},
     "output_type": "execute_result"
    }
   ],
   "source": [
    "df_no_email[''].isnull().sum()"
   ]
  },
  {
   "cell_type": "code",
   "execution_count": 4,
   "metadata": {
    "collapsed": false
   },
   "outputs": [
    {
     "ename": "NameError",
     "evalue": "name 'df_no_email' is not defined",
     "output_type": "error",
     "traceback": [
      "\u001b[0;31m---------------------------------------------------------------------------\u001b[0m",
      "\u001b[0;31mNameError\u001b[0m                                 Traceback (most recent call last)",
      "\u001b[0;32m<ipython-input-4-d8f2ffbf4fb6>\u001b[0m in \u001b[0;36m<module>\u001b[0;34m()\u001b[0m\n\u001b[0;32m----> 1\u001b[0;31m \u001b[0mdf_no_email\u001b[0m\u001b[0;34m[\u001b[0m\u001b[0mdf_no_email\u001b[0m\u001b[0;34m[\u001b[0m\u001b[0;34m'positive'\u001b[0m\u001b[0;34m]\u001b[0m\u001b[0;34m.\u001b[0m\u001b[0misnull\u001b[0m\u001b[0;34m(\u001b[0m\u001b[0;34m)\u001b[0m\u001b[0;34m]\u001b[0m\u001b[0;34m\u001b[0m\u001b[0m\n\u001b[0m",
      "\u001b[0;31mNameError\u001b[0m: name 'df_no_email' is not defined"
     ]
    }
   ],
   "source": [
    "df_no_email[df_no_email['positive'].isnull()]"
   ]
  },
  {
   "cell_type": "code",
   "execution_count": 130,
   "metadata": {
    "collapsed": true
   },
   "outputs": [],
   "source": [
    "sentiment_analyser = SentimentAnalyser()\n",
    "result = sentiment_analyser.run_vader(df_no_email, 'message')"
   ]
  },
  {
   "cell_type": "code",
   "execution_count": 175,
   "metadata": {
    "collapsed": false
   },
   "outputs": [
    {
     "data": {
      "text/html": [
       "<div>\n",
       "<table border=\"1\" class=\"dataframe\">\n",
       "  <thead>\n",
       "    <tr style=\"text-align: right;\">\n",
       "      <th></th>\n",
       "      <th>user_id</th>\n",
       "      <th>contact_id</th>\n",
       "      <th>relationship</th>\n",
       "      <th>channel</th>\n",
       "      <th>sent_at</th>\n",
       "      <th>message</th>\n",
       "      <th>to_from</th>\n",
       "      <th>word_count</th>\n",
       "      <th>positive</th>\n",
       "      <th>negative</th>\n",
       "      <th>neutral</th>\n",
       "      <th>compound</th>\n",
       "    </tr>\n",
       "  </thead>\n",
       "  <tbody>\n",
       "    <tr>\n",
       "      <th>31</th>\n",
       "      <td>10</td>\n",
       "      <td>35</td>\n",
       "      <td>Ex</td>\n",
       "      <td>text_message</td>\n",
       "      <td>2011-02-18 06:50:35</td>\n",
       "      <td>Ill be there in 3</td>\n",
       "      <td>False</td>\n",
       "      <td>5</td>\n",
       "      <td>0.106</td>\n",
       "      <td>0.243</td>\n",
       "      <td>0.652</td>\n",
       "      <td>-0.1725</td>\n",
       "    </tr>\n",
       "    <tr>\n",
       "      <th>32</th>\n",
       "      <td>10</td>\n",
       "      <td>35</td>\n",
       "      <td>Ex</td>\n",
       "      <td>text_message</td>\n",
       "      <td>2011-02-18 06:50:47</td>\n",
       "      <td>hey I'm in the theater</td>\n",
       "      <td>False</td>\n",
       "      <td>5</td>\n",
       "      <td>0.280</td>\n",
       "      <td>0.164</td>\n",
       "      <td>0.556</td>\n",
       "      <td>0.5788</td>\n",
       "    </tr>\n",
       "    <tr>\n",
       "      <th>35</th>\n",
       "      <td>10</td>\n",
       "      <td>35</td>\n",
       "      <td>Ex</td>\n",
       "      <td>text_message</td>\n",
       "      <td>2011-02-22 02:22:54</td>\n",
       "      <td>:)</td>\n",
       "      <td>False</td>\n",
       "      <td>1</td>\n",
       "      <td>0.727</td>\n",
       "      <td>0.000</td>\n",
       "      <td>0.273</td>\n",
       "      <td>0.7906</td>\n",
       "    </tr>\n",
       "    <tr>\n",
       "      <th>37</th>\n",
       "      <td>10</td>\n",
       "      <td>35</td>\n",
       "      <td>Ex</td>\n",
       "      <td>text_message</td>\n",
       "      <td>2011-03-04 07:08:49</td>\n",
       "      <td>Hey! How was the trip?</td>\n",
       "      <td>False</td>\n",
       "      <td>5</td>\n",
       "      <td>0.480</td>\n",
       "      <td>0.000</td>\n",
       "      <td>0.520</td>\n",
       "      <td>0.9399</td>\n",
       "    </tr>\n",
       "    <tr>\n",
       "      <th>38</th>\n",
       "      <td>10</td>\n",
       "      <td>35</td>\n",
       "      <td>Ex</td>\n",
       "      <td>text_message</td>\n",
       "      <td>2011-03-04 08:17:59</td>\n",
       "      <td>great! still feels like I'm recovering, though!</td>\n",
       "      <td>False</td>\n",
       "      <td>7</td>\n",
       "      <td>0.129</td>\n",
       "      <td>0.000</td>\n",
       "      <td>0.871</td>\n",
       "      <td>0.5487</td>\n",
       "    </tr>\n",
       "  </tbody>\n",
       "</table>\n",
       "</div>"
      ],
      "text/plain": [
       "    user_id  contact_id relationship       channel             sent_at  \\\n",
       "31       10          35           Ex  text_message 2011-02-18 06:50:35   \n",
       "32       10          35           Ex  text_message 2011-02-18 06:50:47   \n",
       "35       10          35           Ex  text_message 2011-02-22 02:22:54   \n",
       "37       10          35           Ex  text_message 2011-03-04 07:08:49   \n",
       "38       10          35           Ex  text_message 2011-03-04 08:17:59   \n",
       "\n",
       "                                            message to_from  word_count  \\\n",
       "31                                Ill be there in 3   False           5   \n",
       "32                           hey I'm in the theater   False           5   \n",
       "35                                               :)   False           1   \n",
       "37                           Hey! How was the trip?   False           5   \n",
       "38  great! still feels like I'm recovering, though!   False           7   \n",
       "\n",
       "    positive  negative  neutral  compound  \n",
       "31     0.106     0.243    0.652   -0.1725  \n",
       "32     0.280     0.164    0.556    0.5788  \n",
       "35     0.727     0.000    0.273    0.7906  \n",
       "37     0.480     0.000    0.520    0.9399  \n",
       "38     0.129     0.000    0.871    0.5487  "
      ]
     },
     "execution_count": 175,
     "metadata": {},
     "output_type": "execute_result"
    }
   ],
   "source": [
    "result.head()"
   ]
  },
  {
   "cell_type": "code",
   "execution_count": 3,
   "metadata": {
    "collapsed": false
   },
   "outputs": [
    {
     "ename": "NameError",
     "evalue": "name 'result' is not defined",
     "output_type": "error",
     "traceback": [
      "\u001b[0;31m---------------------------------------------------------------------------\u001b[0m",
      "\u001b[0;31mNameError\u001b[0m                                 Traceback (most recent call last)",
      "\u001b[0;32m<ipython-input-3-28fc52de8844>\u001b[0m in \u001b[0;36m<module>\u001b[0;34m()\u001b[0m\n\u001b[0;32m----> 1\u001b[0;31m \u001b[0mresult\u001b[0m\u001b[0;34m.\u001b[0m\u001b[0mto_csv\u001b[0m\u001b[0;34m(\u001b[0m\u001b[0;34m'all_messages_no_gmail_tf_wc_sentiment.csv'\u001b[0m\u001b[0;34m,\u001b[0m \u001b[0mencoding\u001b[0m\u001b[0;34m=\u001b[0m\u001b[0;34m'utf-8'\u001b[0m\u001b[0;34m,\u001b[0m \u001b[0mindex\u001b[0m\u001b[0;34m=\u001b[0m\u001b[0mFalse\u001b[0m\u001b[0;34m)\u001b[0m\u001b[0;34m\u001b[0m\u001b[0m\n\u001b[0m",
      "\u001b[0;31mNameError\u001b[0m: name 'result' is not defined"
     ]
    }
   ],
   "source": [
    "result.to_csv('all_messages_no_gmail_tf_wc_sentiment.csv', encoding='utf-8', index=False)"
   ]
  },
  {
   "cell_type": "code",
   "execution_count": 4,
   "metadata": {
    "collapsed": false
   },
   "outputs": [
    {
     "name": "stderr",
     "output_type": "stream",
     "text": [
      "/home/alexander/anaconda/lib/python2.7/site-packages/pandas/io/parsers.py:1170: DtypeWarning: Columns (0,1,6) have mixed types. Specify dtype option on import or set low_memory=False.\n",
      "  data = self._reader.read(nrows)\n"
     ]
    }
   ],
   "source": [
    "df = pd.read_csv('./all_messages_no_gmail_tf_wc_sentiment.csv', header=0)"
   ]
  },
  {
   "cell_type": "code",
   "execution_count": 5,
   "metadata": {
    "collapsed": false
   },
   "outputs": [
    {
     "data": {
      "text/html": [
       "<div>\n",
       "<table border=\"1\" class=\"dataframe\">\n",
       "  <thead>\n",
       "    <tr style=\"text-align: right;\">\n",
       "      <th></th>\n",
       "      <th>user_id</th>\n",
       "      <th>contact_id</th>\n",
       "      <th>relationship</th>\n",
       "      <th>channel</th>\n",
       "      <th>sent_at</th>\n",
       "      <th>message</th>\n",
       "      <th>to_from</th>\n",
       "      <th>word_count</th>\n",
       "      <th>positive</th>\n",
       "      <th>negative</th>\n",
       "      <th>neutral</th>\n",
       "      <th>compound</th>\n",
       "    </tr>\n",
       "  </thead>\n",
       "  <tbody>\n",
       "    <tr>\n",
       "      <th>0</th>\n",
       "      <td>10</td>\n",
       "      <td>35</td>\n",
       "      <td>Ex</td>\n",
       "      <td>text_message</td>\n",
       "      <td>2011-02-18 06:50:35</td>\n",
       "      <td>Ill be there in 3</td>\n",
       "      <td>False</td>\n",
       "      <td>5</td>\n",
       "      <td>0.106</td>\n",
       "      <td>0.243</td>\n",
       "      <td>0.652</td>\n",
       "      <td>-0.1725</td>\n",
       "    </tr>\n",
       "    <tr>\n",
       "      <th>1</th>\n",
       "      <td>10</td>\n",
       "      <td>35</td>\n",
       "      <td>Ex</td>\n",
       "      <td>text_message</td>\n",
       "      <td>2011-02-18 06:50:47</td>\n",
       "      <td>hey I'm in the theater</td>\n",
       "      <td>False</td>\n",
       "      <td>5</td>\n",
       "      <td>0.280</td>\n",
       "      <td>0.164</td>\n",
       "      <td>0.556</td>\n",
       "      <td>0.5788</td>\n",
       "    </tr>\n",
       "    <tr>\n",
       "      <th>2</th>\n",
       "      <td>10</td>\n",
       "      <td>35</td>\n",
       "      <td>Ex</td>\n",
       "      <td>text_message</td>\n",
       "      <td>2011-02-22 02:22:54</td>\n",
       "      <td>:)</td>\n",
       "      <td>False</td>\n",
       "      <td>1</td>\n",
       "      <td>0.727</td>\n",
       "      <td>0.000</td>\n",
       "      <td>0.273</td>\n",
       "      <td>0.7906</td>\n",
       "    </tr>\n",
       "    <tr>\n",
       "      <th>3</th>\n",
       "      <td>10</td>\n",
       "      <td>35</td>\n",
       "      <td>Ex</td>\n",
       "      <td>text_message</td>\n",
       "      <td>2011-03-04 07:08:49</td>\n",
       "      <td>Hey! How was the trip?</td>\n",
       "      <td>False</td>\n",
       "      <td>5</td>\n",
       "      <td>0.480</td>\n",
       "      <td>0.000</td>\n",
       "      <td>0.520</td>\n",
       "      <td>0.9399</td>\n",
       "    </tr>\n",
       "    <tr>\n",
       "      <th>4</th>\n",
       "      <td>10</td>\n",
       "      <td>35</td>\n",
       "      <td>Ex</td>\n",
       "      <td>text_message</td>\n",
       "      <td>2011-03-04 08:17:59</td>\n",
       "      <td>great! still feels like I'm recovering, though!</td>\n",
       "      <td>False</td>\n",
       "      <td>7</td>\n",
       "      <td>0.129</td>\n",
       "      <td>0.000</td>\n",
       "      <td>0.871</td>\n",
       "      <td>0.5487</td>\n",
       "    </tr>\n",
       "  </tbody>\n",
       "</table>\n",
       "</div>"
      ],
      "text/plain": [
       "  user_id contact_id relationship       channel              sent_at  \\\n",
       "0      10         35           Ex  text_message  2011-02-18 06:50:35   \n",
       "1      10         35           Ex  text_message  2011-02-18 06:50:47   \n",
       "2      10         35           Ex  text_message  2011-02-22 02:22:54   \n",
       "3      10         35           Ex  text_message  2011-03-04 07:08:49   \n",
       "4      10         35           Ex  text_message  2011-03-04 08:17:59   \n",
       "\n",
       "                                           message to_from  word_count  \\\n",
       "0                                Ill be there in 3   False           5   \n",
       "1                           hey I'm in the theater   False           5   \n",
       "2                                               :)   False           1   \n",
       "3                           Hey! How was the trip?   False           5   \n",
       "4  great! still feels like I'm recovering, though!   False           7   \n",
       "\n",
       "   positive  negative  neutral  compound  \n",
       "0     0.106     0.243    0.652   -0.1725  \n",
       "1     0.280     0.164    0.556    0.5788  \n",
       "2     0.727     0.000    0.273    0.7906  \n",
       "3     0.480     0.000    0.520    0.9399  \n",
       "4     0.129     0.000    0.871    0.5487  "
      ]
     },
     "execution_count": 5,
     "metadata": {},
     "output_type": "execute_result"
    }
   ],
   "source": [
    "df.head()"
   ]
  },
  {
   "cell_type": "code",
   "execution_count": null,
   "metadata": {
    "collapsed": true
   },
   "outputs": [],
   "source": [
    "df['message'] = str(df['message'])"
   ]
  },
  {
   "cell_type": "code",
   "execution_count": 31,
   "metadata": {
    "collapsed": false
   },
   "outputs": [],
   "source": [
    "first_10 = df[1:10]\n",
    "first_10 = first_10.drop(['positive'],axis=1)\n",
    "first_10 = first_10.drop(['negative'],axis=1)\n",
    "first_10 = first_10.drop(['neutral'],axis=1)\n",
    "first_10 = first_10.drop(['compound'],axis=1)"
   ]
  },
  {
   "cell_type": "code",
   "execution_count": 10,
   "metadata": {
    "collapsed": true
   },
   "outputs": [],
   "source": [
    "sentiment_analyser = SentimentAnalyser()"
   ]
  },
  {
   "cell_type": "code",
   "execution_count": 32,
   "metadata": {
    "collapsed": false
   },
   "outputs": [],
   "source": [
    "check_10 = sentiment_analyser.run_vader(first_10, 'message')"
   ]
  },
  {
   "cell_type": "code",
   "execution_count": 33,
   "metadata": {
    "collapsed": false
   },
   "outputs": [
    {
     "data": {
      "text/html": [
       "<div>\n",
       "<table border=\"1\" class=\"dataframe\">\n",
       "  <thead>\n",
       "    <tr style=\"text-align: right;\">\n",
       "      <th></th>\n",
       "      <th>user_id</th>\n",
       "      <th>contact_id</th>\n",
       "      <th>relationship</th>\n",
       "      <th>channel</th>\n",
       "      <th>sent_at</th>\n",
       "      <th>message</th>\n",
       "      <th>to_from</th>\n",
       "      <th>word_count</th>\n",
       "      <th>positive</th>\n",
       "      <th>negative</th>\n",
       "      <th>neutral</th>\n",
       "      <th>compound</th>\n",
       "    </tr>\n",
       "  </thead>\n",
       "  <tbody>\n",
       "    <tr>\n",
       "      <th>1</th>\n",
       "      <td>10</td>\n",
       "      <td>35</td>\n",
       "      <td>Ex</td>\n",
       "      <td>text_message</td>\n",
       "      <td>2011-02-18 06:50:47</td>\n",
       "      <td>hey I'm in the theater</td>\n",
       "      <td>False</td>\n",
       "      <td>5</td>\n",
       "      <td>1.000</td>\n",
       "      <td>0</td>\n",
       "      <td>0.000</td>\n",
       "      <td>0.4588</td>\n",
       "    </tr>\n",
       "    <tr>\n",
       "      <th>2</th>\n",
       "      <td>10</td>\n",
       "      <td>35</td>\n",
       "      <td>Ex</td>\n",
       "      <td>text_message</td>\n",
       "      <td>2011-02-22 02:22:54</td>\n",
       "      <td>:)</td>\n",
       "      <td>False</td>\n",
       "      <td>1</td>\n",
       "      <td>0.000</td>\n",
       "      <td>0</td>\n",
       "      <td>1.000</td>\n",
       "      <td>0.0000</td>\n",
       "    </tr>\n",
       "    <tr>\n",
       "      <th>3</th>\n",
       "      <td>10</td>\n",
       "      <td>35</td>\n",
       "      <td>Ex</td>\n",
       "      <td>text_message</td>\n",
       "      <td>2011-03-04 07:08:49</td>\n",
       "      <td>Hey! How was the trip?</td>\n",
       "      <td>False</td>\n",
       "      <td>5</td>\n",
       "      <td>0.590</td>\n",
       "      <td>0</td>\n",
       "      <td>0.410</td>\n",
       "      <td>0.8011</td>\n",
       "    </tr>\n",
       "    <tr>\n",
       "      <th>4</th>\n",
       "      <td>10</td>\n",
       "      <td>35</td>\n",
       "      <td>Ex</td>\n",
       "      <td>text_message</td>\n",
       "      <td>2011-03-04 08:17:59</td>\n",
       "      <td>great! still feels like I'm recovering, though!</td>\n",
       "      <td>False</td>\n",
       "      <td>7</td>\n",
       "      <td>0.448</td>\n",
       "      <td>0</td>\n",
       "      <td>0.552</td>\n",
       "      <td>0.7574</td>\n",
       "    </tr>\n",
       "    <tr>\n",
       "      <th>5</th>\n",
       "      <td>10</td>\n",
       "      <td>35</td>\n",
       "      <td>Ex</td>\n",
       "      <td>text_message</td>\n",
       "      <td>2011-03-04 08:26:09</td>\n",
       "      <td>Awesome! Well, let's hang out when you return ...</td>\n",
       "      <td>False</td>\n",
       "      <td>10</td>\n",
       "      <td>0.259</td>\n",
       "      <td>0</td>\n",
       "      <td>0.741</td>\n",
       "      <td>0.5983</td>\n",
       "    </tr>\n",
       "    <tr>\n",
       "      <th>6</th>\n",
       "      <td>10</td>\n",
       "      <td>35</td>\n",
       "      <td>Ex</td>\n",
       "      <td>text_message</td>\n",
       "      <td>2011-03-04 09:44:44</td>\n",
       "      <td>definitely! don't spend toooo much time catalo...</td>\n",
       "      <td>False</td>\n",
       "      <td>16</td>\n",
       "      <td>0.076</td>\n",
       "      <td>0</td>\n",
       "      <td>0.924</td>\n",
       "      <td>0.2263</td>\n",
       "    </tr>\n",
       "    <tr>\n",
       "      <th>7</th>\n",
       "      <td>10</td>\n",
       "      <td>35</td>\n",
       "      <td>Ex</td>\n",
       "      <td>text_message</td>\n",
       "      <td>2011-03-04 09:53:23</td>\n",
       "      <td>Oh, there's something else altogether- I'll em...</td>\n",
       "      <td>False</td>\n",
       "      <td>24</td>\n",
       "      <td>0.244</td>\n",
       "      <td>0</td>\n",
       "      <td>0.756</td>\n",
       "      <td>0.6369</td>\n",
       "    </tr>\n",
       "    <tr>\n",
       "      <th>8</th>\n",
       "      <td>10</td>\n",
       "      <td>35</td>\n",
       "      <td>Ex</td>\n",
       "      <td>text_message</td>\n",
       "      <td>2011-03-13 01:16:55</td>\n",
       "      <td>Hey, I'm finally on break and would love to ha...</td>\n",
       "      <td>False</td>\n",
       "      <td>14</td>\n",
       "      <td>0.262</td>\n",
       "      <td>0</td>\n",
       "      <td>0.738</td>\n",
       "      <td>0.4926</td>\n",
       "    </tr>\n",
       "    <tr>\n",
       "      <th>9</th>\n",
       "      <td>10</td>\n",
       "      <td>35</td>\n",
       "      <td>Ex</td>\n",
       "      <td>text_message</td>\n",
       "      <td>2011-03-13 01:28:11</td>\n",
       "      <td>hey! i was just thinking about you. when's goo...</td>\n",
       "      <td>False</td>\n",
       "      <td>11</td>\n",
       "      <td>NaN</td>\n",
       "      <td>NaN</td>\n",
       "      <td>NaN</td>\n",
       "      <td>NaN</td>\n",
       "    </tr>\n",
       "  </tbody>\n",
       "</table>\n",
       "</div>"
      ],
      "text/plain": [
       "  user_id contact_id relationship       channel              sent_at  \\\n",
       "1      10         35           Ex  text_message  2011-02-18 06:50:47   \n",
       "2      10         35           Ex  text_message  2011-02-22 02:22:54   \n",
       "3      10         35           Ex  text_message  2011-03-04 07:08:49   \n",
       "4      10         35           Ex  text_message  2011-03-04 08:17:59   \n",
       "5      10         35           Ex  text_message  2011-03-04 08:26:09   \n",
       "6      10         35           Ex  text_message  2011-03-04 09:44:44   \n",
       "7      10         35           Ex  text_message  2011-03-04 09:53:23   \n",
       "8      10         35           Ex  text_message  2011-03-13 01:16:55   \n",
       "9      10         35           Ex  text_message  2011-03-13 01:28:11   \n",
       "\n",
       "                                             message to_from  word_count  \\\n",
       "1                             hey I'm in the theater   False           5   \n",
       "2                                                 :)   False           1   \n",
       "3                             Hey! How was the trip?   False           5   \n",
       "4    great! still feels like I'm recovering, though!   False           7   \n",
       "5  Awesome! Well, let's hang out when you return ...   False          10   \n",
       "6  definitely! don't spend toooo much time catalo...   False          16   \n",
       "7  Oh, there's something else altogether- I'll em...   False          24   \n",
       "8  Hey, I'm finally on break and would love to ha...   False          14   \n",
       "9  hey! i was just thinking about you. when's goo...   False          11   \n",
       "\n",
       "   positive  negative  neutral  compound  \n",
       "1     1.000         0    0.000    0.4588  \n",
       "2     0.000         0    1.000    0.0000  \n",
       "3     0.590         0    0.410    0.8011  \n",
       "4     0.448         0    0.552    0.7574  \n",
       "5     0.259         0    0.741    0.5983  \n",
       "6     0.076         0    0.924    0.2263  \n",
       "7     0.244         0    0.756    0.6369  \n",
       "8     0.262         0    0.738    0.4926  \n",
       "9       NaN       NaN      NaN       NaN  "
      ]
     },
     "execution_count": 33,
     "metadata": {},
     "output_type": "execute_result"
    }
   ],
   "source": [
    "check_10"
   ]
  },
  {
   "cell_type": "code",
   "execution_count": 21,
   "metadata": {
    "collapsed": false
   },
   "outputs": [
    {
     "data": {
      "text/plain": [
       "'i zacz\\xc4\\x85\\xc5\\x82 za mn\\xc4\\x85 i\\xc5\\x9b\\xc4\\x87'"
      ]
     },
     "execution_count": 21,
     "metadata": {},
     "output_type": "execute_result"
    }
   ],
   "source": [
    "df['message'][10019]"
   ]
  },
  {
   "cell_type": "code",
   "execution_count": 22,
   "metadata": {
    "collapsed": false
   },
   "outputs": [
    {
     "data": {
      "text/plain": [
       "{'compound': 0.0, 'neg': 0.0, 'neu': 1.0, 'pos': 0.0}"
      ]
     },
     "execution_count": 22,
     "metadata": {},
     "output_type": "execute_result"
    }
   ],
   "source": [
    "sentiment_analyser.ss.polarity_scores(df['message'][10019])"
   ]
  },
  {
   "cell_type": "code",
   "execution_count": 30,
   "metadata": {
    "collapsed": false
   },
   "outputs": [
    {
     "data": {
      "text/plain": [
       "'\\xe2\\x98\\xba'"
      ]
     },
     "execution_count": 30,
     "metadata": {},
     "output_type": "execute_result"
    }
   ],
   "source": [
    "\"☺\""
   ]
  },
  {
   "cell_type": "code",
   "execution_count": 44,
   "metadata": {
    "collapsed": false
   },
   "outputs": [
    {
     "data": {
      "text/plain": [
       "{'compound': 0.0, 'neg': 0.0, 'neu': 1.0, 'pos': 0.0}"
      ]
     },
     "execution_count": 44,
     "metadata": {},
     "output_type": "execute_result"
    }
   ],
   "source": [
    "sentiment_analyser.ss.polarity_scores(u\"\\u263A\")"
   ]
  },
  {
   "cell_type": "code",
   "execution_count": 35,
   "metadata": {
    "collapsed": false
   },
   "outputs": [
    {
     "data": {
      "text/plain": [
       "{'compound': 0.8011, 'neg': 0.0, 'neu': 0.41, 'pos': 0.59}"
      ]
     },
     "execution_count": 35,
     "metadata": {},
     "output_type": "execute_result"
    }
   ],
   "source": [
    "sentiment_analyser.ss.polarity_scores(\"great! still feels like I'm recovering, though!\")"
   ]
  },
  {
   "cell_type": "code",
   "execution_count": null,
   "metadata": {
    "collapsed": true
   },
   "outputs": [],
   "source": [
    "for i rows in df.iterrows()"
   ]
  }
 ],
 "metadata": {
  "anaconda-cloud": {},
  "kernelspec": {
   "display_name": "Python [Root]",
   "language": "python",
   "name": "Python [Root]"
  },
  "language_info": {
   "codemirror_mode": {
    "name": "ipython",
    "version": 3
   },
   "file_extension": ".py",
   "mimetype": "text/x-python",
   "name": "python",
   "nbconvert_exporter": "python",
   "pygments_lexer": "ipython3",
   "version": "3.5.2"
  }
 },
 "nbformat": 4,
 "nbformat_minor": 0
}
