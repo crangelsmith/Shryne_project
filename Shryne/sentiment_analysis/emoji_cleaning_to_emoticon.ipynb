{
 "cells": [
  {
   "cell_type": "code",
   "execution_count": 61,
   "metadata": {
    "collapsed": false
   },
   "outputs": [],
   "source": [
    "import pandas as pd\n",
    "import pickle"
   ]
  },
  {
   "cell_type": "code",
   "execution_count": 2,
   "metadata": {
    "collapsed": true
   },
   "outputs": [],
   "source": [
    "emoji_json = pd.read_json('../data/emoji.json') ## save them in /data of the shryne project"
   ]
  },
  {
   "cell_type": "code",
   "execution_count": null,
   "metadata": {
    "collapsed": false
   },
   "outputs": [],
   "source": []
  },
  {
   "cell_type": "code",
   "execution_count": 7,
   "metadata": {
    "collapsed": false
   },
   "outputs": [],
   "source": [
    "emoji_json.loc[2,'emoticons'] = emoji_json.loc[3,'emoticons'] # duplicating happy"
   ]
  },
  {
   "cell_type": "code",
   "execution_count": 9,
   "metadata": {
    "collapsed": true
   },
   "outputs": [],
   "source": [
    "emoji_json.loc[6,'emoticons'] = emoji_json.loc[9,'emoticons'] # duplicating kisses\n",
    "emoji_json.loc[7,'emoticons'] = emoji_json.loc[9,'emoticons'] # duplicating kisses\n",
    "emoji_json.loc[8,'emoticons'] = emoji_json.loc[9,'emoticons'] # duplicating kisses\n",
    "emoji_json.loc[10,'emoticons'] = emoji_json.loc[9,'emoticons'] # duplicating kisses"
   ]
  },
  {
   "cell_type": "code",
   "execution_count": 12,
   "metadata": {
    "collapsed": true
   },
   "outputs": [],
   "source": [
    "emoji_json.loc[15,'emoticons'] = emoji_json.loc[3,'emoticons'] # duplicating grinning"
   ]
  },
  {
   "cell_type": "code",
   "execution_count": 14,
   "metadata": {
    "collapsed": true
   },
   "outputs": [],
   "source": [
    "emoji_json.loc[19,'emoticons'] = emoji_json.loc[21,'emoticons'] # duplicating sad"
   ]
  },
  {
   "cell_type": "code",
   "execution_count": 18,
   "metadata": {
    "collapsed": false
   },
   "outputs": [],
   "source": [
    "emoji_json.loc[25,'emoticons'] = emoji_json.loc[19,'emoticons'] # duplicating disappointed"
   ]
  },
  {
   "cell_type": "code",
   "execution_count": 23,
   "metadata": {
    "collapsed": false
   },
   "outputs": [],
   "source": [
    "emoji_json_no_nan = emoji_json.dropna()"
   ]
  },
  {
   "cell_type": "code",
   "execution_count": 25,
   "metadata": {
    "collapsed": false
   },
   "outputs": [],
   "source": [
    "vader_lexicon = pd.read_csv('../data/vader_lexicon.txt', delimiter='\\t', names = ['emoticon','sentiment','to_drop','drop'])"
   ]
  },
  {
   "cell_type": "code",
   "execution_count": 30,
   "metadata": {
    "collapsed": false
   },
   "outputs": [
    {
     "name": "stdout",
     "output_type": "stream",
     "text": [
      "37\n"
     ]
    }
   ],
   "source": [
    "print len(emoji_json_no_nan)"
   ]
  },
  {
   "cell_type": "code",
   "execution_count": 39,
   "metadata": {
    "collapsed": false
   },
   "outputs": [],
   "source": [
    "emoji_json_no_nan.index = range(len(emoji_json_no_nan))"
   ]
  },
  {
   "cell_type": "code",
   "execution_count": 55,
   "metadata": {
    "collapsed": false
   },
   "outputs": [
    {
     "name": "stderr",
     "output_type": "stream",
     "text": [
      "/home/alexander/anaconda/lib/python2.7/site-packages/ipykernel/__main__.py:6: UnicodeWarning: Unicode equal comparison failed to convert both arguments to Unicode - interpreting them as being unequal\n"
     ]
    },
    {
     "name": "stdout",
     "output_type": "stream",
     "text": [
      "😄 =-D\n",
      "😄 =D\n",
      "😄 :-D\n",
      "😄 :D\n",
      "😃 =]\n",
      "😃 =)\n",
      "😃 :-)\n",
      "😃 :]\n",
      "😃 :)\n",
      "😉 ;-]\n",
      "😉 ;-)\n",
      "😉 ;D\n",
      "😉 ;]\n",
      "😉 ;)\n",
      "😍 :-*\n",
      "😍 :*\n",
      "😘 :-*\n",
      "😘 :*\n",
      "😚 :-*\n",
      "😚 :*\n",
      "😗 :-*\n",
      "😗 :*\n",
      "😙 :-*\n",
      "😙 :*\n",
      "😜 ;d\n",
      "😝 x-d\n",
      "😝 x-d\n",
      "😝 x-p\n",
      "😝 x-p\n",
      "😛 =-d\n",
      "😛 =d\n",
      "😛 =p\n",
      "😛 :-d\n",
      "😛 :-p\n",
      "😛 :-p\n",
      "😛 :d\n",
      "😛 :p\n",
      "😛 :p\n",
      "😒 :s\n",
      "😒 :$\n",
      "😞 :'-(\n",
      "😞 :'(\n",
      "😢 :'-(\n",
      "😢 :'(\n",
      "😂 :'-)\n",
      "😂 :')\n",
      "😥 :'-(\n",
      "😥 :'(\n",
      "😠 >:-(\n",
      "😠 >:[\n",
      "😠 >:(\n",
      "😡 :@\n",
      "😎 8)\n",
      "😦 :-[\n",
      "😦 :-(\n",
      "😦 :[\n",
      "😦 :(\n",
      "😮 :-o\n",
      "😮 :o\n",
      "😐 =|\n",
      "😐 :-|\n",
      "😐 :|\n",
      "😕 =\\\n",
      "😕 =/\n",
      "😕 :-\\\n",
      "😕 :-/\n",
      "😕 :\\\n",
      "😕 :/\n",
      "😇 0:-)\n",
      "😇 0:)\n",
      "😇 o:-)\n",
      "😇 o:)\n",
      "👨 =-3\n",
      "👨 =3\n",
      "👨 :3\n",
      "❤️ <3\n",
      "💔 </3\n"
     ]
    }
   ],
   "source": [
    "emoji_to_emoticon = {} # dictionary of emojis to emoticons to apply to text data\n",
    "\n",
    "for x,emoticon_list in enumerate(emoji_json_no_nan['emoticons']):\n",
    "    for emoticon_json in reversed(emoticon_list):\n",
    "        for emoticon_vader in vader_lexicon['emoticon']:\n",
    "            if emoticon_json == emoticon_vader:\n",
    "                print emoji_json_no_nan.loc[x,'emoji'], emoticon_json\n",
    "                emoji_to_emoticon[emoji_json_no_nan.loc[x,'emoji']] = emoticon_json\n",
    "                \n",
    "            \n",
    "        \n",
    "                \n",
    "                \n",
    "                \n",
    "                \n",
    "    \n",
    "        \n",
    "    "
   ]
  },
  {
   "cell_type": "code",
   "execution_count": 59,
   "metadata": {
    "collapsed": false
   },
   "outputs": [
    {
     "data": {
      "text/plain": [
       "{u'\\u2764\\ufe0f': u'<3',\n",
       " u'\\U0001f468': u':3',\n",
       " u'\\U0001f494': u'</3',\n",
       " u'\\U0001f602': u\":')\",\n",
       " u'\\U0001f603': u':)',\n",
       " u'\\U0001f604': u':D',\n",
       " u'\\U0001f607': u'o:)',\n",
       " u'\\U0001f609': u';)',\n",
       " u'\\U0001f60d': u':*',\n",
       " u'\\U0001f60e': u'8)',\n",
       " u'\\U0001f610': u':|',\n",
       " u'\\U0001f612': u':$',\n",
       " u'\\U0001f615': u':/',\n",
       " u'\\U0001f617': u':*',\n",
       " u'\\U0001f618': u':*',\n",
       " u'\\U0001f619': u':*',\n",
       " u'\\U0001f61a': u':*',\n",
       " u'\\U0001f61b': u':p',\n",
       " u'\\U0001f61c': u';d',\n",
       " u'\\U0001f61d': u'x-p',\n",
       " u'\\U0001f61e': u\":'(\",\n",
       " u'\\U0001f620': u'>:(',\n",
       " u'\\U0001f621': u':@',\n",
       " u'\\U0001f622': u\":'(\",\n",
       " u'\\U0001f625': u\":'(\",\n",
       " u'\\U0001f626': u':(',\n",
       " u'\\U0001f62e': u':o'}"
      ]
     },
     "execution_count": 59,
     "metadata": {},
     "output_type": "execute_result"
    }
   ],
   "source": [
    "#### now have a dictionary to transform emojis to emoticons.\n",
    "\n",
    "#### lets apply it to the message data!"
   ]
  },
  {
   "cell_type": "code",
   "execution_count": null,
   "metadata": {
    "collapsed": true
   },
   "outputs": [],
   "source": [
    "### TODO; apply this\n",
    "\n",
    "### clean emails\n",
    "\n",
    "### count emojis\n",
    "\n",
    "### count pronouns"
   ]
  },
  {
   "cell_type": "code",
   "execution_count": 69,
   "metadata": {
    "collapsed": false
   },
   "outputs": [],
   "source": [
    "all_messages = pd.read_pickle('./all_messages_to_from_pickled')"
   ]
  },
  {
   "cell_type": "code",
   "execution_count": 89,
   "metadata": {
    "collapsed": false
   },
   "outputs": [
    {
     "data": {
      "text/plain": [
       "'\\xf0\\x9f\\x98\\x81'"
      ]
     },
     "execution_count": 89,
     "metadata": {},
     "output_type": "execute_result"
    }
   ],
   "source": [
    "all_messages.loc[39977, 'message']"
   ]
  },
  {
   "cell_type": "code",
   "execution_count": 98,
   "metadata": {
    "collapsed": false
   },
   "outputs": [
    {
     "data": {
      "text/plain": [
       "620"
      ]
     },
     "execution_count": 98,
     "metadata": {},
     "output_type": "execute_result"
    }
   ],
   "source": [
    "all_messages.message.isin(['\\xF0\\x9F\\x98\\x82']).sum()"
   ]
  },
  {
   "cell_type": "code",
   "execution_count": null,
   "metadata": {
    "collapsed": true
   },
   "outputs": [],
   "source": [
    "def find_emojis(message):\n",
    "    "
   ]
  }
 ],
 "metadata": {
  "kernelspec": {
   "display_name": "Python 2",
   "language": "python",
   "name": "python2"
  },
  "language_info": {
   "codemirror_mode": {
    "name": "ipython",
    "version": 2
   },
   "file_extension": ".py",
   "mimetype": "text/x-python",
   "name": "python",
   "nbconvert_exporter": "python",
   "pygments_lexer": "ipython2",
   "version": "2.7.12"
  }
 },
 "nbformat": 4,
 "nbformat_minor": 0
}
