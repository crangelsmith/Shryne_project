{
 "cells": [
  {
   "cell_type": "code",
   "execution_count": 1,
   "metadata": {
    "collapsed": false
   },
   "outputs": [
    {
     "name": "stderr",
     "output_type": "stream",
     "text": [
      "/home/alexander/anaconda/lib/python2.7/site-packages/nltk/twitter/__init__.py:20: UserWarning: The twython library has not been installed. Some functionality from the twitter package will not be available.\n",
      "  warnings.warn(\"The twython library has not been installed. \"\n"
     ]
    }
   ],
   "source": [
    "import sys\n",
    "sys.path.append('../sentiment_analysis')\n",
    "\n",
    "# This is another way of doing the above, not sure which is better\n",
    "sys.path.insert(0, '../mining')\n",
    "\n",
    "from nltk import tokenize\n",
    "from nltk.sentiment.vader import SentimentIntensityAnalyzer\n",
    "from vader_sentiment_analysis import SentimentAnalyser\n",
    "import pandas as pd\n",
    "\n",
    "import connector\n",
    "import query"
   ]
  },
  {
   "cell_type": "code",
   "execution_count": 2,
   "metadata": {
    "collapsed": true
   },
   "outputs": [],
   "source": [
    "\n",
    "sql_query = \"\"\"SELECT * FROM all_msgs_tf;\"\"\"\n",
    "\n",
    "dbconnection = connector.ConnectDB()\n",
    "conn = dbconnection.get_connection()\n",
    "q = query.Query(conn, sql_query)\n",
    "query_list = q.get_query_list()\n",
    "query_df = q.get_query_dataframe()\n",
    "#q.write_df_to_csv()\n",
    "\n",
    "#query_df['body'][6:16]\n",
    "#query_df.head(22)"
   ]
  },
  {
   "cell_type": "code",
   "execution_count": 3,
   "metadata": {
    "collapsed": true
   },
   "outputs": [],
   "source": [
    "q.write_df_to_csv()"
   ]
  },
  {
   "cell_type": "code",
   "execution_count": 28,
   "metadata": {
    "collapsed": false
   },
   "outputs": [
    {
     "data": {
      "text/html": [
       "<div>\n",
       "<table border=\"1\" class=\"dataframe\">\n",
       "  <thead>\n",
       "    <tr style=\"text-align: right;\">\n",
       "      <th></th>\n",
       "      <th>user_id</th>\n",
       "      <th>contact_id</th>\n",
       "      <th>relationship</th>\n",
       "      <th>channel</th>\n",
       "      <th>sent_at</th>\n",
       "      <th>message</th>\n",
       "      <th>to_from</th>\n",
       "    </tr>\n",
       "  </thead>\n",
       "  <tbody>\n",
       "    <tr>\n",
       "      <th>1248724</th>\n",
       "      <td>6257</td>\n",
       "      <td>11400</td>\n",
       "      <td>Partner</td>\n",
       "      <td>instagram</td>\n",
       "      <td>2014-09-25 06:17:37</td>\n",
       "      <td>#latergram from LDN. God JP is a stunner.</td>\n",
       "      <td>False</td>\n",
       "    </tr>\n",
       "    <tr>\n",
       "      <th>1248725</th>\n",
       "      <td>6257</td>\n",
       "      <td>11400</td>\n",
       "      <td>Partner</td>\n",
       "      <td>instagram</td>\n",
       "      <td>2014-10-09 10:22:09</td>\n",
       "      <td>#Repost from @moogz79 \\rSipping my 'latte' Noo...</td>\n",
       "      <td>False</td>\n",
       "    </tr>\n",
       "    <tr>\n",
       "      <th>1248726</th>\n",
       "      <td>6257</td>\n",
       "      <td>11400</td>\n",
       "      <td>Partner</td>\n",
       "      <td>facebook</td>\n",
       "      <td>2014-11-16 09:33:53</td>\n",
       "      <td></td>\n",
       "      <td>False</td>\n",
       "    </tr>\n",
       "  </tbody>\n",
       "</table>\n",
       "</div>"
      ],
      "text/plain": [
       "         user_id  contact_id relationship    channel             sent_at  \\\n",
       "1248724     6257       11400      Partner  instagram 2014-09-25 06:17:37   \n",
       "1248725     6257       11400      Partner  instagram 2014-10-09 10:22:09   \n",
       "1248726     6257       11400      Partner   facebook 2014-11-16 09:33:53   \n",
       "\n",
       "                                                   message to_from  \n",
       "1248724          #latergram from LDN. God JP is a stunner.   False  \n",
       "1248725  #Repost from @moogz79 \\rSipping my 'latte' Noo...   False  \n",
       "1248726                                                      False  "
      ]
     },
     "execution_count": 28,
     "metadata": {},
     "output_type": "execute_result"
    }
   ],
   "source": [
    "query_df[(query_df['user_id'] == 6257) & (query_df['contact_id'] == 11400)][40:43]"
   ]
  },
  {
   "cell_type": "code",
   "execution_count": null,
   "metadata": {
    "collapsed": true
   },
   "outputs": [],
   "source": [
    "# problem appears to be with how we write to CSV\n",
    "# going to write this subsection with the problem line to csv in various ways\n",
    "# then read it back with .read_csv\n",
    "# 1) encoding = 'utf-8'"
   ]
  },
  {
   "cell_type": "code",
   "execution_count": 29,
   "metadata": {
    "collapsed": false
   },
   "outputs": [],
   "source": [
    "query_df_subset = query_df[(query_df['user_id'] == 6257) & (query_df['contact_id'] == 11400)][40:43]"
   ]
  },
  {
   "cell_type": "code",
   "execution_count": 30,
   "metadata": {
    "collapsed": false
   },
   "outputs": [
    {
     "data": {
      "text/html": [
       "<div>\n",
       "<table border=\"1\" class=\"dataframe\">\n",
       "  <thead>\n",
       "    <tr style=\"text-align: right;\">\n",
       "      <th></th>\n",
       "      <th>user_id</th>\n",
       "      <th>contact_id</th>\n",
       "      <th>relationship</th>\n",
       "      <th>channel</th>\n",
       "      <th>sent_at</th>\n",
       "      <th>message</th>\n",
       "      <th>to_from</th>\n",
       "    </tr>\n",
       "  </thead>\n",
       "  <tbody>\n",
       "    <tr>\n",
       "      <th>1248724</th>\n",
       "      <td>6257</td>\n",
       "      <td>11400</td>\n",
       "      <td>Partner</td>\n",
       "      <td>instagram</td>\n",
       "      <td>2014-09-25 06:17:37</td>\n",
       "      <td>#latergram from LDN. God JP is a stunner.</td>\n",
       "      <td>False</td>\n",
       "    </tr>\n",
       "    <tr>\n",
       "      <th>1248725</th>\n",
       "      <td>6257</td>\n",
       "      <td>11400</td>\n",
       "      <td>Partner</td>\n",
       "      <td>instagram</td>\n",
       "      <td>2014-10-09 10:22:09</td>\n",
       "      <td>#Repost from @moogz79 \\rSipping my 'latte' Noo...</td>\n",
       "      <td>False</td>\n",
       "    </tr>\n",
       "    <tr>\n",
       "      <th>1248726</th>\n",
       "      <td>6257</td>\n",
       "      <td>11400</td>\n",
       "      <td>Partner</td>\n",
       "      <td>facebook</td>\n",
       "      <td>2014-11-16 09:33:53</td>\n",
       "      <td></td>\n",
       "      <td>False</td>\n",
       "    </tr>\n",
       "  </tbody>\n",
       "</table>\n",
       "</div>"
      ],
      "text/plain": [
       "         user_id  contact_id relationship    channel             sent_at  \\\n",
       "1248724     6257       11400      Partner  instagram 2014-09-25 06:17:37   \n",
       "1248725     6257       11400      Partner  instagram 2014-10-09 10:22:09   \n",
       "1248726     6257       11400      Partner   facebook 2014-11-16 09:33:53   \n",
       "\n",
       "                                                   message to_from  \n",
       "1248724          #latergram from LDN. God JP is a stunner.   False  \n",
       "1248725  #Repost from @moogz79 \\rSipping my 'latte' Noo...   False  \n",
       "1248726                                                      False  "
      ]
     },
     "execution_count": 30,
     "metadata": {},
     "output_type": "execute_result"
    }
   ],
   "source": [
    "query_df_subset"
   ]
  },
  {
   "cell_type": "code",
   "execution_count": 31,
   "metadata": {
    "collapsed": false
   },
   "outputs": [],
   "source": [
    "query_df_subset.to_csv('no_options.csv')"
   ]
  },
  {
   "cell_type": "code",
   "execution_count": 32,
   "metadata": {
    "collapsed": true
   },
   "outputs": [],
   "source": [
    "query_df_subset.to_csv('encoding=utf8.csv', encoding='utf-8')"
   ]
  },
  {
   "cell_type": "code",
   "execution_count": 35,
   "metadata": {
    "collapsed": false
   },
   "outputs": [],
   "source": [
    "query_df_subset.to_csv('encoding_and_index.csv', encoding='utf-8', index=False)"
   ]
  },
  {
   "cell_type": "code",
   "execution_count": 36,
   "metadata": {
    "collapsed": true
   },
   "outputs": [],
   "source": [
    "query_df_subset.to_csv('encoding_and_index_and_quoting.csv', encoding='utf-8', index=False, quoting=3)"
   ]
  },
  {
   "cell_type": "code",
   "execution_count": 48,
   "metadata": {
    "collapsed": false
   },
   "outputs": [
    {
     "data": {
      "text/html": [
       "<div>\n",
       "<table border=\"1\" class=\"dataframe\">\n",
       "  <thead>\n",
       "    <tr style=\"text-align: right;\">\n",
       "      <th></th>\n",
       "      <th>Unnamed: 0</th>\n",
       "      <th>user_id</th>\n",
       "      <th>contact_id</th>\n",
       "      <th>relationship</th>\n",
       "      <th>channel</th>\n",
       "      <th>sent_at</th>\n",
       "      <th>message</th>\n",
       "      <th>to_from</th>\n",
       "    </tr>\n",
       "  </thead>\n",
       "  <tbody>\n",
       "    <tr>\n",
       "      <th>0</th>\n",
       "      <td>1248724</td>\n",
       "      <td>6257</td>\n",
       "      <td>11400</td>\n",
       "      <td>Partner</td>\n",
       "      <td>instagram</td>\n",
       "      <td>2014-09-25 06:17:37</td>\n",
       "      <td>#latergram from LDN. God JP is a stunner.</td>\n",
       "      <td>False</td>\n",
       "    </tr>\n",
       "    <tr>\n",
       "      <th>1</th>\n",
       "      <td>1248725</td>\n",
       "      <td>6257</td>\n",
       "      <td>11400</td>\n",
       "      <td>Partner</td>\n",
       "      <td>instagram</td>\n",
       "      <td>2014-10-09 10:22:09</td>\n",
       "      <td>#Repost from @moogz79</td>\n",
       "      <td>NaN</td>\n",
       "    </tr>\n",
       "    <tr>\n",
       "      <th>2</th>\n",
       "      <td>Sipping my 'latte' Noosa style #cutesippingfac...</td>\n",
       "      <td>False</td>\n",
       "      <td>NaN</td>\n",
       "      <td>NaN</td>\n",
       "      <td>NaN</td>\n",
       "      <td>NaN</td>\n",
       "      <td>NaN</td>\n",
       "      <td>NaN</td>\n",
       "    </tr>\n",
       "    <tr>\n",
       "      <th>3</th>\n",
       "      <td>1248726</td>\n",
       "      <td>6257</td>\n",
       "      <td>11400</td>\n",
       "      <td>Partner</td>\n",
       "      <td>facebook</td>\n",
       "      <td>2014-11-16 09:33:53</td>\n",
       "      <td>NaN</td>\n",
       "      <td>False</td>\n",
       "    </tr>\n",
       "  </tbody>\n",
       "</table>\n",
       "</div>"
      ],
      "text/plain": [
       "                                          Unnamed: 0 user_id  contact_id  \\\n",
       "0                                            1248724    6257       11400   \n",
       "1                                            1248725    6257       11400   \n",
       "2  Sipping my 'latte' Noosa style #cutesippingfac...   False         NaN   \n",
       "3                                            1248726    6257       11400   \n",
       "\n",
       "  relationship    channel              sent_at  \\\n",
       "0      Partner  instagram  2014-09-25 06:17:37   \n",
       "1      Partner  instagram  2014-10-09 10:22:09   \n",
       "2          NaN        NaN                  NaN   \n",
       "3      Partner   facebook  2014-11-16 09:33:53   \n",
       "\n",
       "                                     message to_from  \n",
       "0  #latergram from LDN. God JP is a stunner.   False  \n",
       "1                     #Repost from @moogz79      NaN  \n",
       "2                                        NaN     NaN  \n",
       "3                                        NaN   False  "
      ]
     },
     "execution_count": 48,
     "metadata": {},
     "output_type": "execute_result"
    }
   ],
   "source": [
    "pd.read_csv('no_options.csv', quoting=3)"
   ]
  },
  {
   "cell_type": "code",
   "execution_count": 47,
   "metadata": {
    "collapsed": false
   },
   "outputs": [
    {
     "data": {
      "text/html": [
       "<div>\n",
       "<table border=\"1\" class=\"dataframe\">\n",
       "  <thead>\n",
       "    <tr style=\"text-align: right;\">\n",
       "      <th></th>\n",
       "      <th>Unnamed: 0</th>\n",
       "      <th>user_id</th>\n",
       "      <th>contact_id</th>\n",
       "      <th>relationship</th>\n",
       "      <th>channel</th>\n",
       "      <th>sent_at</th>\n",
       "      <th>message</th>\n",
       "      <th>to_from</th>\n",
       "    </tr>\n",
       "  </thead>\n",
       "  <tbody>\n",
       "    <tr>\n",
       "      <th>0</th>\n",
       "      <td>1248724</td>\n",
       "      <td>6257</td>\n",
       "      <td>11400</td>\n",
       "      <td>Partner</td>\n",
       "      <td>instagram</td>\n",
       "      <td>2014-09-25 06:17:37</td>\n",
       "      <td>#latergram from LDN. God JP is a stunner.</td>\n",
       "      <td>False</td>\n",
       "    </tr>\n",
       "    <tr>\n",
       "      <th>1</th>\n",
       "      <td>1248725</td>\n",
       "      <td>6257</td>\n",
       "      <td>11400</td>\n",
       "      <td>Partner</td>\n",
       "      <td>instagram</td>\n",
       "      <td>2014-10-09 10:22:09</td>\n",
       "      <td>#Repost from @moogz79</td>\n",
       "      <td>NaN</td>\n",
       "    </tr>\n",
       "    <tr>\n",
       "      <th>2</th>\n",
       "      <td>Sipping my 'latte' Noosa style #cutesippingfac...</td>\n",
       "      <td>False</td>\n",
       "      <td>NaN</td>\n",
       "      <td>NaN</td>\n",
       "      <td>NaN</td>\n",
       "      <td>NaN</td>\n",
       "      <td>NaN</td>\n",
       "      <td>NaN</td>\n",
       "    </tr>\n",
       "    <tr>\n",
       "      <th>3</th>\n",
       "      <td>1248726</td>\n",
       "      <td>6257</td>\n",
       "      <td>11400</td>\n",
       "      <td>Partner</td>\n",
       "      <td>facebook</td>\n",
       "      <td>2014-11-16 09:33:53</td>\n",
       "      <td>NaN</td>\n",
       "      <td>False</td>\n",
       "    </tr>\n",
       "  </tbody>\n",
       "</table>\n",
       "</div>"
      ],
      "text/plain": [
       "                                          Unnamed: 0 user_id  contact_id  \\\n",
       "0                                            1248724    6257       11400   \n",
       "1                                            1248725    6257       11400   \n",
       "2  Sipping my 'latte' Noosa style #cutesippingfac...   False         NaN   \n",
       "3                                            1248726    6257       11400   \n",
       "\n",
       "  relationship    channel              sent_at  \\\n",
       "0      Partner  instagram  2014-09-25 06:17:37   \n",
       "1      Partner  instagram  2014-10-09 10:22:09   \n",
       "2          NaN        NaN                  NaN   \n",
       "3      Partner   facebook  2014-11-16 09:33:53   \n",
       "\n",
       "                                     message to_from  \n",
       "0  #latergram from LDN. God JP is a stunner.   False  \n",
       "1                     #Repost from @moogz79      NaN  \n",
       "2                                        NaN     NaN  \n",
       "3                                        NaN   False  "
      ]
     },
     "execution_count": 47,
     "metadata": {},
     "output_type": "execute_result"
    }
   ],
   "source": [
    "pd.read_csv('encoding=utf8.csv', quoting=3)"
   ]
  },
  {
   "cell_type": "code",
   "execution_count": 46,
   "metadata": {
    "collapsed": false
   },
   "outputs": [
    {
     "data": {
      "text/html": [
       "<div>\n",
       "<table border=\"1\" class=\"dataframe\">\n",
       "  <thead>\n",
       "    <tr style=\"text-align: right;\">\n",
       "      <th></th>\n",
       "      <th>user_id</th>\n",
       "      <th>contact_id</th>\n",
       "      <th>relationship</th>\n",
       "      <th>channel</th>\n",
       "      <th>sent_at</th>\n",
       "      <th>message</th>\n",
       "      <th>to_from</th>\n",
       "    </tr>\n",
       "  </thead>\n",
       "  <tbody>\n",
       "    <tr>\n",
       "      <th>0</th>\n",
       "      <td>6257</td>\n",
       "      <td>11400</td>\n",
       "      <td>Partner</td>\n",
       "      <td>instagram</td>\n",
       "      <td>2014-09-25 06:17:37</td>\n",
       "      <td>#latergram from LDN. God JP is a stunner.</td>\n",
       "      <td>False</td>\n",
       "    </tr>\n",
       "    <tr>\n",
       "      <th>1</th>\n",
       "      <td>6257</td>\n",
       "      <td>11400</td>\n",
       "      <td>Partner</td>\n",
       "      <td>instagram</td>\n",
       "      <td>2014-10-09 10:22:09</td>\n",
       "      <td>#Repost from @moogz79</td>\n",
       "      <td>NaN</td>\n",
       "    </tr>\n",
       "    <tr>\n",
       "      <th>2</th>\n",
       "      <td>Sipping my 'latte' Noosa style #cutesippingfac...</td>\n",
       "      <td>False</td>\n",
       "      <td>NaN</td>\n",
       "      <td>NaN</td>\n",
       "      <td>NaN</td>\n",
       "      <td>NaN</td>\n",
       "      <td>NaN</td>\n",
       "    </tr>\n",
       "    <tr>\n",
       "      <th>3</th>\n",
       "      <td>6257</td>\n",
       "      <td>11400</td>\n",
       "      <td>Partner</td>\n",
       "      <td>facebook</td>\n",
       "      <td>2014-11-16 09:33:53</td>\n",
       "      <td>NaN</td>\n",
       "      <td>False</td>\n",
       "    </tr>\n",
       "  </tbody>\n",
       "</table>\n",
       "</div>"
      ],
      "text/plain": [
       "                                             user_id contact_id relationship  \\\n",
       "0                                               6257      11400      Partner   \n",
       "1                                               6257      11400      Partner   \n",
       "2  Sipping my 'latte' Noosa style #cutesippingfac...      False          NaN   \n",
       "3                                               6257      11400      Partner   \n",
       "\n",
       "     channel              sent_at                                    message  \\\n",
       "0  instagram  2014-09-25 06:17:37  #latergram from LDN. God JP is a stunner.   \n",
       "1  instagram  2014-10-09 10:22:09                     #Repost from @moogz79    \n",
       "2        NaN                  NaN                                        NaN   \n",
       "3   facebook  2014-11-16 09:33:53                                        NaN   \n",
       "\n",
       "  to_from  \n",
       "0   False  \n",
       "1     NaN  \n",
       "2     NaN  \n",
       "3   False  "
      ]
     },
     "execution_count": 46,
     "metadata": {},
     "output_type": "execute_result"
    }
   ],
   "source": [
    "pd.read_csv('encoding_and_index.csv', quoting=3)"
   ]
  },
  {
   "cell_type": "code",
   "execution_count": 45,
   "metadata": {
    "collapsed": false
   },
   "outputs": [
    {
     "data": {
      "text/html": [
       "<div>\n",
       "<table border=\"1\" class=\"dataframe\">\n",
       "  <thead>\n",
       "    <tr style=\"text-align: right;\">\n",
       "      <th></th>\n",
       "      <th>user_id</th>\n",
       "      <th>contact_id</th>\n",
       "      <th>relationship</th>\n",
       "      <th>channel</th>\n",
       "      <th>sent_at</th>\n",
       "      <th>message</th>\n",
       "      <th>to_from</th>\n",
       "    </tr>\n",
       "  </thead>\n",
       "  <tbody>\n",
       "    <tr>\n",
       "      <th>0</th>\n",
       "      <td>6257</td>\n",
       "      <td>11400</td>\n",
       "      <td>Partner</td>\n",
       "      <td>instagram</td>\n",
       "      <td>2014-09-25 06:17:37</td>\n",
       "      <td>#latergram from LDN. God JP is a stunner.</td>\n",
       "      <td>False</td>\n",
       "    </tr>\n",
       "    <tr>\n",
       "      <th>1</th>\n",
       "      <td>6257</td>\n",
       "      <td>11400</td>\n",
       "      <td>Partner</td>\n",
       "      <td>instagram</td>\n",
       "      <td>2014-10-09 10:22:09</td>\n",
       "      <td>#Repost from @moogz79</td>\n",
       "      <td>NaN</td>\n",
       "    </tr>\n",
       "    <tr>\n",
       "      <th>2</th>\n",
       "      <td>Sipping my 'latte' Noosa style #cutesippingfac...</td>\n",
       "      <td>False</td>\n",
       "      <td>NaN</td>\n",
       "      <td>NaN</td>\n",
       "      <td>NaN</td>\n",
       "      <td>NaN</td>\n",
       "      <td>NaN</td>\n",
       "    </tr>\n",
       "    <tr>\n",
       "      <th>3</th>\n",
       "      <td>6257</td>\n",
       "      <td>11400</td>\n",
       "      <td>Partner</td>\n",
       "      <td>facebook</td>\n",
       "      <td>2014-11-16 09:33:53</td>\n",
       "      <td>NaN</td>\n",
       "      <td>False</td>\n",
       "    </tr>\n",
       "  </tbody>\n",
       "</table>\n",
       "</div>"
      ],
      "text/plain": [
       "                                             user_id contact_id relationship  \\\n",
       "0                                               6257      11400      Partner   \n",
       "1                                               6257      11400      Partner   \n",
       "2  Sipping my 'latte' Noosa style #cutesippingfac...      False          NaN   \n",
       "3                                               6257      11400      Partner   \n",
       "\n",
       "     channel              sent_at                                    message  \\\n",
       "0  instagram  2014-09-25 06:17:37  #latergram from LDN. God JP is a stunner.   \n",
       "1  instagram  2014-10-09 10:22:09                     #Repost from @moogz79    \n",
       "2        NaN                  NaN                                        NaN   \n",
       "3   facebook  2014-11-16 09:33:53                                        NaN   \n",
       "\n",
       "  to_from  \n",
       "0   False  \n",
       "1     NaN  \n",
       "2     NaN  \n",
       "3   False  "
      ]
     },
     "execution_count": 45,
     "metadata": {},
     "output_type": "execute_result"
    }
   ],
   "source": [
    "pd.read_csv('encoding_and_index_and_quoting.csv', quoting=3)"
   ]
  },
  {
   "cell_type": "code",
   "execution_count": 49,
   "metadata": {
    "collapsed": true
   },
   "outputs": [],
   "source": [
    "import pickle"
   ]
  },
  {
   "cell_type": "code",
   "execution_count": 50,
   "metadata": {
    "collapsed": true
   },
   "outputs": [],
   "source": [
    "query_df.to_pickle('pickle_me_up')"
   ]
  },
  {
   "cell_type": "code",
   "execution_count": 51,
   "metadata": {
    "collapsed": true
   },
   "outputs": [],
   "source": [
    "query_df_subset.to_pickle('pickle_me_up')"
   ]
  },
  {
   "cell_type": "code",
   "execution_count": 53,
   "metadata": {
    "collapsed": false
   },
   "outputs": [
    {
     "data": {
      "text/html": [
       "<div>\n",
       "<table border=\"1\" class=\"dataframe\">\n",
       "  <thead>\n",
       "    <tr style=\"text-align: right;\">\n",
       "      <th></th>\n",
       "      <th>user_id</th>\n",
       "      <th>contact_id</th>\n",
       "      <th>relationship</th>\n",
       "      <th>channel</th>\n",
       "      <th>sent_at</th>\n",
       "      <th>message</th>\n",
       "      <th>to_from</th>\n",
       "    </tr>\n",
       "  </thead>\n",
       "  <tbody>\n",
       "    <tr>\n",
       "      <th>1248724</th>\n",
       "      <td>6257</td>\n",
       "      <td>11400</td>\n",
       "      <td>Partner</td>\n",
       "      <td>instagram</td>\n",
       "      <td>2014-09-25 06:17:37</td>\n",
       "      <td>#latergram from LDN. God JP is a stunner.</td>\n",
       "      <td>False</td>\n",
       "    </tr>\n",
       "    <tr>\n",
       "      <th>1248725</th>\n",
       "      <td>6257</td>\n",
       "      <td>11400</td>\n",
       "      <td>Partner</td>\n",
       "      <td>instagram</td>\n",
       "      <td>2014-10-09 10:22:09</td>\n",
       "      <td>#Repost from @moogz79 \\rSipping my 'latte' Noo...</td>\n",
       "      <td>False</td>\n",
       "    </tr>\n",
       "    <tr>\n",
       "      <th>1248726</th>\n",
       "      <td>6257</td>\n",
       "      <td>11400</td>\n",
       "      <td>Partner</td>\n",
       "      <td>facebook</td>\n",
       "      <td>2014-11-16 09:33:53</td>\n",
       "      <td></td>\n",
       "      <td>False</td>\n",
       "    </tr>\n",
       "  </tbody>\n",
       "</table>\n",
       "</div>"
      ],
      "text/plain": [
       "         user_id  contact_id relationship    channel             sent_at  \\\n",
       "1248724     6257       11400      Partner  instagram 2014-09-25 06:17:37   \n",
       "1248725     6257       11400      Partner  instagram 2014-10-09 10:22:09   \n",
       "1248726     6257       11400      Partner   facebook 2014-11-16 09:33:53   \n",
       "\n",
       "                                                   message to_from  \n",
       "1248724          #latergram from LDN. God JP is a stunner.   False  \n",
       "1248725  #Repost from @moogz79 \\rSipping my 'latte' Noo...   False  \n",
       "1248726                                                      False  "
      ]
     },
     "execution_count": 53,
     "metadata": {},
     "output_type": "execute_result"
    }
   ],
   "source": [
    "pd.read_pickle('pickle_me_up')"
   ]
  },
  {
   "cell_type": "code",
   "execution_count": 54,
   "metadata": {
    "collapsed": false
   },
   "outputs": [
    {
     "data": {
      "text/plain": [
       "(2859665, 7)"
      ]
     },
     "execution_count": 54,
     "metadata": {},
     "output_type": "execute_result"
    }
   ],
   "source": [
    "query_df.shape"
   ]
  },
  {
   "cell_type": "code",
   "execution_count": 55,
   "metadata": {
    "collapsed": true
   },
   "outputs": [],
   "source": [
    "query_df.to_pickle('all_messages_to_from_pickled')"
   ]
  },
  {
   "cell_type": "code",
   "execution_count": 57,
   "metadata": {
    "collapsed": false
   },
   "outputs": [],
   "source": [
    "sentiment_analyser = SentimentAnalyser()"
   ]
  },
  {
   "cell_type": "code",
   "execution_count": 58,
   "metadata": {
    "collapsed": true
   },
   "outputs": [],
   "source": [
    "result = sentiment_analyser.run_vader(query_df, 'message')"
   ]
  },
  {
   "cell_type": "code",
   "execution_count": 59,
   "metadata": {
    "collapsed": true
   },
   "outputs": [],
   "source": [
    "result.to_pickle('result')"
   ]
  },
  {
   "cell_type": "code",
   "execution_count": 2,
   "metadata": {
    "collapsed": true
   },
   "outputs": [],
   "source": [
    "checking_pickle = pd.read_pickle('result')"
   ]
  },
  {
   "cell_type": "code",
   "execution_count": 3,
   "metadata": {
    "collapsed": false
   },
   "outputs": [
    {
     "data": {
      "text/html": [
       "<div>\n",
       "<table border=\"1\" class=\"dataframe\">\n",
       "  <thead>\n",
       "    <tr style=\"text-align: right;\">\n",
       "      <th></th>\n",
       "      <th>user_id</th>\n",
       "      <th>contact_id</th>\n",
       "      <th>relationship</th>\n",
       "      <th>channel</th>\n",
       "      <th>sent_at</th>\n",
       "      <th>message</th>\n",
       "      <th>to_from</th>\n",
       "      <th>positive</th>\n",
       "      <th>negative</th>\n",
       "      <th>neutral</th>\n",
       "      <th>compound</th>\n",
       "    </tr>\n",
       "  </thead>\n",
       "  <tbody>\n",
       "    <tr>\n",
       "      <th>0</th>\n",
       "      <td>4</td>\n",
       "      <td>4001</td>\n",
       "      <td>Family</td>\n",
       "      <td>camera</td>\n",
       "      <td>2015-08-15 17:02:58.883</td>\n",
       "      <td></td>\n",
       "      <td>False</td>\n",
       "      <td>0</td>\n",
       "      <td>0</td>\n",
       "      <td>0</td>\n",
       "      <td>0</td>\n",
       "    </tr>\n",
       "    <tr>\n",
       "      <th>1</th>\n",
       "      <td>4</td>\n",
       "      <td>14465</td>\n",
       "      <td>General</td>\n",
       "      <td>camera</td>\n",
       "      <td>2015-08-15 17:02:58.883</td>\n",
       "      <td></td>\n",
       "      <td>False</td>\n",
       "      <td>0</td>\n",
       "      <td>0</td>\n",
       "      <td>0</td>\n",
       "      <td>0</td>\n",
       "    </tr>\n",
       "    <tr>\n",
       "      <th>2</th>\n",
       "      <td>6</td>\n",
       "      <td>16988</td>\n",
       "      <td>Friend</td>\n",
       "      <td>camera</td>\n",
       "      <td>2013-11-12 22:00:18.000</td>\n",
       "      <td></td>\n",
       "      <td>False</td>\n",
       "      <td>0</td>\n",
       "      <td>0</td>\n",
       "      <td>0</td>\n",
       "      <td>0</td>\n",
       "    </tr>\n",
       "    <tr>\n",
       "      <th>3</th>\n",
       "      <td>6</td>\n",
       "      <td>16988</td>\n",
       "      <td>Friend</td>\n",
       "      <td>camera</td>\n",
       "      <td>2014-10-20 13:05:25.292</td>\n",
       "      <td></td>\n",
       "      <td>False</td>\n",
       "      <td>0</td>\n",
       "      <td>0</td>\n",
       "      <td>0</td>\n",
       "      <td>0</td>\n",
       "    </tr>\n",
       "    <tr>\n",
       "      <th>4</th>\n",
       "      <td>6</td>\n",
       "      <td>16988</td>\n",
       "      <td>Friend</td>\n",
       "      <td>camera</td>\n",
       "      <td>2015-05-15 22:35:14.460</td>\n",
       "      <td></td>\n",
       "      <td>False</td>\n",
       "      <td>0</td>\n",
       "      <td>0</td>\n",
       "      <td>0</td>\n",
       "      <td>0</td>\n",
       "    </tr>\n",
       "  </tbody>\n",
       "</table>\n",
       "</div>"
      ],
      "text/plain": [
       "   user_id  contact_id relationship channel                 sent_at message  \\\n",
       "0        4        4001       Family  camera 2015-08-15 17:02:58.883           \n",
       "1        4       14465      General  camera 2015-08-15 17:02:58.883           \n",
       "2        6       16988       Friend  camera 2013-11-12 22:00:18.000           \n",
       "3        6       16988       Friend  camera 2014-10-20 13:05:25.292           \n",
       "4        6       16988       Friend  camera 2015-05-15 22:35:14.460           \n",
       "\n",
       "  to_from  positive  negative  neutral  compound  \n",
       "0   False         0         0        0         0  \n",
       "1   False         0         0        0         0  \n",
       "2   False         0         0        0         0  \n",
       "3   False         0         0        0         0  \n",
       "4   False         0         0        0         0  "
      ]
     },
     "execution_count": 3,
     "metadata": {},
     "output_type": "execute_result"
    }
   ],
   "source": [
    "checking_pickle.head()"
   ]
  },
  {
   "cell_type": "code",
   "execution_count": null,
   "metadata": {
    "collapsed": false
   },
   "outputs": [],
   "source": []
  },
  {
   "cell_type": "code",
   "execution_count": null,
   "metadata": {
    "collapsed": true
   },
   "outputs": [],
   "source": []
  }
 ],
 "metadata": {
  "kernelspec": {
   "display_name": "Python 2",
   "language": "python",
   "name": "python2"
  },
  "language_info": {
   "codemirror_mode": {
    "name": "ipython",
    "version": 2
   },
   "file_extension": ".py",
   "mimetype": "text/x-python",
   "name": "python",
   "nbconvert_exporter": "python",
   "pygments_lexer": "ipython2",
   "version": "2.7.12"
  }
 },
 "nbformat": 4,
 "nbformat_minor": 0
}
