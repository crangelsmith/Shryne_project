{
 "cells": [
  {
   "cell_type": "markdown",
   "metadata": {},
   "source": [
    "## Adding word_count column to the "
   ]
  },
  {
   "cell_type": "code",
   "execution_count": 1,
   "metadata": {
    "collapsed": false
   },
   "outputs": [
    {
     "name": "stderr",
     "output_type": "stream",
     "text": [
      "/home/sophie/anaconda3/envs/py27/lib/python2.7/site-packages/nltk/twitter/__init__.py:20: UserWarning: The twython library has not been installed. Some functionality from the twitter package will not be available.\n",
      "  warnings.warn(\"The twython library has not been installed. \"\n"
     ]
    }
   ],
   "source": [
    "from nltk import tokenize\n",
    "from nltk.sentiment.vader import SentimentIntensityAnalyzer\n",
    "import pandas as pd\n",
    "import sys\n",
    "\n",
    "sys.path.insert(0, '../mining')\n",
    "import connector\n",
    "import query\n",
    "from vader_sentiment_analysis import SentimentAnalyser"
   ]
  },
  {
   "cell_type": "code",
   "execution_count": 3,
   "metadata": {
    "collapsed": false
   },
   "outputs": [
    {
     "name": "stderr",
     "output_type": "stream",
     "text": [
      "/home/sophie/anaconda3/envs/py27/lib/python2.7/site-packages/IPython/core/interactiveshell.py:2723: DtypeWarning: Columns (0) have mixed types. Specify dtype option on import or set low_memory=False.\n",
      "  interactivity=interactivity, compiler=compiler, result=result)\n"
     ]
    }
   ],
   "source": [
    "df = pd.read_csv(\"../data/SELECT_ALL_FROM_all_messages.csv\", \n",
    "                 header = 0)"
   ]
  },
  {
   "cell_type": "code",
   "execution_count": 5,
   "metadata": {
    "collapsed": false
   },
   "outputs": [
    {
     "data": {
      "text/plain": [
       "0    hey aldo,\\nit was nice to meet you the other d...\n",
       "1    That sounds great! My only complication is a g...\n",
       "Name: message, dtype: object"
      ]
     },
     "execution_count": 5,
     "metadata": {},
     "output_type": "execute_result"
    }
   ],
   "source": [
    "df['message'][0:2]"
   ]
  },
  {
   "cell_type": "code",
   "execution_count": 6,
   "metadata": {
    "collapsed": false
   },
   "outputs": [
    {
     "data": {
      "text/plain": [
       "98"
      ]
     },
     "execution_count": 6,
     "metadata": {},
     "output_type": "execute_result"
    }
   ],
   "source": [
    "# splitting up into words\n",
    "len(df['message'][0].split())"
   ]
  },
  {
   "cell_type": "code",
   "execution_count": 7,
   "metadata": {
    "collapsed": true
   },
   "outputs": [],
   "source": [
    "# extract just the messages where relationship = Ex\n",
    "ex = df.loc[df['relationship'] == 'Ex']\n",
    "text_messages = ex.loc[ex['channel'] == 'text_message']"
   ]
  },
  {
   "cell_type": "code",
   "execution_count": 8,
   "metadata": {
    "collapsed": false
   },
   "outputs": [],
   "source": [
    "# Don't need the unnamed first column\n",
    "text_messages = text_messages.drop(['Unnamed: 0'], axis = 1)"
   ]
  },
  {
   "cell_type": "code",
   "execution_count": 9,
   "metadata": {
    "collapsed": false
   },
   "outputs": [],
   "source": [
    "sentiment_analyser = SentimentAnalyser()\n",
    "result = sentiment_analyser.run_vader(text_messages, 'message')"
   ]
  },
  {
   "cell_type": "code",
   "execution_count": 10,
   "metadata": {
    "collapsed": true
   },
   "outputs": [],
   "source": [
    "b = [len(str(x).split()) for x in result['message'].tolist()]  "
   ]
  },
  {
   "cell_type": "code",
   "execution_count": 11,
   "metadata": {
    "collapsed": true
   },
   "outputs": [],
   "source": [
    "result['word_count'] = b"
   ]
  },
  {
   "cell_type": "code",
   "execution_count": 39,
   "metadata": {
    "collapsed": false
   },
   "outputs": [
    {
     "name": "stdout",
     "output_type": "stream",
     "text": [
      "      user_id  contact_id relationship       channel              sent_at  \\\n",
      "2196     10.0     16787.0           Ex  text_message  2011-05-09 22:03:13   \n",
      "2197     10.0     16787.0           Ex  text_message  2011-05-09 22:04:52   \n",
      "2198     10.0     16787.0           Ex  text_message  2011-05-09 22:07:25   \n",
      "2199     10.0     16787.0           Ex  text_message  2011-05-09 22:10:01   \n",
      "2200     10.0     16787.0           Ex  text_message  2011-05-09 22:12:31   \n",
      "\n",
      "                                                message  positive  negative  \\\n",
      "2196  Busy man! Architecture school, you must be ver...     0.474       0.0   \n",
      "2197                   Haha, where doy ou do to school?     0.275       0.0   \n",
      "2198  Oh columbia! I live on the uws actually. I rea...     1.000       0.0   \n",
      "2199  That sounds so nice just up and leaving, are y...     0.000       0.0   \n",
      "2200  You're very optimistic, I'm imagining that I w...     0.000       0.0   \n",
      "\n",
      "      neutral  compound  word_count  \n",
      "2196    0.526    0.2023           9  \n",
      "2197    0.725    0.2263           7  \n",
      "2198    0.000    0.2263          30  \n",
      "2199    1.000    0.0000          21  \n",
      "2200    1.000    0.0000          24  \n"
     ]
    }
   ],
   "source": [
    "print result[20:25]"
   ]
  },
  {
   "cell_type": "code",
   "execution_count": 77,
   "metadata": {
    "collapsed": false
   },
   "outputs": [],
   "source": [
    "result.to_csv('../data/textsentiment.csv', index = False)"
   ]
  },
  {
   "cell_type": "code",
   "execution_count": 16,
   "metadata": {
    "collapsed": false
   },
   "outputs": [],
   "source": [
    "# split each message into a list of words and count the words.\n",
    "b = [len(str(x).split()) for x in df['message'].tolist()] "
   ]
  },
  {
   "cell_type": "code",
   "execution_count": 17,
   "metadata": {
    "collapsed": false
   },
   "outputs": [
    {
     "name": "stdout",
     "output_type": "stream",
     "text": [
      "[98, 204, 67, 126, 189, 167, 927, 1077, 52, 171]\n"
     ]
    }
   ],
   "source": [
    "print b[0:10]"
   ]
  },
  {
   "cell_type": "code",
   "execution_count": 18,
   "metadata": {
    "collapsed": false
   },
   "outputs": [
    {
     "data": {
      "text/plain": [
       "98"
      ]
     },
     "execution_count": 18,
     "metadata": {},
     "output_type": "execute_result"
    }
   ],
   "source": [
    "len(df['message'][0].split())"
   ]
  },
  {
   "cell_type": "code",
   "execution_count": 71,
   "metadata": {
    "collapsed": true
   },
   "outputs": [],
   "source": [
    "# Adding a new column called \"word_count\" which contains the information from b\n",
    "df['word_count'] = b"
   ]
  },
  {
   "cell_type": "code",
   "execution_count": 36,
   "metadata": {
    "collapsed": false
   },
   "outputs": [],
   "source": [
    "# Print out the lines that have numbers in them.\n",
    "b = df.message.str.contains('Sent from my iPhone')\n",
    "\n",
    "# 'Sent from my Samsung' = 66\n",
    "# 'Sent from my Sony '"
   ]
  },
  {
   "cell_type": "code",
   "execution_count": 37,
   "metadata": {
    "collapsed": false
   },
   "outputs": [
    {
     "name": "stdout",
     "output_type": "stream",
     "text": [
      "2306\n"
     ]
    }
   ],
   "source": [
    "# Sent from iPhone is the most common one. with 2306. \n",
    "print len(df['message'][b == True])"
   ]
  },
  {
   "cell_type": "code",
   "execution_count": 38,
   "metadata": {
    "collapsed": false
   },
   "outputs": [
    {
     "name": "stdout",
     "output_type": "stream",
     "text": [
      "27740    Hi momma how is it going email me back.\\n\\nSen...\n",
      "27804    Sent from my iPhone\\n\\nBegin forwarded message...\n",
      "27808    Hi my love. I just landed. I am concern about ...\n",
      "27809       My love, where are you?\\n\\nSent from my iPhone\n",
      "27812                            :)\\n\\nSent from my iPhone\n",
      "27820    Pkg on its way. We ll give u tracing info tomo...\n",
      "27822                          :):)\\n\\nSent from my iPhone\n",
      "27824                                  Sent from my iPhone\n",
      "27826    Issue Tracking Number CM20120619_43229518. You...\n",
      "27827             How are you babe?\\n\\nSent from my iPhone\n",
      "Name: message, dtype: object\n"
     ]
    }
   ],
   "source": [
    "print df['message'][b == True][0:10]"
   ]
  },
  {
   "cell_type": "code",
   "execution_count": null,
   "metadata": {
    "collapsed": true
   },
   "outputs": [],
   "source": []
  }
 ],
 "metadata": {
  "anaconda-cloud": {},
  "kernelspec": {
   "display_name": "Python [py27]",
   "language": "python",
   "name": "Python [py27]"
  },
  "language_info": {
   "codemirror_mode": {
    "name": "ipython",
    "version": 2
   },
   "file_extension": ".py",
   "mimetype": "text/x-python",
   "name": "python",
   "nbconvert_exporter": "python",
   "pygments_lexer": "ipython2",
   "version": "2.7.12"
  }
 },
 "nbformat": 4,
 "nbformat_minor": 0
}
