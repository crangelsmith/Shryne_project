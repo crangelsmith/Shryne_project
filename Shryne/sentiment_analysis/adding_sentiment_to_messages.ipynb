{
 "cells": [
  {
   "cell_type": "markdown",
   "metadata": {},
   "source": [
    "## Cleaning the messages. "
   ]
  },
  {
   "cell_type": "code",
   "execution_count": 1,
   "metadata": {
    "collapsed": false
   },
   "outputs": [],
   "source": [
    "import pandas as pd\n",
    "import matplotlib.pyplot as plt\n",
    "import numpy as np\n",
    "df=pd.read_csv('../data/SELECT_ALL_FROM_all_messages.csv', header=0, low_memory=False)\n",
    "import sys\n",
    "import os\n",
    "from bs4 import BeautifulSoup\n",
    "import re\n",
    "df = df.drop(['Unnamed: 0'],axis=1)"
   ]
  },
  {
   "cell_type": "code",
   "execution_count": 387,
   "metadata": {
    "collapsed": false
   },
   "outputs": [],
   "source": [
    "sep = '\\n--\\n'\n",
    "remove_signature = df['message'][10].split(sep,1)[0]"
   ]
  },
  {
   "cell_type": "code",
   "execution_count": 47,
   "metadata": {
    "collapsed": false
   },
   "outputs": [
    {
     "data": {
      "text/plain": [
       "\"Haha you're so funny, Aldo. That e-mail was half cute / half legal memo. Fun times. I'm glad we're cool, and I appreciate your sensitivity.  Hopefully we can hang out again soon. In the meantime, enjoy your spring break!\""
      ]
     },
     "execution_count": 47,
     "metadata": {},
     "output_type": "execute_result"
    }
   ],
   "source": [
    "remove_newlines = re.sub(\"\\n\", \" \", remove_signature)\n",
    "remove_newlines"
   ]
  },
  {
   "cell_type": "code",
   "execution_count": 49,
   "metadata": {
    "collapsed": false
   },
   "outputs": [],
   "source": [
    "from nltk import tokenize"
   ]
  },
  {
   "cell_type": "code",
   "execution_count": 51,
   "metadata": {
    "collapsed": false
   },
   "outputs": [
    {
     "data": {
      "text/plain": [
       "[\"Haha you're so funny, Aldo.\",\n",
       " 'That e-mail was half cute / half legal memo.',\n",
       " 'Fun times.',\n",
       " \"I'm glad we're cool, and I appreciate your sensitivity.\",\n",
       " 'Hopefully we can hang out again soon.',\n",
       " 'In the meantime, enjoy your spring break!']"
      ]
     },
     "execution_count": 51,
     "metadata": {},
     "output_type": "execute_result"
    }
   ],
   "source": [
    "lines_list = tokenize.sent_tokenize(remove_newlines)\n",
    "lines_list"
   ]
  },
  {
   "cell_type": "code",
   "execution_count": 53,
   "metadata": {
    "collapsed": false
   },
   "outputs": [
    {
     "data": {
      "text/plain": [
       "['Haha',\n",
       " \"you're\",\n",
       " 'so',\n",
       " 'funny,',\n",
       " 'Aldo.',\n",
       " 'That',\n",
       " 'e-mail',\n",
       " 'was',\n",
       " 'half',\n",
       " 'cute',\n",
       " '/',\n",
       " 'half',\n",
       " 'legal',\n",
       " 'memo.',\n",
       " 'Fun',\n",
       " 'times.',\n",
       " \"I'm\",\n",
       " 'glad',\n",
       " \"we're\",\n",
       " 'cool,',\n",
       " 'and',\n",
       " 'I',\n",
       " 'appreciate',\n",
       " 'your',\n",
       " 'sensitivity.',\n",
       " 'Hopefully',\n",
       " 'we',\n",
       " 'can',\n",
       " 'hang',\n",
       " 'out',\n",
       " 'again',\n",
       " 'soon.',\n",
       " 'In',\n",
       " 'the',\n",
       " 'meantime,',\n",
       " 'enjoy',\n",
       " 'your',\n",
       " 'spring',\n",
       " 'break!']"
      ]
     },
     "execution_count": 53,
     "metadata": {},
     "output_type": "execute_result"
    }
   ],
   "source": [
    "words_list = remove_newlines.split()\n",
    "words_list"
   ]
  },
  {
   "cell_type": "code",
   "execution_count": 72,
   "metadata": {
    "collapsed": false
   },
   "outputs": [
    {
     "data": {
      "text/plain": [
       "\"\\xef\\xbf\\xbcYou're making butters depressed\""
      ]
     },
     "execution_count": 72,
     "metadata": {},
     "output_type": "execute_result"
    }
   ],
   "source": [
    "df['message'][700]"
   ]
  },
  {
   "cell_type": "code",
   "execution_count": 55,
   "metadata": {
    "collapsed": false
   },
   "outputs": [
    {
     "data": {
      "text/plain": [
       "['hello,', 'my', 'name', 'is', 'alex....', ':D']"
      ]
     },
     "execution_count": 55,
     "metadata": {},
     "output_type": "execute_result"
    }
   ],
   "source": []
  },
  {
   "cell_type": "code",
   "execution_count": 17,
   "metadata": {
    "collapsed": false
   },
   "outputs": [
    {
     "data": {
      "text/plain": [
       "<html><body><p>￼You're making butters depressed</p></body></html>"
      ]
     },
     "execution_count": 17,
     "metadata": {},
     "output_type": "execute_result"
    }
   ],
   "source": [
    "BeautifulSoup(df['message'][700])"
   ]
  },
  {
   "cell_type": "code",
   "execution_count": 76,
   "metadata": {
    "collapsed": false
   },
   "outputs": [
    {
     "data": {
      "text/plain": [
       "'nie wiem, musz\\xc4\\x99 si\\xc4\\x99 zalogowa\\xc4\\x87'"
      ]
     },
     "execution_count": 76,
     "metadata": {},
     "output_type": "execute_result"
    }
   ],
   "source": [
    "df['message'][4000]"
   ]
  },
  {
   "cell_type": "code",
   "execution_count": 20,
   "metadata": {
    "collapsed": false
   },
   "outputs": [
    {
     "data": {
      "text/plain": [
       "<html><body><p>nie wiem, muszę się zalogować</p></body></html>"
      ]
     },
     "execution_count": 20,
     "metadata": {},
     "output_type": "execute_result"
    }
   ],
   "source": [
    "BeautifulSoup(df['message'][4000])"
   ]
  },
  {
   "cell_type": "code",
   "execution_count": 78,
   "metadata": {
    "collapsed": false
   },
   "outputs": [
    {
     "data": {
      "text/plain": [
       "'najpierw to chc\\xc4\\x99 do \\xc5\\x82azienki bo pakowa\\xc5\\x82am paczki i od 30min chc\\xc4\\x99'"
      ]
     },
     "execution_count": 78,
     "metadata": {},
     "output_type": "execute_result"
    }
   ],
   "source": [
    "df['message'][10000]"
   ]
  },
  {
   "cell_type": "code",
   "execution_count": 21,
   "metadata": {
    "collapsed": false
   },
   "outputs": [
    {
     "data": {
      "text/plain": [
       "<html><body><p>najpierw to chcę do łazienki bo pakowałam paczki i od 30min chcę</p></body></html>"
      ]
     },
     "execution_count": 21,
     "metadata": {},
     "output_type": "execute_result"
    }
   ],
   "source": [
    "BeautifulSoup(df['message'][10000])"
   ]
  },
  {
   "cell_type": "code",
   "execution_count": 79,
   "metadata": {
    "collapsed": false
   },
   "outputs": [
    {
     "data": {
      "text/plain": [
       "\"\\xc2\\xa0\\n\\xc2\\xa0\\nSent to you by Nettanel via Google Reader:\\n\\xc2\\xa0\\n\\xc2\\xa0\\n'Dozens' of layoffs at Associated Press: Guild (AFP)\\nvia Yahoo! News: Top Stories  on 11/17/09\\nhttp://d.yimg.com/a/p/afp/20091117/capt.photo_1258501923112-1-0.jpg?x=130&y=87&q=85&sig=vJqRiHU6WQC1I.CEEL7Fmg--AFP - The US news agency the Associated Press (AP) laid off dozens of employees on Tuesday as part of a plan to reduce its global payroll by 10 percent this year, a union statement said.\\n\\xc2\\xa0\\n\\xc2\\xa0\\nThings you can do from here:\\nSubscribe to Yahoo! News: Top Stories using Google Reader\\nGet started using Google Reader to easily keep up with all your favorite sites\\n\\xc2\\xa0\\n\\xc2\\xa0\""
      ]
     },
     "execution_count": 79,
     "metadata": {},
     "output_type": "execute_result"
    }
   ],
   "source": [
    "df['message'][200000]"
   ]
  },
  {
   "cell_type": "code",
   "execution_count": 22,
   "metadata": {
    "collapsed": false
   },
   "outputs": [
    {
     "data": {
      "text/plain": [
       "<html><body><p> \n",
       " \n",
       "Sent to you by Nettanel via Google Reader:\n",
       " \n",
       " \n",
       "'Dozens' of layoffs at Associated Press: Guild (AFP)\n",
       "via Yahoo! News: Top Stories  on 11/17/09\n",
       "http://d.yimg.com/a/p/afp/20091117/capt.photo_1258501923112-1-0.jpg?x=130&amp;y=87&amp;q=85&amp;sig=vJqRiHU6WQC1I.CEEL7Fmg--AFP - The US news agency the Associated Press (AP) laid off dozens of employees on Tuesday as part of a plan to reduce its global payroll by 10 percent this year, a union statement said.\n",
       " \n",
       " \n",
       "Things you can do from here:\n",
       "Subscribe to Yahoo! News: Top Stories using Google Reader\n",
       "Get started using Google Reader to easily keep up with all your favorite sites\n",
       " \n",
       " </p></body></html>"
      ]
     },
     "execution_count": 22,
     "metadata": {},
     "output_type": "execute_result"
    }
   ],
   "source": [
    "BeautifulSoup(df['message'][200000])"
   ]
  },
  {
   "cell_type": "code",
   "execution_count": 81,
   "metadata": {
    "collapsed": false
   },
   "outputs": [
    {
     "data": {
      "text/plain": [
       "'Na die sich sicher nicht.'"
      ]
     },
     "execution_count": 81,
     "metadata": {},
     "output_type": "execute_result"
    }
   ],
   "source": [
    "df['message'][1000000]"
   ]
  },
  {
   "cell_type": "code",
   "execution_count": 3,
   "metadata": {
    "collapsed": false
   },
   "outputs": [],
   "source": [
    "cleaned_messages = []\n",
    "for message in df['message']:\n",
    "    cleaned_messages.append(clean_message(message))\n",
    "    "
   ]
  },
  {
   "cell_type": "code",
   "execution_count": 4,
   "metadata": {
    "collapsed": false
   },
   "outputs": [],
   "source": [
    "df['message'] = cleaned_messages"
   ]
  },
  {
   "cell_type": "code",
   "execution_count": 5,
   "metadata": {
    "collapsed": false
   },
   "outputs": [],
   "source": [
    "df.to_csv('all_messages_cleaned.csv',index=False)"
   ]
  },
  {
   "cell_type": "code",
   "execution_count": 92,
   "metadata": {
    "collapsed": true
   },
   "outputs": [],
   "source": [
    "email = df.loc[df['channel']=='gmail']\n",
    "facebook = df.loc[df['channel']=='facebook_message']"
   ]
  },
  {
   "cell_type": "code",
   "execution_count": 64,
   "metadata": {
    "collapsed": false
   },
   "outputs": [],
   "source": [
    "sep = '\\n--\\n'\n",
    "remove_signature = email['message'][10].split(sep,1)[0]\n",
    "remove_newlines = re.sub(\"\\n\", \" \", remove_signature)"
   ]
  },
  {
   "cell_type": "code",
   "execution_count": 160,
   "metadata": {
    "collapsed": false
   },
   "outputs": [
    {
     "data": {
      "text/plain": [
       "(117288, 6)"
      ]
     },
     "execution_count": 160,
     "metadata": {},
     "output_type": "execute_result"
    }
   ],
   "source": [
    "email.shape"
   ]
  },
  {
   "cell_type": "code",
   "execution_count": 165,
   "metadata": {
    "collapsed": false
   },
   "outputs": [],
   "source": [
    "for x,message in enumerate(email['message']):\n",
    "    if  x>20 and x< 30:\n",
    "        \n",
    "        if sep in str(message):\n",
    "            remove_signature = message.split(sep,1)[0]\n",
    "            print \"cleaned_email\\n\", remove_signature\n",
    "            print \"---------------------------------\"\n",
    "            print \"---------------------------------\"\n",
    "            print \"original message\\n\", message\n",
    "            print \"##########################################################################\"\n",
    "            print \"##########################################################################\""
   ]
  },
  {
   "cell_type": "code",
   "execution_count": 166,
   "metadata": {
    "collapsed": false
   },
   "outputs": [
    {
     "name": "stdout",
     "output_type": "stream",
     "text": [
      "original:\n",
      "33 So gold: http://australianchristianlobby.org/\n",
      "----------------------------------\n",
      "cleaned:\n",
      "33 So gold: \n",
      "##############################################################################\n",
      "original:\n",
      "41 https://www.thebookingbutton.com.au/reservations/MARTINCASHMDIRECT/18172?locale=en&start_date=2013-07-13\n",
      "----------------------------------\n",
      "cleaned:\n",
      "41 \n",
      "##############################################################################\n"
     ]
    }
   ],
   "source": [
    "stringster = 'http'\n",
    "for x, message in enumerate(facebook['message']):\n",
    "    if x < 100 and stringster in str(message):\n",
    "        print \"original:\"\n",
    "        print x,message\n",
    "        print \"----------------------------------\"\n",
    "        print \"cleaned:\"\n",
    "        print x,re.sub(r'https?:\\/\\/.*[\\r\\n]*', '', message, flags=re.MULTILINE)\n",
    "        print \"##############################################################################\"\n",
    "\n",
    "        "
   ]
  },
  {
   "cell_type": "code",
   "execution_count": 167,
   "metadata": {
    "collapsed": false
   },
   "outputs": [],
   "source": [
    "stringster = 'www'\n",
    "for x, message in enumerate(facebook['message']):\n",
    "    if x < 100:\n",
    "        \n",
    "        message = re.sub(r'https?:\\/\\/.*[\\r\\n]*', '', str(message), flags=re.MULTILINE)\n",
    "        message = re.sub(r'www\\..*[\\s\\r\\n]*', '',str(message), flags=re.MULTILINE)\n",
    "        if stringster in message:\n",
    "            print message\n",
    "        \n",
    "        \n"
   ]
  },
  {
   "cell_type": "code",
   "execution_count": 184,
   "metadata": {
    "collapsed": false
   },
   "outputs": [
    {
     "ename": "error",
     "evalue": "bad character range",
     "output_type": "error",
     "traceback": [
      "\u001b[0;31m---------------------------------------------------------------------------\u001b[0m",
      "\u001b[0;31merror\u001b[0m                                     Traceback (most recent call last)",
      "\u001b[0;32m<ipython-input-184-fdf79673828a>\u001b[0m in \u001b[0;36m<module>\u001b[0;34m()\u001b[0m\n\u001b[0;32m----> 1\u001b[0;31m \u001b[0mprog\u001b[0m \u001b[0;34m=\u001b[0m \u001b[0mre\u001b[0m\u001b[0;34m.\u001b[0m\u001b[0mcompile\u001b[0m\u001b[0;34m(\u001b[0m\u001b[0;34m'[+()-\\d\\s]{8,}'\u001b[0m\u001b[0;34m)\u001b[0m\u001b[0;34m\u001b[0m\u001b[0m\n\u001b[0m",
      "\u001b[0;32m/home/alexander/anaconda/lib/python2.7/re.pyc\u001b[0m in \u001b[0;36mcompile\u001b[0;34m(pattern, flags)\u001b[0m\n\u001b[1;32m    192\u001b[0m \u001b[0;32mdef\u001b[0m \u001b[0mcompile\u001b[0m\u001b[0;34m(\u001b[0m\u001b[0mpattern\u001b[0m\u001b[0;34m,\u001b[0m \u001b[0mflags\u001b[0m\u001b[0;34m=\u001b[0m\u001b[0;36m0\u001b[0m\u001b[0;34m)\u001b[0m\u001b[0;34m:\u001b[0m\u001b[0;34m\u001b[0m\u001b[0m\n\u001b[1;32m    193\u001b[0m     \u001b[0;34m\"Compile a regular expression pattern, returning a pattern object.\"\u001b[0m\u001b[0;34m\u001b[0m\u001b[0m\n\u001b[0;32m--> 194\u001b[0;31m     \u001b[0;32mreturn\u001b[0m \u001b[0m_compile\u001b[0m\u001b[0;34m(\u001b[0m\u001b[0mpattern\u001b[0m\u001b[0;34m,\u001b[0m \u001b[0mflags\u001b[0m\u001b[0;34m)\u001b[0m\u001b[0;34m\u001b[0m\u001b[0m\n\u001b[0m\u001b[1;32m    195\u001b[0m \u001b[0;34m\u001b[0m\u001b[0m\n\u001b[1;32m    196\u001b[0m \u001b[0;32mdef\u001b[0m \u001b[0mpurge\u001b[0m\u001b[0;34m(\u001b[0m\u001b[0;34m)\u001b[0m\u001b[0;34m:\u001b[0m\u001b[0;34m\u001b[0m\u001b[0m\n",
      "\u001b[0;32m/home/alexander/anaconda/lib/python2.7/re.pyc\u001b[0m in \u001b[0;36m_compile\u001b[0;34m(*key)\u001b[0m\n\u001b[1;32m    249\u001b[0m         \u001b[0mp\u001b[0m \u001b[0;34m=\u001b[0m \u001b[0msre_compile\u001b[0m\u001b[0;34m.\u001b[0m\u001b[0mcompile\u001b[0m\u001b[0;34m(\u001b[0m\u001b[0mpattern\u001b[0m\u001b[0;34m,\u001b[0m \u001b[0mflags\u001b[0m\u001b[0;34m)\u001b[0m\u001b[0;34m\u001b[0m\u001b[0m\n\u001b[1;32m    250\u001b[0m     \u001b[0;32mexcept\u001b[0m \u001b[0merror\u001b[0m\u001b[0;34m,\u001b[0m \u001b[0mv\u001b[0m\u001b[0;34m:\u001b[0m\u001b[0;34m\u001b[0m\u001b[0m\n\u001b[0;32m--> 251\u001b[0;31m         \u001b[0;32mraise\u001b[0m \u001b[0merror\u001b[0m\u001b[0;34m,\u001b[0m \u001b[0mv\u001b[0m \u001b[0;31m# invalid expression\u001b[0m\u001b[0;34m\u001b[0m\u001b[0m\n\u001b[0m\u001b[1;32m    252\u001b[0m     \u001b[0;32mif\u001b[0m \u001b[0;32mnot\u001b[0m \u001b[0mbypass_cache\u001b[0m\u001b[0;34m:\u001b[0m\u001b[0;34m\u001b[0m\u001b[0m\n\u001b[1;32m    253\u001b[0m         \u001b[0;32mif\u001b[0m \u001b[0mlen\u001b[0m\u001b[0;34m(\u001b[0m\u001b[0m_cache\u001b[0m\u001b[0;34m)\u001b[0m \u001b[0;34m>=\u001b[0m \u001b[0m_MAXCACHE\u001b[0m\u001b[0;34m:\u001b[0m\u001b[0;34m\u001b[0m\u001b[0m\n",
      "\u001b[0;31merror\u001b[0m: bad character range"
     ]
    }
   ],
   "source": [
    "prog = re.compile('[+()-\\d\\s]{8,}')\n"
   ]
  },
  {
   "cell_type": "code",
   "execution_count": 388,
   "metadata": {
    "collapsed": false
   },
   "outputs": [],
   "source": [
    "# checking re is OK\n",
    "sep = 'Begin forwarded message'\n",
    "for x, message in enumerate(df['message']):\n",
    "    if x < 1 and re.search(\"On\\s[A-Z][a-z]{2}\\s[0-9]{1,3}[\\s\\S]*\", str(message)):\n",
    "        \n",
    "        \n",
    "        print message\n",
    "        print '------------------------------------------------------------------------------------'\n",
    "        m = re.search(\"(On\\s[A-Z][a-z]{2}\\s[0-9]{1,3}[\\s\\S]*)\", str(message))\n",
    "        print m.group(0)\n",
    "        print '####################################################################################'\n",
    "           # print \"original message:\"\n",
    "            #print message\n",
    "            #print \"----------------------\"\n",
    "            #print \"cleaned message\"\n",
    "            #message = re.sub(r'https?:\\/\\/[\\S]*[\\s\\n\\r]+', ' ', message, flags=re.MULTILINE)\n",
    "            #print re.sub(r'www\\.[\\S]*[\\s\\n\\r]+', ' ', message, flags=re.MULTILINE)\n",
    "            #print \"##################################\"\n",
    "\n",
    "\n",
    "\n",
    "        \n",
    "    \n"
   ]
  },
  {
   "cell_type": "code",
   "execution_count": 2,
   "metadata": {
    "collapsed": false
   },
   "outputs": [],
   "source": [
    "def clean_message(message):\n",
    "    \n",
    "    sep = '\\n--\\n'\n",
    "    \n",
    "    remove_signature = str(message).split(sep,1)[0]\n",
    "    \n",
    "    sep = '----------------------------------------'\n",
    "    \n",
    "    remove_signature = remove_signature.split(sep,1)[0]\n",
    "    \n",
    "    sep = 'Begin forwarded message'\n",
    "    \n",
    "    remove_begin_forwarded = remove_signature.split(sep,1)[0]\n",
    "    \n",
    "    \n",
    "    remove_newlines = re.sub(\"\\n\", \" \", remove_begin_forwarded)\n",
    "    \n",
    "    remove_on = re.sub(\"On\\s[A-Z][a-z]{2}\\s[0-9]{1,3}[\\s\\S]*\", \" \", remove_newlines)\n",
    "    \n",
    "    message_clean_http = re.sub(r'https?:\\/\\/[\\S]*[\\s\\n\\r]+', ' ', remove_on, flags=re.MULTILINE)\n",
    "    message_clean_www = re.sub(r'www\\.[\\S]*[\\s\\n\\r]+', ' ', message_clean_http, flags=re.MULTILINE)\n",
    "    message_clean_iphone = re.sub('Sent from my iPhone.*[\\s\\n\\r]', ' ', message_clean_www, flags=re.MULTILINE)\n",
    "    message_clean_ipad = re.sub(r'Sent from my iPad.*[\\s\\n\\r]', ' ', message_clean_iphone, flags=re.MULTILINE)\n",
    "    message_clean_sony = re.sub(r'Sent from my Sony.*[\\s\\n\\r]', ' ', message_clean_ipad, flags=re.MULTILINE)\n",
    "    message_clean_samsung = re.sub(r'Sent from my Samsung.*[\\s\\n\\r]', ' ', message_clean_sony, flags=re.MULTILINE)\n",
    "    \n",
    "    return message_clean_samsung"
   ]
  },
  {
   "cell_type": "code",
   "execution_count": null,
   "metadata": {
    "collapsed": true
   },
   "outputs": [],
   "source": []
  },
  {
   "cell_type": "code",
   "execution_count": 350,
   "metadata": {
    "collapsed": false
   },
   "outputs": [
    {
     "name": "stdout",
     "output_type": "stream",
     "text": [
      "hey\n"
     ]
    }
   ],
   "source": [
    "print clean_message(\"\")"
   ]
  },
  {
   "cell_type": "code",
   "execution_count": 389,
   "metadata": {
    "collapsed": false
   },
   "outputs": [
    {
     "name": "stdout",
     "output_type": "stream",
     "text": [
      "najpierw to chcę do łazienki bo pakowałam paczki i od 30min chcę\n"
     ]
    }
   ],
   "source": [
    "for x, message in enumerate(df['message']):\n",
    "    if x in range(10000, 10001):\n",
    "        print clean_message(message)\n",
    "    "
   ]
  },
  {
   "cell_type": "code",
   "execution_count": 301,
   "metadata": {
    "collapsed": false
   },
   "outputs": [
    {
     "name": "stdout",
     "output_type": "stream",
     "text": [
      "hey aldo,\n",
      "it was nice to meet you the other day. i took a look at your web site a moment ago and i really like your work!\n",
      "i noticed you were in the gobi desert this summer; that's awesome! i lived in china for a year a while back and traveled pretty extensively across the country. some photos are on my photo site (www.troysimpson.com), which, admittedly, hasn't been updated in years..\n",
      "anyway, let me know if you've got the scoop on any interesting architecture talks/events at CU or elsewhere. be well.\n",
      "-troy\n",
      "--\n",
      "troy simpson\n",
      "troyjsimpson@gmail.com\n",
      "510.469.6066\n"
     ]
    }
   ],
   "source": [
    "print df['message'][0]"
   ]
  },
  {
   "cell_type": "code",
   "execution_count": 302,
   "metadata": {
    "collapsed": false
   },
   "outputs": [
    {
     "name": "stdout",
     "output_type": "stream",
     "text": [
      "hey aldo, it was nice to meet you the other day. i took a look at your web site a moment ago and i really like your work! i noticed you were in the gobi desert this summer; that's awesome! i lived in china for a year a while back and traveled pretty extensively across the country. some photos are on my photo site ( which, admittedly, hasn't been updated in years.. anyway, let me know if you've got the scoop on any interesting architecture talks/events at CU or elsewhere. be well. -troy\n"
     ]
    }
   ],
   "source": [
    "print clean_message(df['message'][0])\n",
    "re.match()"
   ]
  },
  {
   "cell_type": "code",
   "execution_count": 225,
   "metadata": {
    "collapsed": true
   },
   "outputs": [],
   "source": [
    "b = [clean_message(message) for message in df['message'].tolist()]"
   ]
  },
  {
   "cell_type": "code",
   "execution_count": 226,
   "metadata": {
    "collapsed": true
   },
   "outputs": [],
   "source": [
    "df['message'] = b"
   ]
  },
  {
   "cell_type": "code",
   "execution_count": 227,
   "metadata": {
    "collapsed": false
   },
   "outputs": [
    {
     "data": {
      "text/html": [
       "<div>\n",
       "<table border=\"1\" class=\"dataframe\">\n",
       "  <thead>\n",
       "    <tr style=\"text-align: right;\">\n",
       "      <th></th>\n",
       "      <th>user_id</th>\n",
       "      <th>contact_id</th>\n",
       "      <th>relationship</th>\n",
       "      <th>channel</th>\n",
       "      <th>sent_at</th>\n",
       "      <th>message</th>\n",
       "    </tr>\n",
       "  </thead>\n",
       "  <tbody>\n",
       "    <tr>\n",
       "      <th>0</th>\n",
       "      <td>10</td>\n",
       "      <td>35</td>\n",
       "      <td>Ex</td>\n",
       "      <td>gmail</td>\n",
       "      <td>2010-10-11 02:22:16</td>\n",
       "      <td>None</td>\n",
       "    </tr>\n",
       "    <tr>\n",
       "      <th>1</th>\n",
       "      <td>10</td>\n",
       "      <td>35</td>\n",
       "      <td>Ex</td>\n",
       "      <td>gmail</td>\n",
       "      <td>2010-10-13 05:25:54</td>\n",
       "      <td>None</td>\n",
       "    </tr>\n",
       "    <tr>\n",
       "      <th>2</th>\n",
       "      <td>10</td>\n",
       "      <td>35</td>\n",
       "      <td>Ex</td>\n",
       "      <td>gmail</td>\n",
       "      <td>2010-10-15 05:02:18</td>\n",
       "      <td>None</td>\n",
       "    </tr>\n",
       "    <tr>\n",
       "      <th>3</th>\n",
       "      <td>10</td>\n",
       "      <td>35</td>\n",
       "      <td>Ex</td>\n",
       "      <td>gmail</td>\n",
       "      <td>2010-10-16 21:22:33</td>\n",
       "      <td>None</td>\n",
       "    </tr>\n",
       "    <tr>\n",
       "      <th>4</th>\n",
       "      <td>10</td>\n",
       "      <td>35</td>\n",
       "      <td>Ex</td>\n",
       "      <td>gmail</td>\n",
       "      <td>2010-10-21 03:36:04</td>\n",
       "      <td>None</td>\n",
       "    </tr>\n",
       "  </tbody>\n",
       "</table>\n",
       "</div>"
      ],
      "text/plain": [
       "   user_id  contact_id relationship channel              sent_at message\n",
       "0       10          35           Ex   gmail  2010-10-11 02:22:16    None\n",
       "1       10          35           Ex   gmail  2010-10-13 05:25:54    None\n",
       "2       10          35           Ex   gmail  2010-10-15 05:02:18    None\n",
       "3       10          35           Ex   gmail  2010-10-16 21:22:33    None\n",
       "4       10          35           Ex   gmail  2010-10-21 03:36:04    None"
      ]
     },
     "execution_count": 227,
     "metadata": {},
     "output_type": "execute_result"
    }
   ],
   "source": [
    "df.head()"
   ]
  },
  {
   "cell_type": "code",
   "execution_count": null,
   "metadata": {
    "collapsed": true
   },
   "outputs": [],
   "source": []
  }
 ],
 "metadata": {
  "anaconda-cloud": {},
  "kernelspec": {
   "display_name": "Python [py27]",
   "language": "python",
   "name": "Python [py27]"
  },
  "language_info": {
   "codemirror_mode": {
    "name": "ipython",
    "version": 2
   },
   "file_extension": ".py",
   "mimetype": "text/x-python",
   "name": "python",
   "nbconvert_exporter": "python",
   "pygments_lexer": "ipython2",
   "version": "2.7.12"
  }
 },
 "nbformat": 4,
 "nbformat_minor": 0
}
