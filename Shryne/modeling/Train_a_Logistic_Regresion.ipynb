{
 "cells": [
  {
   "cell_type": "code",
   "execution_count": 58,
   "metadata": {
    "collapsed": true
   },
   "outputs": [],
   "source": [
    "from sklearn.cluster import KMeans\n",
    "import pandas as pd\n",
    "from scipy.cluster.vq import kmeans\n",
    "from scipy.spatial.distance import cdist,pdist\n",
    "from sklearn.decomposition import RandomizedPCA\n",
    "import numpy as np\n",
    "import scipy.stats as stats\n",
    "\n",
    "df = pd.read_pickle('../data/relationship_features_forclustering_daily.pandas_df')\n",
    "\n",
    "df = df[[\"message_count\",\"compound\",\"word_count\",\"message_count_reciprocity\",\"word_count_reciprocity\",\"response_time\",\"response_time_reciprocity\",\"sentiment_reciprocity\"]]\n",
    "\n",
    "df = df[df[\"message_count\"]!=0]\n",
    "\n",
    "df_high= pd.read_pickle('../data/relationship_features_high')\n",
    "\n",
    "df_low = pd.read_pickle('../data/relationship_features_low')\n",
    "\n",
    "df_high = df_high[[\"message_count\",\"compound\",\"word_count\",\"message_count_reciprocity\",\"word_count_reciprocity\",\"response_time\",\"response_time_reciprocity\",\"sentiment_reciprocity\"]]\n",
    "df_low = df_low[[\"message_count\",\"compound\",\"word_count\",\"message_count_reciprocity\",\"word_count_reciprocity\",\"response_time\",\"response_time_reciprocity\",\"sentiment_reciprocity\"]]\n",
    "\n",
    "df.fillna(0,inplace = True)\n",
    "df_high.fillna(0,inplace = True)\n",
    "df_low.fillna(0,inplace = True)\n"
   ]
  },
  {
   "cell_type": "code",
   "execution_count": 59,
   "metadata": {
    "collapsed": false
   },
   "outputs": [],
   "source": [
    "df_high['label']=1\n",
    "df_low['label']=0\n",
    "\n",
    "label_data = pd.concat([df_high,df_low])\n",
    "\n",
    "import pandas as pd\n",
    "import numpy as np\n",
    "from sklearn.cross_validation import train_test_split\n",
    "\n",
    "train, test = train_test_split(label_data, test_size = 0.2)"
   ]
  },
  {
   "cell_type": "code",
   "execution_count": 60,
   "metadata": {
    "collapsed": false
   },
   "outputs": [],
   "source": [
    "from sklearn.linear_model import LogisticRegression\n",
    "from sklearn.cross_validation import train_test_split\n",
    "from sklearn import metrics\n",
    "from sklearn.cross_validation import cross_val_score\n",
    "\n",
    "predictors =[\"message_count\",\"compound\",\"word_count\",\"message_count_reciprocity\",\"word_count_reciprocity\",\"response_time\",\"response_time_reciprocity\",\"sentiment_reciprocity\"]\n",
    "\n",
    "X_train = train[predictors]\n",
    "y_train = train[\"label\"]\n",
    "\n",
    "X_test = test[predictors]\n",
    "y_test = test[\"label\"]\n",
    "\n",
    "model = LogisticRegression()\n",
    "model = model.fit(X_train, y_train)\n",
    "\n",
    "probs = model.predict_proba(X_test)"
   ]
  },
  {
   "cell_type": "code",
   "execution_count": 61,
   "metadata": {
    "collapsed": false
   },
   "outputs": [
    {
     "data": {
      "text/html": [
       "<div>\n",
       "<table border=\"1\" class=\"dataframe\">\n",
       "  <thead>\n",
       "    <tr style=\"text-align: right;\">\n",
       "      <th></th>\n",
       "      <th>0</th>\n",
       "      <th>1</th>\n",
       "    </tr>\n",
       "  </thead>\n",
       "  <tbody>\n",
       "    <tr>\n",
       "      <th>0</th>\n",
       "      <td>message_count</td>\n",
       "      <td>[15.8287645916]</td>\n",
       "    </tr>\n",
       "    <tr>\n",
       "      <th>1</th>\n",
       "      <td>compound</td>\n",
       "      <td>[-0.0418360458593]</td>\n",
       "    </tr>\n",
       "    <tr>\n",
       "      <th>2</th>\n",
       "      <td>word_count</td>\n",
       "      <td>[6.96934034791]</td>\n",
       "    </tr>\n",
       "    <tr>\n",
       "      <th>3</th>\n",
       "      <td>message_count_reciprocity</td>\n",
       "      <td>[-0.908758901145]</td>\n",
       "    </tr>\n",
       "    <tr>\n",
       "      <th>4</th>\n",
       "      <td>word_count_reciprocity</td>\n",
       "      <td>[1.20277812725]</td>\n",
       "    </tr>\n",
       "    <tr>\n",
       "      <th>5</th>\n",
       "      <td>response_time</td>\n",
       "      <td>[-1.60348425175]</td>\n",
       "    </tr>\n",
       "    <tr>\n",
       "      <th>6</th>\n",
       "      <td>response_time_reciprocity</td>\n",
       "      <td>[1.81096356667]</td>\n",
       "    </tr>\n",
       "    <tr>\n",
       "      <th>7</th>\n",
       "      <td>sentiment_reciprocity</td>\n",
       "      <td>[0.0129568348091]</td>\n",
       "    </tr>\n",
       "  </tbody>\n",
       "</table>\n",
       "</div>"
      ],
      "text/plain": [
       "                           0                   1\n",
       "0              message_count     [15.8287645916]\n",
       "1                   compound  [-0.0418360458593]\n",
       "2                 word_count     [6.96934034791]\n",
       "3  message_count_reciprocity   [-0.908758901145]\n",
       "4     word_count_reciprocity     [1.20277812725]\n",
       "5              response_time    [-1.60348425175]\n",
       "6  response_time_reciprocity     [1.81096356667]\n",
       "7      sentiment_reciprocity   [0.0129568348091]"
      ]
     },
     "execution_count": 61,
     "metadata": {},
     "output_type": "execute_result"
    }
   ],
   "source": [
    "pd.DataFrame(zip(X.columns, np.transpose(model.coef_)))"
   ]
  },
  {
   "cell_type": "code",
   "execution_count": 62,
   "metadata": {
    "collapsed": false
   },
   "outputs": [
    {
     "name": "stdout",
     "output_type": "stream",
     "text": [
      "[0 0 1 1 0 0 1 0 0 1 0 0 1 0 1 1 0 0 0 1 0 0 0 1 0 0 0 1 1 1 1 1 1 0 0 0 1\n",
      " 1 0 1 0 1 0 1 0 0 0 1 0 1 0 1 1 1 0 0 1 1 0 1 0 1 1 0 1 1 0 1 0 0 0 1 1 1\n",
      " 1 1 1 1 1 0 1 1 0 0 0 1 1 1 0 0 0 0 1 1 0 0 0 0 0 0 1 0 1 1 0 1 1 1 1 1 1\n",
      " 1 0 0 1 0 0 0 1 0 0 1 0 0 1 1 0 1 0 0 1 0 1 0 1 1 0 0 1 1 0 1 1 0 0 1 1 1\n",
      " 1 0 1 0 1 1 1 0 0 0 0 0 1 1 1 0 0 0 1 1 0 1 0 0 1 1 0 0 1 1 0 1 1 0 0 0 0\n",
      " 1 1 0 1 1 0 1 0 1 1 1 0 0 1 1 0 1 0 0 1 0 1 0 1 1 0 0 0 1 1 0 1 1 0 0 0 1\n",
      " 1 0 0 1 0 1 1 0 1 0 0 0 1 1 0 1 0 1 0 0 1 1 1 1 1 1 0 1 0 0 1 0 0 0 0 0 0\n",
      " 0 1 1 1 0 1 0 0 0 1 0 1 1 0 0 0 1 0 0 0 1 1 0 0 0 1 0 0 0 1 0 1 1 0 1 1 0\n",
      " 1 1 1 1 0 0 1 0 1 1 0 1 1 1 1 0 0 0 0 0 0 1 0 0 0 0 1 0 0 1 1 1 0 1 0 1 1\n",
      " 1 1 0 0 1 0 1 1 0 0 1 1 0 1 1 1 1 1 1 1 0 0 0 1 1 1 0 1 0 1 1 1 0 0 0 1 0\n",
      " 1 0 0 1 0 1 0 1 0 1 1 1 0 1 0 0 0 0 1 1 0 1 1 1 1 1 1 0 1 0 1 0 1 1 1 0 0\n",
      " 0 0 1 1 0 1 1 0 1 1 1 0 0 1 0 0 1 1 1 0 0 1 0 0 1 0 0 1 0 1 0 1 1 0 0 0 1\n",
      " 1 0 1 1 1 0 0 1 0 0 1 0 1 0 0 1 0 1 1 1 1 0 1 1 1 1 1 1 0 1 0 0 1 0 0 1 0\n",
      " 0 0 0 0 0 1 1 0 0 0 0 0 1 0 0 1 0 1 0 1 1 1 1 0 1 0 0 0 0 0 1 0 1 1 1 1 0\n",
      " 1 0 1 1 1 0 0 1 0 0 0 1 0 0 1 0 1 0 0 0 1 1 0 0 0 0 0 1 0 1 1 0 0 1 0 1 1\n",
      " 1 1 1 0 0 0 1 0 0 0 1 0 0 1 0 0 0 1 1 1 1 0 1 0 0 0 1 0 0 1 1 0 1 0 0 0 1\n",
      " 0 0 1 1 0 0 0 0 0 0 0 1 0 0 1 1 1 1 1 1 1 1 1 0 0 0 0 1 1 0 0 0 0 1 0 0 1\n",
      " 0 1 1 0 1 0 0 1 1 1 1 1 1 0 0 0 0 0 1 1 0 1 1 1 1 0 1 0 1 0 1 1 0 0 1 0 0\n",
      " 1 0 0 1 0 0 0 0 0 0 1 0 0 0 1 0 0 0 0 0 1 1 1 0 0 1 1 0 1 1 0 0 0 1 0 1 0\n",
      " 1 0 0 0 0 1 0 0 1 1 1 0 1 0 0 0 1 0 0 0 1 1 0 0 1 0 0 1 0 1 0 0 1 1 0 0 0\n",
      " 0 1 1 1 1 0 1 0 0 1 1 0 1 1 0 0 0 1 0 0 1 1 1 1 1 1 0 0 1 1 1 1 0 1 0 0 0\n",
      " 0 0 1 1 0 1 0 1 1 0 0 0 1 0 1 1 1 0 0 0 1 1 1 0 0 0 0 1 0 0 1 0 0 1 0 0 0\n",
      " 0 1 0 1 0 0 1 0 0 1 0 1 1 0 0 0 0 1 1 1 1 1 0 1 1 1 0 1 1 0 1 1 1 0 0 1 1\n",
      " 0 1 1 1 0 0 0 0 1 1 0 1 0 0 1 1 1 1 1 1 1 0 0 0 1 0 0 1 1 0 1 0 0 1 1 0 1\n",
      " 1 1 1 1 1 1 1 0 0 1 1 0 0 1 0 0 1 0 1 1 0 1 1 0 1 1 1 0 0 1 1 1 1 1 0 1 0\n",
      " 0 1 1 0 1 1 0 0 1 0 0 1 1 1 0 0 1 0 0 0 0 1 1]\n",
      "[[ 0.6294264   0.3705736 ]\n",
      " [ 0.8557218   0.1442782 ]\n",
      " [ 0.28806361  0.71193639]\n",
      " ..., \n",
      " [ 0.71286082  0.28713918]\n",
      " [ 0.26386554  0.73613446]\n",
      " [ 0.34632779  0.65367221]]\n"
     ]
    }
   ],
   "source": [
    "# generate class probabilities\n",
    "predicted = model.predict(X_test)\n",
    "print predicted\n",
    "\n",
    "probs = model.predict_proba(X_test)\n",
    "print probs\n"
   ]
  },
  {
   "cell_type": "code",
   "execution_count": 63,
   "metadata": {
    "collapsed": false
   },
   "outputs": [
    {
     "name": "stdout",
     "output_type": "stream",
     "text": [
      "0.824894514768\n",
      "0.927920862668\n"
     ]
    }
   ],
   "source": [
    "print metrics.accuracy_score(y_test, predicted)\n",
    "print metrics.roc_auc_score(y_test, probs[:, 1])"
   ]
  },
  {
   "cell_type": "code",
   "execution_count": 64,
   "metadata": {
    "collapsed": false
   },
   "outputs": [
    {
     "name": "stdout",
     "output_type": "stream",
     "text": [
      "[[402  88]\n",
      " [ 78 380]]\n",
      "             precision    recall  f1-score   support\n",
      "\n",
      "          0       0.84      0.82      0.83       490\n",
      "          1       0.81      0.83      0.82       458\n",
      "\n",
      "avg / total       0.83      0.82      0.82       948\n",
      "\n"
     ]
    }
   ],
   "source": [
    "print metrics.confusion_matrix(y_test, predicted)\n",
    "print metrics.classification_report(y_test, predicted)"
   ]
  },
  {
   "cell_type": "code",
   "execution_count": 65,
   "metadata": {
    "collapsed": false
   },
   "outputs": [
    {
     "name": "stdout",
     "output_type": "stream",
     "text": [
      "[ 0.80379747  0.8628692   0.89240506  0.85654008  0.83966245  0.82067511\n",
      "  0.8649789   0.8628692   0.83966245  0.80720339]\n",
      "0.845066330544\n"
     ]
    }
   ],
   "source": [
    "# evaluate the model using 10-fold cross-validation\n",
    "\n",
    "X = label_data[predictors]\n",
    "y = label_data[\"label\"]\n",
    "scores = cross_val_score(LogisticRegression(), X, y, scoring='accuracy', cv=10)\n",
    "print scores\n",
    "print scores.mean()"
   ]
  },
  {
   "cell_type": "code",
   "execution_count": 73,
   "metadata": {
    "collapsed": false
   },
   "outputs": [
    {
     "ename": "IndexError",
     "evalue": "index 1 is out of bounds for axis 0 with size 1",
     "output_type": "error",
     "traceback": [
      "\u001b[0;31m---------------------------------------------------------------------------\u001b[0m",
      "\u001b[0;31mIndexError\u001b[0m                                Traceback (most recent call last)",
      "\u001b[0;32m<ipython-input-73-264b9a48c0a2>\u001b[0m in \u001b[0;36m<module>\u001b[0;34m()\u001b[0m\n\u001b[1;32m      1\u001b[0m \u001b[0moutput\u001b[0m \u001b[0;34m=\u001b[0m \u001b[0mmodel\u001b[0m\u001b[0;34m.\u001b[0m\u001b[0mpredict_proba\u001b[0m\u001b[0;34m(\u001b[0m\u001b[0mdf\u001b[0m\u001b[0;34m[\u001b[0m\u001b[0;34m:\u001b[0m\u001b[0;36m1\u001b[0m\u001b[0;34m]\u001b[0m\u001b[0;34m)\u001b[0m\u001b[0;34m\u001b[0m\u001b[0m\n\u001b[0;32m----> 2\u001b[0;31m \u001b[0;32mprint\u001b[0m \u001b[0moutput\u001b[0m\u001b[0;34m[\u001b[0m\u001b[0;36m1\u001b[0m\u001b[0;34m]\u001b[0m\u001b[0;34m\u001b[0m\u001b[0m\n\u001b[0m\u001b[1;32m      3\u001b[0m \u001b[0;34m\u001b[0m\u001b[0m\n\u001b[1;32m      4\u001b[0m \u001b[0;32mprint\u001b[0m\u001b[0;34m(\u001b[0m\u001b[0mdf\u001b[0m\u001b[0;34m.\u001b[0m\u001b[0mshape\u001b[0m\u001b[0;34m[\u001b[0m\u001b[0;36m0\u001b[0m\u001b[0;34m]\u001b[0m\u001b[0;34m)\u001b[0m\u001b[0;34m\u001b[0m\u001b[0m\n",
      "\u001b[0;31mIndexError\u001b[0m: index 1 is out of bounds for axis 0 with size 1"
     ]
    }
   ],
   "source": [
    "output = model.predict_proba(df[:1])\n",
    "print output\n",
    "\n",
    "print(df.shape[0])"
   ]
  }
 ],
 "metadata": {
  "kernelspec": {
   "display_name": "Python 2",
   "language": "python",
   "name": "python2"
  },
  "language_info": {
   "codemirror_mode": {
    "name": "ipython",
    "version": 2
   },
   "file_extension": ".py",
   "mimetype": "text/x-python",
   "name": "python",
   "nbconvert_exporter": "python",
   "pygments_lexer": "ipython2",
   "version": "2.7.12"
  }
 },
 "nbformat": 4,
 "nbformat_minor": 0
}
