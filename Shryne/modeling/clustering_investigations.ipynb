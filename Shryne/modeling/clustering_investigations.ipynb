{
 "cells": [
  {
   "cell_type": "code",
   "execution_count": 1,
   "metadata": {
    "collapsed": false
   },
   "outputs": [
    {
     "data": {
      "text/plain": [
       "4808"
      ]
     },
     "execution_count": 1,
     "metadata": {},
     "output_type": "execute_result"
    }
   ],
   "source": [
    "from sklearn.cluster import KMeans\n",
    "import pandas as pd\n",
    "from scipy.cluster.vq import kmeans\n",
    "from scipy.spatial.distance import cdist,pdist\n",
    "from sklearn.decomposition import RandomizedPCA\n",
    "import numpy as np\n",
    "import scipy.stats as stats\n",
    "import pickle\n",
    "\n",
    "\n",
    "#df = pd.read_pickle('../data/relationship_features_forclustering.pandas_df')\n",
    "df = pickle.load(open('../data/relationship_features_forclustering.pandas_df', \"rb\"))\n",
    "df['Pet_count'].isnull().sum()#print item\n"
   ]
  },
  {
   "cell_type": "code",
   "execution_count": 2,
   "metadata": {
    "collapsed": false
   },
   "outputs": [
    {
     "data": {
      "text/html": [
       "<div>\n",
       "<table border=\"1\" class=\"dataframe\">\n",
       "  <thead>\n",
       "    <tr style=\"text-align: right;\">\n",
       "      <th></th>\n",
       "      <th>message_count</th>\n",
       "      <th>message_count_user</th>\n",
       "      <th>message_count_contact</th>\n",
       "      <th>word_count</th>\n",
       "      <th>word_count_user</th>\n",
       "      <th>word_count_contact</th>\n",
       "      <th>I_count</th>\n",
       "      <th>I_count_user</th>\n",
       "      <th>I_count_contact</th>\n",
       "      <th>You_count</th>\n",
       "      <th>...</th>\n",
       "      <th>sentiment_reciprocity</th>\n",
       "      <th>message_count_reciprocity</th>\n",
       "      <th>word_count_reciprocity</th>\n",
       "      <th>I_count_reciprocity</th>\n",
       "      <th>You_count_reciprocity</th>\n",
       "      <th>We_count_reciprocity</th>\n",
       "      <th>Us_count_reciprocity</th>\n",
       "      <th>Pet_count_reciprocity</th>\n",
       "      <th>response_time_reciprocity</th>\n",
       "      <th>emoji_count_reciprocity</th>\n",
       "    </tr>\n",
       "  </thead>\n",
       "  <tbody>\n",
       "    <tr>\n",
       "      <th>2010-10-31</th>\n",
       "      <td>0.031830</td>\n",
       "      <td>0.019830</td>\n",
       "      <td>0.208333</td>\n",
       "      <td>0.072044</td>\n",
       "      <td>0.046639</td>\n",
       "      <td>0.116327</td>\n",
       "      <td>0.086420</td>\n",
       "      <td>0.040230</td>\n",
       "      <td>0.202899</td>\n",
       "      <td>0.115741</td>\n",
       "      <td>...</td>\n",
       "      <td>0.313857</td>\n",
       "      <td>0.714286</td>\n",
       "      <td>0.698830</td>\n",
       "      <td>0.500000</td>\n",
       "      <td>0.923077</td>\n",
       "      <td>0.666667</td>\n",
       "      <td>0.0</td>\n",
       "      <td>0.0</td>\n",
       "      <td>1.0</td>\n",
       "      <td>0.0</td>\n",
       "    </tr>\n",
       "    <tr>\n",
       "      <th>2010-11-30</th>\n",
       "      <td>0.000000</td>\n",
       "      <td>0.000000</td>\n",
       "      <td>0.000000</td>\n",
       "      <td>0.000000</td>\n",
       "      <td>0.000000</td>\n",
       "      <td>0.000000</td>\n",
       "      <td>0.000000</td>\n",
       "      <td>0.000000</td>\n",
       "      <td>0.000000</td>\n",
       "      <td>0.000000</td>\n",
       "      <td>...</td>\n",
       "      <td>NaN</td>\n",
       "      <td>0.000000</td>\n",
       "      <td>0.000000</td>\n",
       "      <td>0.000000</td>\n",
       "      <td>0.000000</td>\n",
       "      <td>0.000000</td>\n",
       "      <td>0.0</td>\n",
       "      <td>0.0</td>\n",
       "      <td>NaN</td>\n",
       "      <td>0.0</td>\n",
       "    </tr>\n",
       "    <tr>\n",
       "      <th>2010-12-31</th>\n",
       "      <td>0.007958</td>\n",
       "      <td>0.005666</td>\n",
       "      <td>0.041667</td>\n",
       "      <td>0.018662</td>\n",
       "      <td>0.013074</td>\n",
       "      <td>0.028401</td>\n",
       "      <td>0.016461</td>\n",
       "      <td>0.011494</td>\n",
       "      <td>0.028986</td>\n",
       "      <td>0.046296</td>\n",
       "      <td>...</td>\n",
       "      <td>0.183350</td>\n",
       "      <td>0.500000</td>\n",
       "      <td>0.802395</td>\n",
       "      <td>1.000000</td>\n",
       "      <td>0.666667</td>\n",
       "      <td>0.000000</td>\n",
       "      <td>0.0</td>\n",
       "      <td>0.0</td>\n",
       "      <td>1.0</td>\n",
       "      <td>0.0</td>\n",
       "    </tr>\n",
       "    <tr>\n",
       "      <th>2011-01-31</th>\n",
       "      <td>0.000000</td>\n",
       "      <td>0.000000</td>\n",
       "      <td>0.000000</td>\n",
       "      <td>0.000000</td>\n",
       "      <td>0.000000</td>\n",
       "      <td>0.000000</td>\n",
       "      <td>0.000000</td>\n",
       "      <td>0.000000</td>\n",
       "      <td>0.000000</td>\n",
       "      <td>0.000000</td>\n",
       "      <td>...</td>\n",
       "      <td>NaN</td>\n",
       "      <td>0.000000</td>\n",
       "      <td>0.000000</td>\n",
       "      <td>0.000000</td>\n",
       "      <td>0.000000</td>\n",
       "      <td>0.000000</td>\n",
       "      <td>0.0</td>\n",
       "      <td>0.0</td>\n",
       "      <td>NaN</td>\n",
       "      <td>0.0</td>\n",
       "    </tr>\n",
       "    <tr>\n",
       "      <th>2011-02-28</th>\n",
       "      <td>0.021220</td>\n",
       "      <td>0.016997</td>\n",
       "      <td>0.083333</td>\n",
       "      <td>0.295431</td>\n",
       "      <td>0.269392</td>\n",
       "      <td>0.340816</td>\n",
       "      <td>0.082305</td>\n",
       "      <td>0.063218</td>\n",
       "      <td>0.130435</td>\n",
       "      <td>0.101852</td>\n",
       "      <td>...</td>\n",
       "      <td>0.392450</td>\n",
       "      <td>0.333333</td>\n",
       "      <td>0.725824</td>\n",
       "      <td>0.818182</td>\n",
       "      <td>0.692308</td>\n",
       "      <td>0.666667</td>\n",
       "      <td>0.0</td>\n",
       "      <td>0.0</td>\n",
       "      <td>1.0</td>\n",
       "      <td>0.0</td>\n",
       "    </tr>\n",
       "  </tbody>\n",
       "</table>\n",
       "<p>5 rows × 49 columns</p>\n",
       "</div>"
      ],
      "text/plain": [
       "            message_count  message_count_user  message_count_contact  \\\n",
       "2010-10-31       0.031830            0.019830               0.208333   \n",
       "2010-11-30       0.000000            0.000000               0.000000   \n",
       "2010-12-31       0.007958            0.005666               0.041667   \n",
       "2011-01-31       0.000000            0.000000               0.000000   \n",
       "2011-02-28       0.021220            0.016997               0.083333   \n",
       "\n",
       "            word_count  word_count_user  word_count_contact   I_count  \\\n",
       "2010-10-31    0.072044         0.046639            0.116327  0.086420   \n",
       "2010-11-30    0.000000         0.000000            0.000000  0.000000   \n",
       "2010-12-31    0.018662         0.013074            0.028401  0.016461   \n",
       "2011-01-31    0.000000         0.000000            0.000000  0.000000   \n",
       "2011-02-28    0.295431         0.269392            0.340816  0.082305   \n",
       "\n",
       "            I_count_user  I_count_contact  You_count           ...             \\\n",
       "2010-10-31      0.040230         0.202899   0.115741           ...              \n",
       "2010-11-30      0.000000         0.000000   0.000000           ...              \n",
       "2010-12-31      0.011494         0.028986   0.046296           ...              \n",
       "2011-01-31      0.000000         0.000000   0.000000           ...              \n",
       "2011-02-28      0.063218         0.130435   0.101852           ...              \n",
       "\n",
       "            sentiment_reciprocity  message_count_reciprocity  \\\n",
       "2010-10-31               0.313857                   0.714286   \n",
       "2010-11-30                    NaN                   0.000000   \n",
       "2010-12-31               0.183350                   0.500000   \n",
       "2011-01-31                    NaN                   0.000000   \n",
       "2011-02-28               0.392450                   0.333333   \n",
       "\n",
       "            word_count_reciprocity  I_count_reciprocity  \\\n",
       "2010-10-31                0.698830             0.500000   \n",
       "2010-11-30                0.000000             0.000000   \n",
       "2010-12-31                0.802395             1.000000   \n",
       "2011-01-31                0.000000             0.000000   \n",
       "2011-02-28                0.725824             0.818182   \n",
       "\n",
       "            You_count_reciprocity  We_count_reciprocity  Us_count_reciprocity  \\\n",
       "2010-10-31               0.923077              0.666667                   0.0   \n",
       "2010-11-30               0.000000              0.000000                   0.0   \n",
       "2010-12-31               0.666667              0.000000                   0.0   \n",
       "2011-01-31               0.000000              0.000000                   0.0   \n",
       "2011-02-28               0.692308              0.666667                   0.0   \n",
       "\n",
       "            Pet_count_reciprocity  response_time_reciprocity  \\\n",
       "2010-10-31                    0.0                        1.0   \n",
       "2010-11-30                    0.0                        NaN   \n",
       "2010-12-31                    0.0                        1.0   \n",
       "2011-01-31                    0.0                        NaN   \n",
       "2011-02-28                    0.0                        1.0   \n",
       "\n",
       "            emoji_count_reciprocity  \n",
       "2010-10-31                      0.0  \n",
       "2010-11-30                      0.0  \n",
       "2010-12-31                      0.0  \n",
       "2011-01-31                      0.0  \n",
       "2011-02-28                      0.0  \n",
       "\n",
       "[5 rows x 49 columns]"
      ]
     },
     "execution_count": 2,
     "metadata": {},
     "output_type": "execute_result"
    }
   ],
   "source": [
    "df.head()"
   ]
  },
  {
   "cell_type": "code",
   "execution_count": 3,
   "metadata": {
    "collapsed": false
   },
   "outputs": [
    {
     "ename": "ValueError",
     "evalue": "Input contains NaN, infinity or a value too large for dtype('float64').",
     "output_type": "error",
     "traceback": [
      "\u001b[1;31m---------------------------------------------------------------------------\u001b[0m",
      "\u001b[1;31mValueError\u001b[0m                                Traceback (most recent call last)",
      "\u001b[1;32m<ipython-input-3-b92a042912c6>\u001b[0m in \u001b[0;36m<module>\u001b[1;34m()\u001b[0m\n\u001b[1;32m----> 1\u001b[1;33m \u001b[0mpca\u001b[0m \u001b[1;33m=\u001b[0m \u001b[0mRandomizedPCA\u001b[0m\u001b[1;33m(\u001b[0m\u001b[0mn_components\u001b[0m\u001b[1;33m=\u001b[0m\u001b[1;36m2\u001b[0m\u001b[1;33m)\u001b[0m\u001b[1;33m.\u001b[0m\u001b[0mfit\u001b[0m\u001b[1;33m(\u001b[0m\u001b[0mdf\u001b[0m\u001b[1;33m)\u001b[0m \u001b[1;31m# pca is an instance of class randomizedPCA with data['data']\u001b[0m\u001b[1;33m\u001b[0m\u001b[0m\n\u001b[0m\u001b[0;32m      2\u001b[0m \u001b[1;33m\u001b[0m\u001b[0m\n\u001b[0;32m      3\u001b[0m \u001b[0mX\u001b[0m \u001b[1;33m=\u001b[0m \u001b[0mpca\u001b[0m\u001b[1;33m.\u001b[0m\u001b[0mtransform\u001b[0m\u001b[1;33m(\u001b[0m\u001b[0mdf\u001b[0m\u001b[1;33m)\u001b[0m \u001b[1;31m# reduces data from (1797,64) to (1797,2) though not sure how.\u001b[0m\u001b[1;33m\u001b[0m\u001b[0m\n\u001b[0;32m      4\u001b[0m \u001b[1;33m\u001b[0m\u001b[0m\n\u001b[0;32m      5\u001b[0m \u001b[1;32mprint\u001b[0m\u001b[1;33m(\u001b[0m\u001b[0mstats\u001b[0m\u001b[1;33m.\u001b[0m\u001b[0mdescribe\u001b[0m\u001b[1;33m(\u001b[0m\u001b[0mX\u001b[0m\u001b[1;33m)\u001b[0m\u001b[1;33m)\u001b[0m\u001b[1;33m\u001b[0m\u001b[0m\n",
      "\u001b[1;32m/home/sophie/anaconda3/envs/py27/lib/python2.7/site-packages/sklearn/decomposition/pca.pyc\u001b[0m in \u001b[0;36mfit\u001b[1;34m(self, X, y)\u001b[0m\n\u001b[0;32m    569\u001b[0m             \u001b[0mReturns\u001b[0m \u001b[0mthe\u001b[0m \u001b[0minstance\u001b[0m \u001b[0mitself\u001b[0m\u001b[1;33m.\u001b[0m\u001b[1;33m\u001b[0m\u001b[0m\n\u001b[0;32m    570\u001b[0m         \"\"\"\n\u001b[1;32m--> 571\u001b[1;33m         \u001b[0mself\u001b[0m\u001b[1;33m.\u001b[0m\u001b[0m_fit\u001b[0m\u001b[1;33m(\u001b[0m\u001b[0mcheck_array\u001b[0m\u001b[1;33m(\u001b[0m\u001b[0mX\u001b[0m\u001b[1;33m)\u001b[0m\u001b[1;33m)\u001b[0m\u001b[1;33m\u001b[0m\u001b[0m\n\u001b[0m\u001b[0;32m    572\u001b[0m         \u001b[1;32mreturn\u001b[0m \u001b[0mself\u001b[0m\u001b[1;33m\u001b[0m\u001b[0m\n\u001b[0;32m    573\u001b[0m \u001b[1;33m\u001b[0m\u001b[0m\n",
      "\u001b[1;32m/home/sophie/anaconda3/envs/py27/lib/python2.7/site-packages/sklearn/utils/validation.pyc\u001b[0m in \u001b[0;36mcheck_array\u001b[1;34m(array, accept_sparse, dtype, order, copy, force_all_finite, ensure_2d, allow_nd, ensure_min_samples, ensure_min_features, warn_on_dtype, estimator)\u001b[0m\n\u001b[0;32m    396\u001b[0m                              % (array.ndim, estimator_name))\n\u001b[0;32m    397\u001b[0m         \u001b[1;32mif\u001b[0m \u001b[0mforce_all_finite\u001b[0m\u001b[1;33m:\u001b[0m\u001b[1;33m\u001b[0m\u001b[0m\n\u001b[1;32m--> 398\u001b[1;33m             \u001b[0m_assert_all_finite\u001b[0m\u001b[1;33m(\u001b[0m\u001b[0marray\u001b[0m\u001b[1;33m)\u001b[0m\u001b[1;33m\u001b[0m\u001b[0m\n\u001b[0m\u001b[0;32m    399\u001b[0m \u001b[1;33m\u001b[0m\u001b[0m\n\u001b[0;32m    400\u001b[0m     \u001b[0mshape_repr\u001b[0m \u001b[1;33m=\u001b[0m \u001b[0m_shape_repr\u001b[0m\u001b[1;33m(\u001b[0m\u001b[0marray\u001b[0m\u001b[1;33m.\u001b[0m\u001b[0mshape\u001b[0m\u001b[1;33m)\u001b[0m\u001b[1;33m\u001b[0m\u001b[0m\n",
      "\u001b[1;32m/home/sophie/anaconda3/envs/py27/lib/python2.7/site-packages/sklearn/utils/validation.pyc\u001b[0m in \u001b[0;36m_assert_all_finite\u001b[1;34m(X)\u001b[0m\n\u001b[0;32m     52\u001b[0m             and not np.isfinite(X).all()):\n\u001b[0;32m     53\u001b[0m         raise ValueError(\"Input contains NaN, infinity\"\n\u001b[1;32m---> 54\u001b[1;33m                          \" or a value too large for %r.\" % X.dtype)\n\u001b[0m\u001b[0;32m     55\u001b[0m \u001b[1;33m\u001b[0m\u001b[0m\n\u001b[0;32m     56\u001b[0m \u001b[1;33m\u001b[0m\u001b[0m\n",
      "\u001b[1;31mValueError\u001b[0m: Input contains NaN, infinity or a value too large for dtype('float64')."
     ]
    }
   ],
   "source": [
    "pca = RandomizedPCA(n_components=2).fit(df) # pca is an instance of class randomizedPCA with data['data']\n",
    "\n",
    "X = pca.transform(df) # reduces data from (1797,64) to (1797,2) though not sure how.\n",
    "\n",
    "print(stats.describe(X))\n",
    "print X.shape\n"
   ]
  },
  {
   "cell_type": "code",
   "execution_count": 9,
   "metadata": {
    "collapsed": false
   },
   "outputs": [
    {
     "name": "stdout",
     "output_type": "stream",
     "text": [
      "Populating the interactive namespace from numpy and matplotlib\n"
     ]
    },
    {
     "data": {
      "image/png": "[encoded data removed]",
      "text/plain": [
       "<matplotlib.figure.Figure at 0x113f8ead0>"
      ]
     },
     "metadata": {},
     "output_type": "display_data"
    }
   ],
   "source": [
    "%pylab inline\n",
    "plt.hist(X[:,0])\n",
    "\n",
    "#plt.scatter(X[:,0], X[:,1])\n",
    "plt.show()"
   ]
  },
  {
   "cell_type": "code",
   "execution_count": 10,
   "metadata": {
    "collapsed": false
   },
   "outputs": [
    {
     "name": "stdout",
     "output_type": "stream",
     "text": [
      "Populating the interactive namespace from numpy and matplotlib\n"
     ]
    },
    {
     "data": {
      "image/png": "[encoded data removed]",
      "text/plain": [
       "<matplotlib.figure.Figure at 0x1175452d0>"
      ]
     },
     "metadata": {},
     "output_type": "display_data"
    }
   ],
   "source": [
    "%pylab inline\n",
    "plt.hist(X[:,1])\n",
    "plt.show()"
   ]
  },
  {
   "cell_type": "code",
   "execution_count": null,
   "metadata": {
    "collapsed": true
   },
   "outputs": [],
   "source": []
  }
 ],
 "metadata": {
  "kernelspec": {
   "display_name": "Python [py27]",
   "language": "python",
   "name": "Python [py27]"
  },
  "language_info": {
   "codemirror_mode": {
    "name": "ipython",
    "version": 2
   },
   "file_extension": ".py",
   "mimetype": "text/x-python",
   "name": "python",
   "nbconvert_exporter": "python",
   "pygments_lexer": "ipython2",
   "version": "2.7.12"
  }
 },
 "nbformat": 4,
 "nbformat_minor": 0
}
