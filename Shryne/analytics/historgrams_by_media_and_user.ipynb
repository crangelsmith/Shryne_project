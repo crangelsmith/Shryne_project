{
 "cells": [
  {
   "cell_type": "markdown",
   "metadata": {},
   "source": [
    "# Plotting historgrams of various metrics by relationship type "
   ]
  },
  {
   "cell_type": "code",
   "execution_count": 30,
   "metadata": {
    "collapsed": false
   },
   "outputs": [],
   "source": [
    "import pandas as pd\n",
    "import seaborn\n",
    "import sys\n",
    "import os\n",
    "\n",
    "sys.path.insert(0, '/home/alexander/PycharmProjects/Shryne_project/Shryne/mining')\n",
    "\n",
    "import query\n",
    "import connector\n"
   ]
  },
  {
   "cell_type": "code",
   "execution_count": 35,
   "metadata": {
    "collapsed": false
   },
   "outputs": [
    {
     "name": "stderr",
     "output_type": "stream",
     "text": [
      "2016-08-09 17:23:48,842 | ERROR   | Couldn't open tunnel localhost:5432 <> localhost:5432 might be in use or destination not reachable.\n"
     ]
    }
   ],
   "source": [
    "sql_query = \"SELECT ;\"\n",
    "\n",
    "dbconnection = connector.ConnectDB()\n",
    "conn = dbconnection.get_connection()\n",
    "q = query.Query(conn, sql_query)\n",
    "query_list = q.get_query_list()\n",
    "query_df = q.get_query_dataframe()\n",
    "\n"
   ]
  },
  {
   "cell_type": "markdown",
   "metadata": {},
   "source": []
  }
 ],
 "metadata": {
  "kernelspec": {
   "display_name": "Python 2",
   "language": "python",
   "name": "python2"
  },
  "language_info": {
   "codemirror_mode": {
    "name": "ipython",
    "version": 2
   },
   "file_extension": ".py",
   "mimetype": "text/x-python",
   "name": "python",
   "nbconvert_exporter": "python",
   "pygments_lexer": "ipython2",
   "version": "2.7.12"
  }
 },
 "nbformat": 4,
 "nbformat_minor": 0
}
