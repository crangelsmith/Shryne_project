{
 "cells": [
  {
   "cell_type": "markdown",
   "metadata": {},
   "source": [
    "# Plotting historgrams of various metrics by relationship type "
   ]
  },
  {
   "cell_type": "code",
   "execution_count": 30,
   "metadata": {
    "collapsed": false
   },
   "outputs": [],
   "source": [
    "import pandas as pd\n",
    "import seaborn\n",
    "import sys\n",
    "import os\n",
    "\n",
    "sys.path.insert(0, '/home/alexander/PycharmProjects/Shryne_project/Shryne/mining')\n",
    "\n",
    "import query\n",
    "import connector\n"
   ]
  },
  {
   "cell_type": "code",
   "execution_count": 43,
   "metadata": {
    "collapsed": false
   },
   "outputs": [
    {
     "name": "stderr",
     "output_type": "stream",
     "text": [
      "2016-08-09 17:48:03,736 | ERROR   | Couldn't open tunnel localhost:5432 <> localhost:5432 might be in use or destination not reachable.\n"
     ]
    },
    {
     "data": {
      "text/plain": [
       "<bound method DataFrame.head of        userid  contactid  sent_total is_fake\n",
       "0          11         19           6   False\n",
       "1          11         19          30   False\n",
       "2          11         19           1   False\n",
       "3          11         19           2   False\n",
       "4          12         23           0   False\n",
       "5          14         25           0   False\n",
       "6          15         27           0   False\n",
       "7          15         27           0   False\n",
       "8          16         28           0   False\n",
       "9          16         28           0   False\n",
       "10         17         29           0   False\n",
       "11         22         32           0   False\n",
       "12         10         35           4   False\n",
       "13         10         35          23   False\n",
       "14         10         35          45   False\n",
       "15         10         35          12   False\n",
       "16         10         42           1   False\n",
       "17         10         42           1   False\n",
       "18         10         42          10   False\n",
       "19         10         42           3   False\n",
       "20         10         46          65   False\n",
       "21         10         46         318   False\n",
       "22         10         46         376   False\n",
       "23         10         46           7   False\n",
       "24         10         46           9   False\n",
       "25         10         46          53   False\n",
       "26         10         46         460   False\n",
       "27         10         46          62   False\n",
       "28         10         46         189   False\n",
       "29         10         46         411   False\n",
       "...       ...        ...         ...     ...\n",
       "31719   12292      33066         379   False\n",
       "31720   12292      33066         333   False\n",
       "31721   12292      33066           2   False\n",
       "31722   12292      33066          62   False\n",
       "31723   12292      33066         198   False\n",
       "31724   12292      33066          17   False\n",
       "31725   12292      33066         144   False\n",
       "31726   12292      33066         411   False\n",
       "31727   12292      33066          38   False\n",
       "31728   12292      33066          68   False\n",
       "31729   12292      33066           9   False\n",
       "31730   12292      33066          38   False\n",
       "31731   12292      33066           7   False\n",
       "31732   12292      33066          32   False\n",
       "31733   12292      33066           2   False\n",
       "31734   12292      33066          20   False\n",
       "31735   12292      33066           3   False\n",
       "31736   12318      33144           4   False\n",
       "31737   12292      33066           1   False\n",
       "31738   12316      33142           7   False\n",
       "31739   12326      33155          31   False\n",
       "31740   12326      33155           6   False\n",
       "31741   12326      33155          10   False\n",
       "31742   12326      33155          12   False\n",
       "31743   12326      33155          10   False\n",
       "31744   12326      33155          32   False\n",
       "31745   12326      33155          14   False\n",
       "31746   12326      33155          15   False\n",
       "31747   12326      33155          11   False\n",
       "31748   12326      33155          21   False\n",
       "\n",
       "[31749 rows x 4 columns]>"
      ]
     },
     "execution_count": 43,
     "metadata": {},
     "output_type": "execute_result"
    }
   ],
   "source": [
    "sql_query = \"\"\"SELECT users.id AS userid, contacts.id AS contactid, sent_total, is_fake\n",
    "               FROM analytics_metrics\n",
    "               JOIN analytics_scores\n",
    "               ON analytics_metrics.analytics_score_id = analytics_scores.id\n",
    "               JOIN contacts\n",
    "               ON analytics_scores.contact_id = contacts.id\n",
    "               JOIN users\n",
    "               ON contacts.user_id = users.id\n",
    "               WHERE is_fake = false;\"\"\"\n",
    "              \n",
    "\n",
    "dbconnection = connector.ConnectDB()\n",
    "conn = dbconnection.get_connection()\n",
    "q = query.Query(conn, sql_query)\n",
    "query_list = q.get_query_list()\n",
    "query_df = q.get_query_dataframe()\n",
    "query_df.shape\n",
    "query_df.head\n",
    "\n"
   ]
  },
  {
   "cell_type": "code",
   "execution_count": null,
   "metadata": {
    "collapsed": false
   },
   "outputs": [],
   "source": []
  },
  {
   "cell_type": "code",
   "execution_count": null,
   "metadata": {
    "collapsed": false
   },
   "outputs": [],
   "source": []
  },
  {
   "cell_type": "code",
   "execution_count": null,
   "metadata": {
    "collapsed": true
   },
   "outputs": [],
   "source": []
  }
 ],
 "metadata": {
  "kernelspec": {
   "display_name": "Python 2",
   "language": "python",
   "name": "python2"
  },
  "language_info": {
   "codemirror_mode": {
    "name": "ipython",
    "version": 2
   },
   "file_extension": ".py",
   "mimetype": "text/x-python",
   "name": "python",
   "nbconvert_exporter": "python",
   "pygments_lexer": "ipython2",
   "version": "2.7.12"
  }
 },
 "nbformat": 4,
 "nbformat_minor": 0
}
