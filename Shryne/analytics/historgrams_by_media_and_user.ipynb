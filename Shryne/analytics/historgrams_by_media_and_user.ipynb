{
 "cells": [
  {
   "cell_type": "markdown",
   "metadata": {},
   "source": [
    "# Plotting historgrams of various metrics by relationship type "
   ]
  },
  {
   "cell_type": "code",
   "execution_count": null,
   "metadata": {
    "collapsed": false
   },
   "outputs": [],
   "source": [
    "import pandas as pd\n",
    "import seaborn\n",
    "import sys\n",
    "import os\n",
    "\n",
    "sys.path.insert(0, '/home/alexander/PycharmProjects/Shryne_project/Shryne/mining')\n",
    "\n",
    "import query\n",
    "import connector"
   ]
  },
  {
   "cell_type": "markdown",
   "metadata": {},
   "source": [
    "Trying to select all of the user-contact total number of messages sent, where the contact is not a fake one\n",
    "Unsure as to why there are multiple entries for the same user-contact pair in some cases, and not others."
   ]
  },
  {
   "cell_type": "code",
   "execution_count": null,
   "metadata": {
    "collapsed": false
   },
   "outputs": [],
   "source": [
    "sql_query = \"\"\"SELECT users.id AS userid, contacts.id AS contactid, sent_total\n",
    "               ON analytics_metrics.analytics_score_id = analytics_scores.id\n",
    "               JOIN contacts\n",
    "               ON analytics_scores.contact_id = contacts.id\n",
    "               JOIN users\n",
    "               ON contacts.user_id = users.id\n",
    "               WHERE is_fake = false;\"\"\"\n",
    "              \n",
    "\n",
    "dbconnection = connector.ConnectDB()\n",
    "conn = dbconnection.get_connection()\n",
    "q = query.Query(conn, sql_query)\n",
    "query_list = q.get_query_list()\n",
    "query_df = q.get_query_dataframe()\n",
    "query_df.shape\n",
    "query_df.head"
   ]
  },
  {
   "cell_type": "markdown",
   "metadata": {},
   "source": []
  },
  {
   "cell_type": "code",
   "execution_count": null,
   "metadata": {
    "collapsed": false
   },
   "outputs": [],
   "source": [
    "sql_query = \"\"\"SELECT users.id AS userid, contacts.id AS contactid, sent_total, is_fake\n",
    "               FROM analytics_metrics\n",
    "               JOIN analytics_scores\n",
    "               ON analytics_metrics.analytics_score_id = analytics_scores.id\n",
    "               JOIN contacts\n",
    "               ON analytics_scores.contact_id = contacts.id\n",
    "               JOIN users\n",
    "               ON contacts.user_id = users.id\n",
    "               WHERE is_fake = false;\"\"\"\n",
    "              \n",
    "\n",
    "dbconnection = connector.ConnectDB()\n",
    "conn = dbconnection.get_connection()\n",
    "q = query.Query(conn, sql_query)\n",
    "query_list = q.get_query_list()\n",
    "query_df = q.get_query_dataframe()\n",
    "query_df.shape\n",
    "query_df.head"
   ]
  },
  {
   "cell_type": "code",
   "execution_count": null,
   "metadata": {
    "collapsed": true
   },
   "outputs": [],
   "source": [
    ""
   ]
  }
 ],
 "metadata": {
  "kernelspec": {
   "display_name": "Python 2",
   "language": "python",
   "name": "python2"
  },
  "language_info": {
   "codemirror_mode": {
    "name": "ipython",
    "version": 2.0
   },
   "file_extension": ".py",
   "mimetype": "text/x-python",
   "name": "python",
   "nbconvert_exporter": "python",
   "pygments_lexer": "ipython2",
   "version": "2.7.12"
  }
 },
 "nbformat": 4,
 "nbformat_minor": 0
}