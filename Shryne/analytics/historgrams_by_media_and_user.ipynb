{
 "cells": [
  {
   "cell_type": "markdown",
   "metadata": {},
   "source": [
    "# Plotting historgrams of various metrics by relationship type "
   ]
  },
  {
   "cell_type": "code",
   "execution_count": 18,
   "metadata": {
    "collapsed": false
   },
   "outputs": [],
   "source": [
    "import pandas as pd\n",
    "import seaborn\n",
    "import sys\n",
    "import os\n",
    "\n",
    "#sys.path.insert(0, '/home/alexander/PycharmProjects/Shryne_project/Shryne/mining')\n",
    "sys.path.insert(0, '/home/sophie/Data_science/Shryne_project/Shryne/mining')\n",
    "\n",
    "import query\n",
    "import connector"
   ]
  },
  {
   "cell_type": "markdown",
   "metadata": {},
   "source": [
    "Trying to select all of the user-contact total number of messages sent, where the contact is not a fake one\n",
    "Unsure as to why there are multiple entries for the same user-contact pair in some cases, and not others."
   ]
  },
  {
   "cell_type": "code",
   "execution_count": 14,
   "metadata": {
    "collapsed": false
   },
   "outputs": [
    {
     "name": "stderr",
     "output_type": "stream",
     "text": [
      "2016-08-10 10:39:24,878 | ERROR   | Couldn't open tunnel localhost:5432 <> localhost:5432 might be in use or destination not reachable.\n"
     ]
    },
    {
     "data": {
      "text/plain": [
       "(136904, 90)"
      ]
     },
     "execution_count": 14,
     "metadata": {},
     "output_type": "execute_result"
    }
   ],
   "source": [
    "sql_query = \"\"\"SELECT * from analytics_metrics\n",
    "            \"\"\"\n",
    "              \n",
    "\n",
    "dbconnection = connector.ConnectDB()\n",
    "conn = dbconnection.get_connection()\n",
    "q = query.Query(conn, sql_query)\n",
    "query_list = q.get_query_list()\n",
    "query_df = q.get_query_dataframe()\n",
    "query_df.shape\n",
    "#query_df.head"
   ]
  },
  {
   "cell_type": "code",
   "execution_count": 15,
   "metadata": {
    "collapsed": false
   },
   "outputs": [
    {
     "name": "stdout",
     "output_type": "stream",
     "text": [
      "['id', 'analytics_score_id', 'text_message_response_time_by_user', 'text_message_response_time_by_contact', 'text_message_response_time_total', 'facebook_message_response_time_by_user', 'facebook_message_response_time_by_contact', 'facebook_message_response_time_total', 'gmail_response_time_by_user', 'gmail_response_time_by_contact']\n"
     ]
    },
    {
     "data": {
      "text/plain": [
       "[('id', 136904),\n",
       " ('analytics_score_id', 137064),\n",
       " ('text_message_response_time_by_user', 2100438.0),\n",
       " ('text_message_response_time_by_contact', 2512695.0),\n",
       " ('text_message_response_time_total', 3908288.0),\n",
       " ('facebook_message_response_time_by_user', 1611420.0),\n",
       " ('facebook_message_response_time_by_contact', 1433760.0),\n",
       " ('facebook_message_response_time_total', 3045180.0),\n",
       " ('gmail_response_time_by_user', 1123260.0),\n",
       " ('gmail_response_time_by_contact', 907053.0),\n",
       " ('gmail_response_time_total', 1554934.0),\n",
       " ('hangout_response_time_by_user', 83980.0),\n",
       " ('hangout_response_time_by_contact', 138226.0),\n",
       " ('hangout_response_time_total', 181152.0),\n",
       " ('response_time_by_user', 2100438.0),\n",
       " ('response_time_by_contact', 2512695.0),\n",
       " ('response_time_total', 3908288.0),\n",
       " ('started_by_user', 112),\n",
       " ('started_by_contact', 132),\n",
       " ('started_total', 175),\n",
       " ('sent_by_user', 23944),\n",
       " ('sent_by_contact', 23283),\n",
       " ('sent_total', 45204),\n",
       " ('words_by_user', 144351.0),\n",
       " ('words_by_contact', 1146952.0),\n",
       " ('words_total', 1251161.0),\n",
       " ('discounted_sent_by_user', 2394.4000000000001),\n",
       " ('discounted_sent_by_contact', 2328.3000000000002),\n",
       " ('discounted_sent_total', 4520.3999999999996),\n",
       " ('text_message_started_by_user', 59),\n",
       " ('text_message_started_by_contact', 79),\n",
       " ('text_message_started_total', 120),\n",
       " ('facebook_message_started_by_user', 41),\n",
       " ('facebook_message_started_by_contact', 35),\n",
       " ('facebook_message_started_total', 58),\n",
       " ('gmail_started_by_user', 112),\n",
       " ('gmail_started_by_contact', 132),\n",
       " ('gmail_started_total', 175),\n",
       " ('hangout_started_by_user', 63),\n",
       " ('hangout_started_by_contact', 61),\n",
       " ('hangout_started_total', 103),\n",
       " ('text_message_sent_by_user', 23944),\n",
       " ('text_message_sent_by_contact', 23283),\n",
       " ('text_message_sent_total', 45204),\n",
       " ('facebook_message_sent_by_user', 8416),\n",
       " ('facebook_message_sent_by_contact', 8746),\n",
       " ('facebook_message_sent_total', 16666),\n",
       " ('gmail_sent_by_user', 1949),\n",
       " ('gmail_sent_by_contact', 1761),\n",
       " ('gmail_sent_total', 3493),\n",
       " ('hangout_sent_by_user', 2875),\n",
       " ('hangout_sent_by_contact', 2110),\n",
       " ('hangout_sent_total', 4985),\n",
       " ('text_message_words_by_user', 144351.0),\n",
       " ('text_message_words_by_contact', 154134.0),\n",
       " ('text_message_words_total', 298485.0),\n",
       " ('facebook_message_words_by_user', 34014.0),\n",
       " ('facebook_message_words_by_contact', 38395.0),\n",
       " ('facebook_message_words_total', 64211.0),\n",
       " ('gmail_words_by_user', 104209.0),\n",
       " ('gmail_words_by_contact', 1146952.0),\n",
       " ('gmail_words_total', 1251161.0),\n",
       " ('hangout_words_by_user', 19654.0),\n",
       " ('hangout_words_by_contact', 13420.0),\n",
       " ('hangout_words_total', 33074.0),\n",
       " ('user_responded_when_contact_started', 80),\n",
       " ('contact_responded_when_user_started', 55),\n",
       " ('text_message_user_responded_when_contact_started', 57),\n",
       " ('text_message_contact_responded_when_user_started', 54),\n",
       " ('facebook_message_user_responded_when_contact_started', 35),\n",
       " ('facebook_message_contact_responded_when_user_started', 40),\n",
       " ('gmail_user_responded_when_contact_started', 80),\n",
       " ('gmail_contact_responded_when_user_started', 55),\n",
       " ('hangout_user_responded_when_contact_started', 30),\n",
       " ('hangout_contact_responded_when_user_started', 42),\n",
       " ('no_of_message_responses_by_user', 14226),\n",
       " ('no_of_message_responses_by_contact', 14226),\n",
       " ('no_of_message_responses_by_total', 28452),\n",
       " ('text_message_no_of_message_responses_by_user', 14226),\n",
       " ('text_message_no_of_message_responses_by_contact', 14226),\n",
       " ('text_message_no_of_message_responses_by_total', 28452),\n",
       " ('facebook_message_no_of_message_responses_by_user', 3783),\n",
       " ('facebook_message_no_of_message_responses_by_contact', 3792),\n",
       " ('facebook_message_no_of_message_responses_by_total', 7575),\n",
       " ('gmail_no_of_message_responses_by_user', 1150),\n",
       " ('gmail_no_of_message_responses_by_contact', 1147),\n",
       " ('gmail_no_of_message_responses_by_total', 2297),\n",
       " ('hangout_no_of_message_responses_by_user', 1219),\n",
       " ('hangout_no_of_message_responses_by_contact', 1217),\n",
       " ('hangout_no_of_message_responses_by_total', 2436)]"
      ]
     },
     "execution_count": 15,
     "metadata": {},
     "output_type": "execute_result"
    }
   ],
   "source": [
    "print list(query_df)[0:10]\n",
    "#print query_df['text_message_response_time_by_user'][query_df['text_message_response_time_by_user'] == 0]\n",
    "\n",
    "[(x, max(query_df[x])) for x in list(query_df) if max(query_df[x]) != 0]"
   ]
  },
  {
   "cell_type": "code",
   "execution_count": 17,
   "metadata": {
    "collapsed": false
   },
   "outputs": [
    {
     "name": "stderr",
     "output_type": "stream",
     "text": [
      "2016-08-10 10:41:38,945 | ERROR   | Couldn't open tunnel localhost:5432 <> localhost:5432 might be in use or destination not reachable.\n"
     ]
    },
    {
     "data": {
      "text/plain": [
       "(31749, 4)"
      ]
     },
     "execution_count": 17,
     "metadata": {},
     "output_type": "execute_result"
    }
   ],
   "source": [
    "sql_query = \"\"\"SELECT users.id AS userid, contacts.id AS contactid, sent_total, is_fake\n",
    "               FROM analytics_metrics\n",
    "               JOIN analytics_scores\n",
    "               ON analytics_metrics.analytics_score_id = analytics_scores.id\n",
    "               JOIN contacts\n",
    "               ON analytics_scores.contact_id = contacts.id\n",
    "               JOIN users\n",
    "               ON contacts.user_id = users.id\n",
    "               WHERE is_fake = false;\"\"\"\n",
    "              \n",
    "\n",
    "dbconnection = connector.ConnectDB()\n",
    "conn = dbconnection.get_connection()\n",
    "q = query.Query(conn, sql_query)\n",
    "query_list = q.get_query_list()\n",
    "query_df = q.get_query_dataframe()\n",
    "query_df.shape\n",
    "#query_df.head"
   ]
  },
  {
   "cell_type": "code",
   "execution_count": null,
   "metadata": {
    "collapsed": true
   },
   "outputs": [],
   "source": [
    ""
   ]
  }
 ],
 "metadata": {
  "anaconda-cloud": {},
  "kernelspec": {
   "display_name": "Python 2",
   "language": "python",
   "name": "python2"
  },
  "language_info": {
   "codemirror_mode": {
    "name": "ipython",
    "version": 2.0
   },
   "file_extension": ".py",
   "mimetype": "text/x-python",
   "name": "python",
   "nbconvert_exporter": "python",
   "pygments_lexer": "ipython2",
   "version": "2.7.12"
  }
 },
 "nbformat": 4,
 "nbformat_minor": 0
}