{
 "cells": [
  {
   "cell_type": "code",
   "execution_count": 38,
   "metadata": {
    "collapsed": false
   },
   "outputs": [],
   "source": [
    "import pandas as pd\n",
    "import matplotlib.pyplot as plt\n",
    "import numpy as np\n",
    "df=pd.read_csv('../data/SELECT_ALL_FROM_all_messages.csv', header=0)"
   ]
  },
  {
   "cell_type": "code",
   "execution_count": 39,
   "metadata": {
    "collapsed": false
   },
   "outputs": [],
   "source": [
    "df = df.drop(['Unnamed: 0'],axis=1)\n",
    "#df = df.drop(['message'],axis=1)"
   ]
  },
  {
   "cell_type": "code",
   "execution_count": 40,
   "metadata": {
    "collapsed": false
   },
   "outputs": [],
   "source": [
    "df['sent_at'] = pd.to_datetime(df['sent_at'])"
   ]
  },
  {
   "cell_type": "code",
   "execution_count": 41,
   "metadata": {
    "collapsed": false
   },
   "outputs": [
    {
     "data": {
      "text/plain": [
       "204.5"
      ]
     },
     "execution_count": 41,
     "metadata": {},
     "output_type": "execute_result"
    }
   ],
   "source": [
    "df.groupby('contact_id').count()['user_id'].median()"
   ]
  },
  {
   "cell_type": "code",
   "execution_count": 42,
   "metadata": {
    "collapsed": false
   },
   "outputs": [],
   "source": [
    "ex = df.loc[df['relationship']=='Ex']\n",
    "family = df.loc[df['relationship']=='Family']\n",
    "general = df.loc[df['relationship']=='General']\n",
    "partner = df.loc[df['relationship']=='Partner']\n",
    "friend = df.loc[df['relationship']=='Friend']\n",
    "\n",
    "\n",
    "\n",
    "gmail_messages = df.loc[df['channel']=='gmail']\n",
    "hangout_messages = df.loc[df['channel']=='hangout']\n",
    "text_messages = df.loc[df['channel']=='text_message']\n",
    "facebook_messages = df.loc[df['channel']=='facebook_message']"
   ]
  },
  {
   "cell_type": "code",
   "execution_count": 43,
   "metadata": {
    "collapsed": false
   },
   "outputs": [
    {
     "data": {
      "text/plain": [
       "(57, 5)"
      ]
     },
     "execution_count": 43,
     "metadata": {},
     "output_type": "execute_result"
    }
   ],
   "source": [
    "general.groupby('contact_id').count().shape"
   ]
  },
  {
   "cell_type": "code",
   "execution_count": 44,
   "metadata": {
    "collapsed": false
   },
   "outputs": [],
   "source": [
    "no_messages_each_ex = ex.groupby('contact_id').count()['user_id']\n",
    "no_messages_each_family = family.groupby('contact_id').count()['user_id']\n",
    "no_messages_each_general = general.groupby('contact_id').count()['user_id']\n",
    "no_messages_each_partner = partner.groupby('contact_id').count()['user_id']\n",
    "no_messages_each_friend = friend.groupby('contact_id').count()['user_id']"
   ]
  },
  {
   "cell_type": "code",
   "execution_count": 45,
   "metadata": {
    "collapsed": false
   },
   "outputs": [],
   "source": [
    "%matplotlib inline\n",
    "plt.style.use('ggplot')"
   ]
  },
  {
   "cell_type": "code",
   "execution_count": 46,
   "metadata": {
    "collapsed": false
   },
   "outputs": [
    {
     "data": {
      "text/plain": [
       "1379005"
      ]
     },
     "execution_count": 46,
     "metadata": {},
     "output_type": "execute_result"
    }
   ],
   "source": [
    "sum(no_messages_each_ex)+sum(no_messages_each_family)+sum(no_messages_each_friend)+sum(no_messages_each_general)+sum(no_messages_each_partner)"
   ]
  },
  {
   "cell_type": "code",
   "execution_count": 47,
   "metadata": {
    "collapsed": false
   },
   "outputs": [
    {
     "data": {
      "text/plain": [
       "<matplotlib.axes._subplots.AxesSubplot at 0x7f7b86347f10>"
      ]
     },
     "execution_count": 47,
     "metadata": {},
     "output_type": "execute_result"
    },
    {
     "data": {
      "image/png": "[encoded data removed]",
      "text/plain": [
       "<matplotlib.figure.Figure at 0x7f7b91157c50>"
      ]
     },
     "metadata": {},
     "output_type": "display_data"
    }
   ],
   "source": [
    "no_messages_each_ex.hist(bins=20, range=(1,100))"
   ]
  },
  {
   "cell_type": "code",
   "execution_count": 48,
   "metadata": {
    "collapsed": false
   },
   "outputs": [
    {
     "data": {
      "text/plain": [
       "<matplotlib.axes._subplots.AxesSubplot at 0x7f7b8f22cf50>"
      ]
     },
     "execution_count": 48,
     "metadata": {},
     "output_type": "execute_result"
    },
    {
     "data": {
      "image/png": "[encoded data removed]",
      "text/plain": [
       "<matplotlib.figure.Figure at 0x7f7b915305d0>"
      ]
     },
     "metadata": {},
     "output_type": "display_data"
    }
   ],
   "source": [
    "no_messages_each_family.hist(bins=50)"
   ]
  },
  {
   "cell_type": "code",
   "execution_count": 49,
   "metadata": {
    "collapsed": false
   },
   "outputs": [
    {
     "data": {
      "text/plain": [
       "<matplotlib.axes._subplots.AxesSubplot at 0x7f7b8c554f50>"
      ]
     },
     "execution_count": 49,
     "metadata": {},
     "output_type": "execute_result"
    },
    {
     "data": {
      "image/png": "[encoded data removed]",
      "text/plain": [
       "<matplotlib.figure.Figure at 0x7f7b8f705590>"
      ]
     },
     "metadata": {},
     "output_type": "display_data"
    }
   ],
   "source": [
    "no_messages_each_partner.hist(bins=50, range=(0,4000))"
   ]
  },
  {
   "cell_type": "code",
   "execution_count": 50,
   "metadata": {
    "collapsed": false
   },
   "outputs": [
    {
     "data": {
      "text/plain": [
       "<matplotlib.axes._subplots.AxesSubplot at 0x7f7b921182d0>"
      ]
     },
     "execution_count": 50,
     "metadata": {},
     "output_type": "execute_result"
    },
    {
     "data": {
      "image/png": "[encoded data removed]",
      "text/plain": [
       "<matplotlib.figure.Figure at 0x7f7b921328d0>"
      ]
     },
     "metadata": {},
     "output_type": "display_data"
    }
   ],
   "source": [
    "no_messages_each_friend.hist(bins=50)"
   ]
  },
  {
   "cell_type": "code",
   "execution_count": 51,
   "metadata": {
    "collapsed": false
   },
   "outputs": [
    {
     "data": {
      "text/plain": [
       "2391.9510869565215"
      ]
     },
     "execution_count": 51,
     "metadata": {},
     "output_type": "execute_result"
    }
   ],
   "source": [
    "no_messages_each_ex.mean()"
   ]
  },
  {
   "cell_type": "code",
   "execution_count": 52,
   "metadata": {
    "collapsed": false
   },
   "outputs": [
    {
     "data": {
      "text/plain": [
       "2302.766129032258"
      ]
     },
     "execution_count": 52,
     "metadata": {},
     "output_type": "execute_result"
    }
   ],
   "source": [
    "no_messages_each_partner.mean()"
   ]
  },
  {
   "cell_type": "code",
   "execution_count": 53,
   "metadata": {
    "collapsed": false
   },
   "outputs": [
    {
     "data": {
      "text/plain": [
       "1252.8543307086613"
      ]
     },
     "execution_count": 53,
     "metadata": {},
     "output_type": "execute_result"
    }
   ],
   "source": [
    "no_messages_each_friend.mean()"
   ]
  },
  {
   "cell_type": "code",
   "execution_count": 54,
   "metadata": {
    "collapsed": false
   },
   "outputs": [
    {
     "data": {
      "text/plain": [
       "375.3131313131313"
      ]
     },
     "execution_count": 54,
     "metadata": {},
     "output_type": "execute_result"
    }
   ],
   "source": [
    "no_messages_each_family.mean()"
   ]
  },
  {
   "cell_type": "code",
   "execution_count": 55,
   "metadata": {
    "collapsed": false
   },
   "outputs": [
    {
     "data": {
      "text/plain": [
       "217.87719298245614"
      ]
     },
     "execution_count": 55,
     "metadata": {},
     "output_type": "execute_result"
    }
   ],
   "source": [
    "no_messages_each_general.mean()"
   ]
  },
  {
   "cell_type": "code",
   "execution_count": 56,
   "metadata": {
    "collapsed": false
   },
   "outputs": [
    {
     "data": {
      "text/plain": [
       "243.0"
      ]
     },
     "execution_count": 56,
     "metadata": {},
     "output_type": "execute_result"
    }
   ],
   "source": [
    "no_messages_each_ex.median()"
   ]
  },
  {
   "cell_type": "code",
   "execution_count": 57,
   "metadata": {
    "collapsed": false
   },
   "outputs": [
    {
     "data": {
      "text/plain": [
       "376.5"
      ]
     },
     "execution_count": 57,
     "metadata": {},
     "output_type": "execute_result"
    }
   ],
   "source": [
    "no_messages_each_partner.median()"
   ]
  },
  {
   "cell_type": "code",
   "execution_count": 58,
   "metadata": {
    "collapsed": false
   },
   "outputs": [
    {
     "data": {
      "text/plain": [
       "224.5"
      ]
     },
     "execution_count": 58,
     "metadata": {},
     "output_type": "execute_result"
    }
   ],
   "source": [
    "no_messages_each_friend.median()"
   ]
  },
  {
   "cell_type": "code",
   "execution_count": 59,
   "metadata": {
    "collapsed": false
   },
   "outputs": [
    {
     "data": {
      "text/plain": [
       "83.0"
      ]
     },
     "execution_count": 59,
     "metadata": {},
     "output_type": "execute_result"
    }
   ],
   "source": [
    "no_messages_each_family.median()"
   ]
  },
  {
   "cell_type": "code",
   "execution_count": 60,
   "metadata": {
    "collapsed": false
   },
   "outputs": [
    {
     "data": {
      "text/plain": [
       "37.0"
      ]
     },
     "execution_count": 60,
     "metadata": {},
     "output_type": "execute_result"
    }
   ],
   "source": [
    "no_messages_each_general.median()"
   ]
  },
  {
   "cell_type": "code",
   "execution_count": 61,
   "metadata": {
    "collapsed": false
   },
   "outputs": [
    {
     "data": {
      "text/plain": [
       "(254,)"
      ]
     },
     "execution_count": 61,
     "metadata": {},
     "output_type": "execute_result"
    }
   ],
   "source": [
    "no_messages_each_friend.shape"
   ]
  },
  {
   "cell_type": "code",
   "execution_count": 62,
   "metadata": {
    "collapsed": false
   },
   "outputs": [
    {
     "data": {
      "text/plain": [
       "pandas.tslib.Timestamp"
      ]
     },
     "execution_count": 62,
     "metadata": {},
     "output_type": "execute_result"
    }
   ],
   "source": [
    "type(df['sent_at'][1])"
   ]
  },
  {
   "cell_type": "code",
   "execution_count": 63,
   "metadata": {
    "collapsed": false
   },
   "outputs": [
    {
     "data": {
      "text/plain": [
       "Timedelta('136 days 04:15:45')"
      ]
     },
     "execution_count": 63,
     "metadata": {},
     "output_type": "execute_result"
    }
   ],
   "source": [
    "df['sent_at'][500] - df['sent_at'][30]"
   ]
  },
  {
   "cell_type": "code",
   "execution_count": 64,
   "metadata": {
    "collapsed": false
   },
   "outputs": [
    {
     "data": {
      "text/html": [
       "<div>\n",
       "<table border=\"1\" class=\"dataframe\">\n",
       "  <thead>\n",
       "    <tr style=\"text-align: right;\">\n",
       "      <th></th>\n",
       "      <th>user_id</th>\n",
       "      <th>contact_id</th>\n",
       "      <th>relationship</th>\n",
       "      <th>channel</th>\n",
       "      <th>sent_at</th>\n",
       "      <th>message</th>\n",
       "    </tr>\n",
       "  </thead>\n",
       "  <tbody>\n",
       "    <tr>\n",
       "      <th>0</th>\n",
       "      <td>10</td>\n",
       "      <td>35</td>\n",
       "      <td>Ex</td>\n",
       "      <td>gmail</td>\n",
       "      <td>2010-10-11 02:22:16</td>\n",
       "      <td>hey aldo,\\nit was nice to meet you the other d...</td>\n",
       "    </tr>\n",
       "    <tr>\n",
       "      <th>1</th>\n",
       "      <td>10</td>\n",
       "      <td>35</td>\n",
       "      <td>Ex</td>\n",
       "      <td>gmail</td>\n",
       "      <td>2010-10-13 05:25:54</td>\n",
       "      <td>That sounds great! My only complication is a g...</td>\n",
       "    </tr>\n",
       "    <tr>\n",
       "      <th>2</th>\n",
       "      <td>10</td>\n",
       "      <td>35</td>\n",
       "      <td>Ex</td>\n",
       "      <td>gmail</td>\n",
       "      <td>2010-10-15 05:02:18</td>\n",
       "      <td>Alright. It looks like I'll be going to this T...</td>\n",
       "    </tr>\n",
       "    <tr>\n",
       "      <th>3</th>\n",
       "      <td>10</td>\n",
       "      <td>35</td>\n",
       "      <td>Ex</td>\n",
       "      <td>gmail</td>\n",
       "      <td>2010-10-16 21:22:33</td>\n",
       "      <td>Hey Aldo! Sorry for not getting back to you.. ...</td>\n",
       "    </tr>\n",
       "    <tr>\n",
       "      <th>4</th>\n",
       "      <td>10</td>\n",
       "      <td>35</td>\n",
       "      <td>Ex</td>\n",
       "      <td>gmail</td>\n",
       "      <td>2010-10-21 03:36:04</td>\n",
       "      <td>Hey Aldo!\\nSorry for the slow reply; I'd defin...</td>\n",
       "    </tr>\n",
       "  </tbody>\n",
       "</table>\n",
       "</div>"
      ],
      "text/plain": [
       "   user_id  contact_id relationship channel             sent_at  \\\n",
       "0       10          35           Ex   gmail 2010-10-11 02:22:16   \n",
       "1       10          35           Ex   gmail 2010-10-13 05:25:54   \n",
       "2       10          35           Ex   gmail 2010-10-15 05:02:18   \n",
       "3       10          35           Ex   gmail 2010-10-16 21:22:33   \n",
       "4       10          35           Ex   gmail 2010-10-21 03:36:04   \n",
       "\n",
       "                                             message  \n",
       "0  hey aldo,\\nit was nice to meet you the other d...  \n",
       "1  That sounds great! My only complication is a g...  \n",
       "2  Alright. It looks like I'll be going to this T...  \n",
       "3  Hey Aldo! Sorry for not getting back to you.. ...  \n",
       "4  Hey Aldo!\\nSorry for the slow reply; I'd defin...  "
      ]
     },
     "execution_count": 64,
     "metadata": {},
     "output_type": "execute_result"
    }
   ],
   "source": [
    "ex.head()"
   ]
  },
  {
   "cell_type": "code",
   "execution_count": 65,
   "metadata": {
    "collapsed": false
   },
   "outputs": [
    {
     "data": {
      "text/plain": [
       "(57, 5)"
      ]
     },
     "execution_count": 65,
     "metadata": {},
     "output_type": "execute_result"
    }
   ],
   "source": [
    "general.groupby('contact_id').count().shape"
   ]
  },
  {
   "cell_type": "code",
   "execution_count": 66,
   "metadata": {
    "collapsed": false
   },
   "outputs": [
    {
     "data": {
      "text/plain": [
       "(12419, 6)"
      ]
     },
     "execution_count": 66,
     "metadata": {},
     "output_type": "execute_result"
    }
   ],
   "source": [
    "general.shape"
   ]
  },
  {
   "cell_type": "code",
   "execution_count": 67,
   "metadata": {
    "collapsed": false
   },
   "outputs": [
    {
     "data": {
      "text/plain": [
       "(440119, 6)"
      ]
     },
     "execution_count": 67,
     "metadata": {},
     "output_type": "execute_result"
    }
   ],
   "source": [
    "ex.shape"
   ]
  },
  {
   "cell_type": "code",
   "execution_count": 68,
   "metadata": {
    "collapsed": false
   },
   "outputs": [],
   "source": [
    "ex_email = ex.loc[df['channel']=='gmail']\n",
    "ex_hangout = ex.loc[df['channel']=='hangout']\n",
    "ex_text_message = ex.loc[df['channel']=='text_message']\n",
    "ex_facebook = ex.loc[df['channel']=='facebook_message']"
   ]
  },
  {
   "cell_type": "code",
   "execution_count": 69,
   "metadata": {
    "collapsed": false
   },
   "outputs": [
    {
     "data": {
      "text/plain": [
       "(30671, 6)"
      ]
     },
     "execution_count": 69,
     "metadata": {},
     "output_type": "execute_result"
    }
   ],
   "source": [
    "ex_email.shape"
   ]
  },
  {
   "cell_type": "code",
   "execution_count": 70,
   "metadata": {
    "collapsed": false
   },
   "outputs": [
    {
     "data": {
      "text/plain": [
       "(26265, 6)"
      ]
     },
     "execution_count": 70,
     "metadata": {},
     "output_type": "execute_result"
    }
   ],
   "source": [
    "ex_hangout.shape"
   ]
  },
  {
   "cell_type": "code",
   "execution_count": 71,
   "metadata": {
    "collapsed": false
   },
   "outputs": [
    {
     "data": {
      "text/plain": [
       "(245633, 6)"
      ]
     },
     "execution_count": 71,
     "metadata": {},
     "output_type": "execute_result"
    }
   ],
   "source": [
    "ex_text_message"
   ]
  },
  {
   "cell_type": "code",
   "execution_count": 72,
   "metadata": {
    "collapsed": false
   },
   "outputs": [
    {
     "data": {
      "text/plain": [
       "(137550, 6)"
      ]
     },
     "execution_count": 72,
     "metadata": {},
     "output_type": "execute_result"
    }
   ],
   "source": [
    "ex_facebook.shape"
   ]
  },
  {
   "cell_type": "code",
   "execution_count": 119,
   "metadata": {
    "collapsed": false
   },
   "outputs": [
    {
     "data": {
      "text/plain": [
       "28008     Hi Chris, this is my (very boring) fb page. I ...\n",
       "28009     Haha I would so wish. Let the stalking begin! ...\n",
       "28010                                   Any drama with jay?\n",
       "28011        Good to hear. So tired now... But worth it ;-)\n",
       "28012                                No need to thank me ;)\n",
       "28013     Bahahaha! Rusty is such a cunt... Thank you th...\n",
       "28014                                                    xx\n",
       "28015                                       Hahaha. Awesome\n",
       "28016         So gold: http://australianchristianlobby.org/\n",
       "28017     As well as iron man 3 I'd really like to see t...\n",
       "28018                    Nah let's download it. Thank you 󾍇\n",
       "28019                                                     ?\n",
       "28020     Yeah I had vaguely heard about it. Wanna get i...\n",
       "28021     Yeah I've seen all 3 too. Loved it, although 3...\n",
       "28022     Very true. Not sure about the treadmill desk t...\n",
       "28023     I did but am pretty tired today. Prob need to ...\n",
       "28024     https://www.thebookingbutton.com.au/reservatio...\n",
       "28025     Yeah I guess main thing is its close to weddin...\n",
       "28026     Hope you are having a good day. Mine has been ...\n",
       "28027                                            Haha gold!\n",
       "28028                                       Foolproof plan!\n",
       "28029                    I love cate... And hate letterman!\n",
       "28030                                                   Ha!\n",
       "28031                                                   NaN\n",
       "28032                                                  Lol!\n",
       "28033                                                 Awful\n",
       "28034                             Oh dear that's bad... Lol\n",
       "28035                                                  I'd*\n",
       "28036                                   Yeah if love to :-)\n",
       "28037                                                  Yay!\n",
       "                                ...                        \n",
       "146381    and yeah because i ironically unblocked you fr...\n",
       "146382                                   cuz you told me to\n",
       "146383                              no you told me to leave\n",
       "146384        then no communication can actually be a thing\n",
       "146385                               dont you remember that\n",
       "146386                                         enough spite\n",
       "146387                                      from both sides\n",
       "146388                                 get out of your life\n",
       "146389                                     so i blocked you\n",
       "146390                                                  bet\n",
       "146391    sorry you have access to your piece of shit as...\n",
       "146392                                                u bey\n",
       "146393    every experience i had with you in the past wa...\n",
       "146394                    i wouldve never had my first love\n",
       "146395                                                   no\n",
       "146396                                     im sorry sabrina\n",
       "146397                            not worth you throwing up\n",
       "146398        now that i know that ill be sure to stay away\n",
       "146399    no i dont think i can take a call after hearin...\n",
       "146400                                or seeing it at least\n",
       "146401         please let me know if you for sure mean that\n",
       "146402    do you really mean that you dont think it was ...\n",
       "146403                                   goodbye sabrina ;(\n",
       "146404                    no i cant take that you said that\n",
       "146405                                 goodbye then have it\n",
       "146406                                                 okay\n",
       "146407               thats a million times worse in my mind\n",
       "146408    to me thats worse than being called a cunt or ...\n",
       "146409    Being with you wasnt ever worth it to you? I c...\n",
       "146410     You promised a lot but youre right thats too far\n",
       "Name: message, dtype: object"
      ]
     },
     "execution_count": 119,
     "metadata": {},
     "output_type": "execute_result"
    }
   ],
   "source": [
    "ex_facebook['message'].head(1060)\n",
    "\n"
   ]
  },
  {
   "cell_type": "code",
   "execution_count": 110,
   "metadata": {
    "collapsed": false
   },
   "outputs": [],
   "source": [
    "import sys\n",
    "sys.path.insert(0, '../sentiment_analysis')\n",
    "\n",
    "from vader_sentiment_analysis import SentimentAnalyser"
   ]
  },
  {
   "cell_type": "code",
   "execution_count": 111,
   "metadata": {
    "collapsed": true
   },
   "outputs": [],
   "source": [
    "sentiment_analyser = SentimentAnalyser()"
   ]
  },
  {
   "cell_type": "code",
   "execution_count": 114,
   "metadata": {
    "collapsed": false
   },
   "outputs": [
    {
     "ename": "TypeError",
     "evalue": "run_vader() takes exactly 3 arguments (2 given)",
     "output_type": "error",
     "traceback": [
      "\u001b[0;31m---------------------------------------------------------------------------\u001b[0m",
      "\u001b[0;31mTypeError\u001b[0m                                 Traceback (most recent call last)",
      "\u001b[0;32m<ipython-input-114-cb725985e284>\u001b[0m in \u001b[0;36m<module>\u001b[0;34m()\u001b[0m\n\u001b[0;32m----> 1\u001b[0;31m \u001b[0msentiment_analyser\u001b[0m\u001b[0;34m.\u001b[0m\u001b[0mrun_vader\u001b[0m\u001b[0;34m(\u001b[0m\u001b[0;34m'Goodbye forever then'\u001b[0m\u001b[0;34m)\u001b[0m\u001b[0;34m\u001b[0m\u001b[0m\n\u001b[0m",
      "\u001b[0;31mTypeError\u001b[0m: run_vader() takes exactly 3 arguments (2 given)"
     ]
    }
   ],
   "source": []
  },
  {
   "cell_type": "code",
   "execution_count": null,
   "metadata": {
    "collapsed": true
   },
   "outputs": [],
   "source": []
  }
 ],
 "metadata": {
  "kernelspec": {
   "display_name": "Python 2",
   "language": "python",
   "name": "python2"
  },
  "language_info": {
   "codemirror_mode": {
    "name": "ipython",
    "version": 2
   },
   "file_extension": ".py",
   "mimetype": "text/x-python",
   "name": "python",
   "nbconvert_exporter": "python",
   "pygments_lexer": "ipython2",
   "version": "2.7.12"
  }
 },
 "nbformat": 4,
 "nbformat_minor": 0
}
