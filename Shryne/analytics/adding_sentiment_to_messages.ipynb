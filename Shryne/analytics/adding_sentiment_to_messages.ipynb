{
 "cells": [
  {
   "cell_type": "code",
   "execution_count": 2,
   "metadata": {
    "collapsed": false
   },
   "outputs": [
    {
     "name": "stderr",
     "output_type": "stream",
     "text": [
      "/home/alexander/anaconda/lib/python2.7/site-packages/nltk/twitter/__init__.py:20: UserWarning: The twython library has not been installed. Some functionality from the twitter package will not be available.\n",
      "  warnings.warn(\"The twython library has not been installed. \"\n"
     ]
    }
   ],
   "source": [
    "import pandas as pd\n",
    "import matplotlib.pyplot as plt\n",
    "import numpy as np\n",
    "df=pd.read_csv('../data/SELECT_ALL_FROM_all_messages.csv', header=0, low_memory=False)\n",
    "import sys\n",
    "import os\n",
    "from bs4 import BeautifulSoup\n",
    "\n",
    "\n",
    "sys.path.insert(0, '../sentiment_analysis')\n",
    "\n",
    "from vader_sentiment_analysis import SentimentAnalyser"
   ]
  },
  {
   "cell_type": "code",
   "execution_count": 3,
   "metadata": {
    "collapsed": true
   },
   "outputs": [],
   "source": [
    "df = df.drop(['Unnamed: 0'],axis=1)"
   ]
  },
  {
   "cell_type": "code",
   "execution_count": 4,
   "metadata": {
    "collapsed": false
   },
   "outputs": [],
   "source": [
    "sentiment_analyser = SentimentAnalyser()"
   ]
  },
  {
   "cell_type": "code",
   "execution_count": 31,
   "metadata": {
    "collapsed": false
   },
   "outputs": [
    {
     "data": {
      "text/plain": [
       "'That sounds great! My only complication is a good friend/collaborator of mine is giving a talk at a TEDx event Friday evening. I\\'ve been helping him prepare and I told him I\\'d go to the event if it would be helpful. I don\\'t think I\\'ll wind up going, though. So, tentative yes?\\nOn Oct 12, 2010, at 12:21 AM, Aldo Cherdabayev <aldongar@gmail.com> wrote:\\nHey Troy,\\nIt\\'s great to hear from you! I checked out your photography and it\\'s really good, I quite like the range. Really impressive travel history too, especially the year in China. I traveled there for a month this summer and felt like I barely got to see the place. The Gobi was great, too - stunning landscapes and long camel rides.\\nThere are a ton of speaker events at Columbia right now, but none that jump out as singularly compelling. Elsewhere, I\\'m going to attend the architecture and design film festival in Tribeca this weekend: http://adfilmfestival.com. There\\'s this film called \"Citizen Architect - Samuel Mockbee And The Spirit Of The Rural Studio\" (http://citizenarchitectfilm.com) on Friday night; it\\'s one of the films I\\'m thinking about seeing. Would you like to come?\\nAldo\\n-- \\naldo cherdabayev \\ncolumbia gsapp\\n646 573 5296\\naldo.su'"
      ]
     },
     "execution_count": 31,
     "metadata": {},
     "output_type": "execute_result"
    }
   ],
   "source": [
    "df['message'][1]"
   ]
  },
  {
   "cell_type": "code",
   "execution_count": 32,
   "metadata": {
    "collapsed": true
   },
   "outputs": [],
   "source": [
    "import re"
   ]
  },
  {
   "cell_type": "code",
   "execution_count": 33,
   "metadata": {
    "collapsed": false
   },
   "outputs": [
    {
     "data": {
      "text/plain": [
       "'That sounds great! My only complication is a good friend/collaborator of mine is giving a talk at a TEDx event Friday evening. I\\'ve been helping him prepare and I told him I\\'d go to the event if it would be helpful. I don\\'t think I\\'ll wind up going, though. So, tentative yes?\\nOn Oct 12, 2010, at 12:21 AM, Aldo Cherdabayev <aldongar@gmail.com> wrote:\\nHey Troy,\\nIt\\'s great to hear from you! I checked out your photography and it\\'s really good, I quite like the range. Really impressive travel history too, especially the year in China. I traveled there for a month this summer and felt like I barely got to see the place. The Gobi was great, too - stunning landscapes and long camel rides.\\nThere are a ton of speaker events at Columbia right now, but none that jump out as singularly compelling. Elsewhere, I\\'m going to attend the architecture and design film festival in Tribeca this weekend: http://adfilmfestival.com. There\\'s this film called \"Citizen Architect - Samuel Mockbee And The Spirit Of The Rural Studio\" (http://citizenarchitectfilm.com) on Friday night; it\\'s one of the films I\\'m thinking about seeing. Would you like to come?\\nAldo\\n-- \\naldo cherdabayev \\ncolumbia gsapp\\n646 573 5296\\naldo.su'"
      ]
     },
     "execution_count": 33,
     "metadata": {},
     "output_type": "execute_result"
    }
   ],
   "source": [
    "re.sub(r\"\\n--s\\n\", \"\", df['message'][1], re.DOTALL)"
   ]
  },
  {
   "cell_type": "code",
   "execution_count": 82,
   "metadata": {
    "collapsed": false
   },
   "outputs": [
    {
     "data": {
      "text/plain": [
       "\"Haha you're so funny, Aldo. That e-mail was half cute / half legal memo. Fun times.\\nI'm glad we're cool, and I appreciate your sensitivity. \\nHopefully we can hang out again soon. In the meantime, enjoy your spring break!\\n--\\ntroy simpson\\ntroyjsimpson@gmail.com\\nOn Mar 14, 2011, at 11:24 PM, Aldo Cherdabayev wrote:\\n> hey Troy,\\n> \\n> So I processed everything and wanted to let you know that we're\\n> totally cool. I want it to be clear that I don't want this to be in\\n> any way uncomfortable, so it would be best if you initiate future\\n> contact and delineate our interaction, as is comfortable for you. I\\n> don't want our interaction to just fizzle out, but don't have any\\n> expectations one way or another.\\n> \\n> All that said, I hope we see each other soon. Have a good night!\\n> \\n> Aldo\\n> \\n> \\n> \\n> \\n> On Mon, Mar 14, 2011 at 8:11 PM, Aldo Cherdabayev  wrote:\\n>> here ya go\\n>> \\n>> http://mac.rhino3d.com/content/DownloadWIP.aspx\\n>> \\n>> it's a much better experience on a PC, but it's still operational.\\n>> \\n>> \\n>> \\n>> \\n>> On Mon, Mar 14, 2011 at 7:46 PM, Troy Simpson  wrote:\\n>>> feeling *mostly* alright :)\\n>>> \\n>>> definitely didn't get up on time for work this morning, though!\\n>>> \\n>>> hey, what was the name of that open source 3d/rendering program?\\n>>> \\n>>> \\n>>> --\\n>>> troy simpson\\n>>> troyjsimpson@gmail.com\\n>>> \\n>>> \\n>>> \\n>>> \\n>>> On Mar 14, 2011, at 5:27 PM, Aldo Cherdabayev wrote:\\n>>> \\n>>>> thanks, looks like a good movie!\\n>>>> \\n>>>> hope you're feeling alright ;)\\n>>>> \\n>>>> \\n>>>> \\n>>>> On Mon, Mar 14, 2011 at 12:57 PM, Troy Simpson  wrote:\\n>>>>> hey aldo,\\n>>>>> here is the link for the movie i was talking about.\\n>>>>> have a nice day.  :)\\n>>>>> \\n>>>>> \\n>>>>> --\\n>>>>> troy simpson\\n>>>>> troyjsimpson@gmail.com\\n>>>>> \\n>>>>> \\n>>>>> \\n>>>>> On Mar 3, 2011, at 10:55 PM, Aldo Cherdabayev wrote:\\n>>>>> \\n>>>>> the studio webcam, courtesy of my studiomate:\\n>>>>> \\n>>>>> http://tiny.cc/gsappcam\\n>>>>> \\n>>>>> don't judge us too harshly.\\n>>>>> \\n>>>>> \\n>>>>> --\\n>>>>> aldo cherdabayev\\n>>>>> \\n>>>>> columbia gsapp m.arch\\n>>>>> 646 573 5296\\n>>>>> www.aldo.su\\n>>>>> \\n>>>>> \\n>>>> \\n>>>> \\n>>>> \\n>>>> --\\n>>>> aldo cherdabayev\\n>>>> \\n>>>> columbia gsapp m.arch\\n>>>> 646 573 5296\\n>>>> www.aldo.su\\n>>> \\n>>> \\n>> \\n>> \\n>> \\n>> --\\n>> aldo cherdabayev\\n>> \\n>> columbia gsapp m.arch\\n>> 646 573 5296\\n>> www.aldo.su\\n>> \\n> \\n> \\n> \\n> -- \\n> aldo cherdabayev\\n> \\n> columbia gsapp m.arch\\n> 646 573 5296\\n> www.aldo.su\""
      ]
     },
     "execution_count": 82,
     "metadata": {},
     "output_type": "execute_result"
    }
   ],
   "source": [
    "df['message'][10]"
   ]
  },
  {
   "cell_type": "code",
   "execution_count": 43,
   "metadata": {
    "collapsed": false
   },
   "outputs": [],
   "source": [
    "sep = '\\n--\\n'\n",
    "remove_signature = df['message'][10].split(sep,1)[0]"
   ]
  },
  {
   "cell_type": "code",
   "execution_count": 47,
   "metadata": {
    "collapsed": false
   },
   "outputs": [
    {
     "data": {
      "text/plain": [
       "\"Haha you're so funny, Aldo. That e-mail was half cute / half legal memo. Fun times. I'm glad we're cool, and I appreciate your sensitivity.  Hopefully we can hang out again soon. In the meantime, enjoy your spring break!\""
      ]
     },
     "execution_count": 47,
     "metadata": {},
     "output_type": "execute_result"
    }
   ],
   "source": [
    "remove_newlines = re.sub(\"\\n\", \" \", remove_signature)\n",
    "remove_newlines"
   ]
  },
  {
   "cell_type": "code",
   "execution_count": 49,
   "metadata": {
    "collapsed": false
   },
   "outputs": [],
   "source": [
    "from nltk import tokenize"
   ]
  },
  {
   "cell_type": "code",
   "execution_count": 51,
   "metadata": {
    "collapsed": false
   },
   "outputs": [
    {
     "data": {
      "text/plain": [
       "[\"Haha you're so funny, Aldo.\",\n",
       " 'That e-mail was half cute / half legal memo.',\n",
       " 'Fun times.',\n",
       " \"I'm glad we're cool, and I appreciate your sensitivity.\",\n",
       " 'Hopefully we can hang out again soon.',\n",
       " 'In the meantime, enjoy your spring break!']"
      ]
     },
     "execution_count": 51,
     "metadata": {},
     "output_type": "execute_result"
    }
   ],
   "source": [
    "lines_list = tokenize.sent_tokenize(remove_newlines)\n",
    "lines_list"
   ]
  },
  {
   "cell_type": "code",
   "execution_count": 53,
   "metadata": {
    "collapsed": false
   },
   "outputs": [
    {
     "data": {
      "text/plain": [
       "['Haha',\n",
       " \"you're\",\n",
       " 'so',\n",
       " 'funny,',\n",
       " 'Aldo.',\n",
       " 'That',\n",
       " 'e-mail',\n",
       " 'was',\n",
       " 'half',\n",
       " 'cute',\n",
       " '/',\n",
       " 'half',\n",
       " 'legal',\n",
       " 'memo.',\n",
       " 'Fun',\n",
       " 'times.',\n",
       " \"I'm\",\n",
       " 'glad',\n",
       " \"we're\",\n",
       " 'cool,',\n",
       " 'and',\n",
       " 'I',\n",
       " 'appreciate',\n",
       " 'your',\n",
       " 'sensitivity.',\n",
       " 'Hopefully',\n",
       " 'we',\n",
       " 'can',\n",
       " 'hang',\n",
       " 'out',\n",
       " 'again',\n",
       " 'soon.',\n",
       " 'In',\n",
       " 'the',\n",
       " 'meantime,',\n",
       " 'enjoy',\n",
       " 'your',\n",
       " 'spring',\n",
       " 'break!']"
      ]
     },
     "execution_count": 53,
     "metadata": {},
     "output_type": "execute_result"
    }
   ],
   "source": [
    "words_list = remove_newlines.split()\n",
    "words_list"
   ]
  },
  {
   "cell_type": "code",
   "execution_count": 72,
   "metadata": {
    "collapsed": false
   },
   "outputs": [
    {
     "data": {
      "text/plain": [
       "\"\\xef\\xbf\\xbcYou're making butters depressed\""
      ]
     },
     "execution_count": 72,
     "metadata": {},
     "output_type": "execute_result"
    }
   ],
   "source": [
    "df['message'][700]"
   ]
  },
  {
   "cell_type": "code",
   "execution_count": 55,
   "metadata": {
    "collapsed": false
   },
   "outputs": [
    {
     "data": {
      "text/plain": [
       "['hello,', 'my', 'name', 'is', 'alex....', ':D']"
      ]
     },
     "execution_count": 55,
     "metadata": {},
     "output_type": "execute_result"
    }
   ],
   "source": []
  },
  {
   "cell_type": "code",
   "execution_count": 17,
   "metadata": {
    "collapsed": false
   },
   "outputs": [
    {
     "data": {
      "text/plain": [
       "<html><body><p>￼You're making butters depressed</p></body></html>"
      ]
     },
     "execution_count": 17,
     "metadata": {},
     "output_type": "execute_result"
    }
   ],
   "source": [
    "BeautifulSoup(df['message'][700])"
   ]
  },
  {
   "cell_type": "code",
   "execution_count": 76,
   "metadata": {
    "collapsed": false
   },
   "outputs": [
    {
     "data": {
      "text/plain": [
       "'nie wiem, musz\\xc4\\x99 si\\xc4\\x99 zalogowa\\xc4\\x87'"
      ]
     },
     "execution_count": 76,
     "metadata": {},
     "output_type": "execute_result"
    }
   ],
   "source": [
    "df['message'][4000]"
   ]
  },
  {
   "cell_type": "code",
   "execution_count": 20,
   "metadata": {
    "collapsed": false
   },
   "outputs": [
    {
     "data": {
      "text/plain": [
       "<html><body><p>nie wiem, muszę się zalogować</p></body></html>"
      ]
     },
     "execution_count": 20,
     "metadata": {},
     "output_type": "execute_result"
    }
   ],
   "source": [
    "BeautifulSoup(df['message'][4000])"
   ]
  },
  {
   "cell_type": "code",
   "execution_count": 78,
   "metadata": {
    "collapsed": false
   },
   "outputs": [
    {
     "data": {
      "text/plain": [
       "'najpierw to chc\\xc4\\x99 do \\xc5\\x82azienki bo pakowa\\xc5\\x82am paczki i od 30min chc\\xc4\\x99'"
      ]
     },
     "execution_count": 78,
     "metadata": {},
     "output_type": "execute_result"
    }
   ],
   "source": [
    "df['message'][10000]"
   ]
  },
  {
   "cell_type": "code",
   "execution_count": 21,
   "metadata": {
    "collapsed": false
   },
   "outputs": [
    {
     "data": {
      "text/plain": [
       "<html><body><p>najpierw to chcę do łazienki bo pakowałam paczki i od 30min chcę</p></body></html>"
      ]
     },
     "execution_count": 21,
     "metadata": {},
     "output_type": "execute_result"
    }
   ],
   "source": [
    "BeautifulSoup(df['message'][10000])"
   ]
  },
  {
   "cell_type": "code",
   "execution_count": 79,
   "metadata": {
    "collapsed": false
   },
   "outputs": [
    {
     "data": {
      "text/plain": [
       "\"\\xc2\\xa0\\n\\xc2\\xa0\\nSent to you by Nettanel via Google Reader:\\n\\xc2\\xa0\\n\\xc2\\xa0\\n'Dozens' of layoffs at Associated Press: Guild (AFP)\\nvia Yahoo! News: Top Stories  on 11/17/09\\nhttp://d.yimg.com/a/p/afp/20091117/capt.photo_1258501923112-1-0.jpg?x=130&y=87&q=85&sig=vJqRiHU6WQC1I.CEEL7Fmg--AFP - The US news agency the Associated Press (AP) laid off dozens of employees on Tuesday as part of a plan to reduce its global payroll by 10 percent this year, a union statement said.\\n\\xc2\\xa0\\n\\xc2\\xa0\\nThings you can do from here:\\nSubscribe to Yahoo! News: Top Stories using Google Reader\\nGet started using Google Reader to easily keep up with all your favorite sites\\n\\xc2\\xa0\\n\\xc2\\xa0\""
      ]
     },
     "execution_count": 79,
     "metadata": {},
     "output_type": "execute_result"
    }
   ],
   "source": [
    "df['message'][200000]"
   ]
  },
  {
   "cell_type": "code",
   "execution_count": 22,
   "metadata": {
    "collapsed": false
   },
   "outputs": [
    {
     "data": {
      "text/plain": [
       "<html><body><p> \n",
       " \n",
       "Sent to you by Nettanel via Google Reader:\n",
       " \n",
       " \n",
       "'Dozens' of layoffs at Associated Press: Guild (AFP)\n",
       "via Yahoo! News: Top Stories  on 11/17/09\n",
       "http://d.yimg.com/a/p/afp/20091117/capt.photo_1258501923112-1-0.jpg?x=130&amp;y=87&amp;q=85&amp;sig=vJqRiHU6WQC1I.CEEL7Fmg--AFP - The US news agency the Associated Press (AP) laid off dozens of employees on Tuesday as part of a plan to reduce its global payroll by 10 percent this year, a union statement said.\n",
       " \n",
       " \n",
       "Things you can do from here:\n",
       "Subscribe to Yahoo! News: Top Stories using Google Reader\n",
       "Get started using Google Reader to easily keep up with all your favorite sites\n",
       " \n",
       " </p></body></html>"
      ]
     },
     "execution_count": 22,
     "metadata": {},
     "output_type": "execute_result"
    }
   ],
   "source": [
    "BeautifulSoup(df['message'][200000])"
   ]
  },
  {
   "cell_type": "code",
   "execution_count": 81,
   "metadata": {
    "collapsed": false
   },
   "outputs": [
    {
     "data": {
      "text/plain": [
       "'Na die sich sicher nicht.'"
      ]
     },
     "execution_count": 81,
     "metadata": {},
     "output_type": "execute_result"
    }
   ],
   "source": [
    "df['message'][1000000]"
   ]
  },
  {
   "cell_type": "code",
   "execution_count": 103,
   "metadata": {
    "collapsed": false
   },
   "outputs": [
    {
     "data": {
      "text/plain": [
       "0          hey aldo,\\nit was nice to meet you the other d...\n",
       "1          That sounds great! My only complication is a g...\n",
       "2          Alright. It looks like I'll be going to this T...\n",
       "3          Hey Aldo! Sorry for not getting back to you.. ...\n",
       "4          Hey Aldo!\\nSorry for the slow reply; I'd defin...\n",
       "5          Hey Aldo! Thanks so much for thinking of me an...\n",
       "6          Hey Aldo!\\nNo problem re: disappearing. I've b...\n",
       "7          you could've just e-mailed w/ an emoticon\\n;)\\...\n",
       "8          hey aldo,\\nhere is the link for the movie i wa...\n",
       "9          feeling *mostly* alright :)\\ndefinitely didn't...\n",
       "10         Haha you're so funny, Aldo. That e-mail was ha...\n",
       "11         Hey Aldo,\\nI'm sorry it's taken me some time t...\n",
       "12         apologies for the delayed 'official' response,...\n",
       "13         Hey Aldo!\\nMy lab is working with an artist wh...\n",
       "14         thanks!\\n--\\ntroy simpson\\ntroyjsimpson@gmail....\n",
       "15         hey Aldo! I was just thinking about you the ot...\n",
       "16              it would be great to catch up sometime soon!\n",
       "17         that would be great! my plans are a bit up in ...\n",
       "18                                Great! And yes, same place\n",
       "19                                     yeah that'd be great!\n",
       "20         great! I'll think about where to go -- I don't...\n",
       "21                                              Sounds good!\n",
       "22         hey aldo! still up for a bite tonight? was thi...\n",
       "23         hey aldo! thought of you the other day and the...\n",
       "24         Lovelies I might be 5-10 min late--the 7 is no...\n",
       "25                            I'm here! Where are you guys?!\n",
       "26                                            I no see you..\n",
       "27                                     I don't see you guys!\n",
       "28                                       Where are you guys!\n",
       "29                                   Whoa who's that hottie?\n",
       "                                 ...                        \n",
       "1378992    Patrice Hutton has invited you to edit the fol...\n",
       "1378993    Poetry & Social Justice: Student Pick-Up/Drop-...\n",
       "1378994    https://ssl.gstatic.com/docs/documents/share/i...\n",
       "1378995    https://www.gstatic.com/images/branding/google...\n",
       "1378996    Citywide\\n\\nAllendale/Irvington/South Hilton\\n...\n",
       "1378997    See you all then.\\n-Alex Zauderer\\n\\n-------- ...\n",
       "1378998    here's some weird shit I wrote for a TV writin...\n",
       "1378999                          silly me I didn't attach it\n",
       "1379000    This is a list of demands sent to the administ...\n",
       "1379001    Blown away that Jacobin, in defending Sanders ...\n",
       "1379002                                                  NaN\n",
       "1379003    Just read that temperatures are gonna fall bel...\n",
       "1379004    My phone number is 5167761753 if you need to r...\n",
       "1379005    what did SA do before the sanders campaign? di...\n",
       "1379006    Reverend Sekou is up from St. Louis touring fo...\n",
       "1379007    I'm kinda sad that the words \"sunday funday\" d...\n",
       "1379008    Socialist Alternative just posted this event t...\n",
       "1379009    Dixon's plane arrives at 4:15 Tuesday eve and ...\n",
       "1379010    Relieved to announce that comrades have respon...\n",
       "1379011    Aaron Dixon's flight lands at 4:14pm Tuesday a...\n",
       "1379012    I’ve attended Boston University Students for J...\n",
       "1379013    Comrades-\\nTomorrow afternoon, every zionist o...\n",
       "1379014    hmmm\\n\\n“As you know, we have unprecedented gr...\n",
       "1379015    Although they've been in a period of inward re...\n",
       "1379016    Here's the current version of the flyer. I acc...\n",
       "1379017                                         In PDF form.\n",
       "1379018    Last year I remember looking for talks from th...\n",
       "1379019    http://news.wgbh.org/2016/06/21/politics-gover...\n",
       "1379020    The \"recent articles\" feature on the SW websit...\n",
       "1379021    Last night, Thursday July 14th, Gerardo and I ...\n",
       "Name: message, dtype: object"
      ]
     },
     "execution_count": 103,
     "metadata": {},
     "output_type": "execute_result"
    }
   ],
   "source": [
    "cleaned_messages = []\n",
    "for message in df['message']\n",
    "    "
   ]
  },
  {
   "cell_type": "code",
   "execution_count": null,
   "metadata": {
    "collapsed": true
   },
   "outputs": [],
   "source": []
  }
 ],
 "metadata": {
  "kernelspec": {
   "display_name": "Python 2",
   "language": "python",
   "name": "python2"
  },
  "language_info": {
   "codemirror_mode": {
    "name": "ipython",
    "version": 2
   },
   "file_extension": ".py",
   "mimetype": "text/x-python",
   "name": "python",
   "nbconvert_exporter": "python",
   "pygments_lexer": "ipython2",
   "version": "2.7.12"
  }
 },
 "nbformat": 4,
 "nbformat_minor": 0
}
