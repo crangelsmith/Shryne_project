{
 "cells": [
  {
   "cell_type": "code",
   "execution_count": 3,
   "metadata": {
    "collapsed": false
   },
   "outputs": [],
   "source": [
    "import pandas as pd\n",
    "import matplotlib.pyplot as plt\n",
    "import numpy as np\n",
    "df=pd.read_csv('../data/SELECT_ALL_FROM_all_messages.csv', header=0, low_memory=False)"
   ]
  },
  {
   "cell_type": "code",
   "execution_count": 4,
   "metadata": {
    "collapsed": true
   },
   "outputs": [],
   "source": [
    "df = df.drop(['Unnamed: 0'],axis=1)"
   ]
  },
  {
   "cell_type": "code",
   "execution_count": 10,
   "metadata": {
    "collapsed": false
   },
   "outputs": [
    {
     "data": {
      "text/plain": [
       "'That sounds great! My only complication is a good friend/collaborator of mine is giving a talk at a TEDx event Friday evening. I\\'ve been helping him prepare and I told him I\\'d go to the event if it would be helpful. I don\\'t think I\\'ll wind up going, though. So, tentative yes?\\nOn Oct 12, 2010, at 12:21 AM, Aldo Cherdabayev <aldongar@gmail.com> wrote:\\nHey Troy,\\nIt\\'s great to hear from you! I checked out your photography and it\\'s really good, I quite like the range. Really impressive travel history too, especially the year in China. I traveled there for a month this summer and felt like I barely got to see the place. The Gobi was great, too - stunning landscapes and long camel rides.\\nThere are a ton of speaker events at Columbia right now, but none that jump out as singularly compelling. Elsewhere, I\\'m going to attend the architecture and design film festival in Tribeca this weekend: http://adfilmfestival.com. There\\'s this film called \"Citizen Architect - Samuel Mockbee And The Spirit Of The Rural Studio\" (http://citizenarchitectfilm.com) on Friday night; it\\'s one of the films I\\'m thinking about seeing. Would you like to come?\\nAldo\\n-- \\naldo cherdabayev \\ncolumbia gsapp\\n646 573 5296\\naldo.su'"
      ]
     },
     "execution_count": 10,
     "metadata": {},
     "output_type": "execute_result"
    }
   ],
   "source": [
    "df.head()['message'][1]"
   ]
  },
  {
   "cell_type": "code",
   "execution_count": null,
   "metadata": {
    "collapsed": true
   },
   "outputs": [],
   "source": [
    ""
   ]
  }
 ],
 "metadata": {
  "anaconda-cloud": {},
  "kernelspec": {
   "display_name": "Python [py27]",
   "language": "python",
   "name": "Python [py27]"
  },
  "language_info": {
   "codemirror_mode": {
    "name": "ipython",
    "version": 2.0
   },
   "file_extension": ".py",
   "mimetype": "text/x-python",
   "name": "python",
   "nbconvert_exporter": "python",
   "pygments_lexer": "ipython2",
   "version": "2.7.12"
  }
 },
 "nbformat": 4,
 "nbformat_minor": 0
}
