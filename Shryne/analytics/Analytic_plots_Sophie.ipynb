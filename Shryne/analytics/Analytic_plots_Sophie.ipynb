{
 "cells": [
  {
   "cell_type": "code",
   "execution_count": 1,
   "metadata": {
    "collapsed": true
   },
   "outputs": [],
   "source": [
    "import pandas as pd\n",
    "import matplotlib.pyplot as plt\n",
    "%matplotlib inline"
   ]
  },
  {
   "cell_type": "code",
   "execution_count": 2,
   "metadata": {
    "collapsed": true
   },
   "outputs": [],
   "source": [
    "df = pd.read_csv(\"/home/sophie/Data_science/Shryne_project/Shryne/data/SELECT_ALL_FROM_all_messages_metadata.csv\", \n",
    "                 header = 0)"
   ]
  },
  {
   "cell_type": "code",
   "execution_count": 3,
   "metadata": {
    "collapsed": false
   },
   "outputs": [
    {
     "name": "stdout",
     "output_type": "stream",
     "text": [
      "['Unnamed: 0', 'user_id', 'contact_id', 'relationship', 'channel', 'sent_at']\n"
     ]
    }
   ],
   "source": [
    "print list(df)"
   ]
  },
  {
   "cell_type": "code",
   "execution_count": 12,
   "metadata": {
    "collapsed": false
   },
   "outputs": [
    {
     "name": "stdout",
     "output_type": "stream",
     "text": [
      "['gmail' 'text_message' 'facebook_message' 'hangout']\n"
     ]
    }
   ],
   "source": [
    "print df['channel'].unique()"
   ]
  },
  {
   "cell_type": "code",
   "execution_count": 4,
   "metadata": {
    "collapsed": false
   },
   "outputs": [
    {
     "name": "stdout",
     "output_type": "stream",
     "text": [
      "1070395\n"
     ]
    }
   ],
   "source": [
    "# How many messages altogether\n",
    "print len(df)"
   ]
  },
  {
   "cell_type": "code",
   "execution_count": 5,
   "metadata": {
    "collapsed": false
   },
   "outputs": [],
   "source": [
    "# dropping columns not useful for determining the count of each type of relationship\n",
    "df = df.drop(['Unnamed: 0', 'sent_at', 'user_id'], axis = 1)"
   ]
  },
  {
   "cell_type": "code",
   "execution_count": 6,
   "metadata": {
    "collapsed": false
   },
   "outputs": [
    {
     "name": "stdout",
     "output_type": "stream",
     "text": [
      "   contact_id relationship channel\n",
      "0          35           Ex   gmail\n",
      "1          35           Ex   gmail\n",
      "2          35           Ex   gmail\n",
      "3          35           Ex   gmail\n",
      "4          35           Ex   gmail\n",
      "5          35           Ex   gmail\n",
      "6          35           Ex   gmail\n",
      "7          35           Ex   gmail\n",
      "8          35           Ex   gmail\n",
      "9          35           Ex   gmail\n"
     ]
    }
   ],
   "source": [
    "print df[0:10]"
   ]
  },
  {
   "cell_type": "code",
   "execution_count": 7,
   "metadata": {
    "collapsed": false
   },
   "outputs": [
    {
     "data": {
      "text/plain": [
       "826"
      ]
     },
     "execution_count": 7,
     "metadata": {},
     "output_type": "execute_result"
    }
   ],
   "source": [
    "# how many distinct relationships are there?\n",
    "len(df['contact_id'].unique())"
   ]
  },
  {
   "cell_type": "code",
   "execution_count": 8,
   "metadata": {
    "collapsed": false
   },
   "outputs": [],
   "source": [
    "relationships = df['relationship'].unique()"
   ]
  },
  {
   "cell_type": "code",
   "execution_count": 9,
   "metadata": {
    "collapsed": false
   },
   "outputs": [
    {
     "name": "stdout",
     "output_type": "stream",
     "text": [
      "['Ex' 'Friend' 'Partner' 'Family' 'General']\n"
     ]
    }
   ],
   "source": [
    "print relationships"
   ]
  },
  {
   "cell_type": "code",
   "execution_count": 10,
   "metadata": {
    "collapsed": false
   },
   "outputs": [],
   "source": [
    "Ex = df['contact_id'][df['relationship'] == relationships[0]].unique()\n",
    "Friend = df['contact_id'][df['relationship'] == relationships[1]].unique()\n",
    "Partner = df['contact_id'][df['relationship'] == relationships[2]].unique()\n",
    "Family = df['contact_id'][df['relationship'] == relationships[3]].unique()\n",
    "General = df['contact_id'][df['relationship'] == relationships[4]].unique()"
   ]
  },
  {
   "cell_type": "code",
   "execution_count": 11,
   "metadata": {
    "collapsed": false
   },
   "outputs": [
    {
     "name": "stdout",
     "output_type": "stream",
     "text": [
      "180\n",
      "245\n",
      "247\n",
      "98\n",
      "56\n"
     ]
    }
   ],
   "source": [
    "print len(Ex)\n",
    "print len(Friend)\n",
    "print len(Partner)\n",
    "print len(Family)\n",
    "print len(General)"
   ]
  },
  {
   "cell_type": "code",
   "execution_count": 81,
   "metadata": {
    "collapsed": false
   },
   "outputs": [
    {
     "name": "stdout",
     "output_type": "stream",
     "text": [
      "71.3327244543\n"
     ]
    }
   ],
   "source": [
    "print 100-1710648.0/5967250.0*100"
   ]
  },
  {
   "cell_type": "code",
   "execution_count": 34,
   "metadata": {
    "collapsed": false
   },
   "outputs": [],
   "source": [
    "count = count.reset_index()"
   ]
  },
  {
   "cell_type": "code",
   "execution_count": 26,
   "metadata": {
    "collapsed": false
   },
   "outputs": [],
   "source": [
    "count2 = count.reset_index()"
   ]
  },
  {
   "cell_type": "code",
   "execution_count": null,
   "metadata": {
    "collapsed": true
   },
   "outputs": [],
   "source": []
  }
 ],
 "metadata": {
  "anaconda-cloud": {},
  "kernelspec": {
   "display_name": "Python [py27]",
   "language": "python",
   "name": "Python [py27]"
  },
  "language_info": {
   "codemirror_mode": {
    "name": "ipython",
    "version": 2
   },
   "file_extension": ".py",
   "mimetype": "text/x-python",
   "name": "python",
   "nbconvert_exporter": "python",
   "pygments_lexer": "ipython2",
   "version": "2.7.12"
  }
 },
 "nbformat": 4,
 "nbformat_minor": 0
}
