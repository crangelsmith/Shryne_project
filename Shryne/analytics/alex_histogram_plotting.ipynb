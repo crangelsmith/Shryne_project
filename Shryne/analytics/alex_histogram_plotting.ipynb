{
 "cells": [
  {
   "cell_type": "markdown",
   "metadata": {},
   "source": [
    "Using postgreql to get a massive data frame with the following schema\n",
    "\n",
    "user_id | contact_id | relationship | channel | sent_at | message_id\n",
    "\n",
    "and another one with all the messages in it\n",
    "user_id | contact_id | relationship | channel | sent_at | message_id | message\n",
    "\n"
   ]
  },
  {
   "cell_type": "code",
   "execution_count": 2,
   "metadata": {
    "collapsed": false
   },
   "outputs": [
    {
     "name": "stdout",
     "output_type": "stream",
     "text": [
      "here!\n",
      "here!\n",
      "here!\n"
     ]
    }
   ],
   "source": [
    "import pandas as pd\n",
    "import sys\n",
    "import os\n",
    "print \"here!\"\n",
    "sys.path.insert(0, '/home/alexander/PycharmProjects/Shryne_project/Shryne/mining')\n",
    "print \"here!\"\n",
    "import query\n",
    "import connector\n",
    "print \"here!\"\n"
   ]
  },
  {
   "cell_type": "code",
   "execution_count": 3,
   "metadata": {
    "collapsed": false
   },
   "outputs": [
    {
     "name": "stderr",
     "output_type": "stream",
     "text": [
      "2016-08-10 14:09:21,113 | ERROR   | Couldn't open tunnel localhost:5432 <> localhost:5432 might be in use or destination not reachable.\n"
     ]
    },
    {
     "data": {
      "text/plain": [
       "(1070395, 5)"
      ]
     },
     "execution_count": 3,
     "metadata": {},
     "output_type": "execute_result"
    }
   ],
   "source": [
    "sql_query = \"\"\"SELECT * FROM all_messages_metadata\"\"\"\n",
    "\n",
    "dbconnection = connector.ConnectDB()\n",
    "conn = dbconnection.get_connection()\n",
    "q = query.Query(conn, sql_query)\n",
    "query_list = q.get_query_list()\n",
    "query_df = q.get_query_dataframe()\n",
    "q.write_df_to_csv()\n",
    "query_df.shape"
   ]
  },
  {
   "cell_type": "code",
   "execution_count": 3,
   "metadata": {
    "collapsed": false
   },
   "outputs": [
    {
     "name": "stderr",
     "output_type": "stream",
     "text": [
      "2016-08-11 11:46:58,098 | ERROR   | Couldn't open tunnel localhost:5432 <> localhost:5432 might be in use or destination not reachable.\n"
     ]
    },
    {
     "data": {
      "text/plain": [
       "(1379005, 6)"
      ]
     },
     "execution_count": 3,
     "metadata": {},
     "output_type": "execute_result"
    }
   ],
   "source": [
    "sql_query = \"\"\"SELECT * FROM all_messages;\"\"\"\n",
    "\n",
    "dbconnection = connector.ConnectDB()\n",
    "conn = dbconnection.get_connection()\n",
    "q = query.Query(conn, sql_query)\n",
    "query_list = q.get_query_list()\n",
    "query_df = q.get_query_dataframe()\n",
    "q.write_df_to_csv()\n",
    "query_df.shape"
   ]
  },
  {
   "cell_type": "code",
   "execution_count": null,
   "metadata": {
    "collapsed": true
   },
   "outputs": [],
   "source": []
  }
 ],
 "metadata": {
  "kernelspec": {
   "display_name": "Python 2",
   "language": "python",
   "name": "python2"
  },
  "language_info": {
   "codemirror_mode": {
    "name": "ipython",
    "version": 2
   },
   "file_extension": ".py",
   "mimetype": "text/x-python",
   "name": "python",
   "nbconvert_exporter": "python",
   "pygments_lexer": "ipython2",
   "version": "2.7.12"
  }
 },
 "nbformat": 4,
 "nbformat_minor": 0
}
