{
 "cells": [
  {
   "cell_type": "code",
   "execution_count": 82,
   "metadata": {
    "collapsed": true
   },
   "outputs": [],
   "source": [
    "import pandas as pd\n",
    "import matplotlib.pyplot as plt\n",
    "%matplotlib inline"
   ]
  },
  {
   "cell_type": "code",
   "execution_count": 84,
   "metadata": {
    "collapsed": false
   },
   "outputs": [],
   "source": [
    "df = pd.read_csv(\"../data/SELECT_ALL_FROM_all_messages_metadata.csv\", \n",
    "                 header = 0)"
   ]
  },
  {
   "cell_type": "code",
   "execution_count": 3,
   "metadata": {
    "collapsed": false
   },
   "outputs": [
    {
     "name": "stdout",
     "output_type": "stream",
     "text": [
      "['Unnamed: 0', 'user_id', 'contact_id', 'relationship', 'channel', 'sent_at']\n"
     ]
    }
   ],
   "source": [
    "print list(df)"
   ]
  },
  {
   "cell_type": "code",
   "execution_count": 4,
   "metadata": {
    "collapsed": false
   },
   "outputs": [
    {
     "name": "stdout",
     "output_type": "stream",
     "text": [
      "['gmail' 'text_message' 'facebook_message' 'hangout']\n"
     ]
    }
   ],
   "source": [
    "print df['channel'].unique()"
   ]
  },
  {
   "cell_type": "code",
   "execution_count": 5,
   "metadata": {
    "collapsed": false
   },
   "outputs": [
    {
     "name": "stdout",
     "output_type": "stream",
     "text": [
      "1070395\n"
     ]
    }
   ],
   "source": [
    "# How many messages altogether\n",
    "print len(df)"
   ]
  },
  {
   "cell_type": "code",
   "execution_count": 6,
   "metadata": {
    "collapsed": false
   },
   "outputs": [],
   "source": [
    "# dropping columns not useful for determining the count of each type of relationship\n",
    "df = df.drop(['Unnamed: 0', 'sent_at', 'user_id'], axis = 1)"
   ]
  },
  {
   "cell_type": "code",
   "execution_count": 7,
   "metadata": {
    "collapsed": false
   },
   "outputs": [
    {
     "name": "stdout",
     "output_type": "stream",
     "text": [
      "   contact_id relationship channel\n",
      "0          35           Ex   gmail\n",
      "1          35           Ex   gmail\n",
      "2          35           Ex   gmail\n",
      "3          35           Ex   gmail\n",
      "4          35           Ex   gmail\n",
      "5          35           Ex   gmail\n",
      "6          35           Ex   gmail\n",
      "7          35           Ex   gmail\n",
      "8          35           Ex   gmail\n",
      "9          35           Ex   gmail\n"
     ]
    }
   ],
   "source": [
    "print df[0:10]"
   ]
  },
  {
   "cell_type": "code",
   "execution_count": 8,
   "metadata": {
    "collapsed": false
   },
   "outputs": [
    {
     "data": {
      "text/plain": [
       "826"
      ]
     },
     "execution_count": 8,
     "metadata": {},
     "output_type": "execute_result"
    }
   ],
   "source": [
    "# how many distinct relationships are there?\n",
    "len(df['contact_id'].unique())"
   ]
  },
  {
   "cell_type": "code",
   "execution_count": 9,
   "metadata": {
    "collapsed": false
   },
   "outputs": [],
   "source": [
    "# seperate relationship types out into new dataframes.\n",
    "relationships = df['relationship'].unique()"
   ]
  },
  {
   "cell_type": "code",
   "execution_count": 10,
   "metadata": {
    "collapsed": false
   },
   "outputs": [
    {
     "name": "stdout",
     "output_type": "stream",
     "text": [
      "['Ex' 'Friend' 'Partner' 'Family' 'General']\n"
     ]
    }
   ],
   "source": [
    "print relationships"
   ]
  },
  {
   "cell_type": "code",
   "execution_count": 11,
   "metadata": {
    "collapsed": false
   },
   "outputs": [],
   "source": [
    "Ex = df['contact_id'][df['relationship'] == relationships[0]].unique()\n",
    "Friend = df['contact_id'][df['relationship'] == relationships[1]].unique()\n",
    "Partner = df['contact_id'][df['relationship'] == relationships[2]].unique()\n",
    "Family = df['contact_id'][df['relationship'] == relationships[3]].unique()\n",
    "General = df['contact_id'][df['relationship'] == relationships[4]].unique()"
   ]
  },
  {
   "cell_type": "code",
   "execution_count": 12,
   "metadata": {
    "collapsed": false
   },
   "outputs": [
    {
     "name": "stdout",
     "output_type": "stream",
     "text": [
      "180\n",
      "245\n",
      "247\n",
      "98\n",
      "56\n"
     ]
    }
   ],
   "source": [
    "print len(Ex)\n",
    "print len(Friend)\n",
    "print len(Partner)\n",
    "print len(Family)\n",
    "print len(General)"
   ]
  },
  {
   "cell_type": "code",
   "execution_count": 14,
   "metadata": {
    "collapsed": false
   },
   "outputs": [],
   "source": [
    "# number of messages per category.\n",
    "Ex = df['contact_id'][df['relationship'] == relationships[0]]\n",
    "Friend = df['contact_id'][df['relationship'] == relationships[1]]\n",
    "Partner = df['contact_id'][df['relationship'] == relationships[2]]\n",
    "Family = df['contact_id'][df['relationship'] == relationships[3]]\n",
    "General = df['contact_id'][df['relationship'] == relationships[4]]"
   ]
  },
  {
   "cell_type": "code",
   "execution_count": 15,
   "metadata": {
    "collapsed": false
   },
   "outputs": [
    {
     "name": "stdout",
     "output_type": "stream",
     "text": [
      "324366\n",
      "218682\n",
      "487284\n",
      "30723\n",
      "9340\n"
     ]
    }
   ],
   "source": [
    "# Number of messages \n",
    "print len(Ex)\n",
    "print len(Friend)\n",
    "print len(Partner)\n",
    "print len(Family)\n",
    "print len(General)"
   ]
  },
  {
   "cell_type": "code",
   "execution_count": 54,
   "metadata": {
    "collapsed": false
   },
   "outputs": [],
   "source": [
    "# no of relationships with no of messages > 100\n",
    "# number of messages per category.\n",
    "group = df.groupby(['relationship', 'contact_id'])\n",
    "\n",
    "#print group.get_group('contact_id')[group['contact_id'].count() > 100]\n",
    "messages_gt100 = group.agg(['count'])"
   ]
  },
  {
   "cell_type": "code",
   "execution_count": 55,
   "metadata": {
    "collapsed": false
   },
   "outputs": [],
   "source": [
    "b = messages_gt100['channel'].reset_index()"
   ]
  },
  {
   "cell_type": "code",
   "execution_count": 70,
   "metadata": {
    "collapsed": false
   },
   "outputs": [
    {
     "name": "stdout",
     "output_type": "stream",
     "text": [
      "  relationship  contact_id  count\n",
      "0           Ex          35     23\n",
      "1           Ex          98     49\n",
      "2           Ex          99    340\n",
      "3           Ex         219    184\n",
      "4           Ex         320      2\n",
      "5           Ex        3201    131\n",
      "6           Ex        3211      3\n",
      "7           Ex        3247    462\n",
      "8           Ex        3374     25\n",
      "9           Ex        3502    169\n"
     ]
    }
   ],
   "source": [
    "print b[0:10]"
   ]
  },
  {
   "cell_type": "code",
   "execution_count": 67,
   "metadata": {
    "collapsed": false
   },
   "outputs": [],
   "source": [
    "messages_gt100 = b[b['count'] > 100]\n",
    "g = messages_gt100.groupby(['relationship'])"
   ]
  },
  {
   "cell_type": "code",
   "execution_count": 71,
   "metadata": {
    "collapsed": false
   },
   "outputs": [
    {
     "name": "stdout",
     "output_type": "stream",
     "text": [
      "   relationship  contact_id  count\n",
      "2            Ex          99    340\n",
      "3            Ex         219    184\n",
      "5            Ex        3201    131\n",
      "7            Ex        3247    462\n",
      "9            Ex        3502    169\n",
      "10           Ex        3503   1719\n",
      "11           Ex        3661  20956\n",
      "13           Ex        3797    581\n",
      "15           Ex        3895   3027\n",
      "16           Ex        4101    689\n"
     ]
    }
   ],
   "source": [
    "print messages_gt100[0:10]"
   ]
  },
  {
   "cell_type": "code",
   "execution_count": 79,
   "metadata": {
    "collapsed": false
   },
   "outputs": [
    {
     "name": "stdout",
     "output_type": "stream",
     "text": [
      "relationship\n",
      "Ex         101\n",
      "Family      40\n",
      "Friend     135\n",
      "General     13\n",
      "Partner    144\n",
      "Name: count, dtype: int64\n"
     ]
    }
   ],
   "source": [
    "print g['count'].count()"
   ]
  },
  {
   "cell_type": "code",
   "execution_count": 80,
   "metadata": {
    "collapsed": false
   },
   "outputs": [
    {
     "name": "stdout",
     "output_type": "stream",
     "text": [
      "433\n"
     ]
    }
   ],
   "source": [
    "print g['count'].count().sum()"
   ]
  },
  {
   "cell_type": "code",
   "execution_count": 76,
   "metadata": {
    "collapsed": false
   },
   "outputs": [
    {
     "data": {
      "text/html": [
       "<div>\n",
       "<table border=\"1\" class=\"dataframe\">\n",
       "  <thead>\n",
       "    <tr style=\"text-align: right;\">\n",
       "      <th></th>\n",
       "      <th>contact_id</th>\n",
       "      <th>relationship</th>\n",
       "      <th>channel</th>\n",
       "    </tr>\n",
       "  </thead>\n",
       "  <tbody>\n",
       "  </tbody>\n",
       "</table>\n",
       "</div>"
      ],
      "text/plain": [
       "Empty DataFrame\n",
       "Columns: [contact_id, relationship, channel]\n",
       "Index: []"
      ]
     },
     "execution_count": 76,
     "metadata": {},
     "output_type": "execute_result"
    }
   ],
   "source": [
    "# There are no contacts with -1 id which means no group chat in feed_items\n",
    "df[df['contact_id'] == -1]"
   ]
  },
  {
   "cell_type": "code",
   "execution_count": 86,
   "metadata": {
    "collapsed": false
   },
   "outputs": [
    {
     "data": {
      "text/plain": [
       "0       10\n",
       "1394    10\n",
       "1393    10\n",
       "1392    10\n",
       "1391    10\n",
       "1390    10\n",
       "1389    10\n",
       "1388    10\n",
       "1387    10\n",
       "1386    10\n",
       "Name: user_id, dtype: int64"
      ]
     },
     "execution_count": 86,
     "metadata": {},
     "output_type": "execute_result"
    }
   ],
   "source": [
    "df['user_id'].sort_values()[0:10]"
   ]
  }
 ],
 "metadata": {
  "anaconda-cloud": {},
  "kernelspec": {
   "display_name": "Python [py27]",
   "language": "python",
   "name": "Python [py27]"
  },
  "language_info": {
   "codemirror_mode": {
    "name": "ipython",
    "version": 2
   },
   "file_extension": ".py",
   "mimetype": "text/x-python",
   "name": "python",
   "nbconvert_exporter": "python",
   "pygments_lexer": "ipython2",
   "version": "2.7.12"
  }
 },
 "nbformat": 4,
 "nbformat_minor": 0
}
