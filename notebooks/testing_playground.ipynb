{
 "cells": [
  {
   "cell_type": "code",
   "execution_count": 4,
   "metadata": {
    "collapsed": false
   },
   "outputs": [],
   "source": [
    "import pandas as pd\n",
    "import numpy as np"
   ]
  },
  {
   "cell_type": "code",
   "execution_count": 8,
   "metadata": {
    "collapsed": false
   },
   "outputs": [],
   "source": [
    "neutral_test = pd.DataFrame({'neutral' : [1,0,1.000001,0.999999,1.0],\n",
    "                                 'compound' : [1, 1, 1, 1, 1]})\n",
    "\n",
    "neutral_pass = pd.DataFrame({'neutral' : [np.nan, 0, 1.000001, 0.999999, np.nan],\n",
    "                                 'compound': [np.nan, 1, 1 ,1, np.nan]})"
   ]
  },
  {
   "cell_type": "code",
   "execution_count": 9,
   "metadata": {
    "collapsed": false
   },
   "outputs": [
    {
     "data": {
      "text/html": [
       "<div>\n",
       "<table border=\"1\" class=\"dataframe\">\n",
       "  <thead>\n",
       "    <tr style=\"text-align: right;\">\n",
       "      <th></th>\n",
       "      <th>compound</th>\n",
       "      <th>neutral</th>\n",
       "    </tr>\n",
       "  </thead>\n",
       "  <tbody>\n",
       "    <tr>\n",
       "      <th>0</th>\n",
       "      <td>NaN</td>\n",
       "      <td>NaN</td>\n",
       "    </tr>\n",
       "    <tr>\n",
       "      <th>1</th>\n",
       "      <td>1.0</td>\n",
       "      <td>0.000000</td>\n",
       "    </tr>\n",
       "    <tr>\n",
       "      <th>2</th>\n",
       "      <td>1.0</td>\n",
       "      <td>1.000001</td>\n",
       "    </tr>\n",
       "    <tr>\n",
       "      <th>3</th>\n",
       "      <td>1.0</td>\n",
       "      <td>0.999999</td>\n",
       "    </tr>\n",
       "    <tr>\n",
       "      <th>4</th>\n",
       "      <td>NaN</td>\n",
       "      <td>NaN</td>\n",
       "    </tr>\n",
       "  </tbody>\n",
       "</table>\n",
       "</div>"
      ],
      "text/plain": [
       "   compound   neutral\n",
       "0       NaN       NaN\n",
       "1       1.0  0.000000\n",
       "2       1.0  1.000001\n",
       "3       1.0  0.999999\n",
       "4       NaN       NaN"
      ]
     },
     "execution_count": 9,
     "metadata": {},
     "output_type": "execute_result"
    }
   ],
   "source": [
    "neutral_pass"
   ]
  },
  {
   "cell_type": "code",
   "execution_count": 10,
   "metadata": {
    "collapsed": false
   },
   "outputs": [
    {
     "data": {
      "text/html": [
       "<div>\n",
       "<table border=\"1\" class=\"dataframe\">\n",
       "  <thead>\n",
       "    <tr style=\"text-align: right;\">\n",
       "      <th></th>\n",
       "      <th>compound</th>\n",
       "      <th>neutral</th>\n",
       "    </tr>\n",
       "  </thead>\n",
       "  <tbody>\n",
       "    <tr>\n",
       "      <th>0</th>\n",
       "      <td>1</td>\n",
       "      <td>1.000000</td>\n",
       "    </tr>\n",
       "    <tr>\n",
       "      <th>1</th>\n",
       "      <td>1</td>\n",
       "      <td>0.000000</td>\n",
       "    </tr>\n",
       "    <tr>\n",
       "      <th>2</th>\n",
       "      <td>1</td>\n",
       "      <td>1.000001</td>\n",
       "    </tr>\n",
       "    <tr>\n",
       "      <th>3</th>\n",
       "      <td>1</td>\n",
       "      <td>0.999999</td>\n",
       "    </tr>\n",
       "    <tr>\n",
       "      <th>4</th>\n",
       "      <td>1</td>\n",
       "      <td>1.000000</td>\n",
       "    </tr>\n",
       "  </tbody>\n",
       "</table>\n",
       "</div>"
      ],
      "text/plain": [
       "   compound   neutral\n",
       "0         1  1.000000\n",
       "1         1  0.000000\n",
       "2         1  1.000001\n",
       "3         1  0.999999\n",
       "4         1  1.000000"
      ]
     },
     "execution_count": 10,
     "metadata": {},
     "output_type": "execute_result"
    }
   ],
   "source": [
    "neutral_test"
   ]
  },
  {
   "cell_type": "code",
   "execution_count": 29,
   "metadata": {
    "collapsed": true
   },
   "outputs": [],
   "source": [
    "def test_resample_dataframe():\n",
    "\n",
    "    df = pd.DataFrame()\n",
    "    output_df = pd.DataFrame()\n",
    "\n",
    "    df['sent_at'] = ['2016-05-01 12:00:00','2016-05-01 12:01:00',\n",
    "                     '2016-05-01 12:02:00','2016-05-01 12:03:00',\n",
    "                     '2016-06-02','2016-06-03','2016-07-02','2016-07-03',\n",
    "                     '2016-09-01 12:00:00','2016-09-01 12:00:01',\n",
    "                     '2016-09-01 12:00:02','2016-09-01 12:00:03',\n",
    "                     '2016-10-01','2016-10-02']\n",
    "\n",
    "    df['response_time'] = [0, 60, 60, 60, 0, 0, 0, 0, 0, 60, 60, 60, 0, 0]\n",
    "\n",
    "    df['to_from'] = [True, False, True, False, True, True, True, True, True,\n",
    "                     False, True, False, True, True]\n",
    "\n",
    "    df['positive'] = [0,0,0,0,0,0,0,0,0.5,0.2,0.2,0.3,0.1,0.1]\n",
    "\n",
    "    df['negative'] = [0,0,0,0,0,0,0,0,0.5,0.9,0.9,0.3,0.1,0.2]\n",
    "\n",
    "    df['neutral'] = [ 0,0,0,0,0,0,0,0,0.5,0.5,0.2,0.3,0.1,0.1]\n",
    "\n",
    "    df['compound'] = [0,0,0,0,0,0,0,0,0.5,-0.5,-0.3,0.3,0.1,-0.1]\n",
    "\n",
    "    df['word_count'] = [20,0,10,2,10,10,0,0,0,0,0,0,0,0]\n",
    "\n",
    "\n",
    "\n",
    "    output_df['message_count_user'] = [0.5,0.25,0.25,0,0,0]\n",
    "\n",
    "    output_df['message_count_contact'] = [1,0,0,0,0,0]\n",
    "\n",
    "    output_df['message_count'] = [0.6,0.2,0.2,0,0,0]\n",
    "\n",
    "    output_df['word_count'] = [52/72,20/72,0,0,0,0]\n",
    "\n",
    "    output_df['word_count_user'] = [5/7, 2/7, 0, 0,0,0]\n",
    "\n",
    "    output_df['word_count_contact'] = [1,0,0,0,0,0]\n",
    "\n",
    "    output_df['message_count_reciprocity'] = [0.5,0,0,0,0,0]\n",
    "\n",
    "    output_df['word_count_reciprocity'] = [0.04,0,0,0,0,0]\n",
    "\n",
    "    output_df['positive'] = [0,0,0,0,0.3,0.1]\n",
    "\n",
    "    output_df['negative'] = [0,0,0,0,0.65,0.15]\n",
    "\n",
    "    output_df['neutral'] = [0,0,0,0,0.375,0.1]\n",
    "\n",
    "    output_df['compound'] = [0,0,0,0,0,0]\n",
    "\n",
    "    output_df['positive_user'] = [0,0,0,0,0.35,0.1]\n",
    "\n",
    "    output_df['negative_user'] = [0,0,0,0,0.7,0.15]\n",
    "\n",
    "    output_df['neutral_user'] = [0,0,0,0,0.35,0.1]\n",
    "\n",
    "    output_df['compound_user'] = [0,0,0,0,0.1,0]\n",
    "\n",
    "    output_df['positive_contact'] = [0,0,0,0,0.25,0]\n",
    "\n",
    "    output_df['negative_contact'] = [0,0,0,0,0.6,0]\n",
    "\n",
    "    output_df['neutral_contact'] = [0,0,0,0,0.4,0]\n",
    "\n",
    "    output_df['compound_contact'] = [0,0,0,0,-0.1,0]\n",
    "\n",
    "    output_df['sentiment_reciprocity'] = [0,0,0,0,0.2,0]\n",
    "\n",
    "    output_df[\"response_time\"] = [60, 0, 0, 0, 60, 0]\n",
    "    output_df[\"response_time_user\"] = [60, 0, 0, 0, 60, 0]\n",
    "    output_df[\"response_time_contacts\"] = [60, 0, 0, 0, 60, 0]\n",
    "\n",
    "    assert resample_dataframe(df, 'M').equals(output_df)\n"
   ]
  },
  {
   "cell_type": "code",
   "execution_count": 35,
   "metadata": {
    "collapsed": false
   },
   "outputs": [
    {
     "ename": "NameError",
     "evalue": "global name 'config' is not defined",
     "output_type": "error",
     "traceback": [
      "\u001b[0;31m---------------------------------------------------------------------------\u001b[0m",
      "\u001b[0;31mNameError\u001b[0m                                 Traceback (most recent call last)",
      "\u001b[0;32m<ipython-input-35-563eee9bd0bc>\u001b[0m in \u001b[0;36m<module>\u001b[0;34m()\u001b[0m\n\u001b[0;32m----> 1\u001b[0;31m \u001b[0mtest_resample_dataframe\u001b[0m\u001b[0;34m(\u001b[0m\u001b[0;34m)\u001b[0m\u001b[0;34m\u001b[0m\u001b[0m\n\u001b[0m",
      "\u001b[0;32m<ipython-input-29-8af9372ff469>\u001b[0m in \u001b[0;36mtest_resample_dataframe\u001b[0;34m()\u001b[0m\n\u001b[1;32m     74\u001b[0m     \u001b[0moutput_df\u001b[0m\u001b[0;34m[\u001b[0m\u001b[0;34m\"response_time_contacts\"\u001b[0m\u001b[0;34m]\u001b[0m \u001b[0;34m=\u001b[0m \u001b[0;34m[\u001b[0m\u001b[0;36m60\u001b[0m\u001b[0;34m,\u001b[0m \u001b[0;36m0\u001b[0m\u001b[0;34m,\u001b[0m \u001b[0;36m0\u001b[0m\u001b[0;34m,\u001b[0m \u001b[0;36m0\u001b[0m\u001b[0;34m,\u001b[0m \u001b[0;36m60\u001b[0m\u001b[0;34m,\u001b[0m \u001b[0;36m0\u001b[0m\u001b[0;34m]\u001b[0m\u001b[0;34m\u001b[0m\u001b[0m\n\u001b[1;32m     75\u001b[0m \u001b[0;34m\u001b[0m\u001b[0m\n\u001b[0;32m---> 76\u001b[0;31m     \u001b[0;32massert\u001b[0m \u001b[0mresample_dataframe\u001b[0m\u001b[0;34m(\u001b[0m\u001b[0mdf\u001b[0m\u001b[0;34m,\u001b[0m \u001b[0;34m'M'\u001b[0m\u001b[0;34m)\u001b[0m\u001b[0;34m.\u001b[0m\u001b[0mequals\u001b[0m\u001b[0;34m(\u001b[0m\u001b[0moutput_df\u001b[0m\u001b[0;34m)\u001b[0m\u001b[0;34m\u001b[0m\u001b[0m\n\u001b[0m",
      "\u001b[0;32m<ipython-input-31-862dc27d2db2>\u001b[0m in \u001b[0;36mresample_dataframe\u001b[0;34m(df, period)\u001b[0m\n\u001b[1;32m     46\u001b[0m \u001b[0;34m\u001b[0m\u001b[0m\n\u001b[1;32m     47\u001b[0m     \u001b[0;31m# get the time differences\u001b[0m\u001b[0;34m\u001b[0m\u001b[0;34m\u001b[0m\u001b[0m\n\u001b[0;32m---> 48\u001b[0;31m     \u001b[0moutput_df\u001b[0m\u001b[0;34m[\u001b[0m\u001b[0;34m\"response_time\"\u001b[0m\u001b[0;34m]\u001b[0m \u001b[0;34m=\u001b[0m \u001b[0mdf\u001b[0m\u001b[0;34m[\u001b[0m\u001b[0;34m\"response_time\"\u001b[0m\u001b[0;34m]\u001b[0m\u001b[0;34m.\u001b[0m\u001b[0mresample\u001b[0m\u001b[0;34m(\u001b[0m\u001b[0mperiod\u001b[0m\u001b[0;34m)\u001b[0m\u001b[0;34m.\u001b[0m\u001b[0mapply\u001b[0m\u001b[0;34m(\u001b[0m\u001b[0m_average_time\u001b[0m\u001b[0;34m)\u001b[0m\u001b[0;34m\u001b[0m\u001b[0m\n\u001b[0m\u001b[1;32m     49\u001b[0m     \u001b[0moutput_df\u001b[0m\u001b[0;34m[\u001b[0m\u001b[0;34m\"response_time_user\"\u001b[0m\u001b[0;34m]\u001b[0m \u001b[0;34m=\u001b[0m \u001b[0mdf\u001b[0m\u001b[0;34m[\u001b[0m\u001b[0;34m~\u001b[0m\u001b[0mdf\u001b[0m\u001b[0;34m[\u001b[0m\u001b[0;34m\"to_from\"\u001b[0m\u001b[0;34m]\u001b[0m\u001b[0;34m]\u001b[0m\u001b[0;34m[\u001b[0m\u001b[0;34m\"response_time\"\u001b[0m\u001b[0;34m]\u001b[0m\u001b[0;34m.\u001b[0m\u001b[0mresample\u001b[0m\u001b[0;34m(\u001b[0m\u001b[0mperiod\u001b[0m\u001b[0;34m)\u001b[0m\u001b[0;34m.\u001b[0m\u001b[0mapply\u001b[0m\u001b[0;34m(\u001b[0m\u001b[0m_average_time\u001b[0m\u001b[0;34m)\u001b[0m\u001b[0;34m\u001b[0m\u001b[0m\n\u001b[1;32m     50\u001b[0m     \u001b[0moutput_df\u001b[0m\u001b[0;34m[\u001b[0m\u001b[0;34m\"response_time_contact\"\u001b[0m\u001b[0;34m]\u001b[0m \u001b[0;34m=\u001b[0m \u001b[0mdf\u001b[0m\u001b[0;34m[\u001b[0m\u001b[0mdf\u001b[0m\u001b[0;34m[\u001b[0m\u001b[0;34m\"to_from\"\u001b[0m\u001b[0;34m]\u001b[0m\u001b[0;34m]\u001b[0m\u001b[0;34m[\u001b[0m\u001b[0;34m\"response_time\"\u001b[0m\u001b[0;34m]\u001b[0m\u001b[0;34m.\u001b[0m\u001b[0mresample\u001b[0m\u001b[0;34m(\u001b[0m\u001b[0mperiod\u001b[0m\u001b[0;34m)\u001b[0m\u001b[0;34m.\u001b[0m\u001b[0mapply\u001b[0m\u001b[0;34m(\u001b[0m\u001b[0m_average_time\u001b[0m\u001b[0;34m)\u001b[0m\u001b[0;34m\u001b[0m\u001b[0m\n",
      "\u001b[0;32m/home/alexander/anaconda/lib/python2.7/site-packages/pandas/tseries/resample.pyc\u001b[0m in \u001b[0;36maggregate\u001b[0;34m(self, arg, *args, **kwargs)\u001b[0m\n\u001b[1;32m    295\u001b[0m             return self._groupby_and_aggregate(arg,\n\u001b[1;32m    296\u001b[0m                                                \u001b[0;34m*\u001b[0m\u001b[0margs\u001b[0m\u001b[0;34m,\u001b[0m\u001b[0;34m\u001b[0m\u001b[0m\n\u001b[0;32m--> 297\u001b[0;31m                                                **kwargs)\n\u001b[0m\u001b[1;32m    298\u001b[0m \u001b[0;34m\u001b[0m\u001b[0m\n\u001b[1;32m    299\u001b[0m         \u001b[0;32mreturn\u001b[0m \u001b[0mresult\u001b[0m\u001b[0;34m\u001b[0m\u001b[0m\n",
      "\u001b[0;32m/home/alexander/anaconda/lib/python2.7/site-packages/pandas/tseries/resample.pyc\u001b[0m in \u001b[0;36m_groupby_and_aggregate\u001b[0;34m(self, how, grouper, *args, **kwargs)\u001b[0m\n\u001b[1;32m    376\u001b[0m             \u001b[0;31m# we have a non-reducing function\u001b[0m\u001b[0;34m\u001b[0m\u001b[0;34m\u001b[0m\u001b[0m\n\u001b[1;32m    377\u001b[0m             \u001b[0;31m# try to evaluate\u001b[0m\u001b[0;34m\u001b[0m\u001b[0;34m\u001b[0m\u001b[0m\n\u001b[0;32m--> 378\u001b[0;31m             \u001b[0mresult\u001b[0m \u001b[0;34m=\u001b[0m \u001b[0mgrouped\u001b[0m\u001b[0;34m.\u001b[0m\u001b[0mapply\u001b[0m\u001b[0;34m(\u001b[0m\u001b[0mhow\u001b[0m\u001b[0;34m,\u001b[0m \u001b[0;34m*\u001b[0m\u001b[0margs\u001b[0m\u001b[0;34m,\u001b[0m \u001b[0;34m**\u001b[0m\u001b[0mkwargs\u001b[0m\u001b[0;34m)\u001b[0m\u001b[0;34m\u001b[0m\u001b[0m\n\u001b[0m\u001b[1;32m    379\u001b[0m \u001b[0;34m\u001b[0m\u001b[0m\n\u001b[1;32m    380\u001b[0m         \u001b[0mresult\u001b[0m \u001b[0;34m=\u001b[0m \u001b[0mself\u001b[0m\u001b[0;34m.\u001b[0m\u001b[0m_apply_loffset\u001b[0m\u001b[0;34m(\u001b[0m\u001b[0mresult\u001b[0m\u001b[0;34m)\u001b[0m\u001b[0;34m\u001b[0m\u001b[0m\n",
      "\u001b[0;32m/home/alexander/anaconda/lib/python2.7/site-packages/pandas/core/groupby.pyc\u001b[0m in \u001b[0;36mapply\u001b[0;34m(self, func, *args, **kwargs)\u001b[0m\n\u001b[1;32m    649\u001b[0m         \u001b[0;31m# ignore SettingWithCopy here in case the user mutates\u001b[0m\u001b[0;34m\u001b[0m\u001b[0;34m\u001b[0m\u001b[0m\n\u001b[1;32m    650\u001b[0m         \u001b[0;32mwith\u001b[0m \u001b[0moption_context\u001b[0m\u001b[0;34m(\u001b[0m\u001b[0;34m'mode.chained_assignment'\u001b[0m\u001b[0;34m,\u001b[0m \u001b[0mNone\u001b[0m\u001b[0;34m)\u001b[0m\u001b[0;34m:\u001b[0m\u001b[0;34m\u001b[0m\u001b[0m\n\u001b[0;32m--> 651\u001b[0;31m             \u001b[0;32mreturn\u001b[0m \u001b[0mself\u001b[0m\u001b[0;34m.\u001b[0m\u001b[0m_python_apply_general\u001b[0m\u001b[0;34m(\u001b[0m\u001b[0mf\u001b[0m\u001b[0;34m)\u001b[0m\u001b[0;34m\u001b[0m\u001b[0m\n\u001b[0m\u001b[1;32m    652\u001b[0m \u001b[0;34m\u001b[0m\u001b[0m\n\u001b[1;32m    653\u001b[0m     \u001b[0;32mdef\u001b[0m \u001b[0m_python_apply_general\u001b[0m\u001b[0;34m(\u001b[0m\u001b[0mself\u001b[0m\u001b[0;34m,\u001b[0m \u001b[0mf\u001b[0m\u001b[0;34m)\u001b[0m\u001b[0;34m:\u001b[0m\u001b[0;34m\u001b[0m\u001b[0m\n",
      "\u001b[0;32m/home/alexander/anaconda/lib/python2.7/site-packages/pandas/core/groupby.pyc\u001b[0m in \u001b[0;36m_python_apply_general\u001b[0;34m(self, f)\u001b[0m\n\u001b[1;32m    653\u001b[0m     \u001b[0;32mdef\u001b[0m \u001b[0m_python_apply_general\u001b[0m\u001b[0;34m(\u001b[0m\u001b[0mself\u001b[0m\u001b[0;34m,\u001b[0m \u001b[0mf\u001b[0m\u001b[0;34m)\u001b[0m\u001b[0;34m:\u001b[0m\u001b[0;34m\u001b[0m\u001b[0m\n\u001b[1;32m    654\u001b[0m         keys, values, mutated = self.grouper.apply(f, self._selected_obj,\n\u001b[0;32m--> 655\u001b[0;31m                                                    self.axis)\n\u001b[0m\u001b[1;32m    656\u001b[0m \u001b[0;34m\u001b[0m\u001b[0m\n\u001b[1;32m    657\u001b[0m         return self._wrap_applied_output(\n",
      "\u001b[0;32m/home/alexander/anaconda/lib/python2.7/site-packages/pandas/core/groupby.pyc\u001b[0m in \u001b[0;36mapply\u001b[0;34m(self, f, data, axis)\u001b[0m\n\u001b[1;32m   1525\u001b[0m             \u001b[0;31m# group might be modified\u001b[0m\u001b[0;34m\u001b[0m\u001b[0;34m\u001b[0m\u001b[0m\n\u001b[1;32m   1526\u001b[0m             \u001b[0mgroup_axes\u001b[0m \u001b[0;34m=\u001b[0m \u001b[0m_get_axes\u001b[0m\u001b[0;34m(\u001b[0m\u001b[0mgroup\u001b[0m\u001b[0;34m)\u001b[0m\u001b[0;34m\u001b[0m\u001b[0m\n\u001b[0;32m-> 1527\u001b[0;31m             \u001b[0mres\u001b[0m \u001b[0;34m=\u001b[0m \u001b[0mf\u001b[0m\u001b[0;34m(\u001b[0m\u001b[0mgroup\u001b[0m\u001b[0;34m)\u001b[0m\u001b[0;34m\u001b[0m\u001b[0m\n\u001b[0m\u001b[1;32m   1528\u001b[0m             \u001b[0;32mif\u001b[0m \u001b[0;32mnot\u001b[0m \u001b[0m_is_indexed_like\u001b[0m\u001b[0;34m(\u001b[0m\u001b[0mres\u001b[0m\u001b[0;34m,\u001b[0m \u001b[0mgroup_axes\u001b[0m\u001b[0;34m)\u001b[0m\u001b[0;34m:\u001b[0m\u001b[0;34m\u001b[0m\u001b[0m\n\u001b[1;32m   1529\u001b[0m                 \u001b[0mmutated\u001b[0m \u001b[0;34m=\u001b[0m \u001b[0mTrue\u001b[0m\u001b[0;34m\u001b[0m\u001b[0m\n",
      "\u001b[0;32m/home/alexander/anaconda/lib/python2.7/site-packages/pandas/core/groupby.pyc\u001b[0m in \u001b[0;36mf\u001b[0;34m(g)\u001b[0m\n\u001b[1;32m    645\u001b[0m         \u001b[0;34m@\u001b[0m\u001b[0mwraps\u001b[0m\u001b[0;34m(\u001b[0m\u001b[0mfunc\u001b[0m\u001b[0;34m)\u001b[0m\u001b[0;34m\u001b[0m\u001b[0m\n\u001b[1;32m    646\u001b[0m         \u001b[0;32mdef\u001b[0m \u001b[0mf\u001b[0m\u001b[0;34m(\u001b[0m\u001b[0mg\u001b[0m\u001b[0;34m)\u001b[0m\u001b[0;34m:\u001b[0m\u001b[0;34m\u001b[0m\u001b[0m\n\u001b[0;32m--> 647\u001b[0;31m             \u001b[0;32mreturn\u001b[0m \u001b[0mfunc\u001b[0m\u001b[0;34m(\u001b[0m\u001b[0mg\u001b[0m\u001b[0;34m,\u001b[0m \u001b[0;34m*\u001b[0m\u001b[0margs\u001b[0m\u001b[0;34m,\u001b[0m \u001b[0;34m**\u001b[0m\u001b[0mkwargs\u001b[0m\u001b[0;34m)\u001b[0m\u001b[0;34m\u001b[0m\u001b[0m\n\u001b[0m\u001b[1;32m    648\u001b[0m \u001b[0;34m\u001b[0m\u001b[0m\n\u001b[1;32m    649\u001b[0m         \u001b[0;31m# ignore SettingWithCopy here in case the user mutates\u001b[0m\u001b[0;34m\u001b[0m\u001b[0;34m\u001b[0m\u001b[0m\n",
      "\u001b[0;32m<ipython-input-34-8e508a971fb7>\u001b[0m in \u001b[0;36m_average_time\u001b[0;34m(x)\u001b[0m\n\u001b[1;32m     14\u001b[0m \u001b[0;34m\u001b[0m\u001b[0m\n\u001b[1;32m     15\u001b[0m     \u001b[0;31m#TODO we may need to tweak the time limit\u001b[0m\u001b[0;34m\u001b[0m\u001b[0;34m\u001b[0m\u001b[0m\n\u001b[0;32m---> 16\u001b[0;31m     \u001b[0;32mif\u001b[0m \u001b[0mconfig\u001b[0m\u001b[0;34m.\u001b[0m\u001b[0mmodel\u001b[0m \u001b[0;34m==\u001b[0m \u001b[0;34m'not_romantic'\u001b[0m\u001b[0;34m:\u001b[0m\u001b[0;34m\u001b[0m\u001b[0m\n\u001b[0m\u001b[1;32m     17\u001b[0m         \u001b[0mtime_limit\u001b[0m \u001b[0;34m=\u001b[0m \u001b[0mconfig\u001b[0m\u001b[0;34m.\u001b[0m\u001b[0mresampler\u001b[0m\u001b[0;34m[\u001b[0m\u001b[0;34m'response_time_limit_not_romantic'\u001b[0m\u001b[0;34m]\u001b[0m \u001b[0;34m*\u001b[0m \u001b[0;36m3600\u001b[0m  \u001b[0;31m# in seconds\u001b[0m\u001b[0;34m\u001b[0m\u001b[0m\n\u001b[1;32m     18\u001b[0m     \u001b[0;32melif\u001b[0m \u001b[0mconfig\u001b[0m\u001b[0;34m.\u001b[0m\u001b[0mmodel\u001b[0m \u001b[0;34m==\u001b[0m \u001b[0;34m'romantic'\u001b[0m\u001b[0;34m:\u001b[0m\u001b[0;34m\u001b[0m\u001b[0m\n",
      "\u001b[0;31mNameError\u001b[0m: global name 'config' is not defined"
     ]
    }
   ],
   "source": [
    "test_resample_dataframe()"
   ]
  },
  {
   "cell_type": "code",
   "execution_count": 31,
   "metadata": {
    "collapsed": false
   },
   "outputs": [],
   "source": [
    "def resample_dataframe(df, period='D'):\n",
    "    '''\n",
    "    This function resamples the features\n",
    "    in the dataframe to the defined timeseries\n",
    "\n",
    "    It create reciprocity features based on this\n",
    "    resampling\n",
    "\n",
    "    :param df: the dataframe to be resampled\n",
    "    :param period: the resampling time interval\n",
    "    :return: df with the resampled features\n",
    "    '''\n",
    "\n",
    "    #TODO perhaps this cleaning of sentiment should be outside the resampling of the dataframe\n",
    "    df = sentiment_cleaning(df)\n",
    "\n",
    "    time_field = 'sent_at'\n",
    "    if isinstance(df[time_field].tolist()[0], str):\n",
    "        df[time_field] = pd.to_datetime(df[time_field])\n",
    "    else:\n",
    "        print(\"nothing to be done\")\n",
    "\n",
    "    output_df = pd.DataFrame()\n",
    "\n",
    "    # get the message counts total and for the user and contact\n",
    "    output_df[\"message_count\"] = df[time_field].value_counts().resample(period).apply(np.nansum)\n",
    "    output_df[\"message_count_not_normalised\"] = output_df[\"message_count\"].copy()\n",
    "    output_df[\"message_count_user\"] = df[~df[\"to_from\"]][time_field].value_counts().resample(period).apply(np.nansum)\n",
    "    output_df[\"message_count_contact\"] = df[df[\"to_from\"]][time_field].value_counts().resample(period).apply(np.nansum)\n",
    "\n",
    "    df.set_index(time_field, inplace=True, drop=False)\n",
    "\n",
    "    # get the total word counts and for the user and contact\n",
    "    keys = [\"word_count\"]\n",
    "    for k in keys:\n",
    "        output_df[k] = df[k].resample(period).apply(np.nansum)\n",
    "        output_df[k + \"_user\"] = df[~df[\"to_from\"]][k].resample(period).apply(np.nansum)\n",
    "        output_df[k + \"_contact\"] = df[df[\"to_from\"]][k].resample(period).apply(np.nansum)\n",
    "\n",
    "    # get the sentiments overall and for the user and contact individually\n",
    "    keys = [\"positive\", \"negative\", \"neutral\", \"compound\"]\n",
    "    for k in keys:\n",
    "        output_df[k] = df[k].resample(period).apply(np.nanmean)\n",
    "        output_df[k + \"_user\"] = df[~df[\"to_from\"]][k].resample(period).apply(np.nanmean)\n",
    "        output_df[k + \"_contact\"] = df[df[\"to_from\"]][k].resample(period).apply(np.nanmean)\n",
    "\n",
    "    # get the time differences\n",
    "    output_df[\"response_time\"] = df[\"response_time\"].resample(period).apply(_average_time)\n",
    "    output_df[\"response_time_user\"] = df[~df[\"to_from\"]][\"response_time\"].resample(period).apply(_average_time)\n",
    "    output_df[\"response_time_contact\"] = df[df[\"to_from\"]][\"response_time\"].resample(period).apply(_average_time)\n",
    "\n",
    "    # now compute reciprocity between users\n",
    "    output_df[\"sentiment_reciprocity\"] = (output_df[\"compound_contact\"] - output_df[\"compound_user\"]).abs()\n",
    "    for k in [\"message_count\", \"word_count\", \"response_time\"]:\n",
    "        output_df[k + \"_reciprocity\"] = find_ratio(output_df, k)\n",
    "\n",
    "    # now normalise number of mesages, words, etc\n",
    "    keys = [\"word_count\", \"message_count\",\n",
    "            \"message_count_user\",\"message_count_contact\",\n",
    "            \"word_count_user\",\"word_count_contact\"]\n",
    "    for k in keys:\n",
    "        output_df[k] = output_df[k] / (output_df[k].sum(axis=0))\n",
    "\n",
    "    # compute the relative difference of the response time over the course of the relationship\n",
    "    keys = [\"response_time\", \"response_time_user\", \"response_time_contact\"]\n",
    "    for k in keys:\n",
    "        if output_df[k].dropna().size == 0:\n",
    "            denom = 1\n",
    "        else:\n",
    "            denom = output_df[k].dropna().size\n",
    "        mean_time = output_df[k].sum(axis=0) / denom  # don't want to average with null months\n",
    "        output_df[k] = (output_df[k] - mean_time) / mean_time  # evals to 0 if avg. time is == time_limit\n",
    "    return output_df"
   ]
  },
  {
   "cell_type": "code",
   "execution_count": 34,
   "metadata": {
    "collapsed": true
   },
   "outputs": [],
   "source": [
    "def sentiment_cleaning(df):\n",
    "    \"\"\"Where neutral = 1 or if +ve, -ve\n",
    "    and neutral = 0 then replace with nan\"\"\"\n",
    "\n",
    "    mask_neutral = df[\"neutral\"] == 1.0\n",
    "    mask_zeroes = df[['positive', 'negative', 'neutral']].sum(axis=1) == 0\n",
    "\n",
    "    for col in ['positive', 'negative', 'neutral', 'compound']:\n",
    "        df[col].where(~mask_neutral, np.nan, inplace=True)\n",
    "        df[col].where(~mask_zeroes, np.nan, inplace=True)\n",
    "    return df\n",
    "\n",
    "def _average_time(x):\n",
    "\n",
    "    #TODO we may need to tweak the time limit\n",
    "    if config.model == 'not_romantic':\n",
    "        time_limit = config.resampler['response_time_limit_not_romantic'] * 3600  # in seconds\n",
    "    elif config.model == 'romantic':\n",
    "        time_limit = config.resampler['response_time_limit_romantic'] * 3600  # in seconds\n",
    "\n",
    "    x_mean = np.nanmean(x)  # if all nans returns nan\n",
    "    if x_mean > time_limit:\n",
    "        return time_limit\n",
    "    else:\n",
    "        return x_mean\n"
   ]
  },
  {
   "cell_type": "code",
   "execution_count": null,
   "metadata": {
    "collapsed": true
   },
   "outputs": [],
   "source": []
  }
 ],
 "metadata": {
  "kernelspec": {
   "display_name": "Python 2",
   "language": "python",
   "name": "python2"
  },
  "language_info": {
   "codemirror_mode": {
    "name": "ipython",
    "version": 2
   },
   "file_extension": ".py",
   "mimetype": "text/x-python",
   "name": "python",
   "nbconvert_exporter": "python",
   "pygments_lexer": "ipython2",
   "version": "2.7.12"
  }
 },
 "nbformat": 4,
 "nbformat_minor": 0
}
