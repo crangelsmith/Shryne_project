{
 "cells": [
  {
   "cell_type": "code",
   "execution_count": 1,
   "metadata": {
    "collapsed": true
   },
   "outputs": [],
   "source": [
    "import pickle\n",
    "import pandas as pd\n",
    "from collections import Counter"
   ]
  },
  {
   "cell_type": "code",
   "execution_count": 2,
   "metadata": {
    "collapsed": false
   },
   "outputs": [],
   "source": [
    "pet_names_list = pd.read_csv('./pet_names.txt',sep='\\n', header=-1)"
   ]
  },
  {
   "cell_type": "code",
   "execution_count": 3,
   "metadata": {
    "collapsed": false
   },
   "outputs": [],
   "source": [
    "pet_names_list = pet_names_list[0].str.lower()"
   ]
  },
  {
   "cell_type": "code",
   "execution_count": 4,
   "metadata": {
    "collapsed": false
   },
   "outputs": [
    {
     "data": {
      "text/plain": [
       "0      adorable\n",
       "1     alliebear\n",
       "2       amazing\n",
       "3         angel\n",
       "4    angel eyes\n",
       "Name: 0, dtype: object"
      ]
     },
     "execution_count": 4,
     "metadata": {},
     "output_type": "execute_result"
    }
   ],
   "source": [
    "pet_names_list.head()"
   ]
  },
  {
   "cell_type": "code",
   "execution_count": 5,
   "metadata": {
    "collapsed": false
   },
   "outputs": [],
   "source": [
    "all_messages = pd.read_pickle('./all_messages_to_from_pickled')"
   ]
  },
  {
   "cell_type": "code",
   "execution_count": 6,
   "metadata": {
    "collapsed": false
   },
   "outputs": [],
   "source": []
  },
  {
   "cell_type": "code",
   "execution_count": 13,
   "metadata": {
    "collapsed": false
   },
   "outputs": [],
   "source": [
    "pet_count = []\n",
    "for x in all_messages['message']:\n",
    "    x = str(x)\n",
    "    split_string = x.split()\n",
    "\n",
    "    total = 0\n",
    "    counts = dict(Counter(split_string).most_common())\n",
    "    intersection = filter(set(counts.keys()).__contains__, pet_names_list)\n",
    "    for item in intersection:\n",
    "        total += counts[item]\n",
    "    pet_count.append(total)"
   ]
  },
  {
   "cell_type": "code",
   "execution_count": 14,
   "metadata": {
    "collapsed": false
   },
   "outputs": [],
   "source": [
    "all_messages['Pet_count'] = pet_count"
   ]
  },
  {
   "cell_type": "code",
   "execution_count": 17,
   "metadata": {
    "collapsed": false
   },
   "outputs": [
    {
     "data": {
      "text/plain": [
       "163808"
      ]
     },
     "execution_count": 17,
     "metadata": {},
     "output_type": "execute_result"
    }
   ],
   "source": [
    "all_messages['Pet_count'].sum()"
   ]
  },
  {
   "cell_type": "code",
   "execution_count": null,
   "metadata": {
    "collapsed": false
   },
   "outputs": [],
   "source": [
    "for x in pet_names_list:\n",
    "    all_messages[x] = all_messages.message.str.contains(x)   \n",
    "        "
   ]
  },
  {
   "cell_type": "code",
   "execution_count": 19,
   "metadata": {
    "collapsed": false
   },
   "outputs": [
    {
     "data": {
      "text/plain": [
       "28         Hey Troy!\\r\\n\\r\\nSorry for disappearing - life...\n",
       "29         Hey Aldo!\\nNo problem re: disappearing. I've b...\n",
       "30         I can definitely relate to the lack of sleep. ...\n",
       "33         sorry for costing you sleep. have a good trip ...\n",
       "34         you could've just e-mailed w/ an emoticon\\n;)\\...\n",
       "98         I have not known many people like you, Troy. I...\n",
       "99         Hey Aldo,\\nI'm sorry it's taken me some time t...\n",
       "100        Hi Troy,\\r\\n\\r\\nThank you for the very thought...\n",
       "2550       Ugh this weekend was supposed to be amazing an...\n",
       "2994       Drunk, hungry, surrounded by a hostile French ...\n",
       "3935       Oh Alli. I just crossed Ireland on a train. My...\n",
       "4417                 There are some gorgeous Turks out there\n",
       "4672       Fuck this charming story of pure love and effo...\n",
       "5409       Really good kind of amazing excited for Decemb...\n",
       "5597       Last fall I met a guy. His eyes made my mind g...\n",
       "8709       Uploading the documents\\nPlease use the button...\n",
       "27546                         Tons! :) it's so gorgeous here\n",
       "27835      Sure. I'd love help!!! I mean there are a lot ...\n",
       "28455      Hey I just wanted to say that I love you and I...\n",
       "30482      Yeah, they're all good. I love Raymond too. Th...\n",
       "32586      😘 \\n\\nI wish I could hug you and kiss you. I l...\n",
       "32649      Is everything okay?\\nAre you still heading thi...\n",
       "32833      Good morning. This has all been far too long. ...\n",
       "32977      Good morning LOML. I will love you passionatel...\n",
       "33013      It is absolutely true. From a distance, everyt...\n",
       "33016      Good morning my love. I'm hoping that we can t...\n",
       "33032      Maybe instead of a prince, I need to become a ...\n",
       "33049      I've also been thinking that maybe when things...\n",
       "33119      Thanks. That one is fabulous with all of you. ...\n",
       "33120      Good morning. Hope you're sleeping well my lov...\n",
       "                                 ...                        \n",
       "2850306    Hi All again,\\nThanks for your concerning e.ma...\n",
       "2850308    Hey, YOU REMEMBERED THIS TIME!!!!\\n:)\\nyou mad...\n",
       "2850309    Hey You all, how are you doing??\\n\\nI got outt...\n",
       "2850312    hello all\\n\\nSo basically I've been in brisban...\n",
       "2850317    hello all\\n\\nit has been a while since I wrote...\n",
       "2850318    Hello people\\n\\nIt's been a while. So, i'm hav...\n",
       "2850319    hello all\\n\\nSo I finally have another free in...\n",
       "2850413                                       whoa, gorgeous\n",
       "2850477    I assure you you'll love it. Plus my family st...\n",
       "2852705    Hey Aaron,\\n\\n      Hope things are going well...\n",
       "2852712    Hey Aaron,\\n\\nJust want to make sure you’re aw...\n",
       "2852716    Hey Aaron,\\n\\nI wanted to say I was really gla...\n",
       "2855051    Hey Mayumi, I hope you're doing great and gett...\n",
       "2855466    i would love to see you and all your beautiful...\n",
       "2856019    Ok! Ttyl have a lovely night. Congrats on such...\n",
       "2856898    Begin forwarded message:\\n\\nFrom: MK Merelice ...\n",
       "2858297    Dear friends,\\n\\nWhen I was 17, I attend a two...\n",
       "2858302    Dear friends,\\n\\nWhen I was 17, I attended a t...\n",
       "2858303    Hey Aaron,\\n\\nI'm moving to DC as of late Augu...\n",
       "2858343    “Writers in Baltimore Schools is more than a p...\n",
       "2858793    'Ah' indeed! How fortunate we are to witness t...\n",
       "2858801                                Haha! I love that guy\n",
       "2858835    Sounds great! And I love learning more about h...\n",
       "2859237    Please share your concise background along wit...\n",
       "2859423    Hello,\\n\\nI have just made payment for the sho...\n",
       "2859480    Its not me being such a drinking fool it just ...\n",
       "2859491    I don't know if your getting any of theses but...\n",
       "2859524    Hi Sarah hope all is good\\nI know I am not mea...\n",
       "2859553    Leah -\\nPlease call / contact me and let me kn...\n",
       "2859560    Leah - As much as it may pain you to hear this...\n",
       "Name: message, dtype: object"
      ]
     },
     "execution_count": 19,
     "metadata": {},
     "output_type": "execute_result"
    }
   ],
   "source": [
    "all_messages[all_messages['Pet_count'] > 1]['message']"
   ]
  },
  {
   "cell_type": "code",
   "execution_count": null,
   "metadata": {
    "collapsed": true
   },
   "outputs": [],
   "source": []
  }
 ],
 "metadata": {
  "kernelspec": {
   "display_name": "Python [py27]",
   "language": "python",
   "name": "Python [py27]"
  },
  "language_info": {
   "codemirror_mode": {
    "name": "ipython",
    "version": 2
   },
   "file_extension": ".py",
   "mimetype": "text/x-python",
   "name": "python",
   "nbconvert_exporter": "python",
   "pygments_lexer": "ipython2",
   "version": "2.7.12"
  }
 },
 "nbformat": 4,
 "nbformat_minor": 0
}
