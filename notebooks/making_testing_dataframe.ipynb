{
 "cells": [
  {
   "cell_type": "code",
   "execution_count": 136,
   "metadata": {
    "collapsed": false
   },
   "outputs": [],
   "source": [
    "# Generating dataframe for testing the cleaning functions\n",
    "import pandas as pd\n",
    "import numpy as np\n",
    "null_message = ['a', None]\n",
    "df = pd.DataFrame(null_message)\n",
    "\n",
    "escape_chars_message = ['\\t','\\n','\\s']\n",
    "\n",
    "emojis_message = [':)','😀','\\xF0\\x9F\\x98\\x81']\n",
    "\n",
    "non_english_message = ['W Szczebrzeszynie chrząszcz brzmi w trzcinie',\n",
    "                       'Das ist nicht mein bier']\n",
    "\n",
    "url_message = ['www.zombo.com/', 'www.zombo.com', 'https://www.google.co.uk/',\n",
    "               'http://www.google.co.uk/',\n",
    "               'http://pandas.pydata.org/pandas-docs/stable/dsintro.html']"
   ]
  },
  {
   "cell_type": "code",
   "execution_count": 137,
   "metadata": {
    "collapsed": false
   },
   "outputs": [],
   "source": [
    "def remove_empty_messages(df):\n",
    "    \"\"\"\n",
    "    :param df - a pandas dataframe with a column containing a string named\n",
    "    message and columns of metadata\n",
    "    :return: df - a pandas dataframe with no rows containing messages with\n",
    "    the type 'none' or 'nan'\n",
    "    \"\"\"\n",
    "\n",
    "    return df[df['message'].notnull()].reset_index(drop=True)"
   ]
  },
  {
   "cell_type": "code",
   "execution_count": 138,
   "metadata": {
    "collapsed": true
   },
   "outputs": [],
   "source": [
    "null_message = ['a', None, '', ' ', ' ', None]\n",
    "null_time = [None, 2, 3, 'a','b',None]\n",
    "df = pd.DataFrame({'message':null_message, 'time':null_time})"
   ]
  },
  {
   "cell_type": "code",
   "execution_count": 189,
   "metadata": {
    "collapsed": false
   },
   "outputs": [
    {
     "data": {
      "text/html": [
       "<div>\n",
       "<table border=\"1\" class=\"dataframe\">\n",
       "  <thead>\n",
       "    <tr style=\"text-align: right;\">\n",
       "      <th></th>\n",
       "      <th>message</th>\n",
       "      <th>time</th>\n",
       "    </tr>\n",
       "  </thead>\n",
       "  <tbody>\n",
       "    <tr>\n",
       "      <th>0</th>\n",
       "      <td>Hi      Alex</td>\n",
       "      <td>1</td>\n",
       "    </tr>\n",
       "    <tr>\n",
       "      <th>1</th>\n",
       "      <td>Hi Ben Sent from my iPhone bye</td>\n",
       "      <td>2</td>\n",
       "    </tr>\n",
       "    <tr>\n",
       "      <th>2</th>\n",
       "      <td>Hi Clara Begin forwarded message bye</td>\n",
       "      <td>3</td>\n",
       "    </tr>\n",
       "    <tr>\n",
       "      <th>3</th>\n",
       "      <td>Hi Dawn \\n--\\n bye</td>\n",
       "      <td>4</td>\n",
       "    </tr>\n",
       "    <tr>\n",
       "      <th>4</th>\n",
       "      <td>Hi Elco Forwarded message bye</td>\n",
       "      <td>5</td>\n",
       "    </tr>\n",
       "    <tr>\n",
       "      <th>5</th>\n",
       "      <td>Hi Frances Sent from my iPad bye</td>\n",
       "      <td>6</td>\n",
       "    </tr>\n",
       "    <tr>\n",
       "      <th>6</th>\n",
       "      <td>Hi Grzegorz Sent from my Windows Phone bye</td>\n",
       "      <td>7</td>\n",
       "    </tr>\n",
       "    <tr>\n",
       "      <th>7</th>\n",
       "      <td>Hi Heidi Sent from my Samsung bye</td>\n",
       "      <td>8</td>\n",
       "    </tr>\n",
       "  </tbody>\n",
       "</table>\n",
       "</div>"
      ],
      "text/plain": [
       "                                      message  time\n",
       "0                     Hi      Alex                1\n",
       "1              Hi Ben Sent from my iPhone bye     2\n",
       "2        Hi Clara Begin forwarded message bye     3\n",
       "3                          Hi Dawn \\n--\\n bye     4\n",
       "4               Hi Elco Forwarded message bye     5\n",
       "5            Hi Frances Sent from my iPad bye     6\n",
       "6  Hi Grzegorz Sent from my Windows Phone bye     7\n",
       "7           Hi Heidi Sent from my Samsung bye     8"
      ]
     },
     "execution_count": 189,
     "metadata": {},
     "output_type": "execute_result"
    }
   ],
   "source": [
    "df"
   ]
  },
  {
   "cell_type": "code",
   "execution_count": 140,
   "metadata": {
    "collapsed": false
   },
   "outputs": [],
   "source": [
    "df = remove_empty_messages(df)"
   ]
  },
  {
   "cell_type": "code",
   "execution_count": 144,
   "metadata": {
    "collapsed": false
   },
   "outputs": [],
   "source": [
    "assert remove_empty_messages(df)['message'][0] == 'a'"
   ]
  },
  {
   "cell_type": "code",
   "execution_count": 142,
   "metadata": {
    "collapsed": false
   },
   "outputs": [
    {
     "data": {
      "text/plain": [
       "(4, 2)"
      ]
     },
     "execution_count": 142,
     "metadata": {},
     "output_type": "execute_result"
    }
   ],
   "source": [
    "df.shape"
   ]
  },
  {
   "cell_type": "code",
   "execution_count": 143,
   "metadata": {
    "collapsed": false
   },
   "outputs": [
    {
     "data": {
      "text/html": [
       "<div>\n",
       "<table border=\"1\" class=\"dataframe\">\n",
       "  <thead>\n",
       "    <tr style=\"text-align: right;\">\n",
       "      <th></th>\n",
       "      <th>message</th>\n",
       "      <th>time</th>\n",
       "    </tr>\n",
       "  </thead>\n",
       "  <tbody>\n",
       "    <tr>\n",
       "      <th>0</th>\n",
       "      <td>a</td>\n",
       "      <td>None</td>\n",
       "    </tr>\n",
       "    <tr>\n",
       "      <th>1</th>\n",
       "      <td></td>\n",
       "      <td>3</td>\n",
       "    </tr>\n",
       "    <tr>\n",
       "      <th>2</th>\n",
       "      <td></td>\n",
       "      <td>a</td>\n",
       "    </tr>\n",
       "    <tr>\n",
       "      <th>3</th>\n",
       "      <td></td>\n",
       "      <td>b</td>\n",
       "    </tr>\n",
       "  </tbody>\n",
       "</table>\n",
       "</div>"
      ],
      "text/plain": [
       "  message  time\n",
       "0       a  None\n",
       "1             3\n",
       "2             a\n",
       "3             b"
      ]
     },
     "execution_count": 143,
     "metadata": {},
     "output_type": "execute_result"
    }
   ],
   "source": [
    "df"
   ]
  },
  {
   "cell_type": "code",
   "execution_count": 146,
   "metadata": {
    "collapsed": true
   },
   "outputs": [],
   "source": [
    "assert remove_empty_messages(df).shape == (4, 2)\n",
    "assert remove_empty_messages(df)['message'][0] == 'a'\n",
    "assert remove_empty_messages(df)['time'][0] == None"
   ]
  },
  {
   "cell_type": "code",
   "execution_count": 171,
   "metadata": {
    "collapsed": true
   },
   "outputs": [],
   "source": [
    "def remove_signatures_and_after(df):\n",
    "    \"\"\"\n",
    "    # Get rid of anything after these strings.\n",
    "    :param df - a pandas dataframe with a column containing a string named\n",
    "    message and columns of metadata:\n",
    "    :return the same df but with all messages cleaned of email signatures\n",
    "    that indicate the start of forwarded messages:\n",
    "    \"\"\"\n",
    "    sep = ['\\n--\\n', 'Begin forwarded message', 'Forwarded message',\n",
    "           '------', 'Sent from my iPhone', 'Sent from my iPad',\n",
    "           'Sent from my Windows Phone', 'Sent from my Samsung']\n",
    "\n",
    "    for s in sep:\n",
    "        df['message'] = df['message'].apply(lambda x: x.split(s, 1)[0])\n",
    "        "
   ]
  },
  {
   "cell_type": "code",
   "execution_count": 253,
   "metadata": {
    "collapsed": true
   },
   "outputs": [],
   "source": [
    "sig_msg = ['        Hi      Alex              ' , 'Hi Ben Sent from my iPhone bye',\n",
    "           'Hi Clara Begin forwarded message bye'      ,\n",
    "           'Hi Dawn \\n--\\n bye', 'Hi Elco Forwarded message bye',\n",
    "           'Hi Frances Sent from my iPad bye',\n",
    "           'Hi Grzegorz Sent from my Windows Phone bye',\n",
    "           'Hi Heidi Sent from my Samsung bye']\n",
    "\n",
    "sig_msg_pass = ['Hi Alex', 'Hi Ben', 'Hi Clara', 'Hi Dawn', 'Hi Elco',\n",
    "                'Hi Frances', 'Hi Grzegorz', 'Hi Heidi']\n",
    "\n",
    "sig_time = [1,2,3,4,5,6,7,8]\n",
    "\n",
    "df = pd.DataFrame({'message':sig_msg,'time':sig_time})\n",
    "df_pass = pd.DataFrame({'message': sig_msg_pass, 'time': sig_time})"
   ]
  },
  {
   "cell_type": "code",
   "execution_count": 254,
   "metadata": {
    "collapsed": false
   },
   "outputs": [
    {
     "data": {
      "text/plain": [
       "'        Hi      Alex              '"
      ]
     },
     "execution_count": 254,
     "metadata": {},
     "output_type": "execute_result"
    }
   ],
   "source": [
    "df['message'][0]"
   ]
  },
  {
   "cell_type": "code",
   "execution_count": 217,
   "metadata": {
    "collapsed": false
   },
   "outputs": [
    {
     "data": {
      "text/html": [
       "<div>\n",
       "<table border=\"1\" class=\"dataframe\">\n",
       "  <thead>\n",
       "    <tr style=\"text-align: right;\">\n",
       "      <th></th>\n",
       "      <th>message</th>\n",
       "      <th>time</th>\n",
       "    </tr>\n",
       "  </thead>\n",
       "  <tbody>\n",
       "    <tr>\n",
       "      <th>0</th>\n",
       "      <td>Hi Alex</td>\n",
       "      <td>1</td>\n",
       "    </tr>\n",
       "    <tr>\n",
       "      <th>1</th>\n",
       "      <td>Hi Ben</td>\n",
       "      <td>2</td>\n",
       "    </tr>\n",
       "    <tr>\n",
       "      <th>2</th>\n",
       "      <td>Hi Clara</td>\n",
       "      <td>3</td>\n",
       "    </tr>\n",
       "    <tr>\n",
       "      <th>3</th>\n",
       "      <td>Hi Dawn</td>\n",
       "      <td>4</td>\n",
       "    </tr>\n",
       "    <tr>\n",
       "      <th>4</th>\n",
       "      <td>Hi Elco</td>\n",
       "      <td>5</td>\n",
       "    </tr>\n",
       "    <tr>\n",
       "      <th>5</th>\n",
       "      <td>Hi Frances</td>\n",
       "      <td>6</td>\n",
       "    </tr>\n",
       "    <tr>\n",
       "      <th>6</th>\n",
       "      <td>Hi Grzegorz</td>\n",
       "      <td>7</td>\n",
       "    </tr>\n",
       "    <tr>\n",
       "      <th>7</th>\n",
       "      <td>Hi Heidi</td>\n",
       "      <td>8</td>\n",
       "    </tr>\n",
       "  </tbody>\n",
       "</table>\n",
       "</div>"
      ],
      "text/plain": [
       "       message  time\n",
       "0      Hi Alex     1\n",
       "1       Hi Ben     2\n",
       "2     Hi Clara     3\n",
       "3      Hi Dawn     4\n",
       "4      Hi Elco     5\n",
       "5   Hi Frances     6\n",
       "6  Hi Grzegorz     7\n",
       "7     Hi Heidi     8"
      ]
     },
     "execution_count": 217,
     "metadata": {},
     "output_type": "execute_result"
    }
   ],
   "source": [
    "df_pass"
   ]
  },
  {
   "cell_type": "code",
   "execution_count": 218,
   "metadata": {
    "collapsed": true
   },
   "outputs": [],
   "source": [
    "remove_signatures_and_after(df)"
   ]
  },
  {
   "cell_type": "code",
   "execution_count": 222,
   "metadata": {
    "collapsed": false
   },
   "outputs": [
    {
     "data": {
      "text/html": [
       "<div>\n",
       "<table border=\"1\" class=\"dataframe\">\n",
       "  <thead>\n",
       "    <tr style=\"text-align: right;\">\n",
       "      <th></th>\n",
       "      <th>message</th>\n",
       "      <th>time</th>\n",
       "    </tr>\n",
       "  </thead>\n",
       "  <tbody>\n",
       "    <tr>\n",
       "      <th>0</th>\n",
       "      <td>Hi      Alex</td>\n",
       "      <td>1</td>\n",
       "    </tr>\n",
       "    <tr>\n",
       "      <th>1</th>\n",
       "      <td>Hi Ben Sent from my iPhone bye</td>\n",
       "      <td>2</td>\n",
       "    </tr>\n",
       "    <tr>\n",
       "      <th>2</th>\n",
       "      <td>Hi Clara Begin forwarded message bye</td>\n",
       "      <td>3</td>\n",
       "    </tr>\n",
       "    <tr>\n",
       "      <th>3</th>\n",
       "      <td>Hi Dawn \\n--\\n bye</td>\n",
       "      <td>4</td>\n",
       "    </tr>\n",
       "    <tr>\n",
       "      <th>4</th>\n",
       "      <td>Hi Elco Forwarded message bye</td>\n",
       "      <td>5</td>\n",
       "    </tr>\n",
       "    <tr>\n",
       "      <th>5</th>\n",
       "      <td>Hi Frances Sent from my iPad bye</td>\n",
       "      <td>6</td>\n",
       "    </tr>\n",
       "    <tr>\n",
       "      <th>6</th>\n",
       "      <td>Hi Grzegorz Sent from my Windows Phone bye</td>\n",
       "      <td>7</td>\n",
       "    </tr>\n",
       "    <tr>\n",
       "      <th>7</th>\n",
       "      <td>Hi Heidi Sent from my Samsung bye</td>\n",
       "      <td>8</td>\n",
       "    </tr>\n",
       "  </tbody>\n",
       "</table>\n",
       "</div>"
      ],
      "text/plain": [
       "                                      message  time\n",
       "0                  Hi      Alex                   1\n",
       "1              Hi Ben Sent from my iPhone bye     2\n",
       "2        Hi Clara Begin forwarded message bye     3\n",
       "3                          Hi Dawn \\n--\\n bye     4\n",
       "4               Hi Elco Forwarded message bye     5\n",
       "5            Hi Frances Sent from my iPad bye     6\n",
       "6  Hi Grzegorz Sent from my Windows Phone bye     7\n",
       "7           Hi Heidi Sent from my Samsung bye     8"
      ]
     },
     "execution_count": 222,
     "metadata": {},
     "output_type": "execute_result"
    }
   ],
   "source": [
    "df"
   ]
  },
  {
   "cell_type": "code",
   "execution_count": 255,
   "metadata": {
    "collapsed": false
   },
   "outputs": [],
   "source": [
    "def remove_excess_whitespace(df):\n",
    "    \"\"\"\n",
    "    :param df - a dataframe with a series named 'message' containing strings:\n",
    "    :return: df - as above but the strings have leading, trailing and excess\n",
    "    whitespace removed\n",
    "    \"\"\"\n",
    "    df['message'] = df['message'].str.replace('[\\s]+', ' ', case=False, flags=re.MULTILINE)\n",
    "    df['message'] = df['message'].str.strip()\n",
    "    \n",
    "    return df"
   ]
  },
  {
   "cell_type": "code",
   "execution_count": 256,
   "metadata": {
    "collapsed": false
   },
   "outputs": [],
   "source": [
    "df = remove_excess_whitespace(df)"
   ]
  },
  {
   "cell_type": "code",
   "execution_count": 257,
   "metadata": {
    "collapsed": false
   },
   "outputs": [
    {
     "data": {
      "text/plain": [
       "'Hi Alex'"
      ]
     },
     "execution_count": 257,
     "metadata": {},
     "output_type": "execute_result"
    }
   ],
   "source": [
    "df['message'][0]"
   ]
  },
  {
   "cell_type": "code",
   "execution_count": 234,
   "metadata": {
    "collapsed": false
   },
   "outputs": [
    {
     "data": {
      "text/plain": [
       "'Hi Alex'"
      ]
     },
     "execution_count": 234,
     "metadata": {},
     "output_type": "execute_result"
    }
   ],
   "source": [
    "df['message'][0]"
   ]
  },
  {
   "cell_type": "code",
   "execution_count": 270,
   "metadata": {
    "collapsed": true
   },
   "outputs": [],
   "source": [
    "def remove_urls(df):\n",
    "    \"\"\"\n",
    "    Takes a dataframe with a Series named 'message' consisting of strings and\n",
    "    returns the same dataframe but with the message stripped of urls\n",
    "    :param df:\n",
    "    :return df:\n",
    "    \"\"\"\n",
    "\n",
    "    subs = [\"On\\s[A-Z][a-z]{2}\\s[0-9]{1,3}[\\s\\S]*\",\n",
    "            r'https?:\\/\\/[\\S]*[\\s\\n\\r]+', r'www\\.[\\S]*[\\s\\n\\r]+',\n",
    "            r'https?:\\/\\/[\\S]*$', r'www\\.[\\S]*$']\n",
    "    for s in subs:\n",
    "        df['message'] = df['message'].str.replace(s, ' ', case=False,\n",
    "                                                  flags=re.MULTILINE)\n",
    "\n",
    "    df = remove_excess_whitespace(df)\n",
    "\n",
    "    return df"
   ]
  },
  {
   "cell_type": "code",
   "execution_count": 271,
   "metadata": {
    "collapsed": true
   },
   "outputs": [],
   "source": [
    "\n",
    "url_message = ['I like www.zombo.com/, really I do',\n",
    "               'I like www.zombo.com',\n",
    "               'what is your favourite?https://www.google.co.uk/',\n",
    "               'I lovehttp://www.google.co.uk/',\n",
    "               'does this work http://pandas.pydata.org/pandas-docs/stable/dsintro.html I hope so']\n",
    "\n",
    "url_message_pass = ['I like really I do', 'I like',\n",
    "                    'what is your favourite?',\n",
    "                    'I love',\n",
    "                    'does this work I hope so']\n",
    "\n",
    "url_time = [1,2,3,4,5]\n",
    "\n",
    "df = pd.DataFrame({'message': url_message, 'time': url_time})\n",
    "df_pass = pd.DataFrame({'message': url_message_pass, 'time': url_time})\n",
    "\n"
   ]
  },
  {
   "cell_type": "code",
   "execution_count": 272,
   "metadata": {
    "collapsed": false
   },
   "outputs": [
    {
     "data": {
      "text/html": [
       "<div>\n",
       "<table border=\"1\" class=\"dataframe\">\n",
       "  <thead>\n",
       "    <tr style=\"text-align: right;\">\n",
       "      <th></th>\n",
       "      <th>message</th>\n",
       "      <th>time</th>\n",
       "    </tr>\n",
       "  </thead>\n",
       "  <tbody>\n",
       "    <tr>\n",
       "      <th>0</th>\n",
       "      <td>I like www.zombo.com/, really I do</td>\n",
       "      <td>1</td>\n",
       "    </tr>\n",
       "    <tr>\n",
       "      <th>1</th>\n",
       "      <td>I like www.zombo.com</td>\n",
       "      <td>2</td>\n",
       "    </tr>\n",
       "    <tr>\n",
       "      <th>2</th>\n",
       "      <td>what is your favourite?https://www.google.co.uk/</td>\n",
       "      <td>3</td>\n",
       "    </tr>\n",
       "    <tr>\n",
       "      <th>3</th>\n",
       "      <td>I lovehttp://www.google.co.uk/</td>\n",
       "      <td>4</td>\n",
       "    </tr>\n",
       "    <tr>\n",
       "      <th>4</th>\n",
       "      <td>does this work http://pandas.pydata.org/pandas...</td>\n",
       "      <td>5</td>\n",
       "    </tr>\n",
       "  </tbody>\n",
       "</table>\n",
       "</div>"
      ],
      "text/plain": [
       "                                             message  time\n",
       "0                 I like www.zombo.com/, really I do     1\n",
       "1                               I like www.zombo.com     2\n",
       "2   what is your favourite?https://www.google.co.uk/     3\n",
       "3                     I lovehttp://www.google.co.uk/     4\n",
       "4  does this work http://pandas.pydata.org/pandas...     5"
      ]
     },
     "execution_count": 272,
     "metadata": {},
     "output_type": "execute_result"
    }
   ],
   "source": [
    "df"
   ]
  },
  {
   "cell_type": "code",
   "execution_count": 273,
   "metadata": {
    "collapsed": false
   },
   "outputs": [],
   "source": [
    "df_test = remove_urls(df)"
   ]
  },
  {
   "cell_type": "code",
   "execution_count": 274,
   "metadata": {
    "collapsed": false
   },
   "outputs": [
    {
     "data": {
      "text/html": [
       "<div>\n",
       "<table border=\"1\" class=\"dataframe\">\n",
       "  <thead>\n",
       "    <tr style=\"text-align: right;\">\n",
       "      <th></th>\n",
       "      <th>message</th>\n",
       "      <th>time</th>\n",
       "    </tr>\n",
       "  </thead>\n",
       "  <tbody>\n",
       "    <tr>\n",
       "      <th>0</th>\n",
       "      <td>I like really I do</td>\n",
       "      <td>1</td>\n",
       "    </tr>\n",
       "    <tr>\n",
       "      <th>1</th>\n",
       "      <td>I like</td>\n",
       "      <td>2</td>\n",
       "    </tr>\n",
       "    <tr>\n",
       "      <th>2</th>\n",
       "      <td>what is your favourite?</td>\n",
       "      <td>3</td>\n",
       "    </tr>\n",
       "    <tr>\n",
       "      <th>3</th>\n",
       "      <td>I love</td>\n",
       "      <td>4</td>\n",
       "    </tr>\n",
       "    <tr>\n",
       "      <th>4</th>\n",
       "      <td>does this work I hope so</td>\n",
       "      <td>5</td>\n",
       "    </tr>\n",
       "  </tbody>\n",
       "</table>\n",
       "</div>"
      ],
      "text/plain": [
       "                    message  time\n",
       "0        I like really I do     1\n",
       "1                    I like     2\n",
       "2   what is your favourite?     3\n",
       "3                    I love     4\n",
       "4  does this work I hope so     5"
      ]
     },
     "execution_count": 274,
     "metadata": {},
     "output_type": "execute_result"
    }
   ],
   "source": [
    "df_test"
   ]
  },
  {
   "cell_type": "code",
   "execution_count": 275,
   "metadata": {
    "collapsed": false
   },
   "outputs": [
    {
     "data": {
      "text/html": [
       "<div>\n",
       "<table border=\"1\" class=\"dataframe\">\n",
       "  <thead>\n",
       "    <tr style=\"text-align: right;\">\n",
       "      <th></th>\n",
       "      <th>message</th>\n",
       "      <th>time</th>\n",
       "    </tr>\n",
       "  </thead>\n",
       "  <tbody>\n",
       "    <tr>\n",
       "      <th>0</th>\n",
       "      <td>I like really I do</td>\n",
       "      <td>1</td>\n",
       "    </tr>\n",
       "    <tr>\n",
       "      <th>1</th>\n",
       "      <td>I like</td>\n",
       "      <td>2</td>\n",
       "    </tr>\n",
       "    <tr>\n",
       "      <th>2</th>\n",
       "      <td>what is your favourite?</td>\n",
       "      <td>3</td>\n",
       "    </tr>\n",
       "    <tr>\n",
       "      <th>3</th>\n",
       "      <td>I love</td>\n",
       "      <td>4</td>\n",
       "    </tr>\n",
       "    <tr>\n",
       "      <th>4</th>\n",
       "      <td>does this work I hope so</td>\n",
       "      <td>5</td>\n",
       "    </tr>\n",
       "  </tbody>\n",
       "</table>\n",
       "</div>"
      ],
      "text/plain": [
       "                    message  time\n",
       "0        I like really I do     1\n",
       "1                    I like     2\n",
       "2   what is your favourite?     3\n",
       "3                    I love     4\n",
       "4  does this work I hope so     5"
      ]
     },
     "execution_count": 275,
     "metadata": {},
     "output_type": "execute_result"
    }
   ],
   "source": [
    "df_pass"
   ]
  },
  {
   "cell_type": "code",
   "execution_count": 278,
   "metadata": {
    "collapsed": false
   },
   "outputs": [],
   "source": [
    "assert df_pass.equals(df_test)"
   ]
  },
  {
   "cell_type": "code",
   "execution_count": null,
   "metadata": {
    "collapsed": true
   },
   "outputs": [],
   "source": []
  }
 ],
 "metadata": {
  "kernelspec": {
   "display_name": "Python 2",
   "language": "python",
   "name": "python2"
  },
  "language_info": {
   "codemirror_mode": {
    "name": "ipython",
    "version": 2
   },
   "file_extension": ".py",
   "mimetype": "text/x-python",
   "name": "python",
   "nbconvert_exporter": "python",
   "pygments_lexer": "ipython2",
   "version": "2.7.12"
  }
 },
 "nbformat": 4,
 "nbformat_minor": 0
}
